{
 "cells": [
  {
   "cell_type": "markdown",
   "id": "39f31bec",
   "metadata": {},
   "source": [
    "# Machine Learning & Data Science A-Z: Hands-on Python 2021\n",
    "sources - https://www.udemy.com/course/data-science-machine-learning-a-z-hands-on-python/"
   ]
  },
  {
   "cell_type": "markdown",
   "id": "fbff402f",
   "metadata": {},
   "source": [
    "# Supervised Learning - Regression\n",
    "Basic"
   ]
  },
  {
   "cell_type": "markdown",
   "id": "2acb1cd2",
   "metadata": {},
   "source": [
    "### Importing DataSet and Libraries"
   ]
  },
  {
   "cell_type": "code",
   "execution_count": 7,
   "id": "1a254051",
   "metadata": {},
   "outputs": [],
   "source": [
    "from sklearn.datasets import load_boston\n",
    "import numpy as np\n",
    "import pandas as pd \n",
    "import matplotlib as plt\n"
   ]
  },
  {
   "cell_type": "code",
   "execution_count": 8,
   "id": "5efe91de",
   "metadata": {},
   "outputs": [
    {
     "data": {
      "text/plain": [
       "array(['CRIM', 'ZN', 'INDUS', 'CHAS', 'NOX', 'RM', 'AGE', 'DIS', 'RAD',\n",
       "       'TAX', 'PTRATIO', 'B', 'LSTAT'], dtype='<U7')"
      ]
     },
     "execution_count": 8,
     "metadata": {},
     "output_type": "execute_result"
    }
   ],
   "source": [
    "Boston_P = load_boston()\n",
    "Boston_P.feature_names"
   ]
  },
  {
   "cell_type": "code",
   "execution_count": 9,
   "id": "ed887e7c",
   "metadata": {},
   "outputs": [],
   "source": [
    "# Indenpendent and Dependent Variable X and Y\n",
    "x = Boston_P.data # Independent\n",
    "y = Boston_P.target # Dependent\n"
   ]
  },
  {
   "cell_type": "code",
   "execution_count": 10,
   "id": "dc77aaec",
   "metadata": {},
   "outputs": [],
   "source": [
    "# To Split Train and Test = 0.75/0.25\n",
    "from sklearn.model_selection import train_test_split\n",
    "x_train,x_test,y_train,y_test = train_test_split(x,y,test_size=0.25,train_size= 0.75,random_state=76)"
   ]
  },
  {
   "cell_type": "code",
   "execution_count": 11,
   "id": "89b9bf18",
   "metadata": {},
   "outputs": [],
   "source": [
    "# Normalizing a data - for making computer read it much better\n",
    "from sklearn.preprocessing import MinMaxScaler\n",
    "Sc = MinMaxScaler(feature_range=(0,1))\n",
    "x_train = Sc.fit_transform(x_train)\n",
    "x_test = Sc.fit_transform(x_test)"
   ]
  },
  {
   "cell_type": "code",
   "execution_count": 12,
   "id": "4ff18cb6",
   "metadata": {},
   "outputs": [],
   "source": [
    "# Reshaping y-train\n",
    "y_train = y_train.reshape(-1,1)\n",
    "y_train = Sc.fit_transform(y_train)\n"
   ]
  },
  {
   "cell_type": "markdown",
   "id": "5d18a708",
   "metadata": {},
   "source": [
    "###  Multiple Linear Regression"
   ]
  },
  {
   "cell_type": "code",
   "execution_count": 128,
   "id": "b51608c9",
   "metadata": {},
   "outputs": [
    {
     "data": {
      "text/plain": [
       "LinearRegression()"
      ]
     },
     "execution_count": 128,
     "metadata": {},
     "output_type": "execute_result"
    }
   ],
   "source": [
    "# importing model\n",
    "from sklearn.linear_model import LinearRegression\n",
    "Linear_R = LinearRegression()\n",
    "Linear_R.fit(x_train,y_train)"
   ]
  },
  {
   "cell_type": "code",
   "execution_count": 129,
   "id": "3de9035b",
   "metadata": {},
   "outputs": [],
   "source": [
    "# Predicted model\n",
    "predicted_values_MLR = Linear_R.predict(x_test)\n",
    "predicted_values_MLR = Sc.inverse_transform(predicted_values_MLR) #predicted values with normalize"
   ]
  },
  {
   "cell_type": "markdown",
   "id": "d95e5336",
   "metadata": {},
   "source": [
    "### Evaluation Metrics\n",
    "MAE - MSE - RMSE - MAPE - R2 <br>\n",
    "To find difference between predicted value vs true value"
   ]
  },
  {
   "cell_type": "code",
   "execution_count": 130,
   "id": "9299d5b5",
   "metadata": {},
   "outputs": [],
   "source": [
    "#importing evaluation metrics\n",
    "from sklearn.metrics import mean_absolute_error \n",
    "from sklearn.metrics import mean_squared_error\n",
    "from sklearn.metrics import r2_score\n",
    "import math"
   ]
  },
  {
   "cell_type": "code",
   "execution_count": 132,
   "id": "3928a7fe",
   "metadata": {},
   "outputs": [
    {
     "data": {
      "text/plain": [
       "2.939433362698198"
      ]
     },
     "execution_count": 132,
     "metadata": {},
     "output_type": "execute_result"
    }
   ],
   "source": [
    "MAE = mean_absolute_error(y_test,predicted_values_MLR)\n",
    "MAE"
   ]
  },
  {
   "cell_type": "code",
   "execution_count": 136,
   "id": "5f697453",
   "metadata": {},
   "outputs": [
    {
     "data": {
      "text/plain": [
       "17.30923606522891"
      ]
     },
     "execution_count": 136,
     "metadata": {},
     "output_type": "execute_result"
    }
   ],
   "source": [
    "MSE = mean_squared_error(y_test,predicted_values_MLR)\n",
    "MSE"
   ]
  },
  {
   "cell_type": "code",
   "execution_count": 137,
   "id": "7a0f40e9",
   "metadata": {},
   "outputs": [
    {
     "data": {
      "text/plain": [
       "4.160437004117345"
      ]
     },
     "execution_count": 137,
     "metadata": {},
     "output_type": "execute_result"
    }
   ],
   "source": [
    "RMSE = math.sqrt(MSE)\n",
    "RMSE"
   ]
  },
  {
   "cell_type": "code",
   "execution_count": 161,
   "id": "cb6833e1",
   "metadata": {},
   "outputs": [
    {
     "data": {
      "text/plain": [
       "0.6988343407769655"
      ]
     },
     "execution_count": 161,
     "metadata": {},
     "output_type": "execute_result"
    }
   ],
   "source": [
    "R2 = r2_score(y_test,predicted_values_MLR)\n",
    "R2"
   ]
  },
  {
   "cell_type": "code",
   "execution_count": 25,
   "id": "4366dd58",
   "metadata": {},
   "outputs": [],
   "source": [
    "# Creating MAPE\n",
    "def mean_absolute_percentage_error(y_true,y_pred):\n",
    "    y_true, y_pred = np.array(y_true),np.array(y_pred)\n",
    "    return np.mean(np.abs((y_true - y_pred)/y_true))*100\n"
   ]
  },
  {
   "cell_type": "code",
   "execution_count": 142,
   "id": "853c8395",
   "metadata": {},
   "outputs": [
    {
     "data": {
      "text/plain": [
       "43.71315211647504"
      ]
     },
     "execution_count": 142,
     "metadata": {},
     "output_type": "execute_result"
    }
   ],
   "source": [
    "MAPE = mean_absolute_percentage_error(y_test,predicted_values_MLR)\n",
    "MAPE                                      "
   ]
  },
  {
   "cell_type": "markdown",
   "id": "97d99ac7",
   "metadata": {},
   "source": [
    "### Polynomial Linear Regression"
   ]
  },
  {
   "cell_type": "code",
   "execution_count": 143,
   "id": "20a612ca",
   "metadata": {},
   "outputs": [],
   "source": [
    "from sklearn.datasets import load_boston\n",
    "import numpy as np\n",
    "import pandas as pd \n",
    "import matplotlib as plt\n",
    "Boston_P = load_boston()"
   ]
  },
  {
   "cell_type": "code",
   "execution_count": 144,
   "id": "ace9717e",
   "metadata": {},
   "outputs": [],
   "source": [
    "x = Boston_P.data[:,5]\n",
    "y = Boston_P.target"
   ]
  },
  {
   "cell_type": "code",
   "execution_count": 146,
   "id": "8c5470a5",
   "metadata": {},
   "outputs": [],
   "source": [
    "#from sklearn.model_selection import train_test_split\n",
    "x_train,x_test,y_train,y_test = train_test_split(x,y,test_size=0.25,train_size= 0.75,random_state=76)"
   ]
  },
  {
   "cell_type": "code",
   "execution_count": 147,
   "id": "b94a39bc",
   "metadata": {},
   "outputs": [],
   "source": [
    "# Importing Polynomial Feature\n",
    "from sklearn.preprocessing import PolynomialFeatures\n",
    "Poly_P = PolynomialFeatures(degree = 2)"
   ]
  },
  {
   "cell_type": "code",
   "execution_count": 148,
   "id": "31eaf3cc",
   "metadata": {},
   "outputs": [],
   "source": [
    "x_train = x_train.reshape(-1,1) #reshape our model"
   ]
  },
  {
   "cell_type": "code",
   "execution_count": 149,
   "id": "7bd1d367",
   "metadata": {},
   "outputs": [],
   "source": [
    "Poly_X = Poly_P.fit_transform(x_train) #Transform from one demensional to 3 demonsional"
   ]
  },
  {
   "cell_type": "code",
   "execution_count": 152,
   "id": "0d6eef82",
   "metadata": {},
   "outputs": [],
   "source": [
    "# Creating a Polynomial Model\n",
    "from sklearn.linear_model import LinearRegression\n",
    "\n",
    "Linear_R = LinearRegression()"
   ]
  },
  {
   "cell_type": "code",
   "execution_count": 153,
   "id": "22f533d4",
   "metadata": {},
   "outputs": [],
   "source": [
    "Poly_L_R = Linear_R.fit(Poly_X,y_train)"
   ]
  },
  {
   "cell_type": "code",
   "execution_count": 154,
   "id": "3b76b0b4",
   "metadata": {},
   "outputs": [
    {
     "data": {
      "text/plain": [
       "LinearRegression()"
      ]
     },
     "execution_count": 154,
     "metadata": {},
     "output_type": "execute_result"
    }
   ],
   "source": [
    "Poly_L_R"
   ]
  },
  {
   "cell_type": "code",
   "execution_count": 155,
   "id": "78632241",
   "metadata": {},
   "outputs": [],
   "source": [
    "# Reshape the test model and transform demensional from 1 to 3\n",
    "x_test = x_test.reshape(-1,1) \n",
    "Poly_Xt = Poly_P.fit_transform(x_test)"
   ]
  },
  {
   "cell_type": "code",
   "execution_count": 157,
   "id": "551c3993",
   "metadata": {},
   "outputs": [],
   "source": [
    "# Creating Predicted value\n",
    "predicted_values_P = Poly_L_R.predict(Poly_Xt)"
   ]
  },
  {
   "cell_type": "code",
   "execution_count": 158,
   "id": "e4910eac",
   "metadata": {},
   "outputs": [
    {
     "data": {
      "text/plain": [
       "array([16.7207051 , 20.45735935, 21.36404397, 24.34601616, 22.09863788,\n",
       "       22.27272945, 20.07969026, 18.88023333, 25.70852339, 18.97974164,\n",
       "       19.77910143, 16.8504308 , 18.04593507, 21.57970957, 21.82414982,\n",
       "       20.48809969, 17.44822857, 16.53960147, 18.94645026, 22.37812096,\n",
       "       19.62119028, 23.94662928, 20.63518217, 17.41029363, 17.44822857,\n",
       "       22.70749998, 20.74468554, 30.35896531, 18.34945928, 21.00658347,\n",
       "       18.46799598, 17.4211078 , 19.19569427, 19.23674147, 24.434784  ,\n",
       "       19.41664192, 20.41904367, 20.76827493, 23.35825368, 20.24436225,\n",
       "       18.53742735, 20.02039489, 34.30564928, 20.41904367, 17.85807945,\n",
       "       18.39292582, 16.21217849, 27.0141017 , 25.91939473, 19.09384454,\n",
       "       22.23775504, 21.39700866, 15.52513263, 18.45543551, 16.71596874,\n",
       "       21.56300283, 24.60353459, 20.02778974, 18.39915484, 18.52475956,\n",
       "       18.72330291, 16.87484432, 22.31655721, 24.75360289, 18.63947207,\n",
       "       25.83481205, 21.03065578, 19.29174425, 14.64499717, 22.59994266,\n",
       "       26.03620565, 19.2504629 , 25.46843351, 16.86018157, 26.23936019,\n",
       "       18.51843299, 16.9289833 , 20.25190343, 23.38629177, 26.8924616 ,\n",
       "       19.66402281, 21.60480625, 14.42101236, 35.23557861, 20.29725299,\n",
       "       19.0803475 , 18.91990495, 43.79438361, 23.0894822 , 16.67356097,\n",
       "       24.53387832, 14.93616243, 34.52913551, 20.22929451, 20.1169084 ,\n",
       "       26.8043668 , 28.46123742, 21.488064  , 15.94674338, 20.3961128 ,\n",
       "       28.2513463 , 26.77141173, 15.79255166, 25.69803104, 21.75630828,\n",
       "       18.2755013 , 24.92500709, 19.41664192, 19.53605203, 16.00127222,\n",
       "       20.9266595 , 22.37812096, 18.95975218, 17.60235854, 14.88567298,\n",
       "       22.83387131, 22.17673763, 18.78182255, 18.47428353, 22.63571705,\n",
       "       18.48057596, 21.07893211, 32.39016848, 19.67117864, 33.72493927,\n",
       "       41.4721546 , 49.20297446])"
      ]
     },
     "execution_count": 158,
     "metadata": {},
     "output_type": "execute_result"
    }
   ],
   "source": [
    "predicted_values_P"
   ]
  },
  {
   "cell_type": "code",
   "execution_count": 163,
   "id": "9f1255d6",
   "metadata": {},
   "outputs": [
    {
     "data": {
      "text/plain": [
       "0.6448365947580209"
      ]
     },
     "execution_count": 163,
     "metadata": {},
     "output_type": "execute_result"
    }
   ],
   "source": [
    "# Calculate R2\n",
    "R2p = r2_score(y_test,predicted_values_P)\n",
    "R2p"
   ]
  },
  {
   "cell_type": "code",
   "execution_count": 164,
   "id": "b8316dcb",
   "metadata": {},
   "outputs": [
    {
     "data": {
      "text/plain": [
       "3.2685289304370877"
      ]
     },
     "execution_count": 164,
     "metadata": {},
     "output_type": "execute_result"
    }
   ],
   "source": [
    "MAEp = mean_absolute_error(y_test,predicted_values_P)\n",
    "MAEp"
   ]
  },
  {
   "cell_type": "code",
   "execution_count": 165,
   "id": "6da00a98",
   "metadata": {},
   "outputs": [
    {
     "data": {
      "text/plain": [
       "20.41270986514182"
      ]
     },
     "execution_count": 165,
     "metadata": {},
     "output_type": "execute_result"
    }
   ],
   "source": [
    "MSEp = mean_squared_error(y_test,predicted_values_P)\n",
    "MSEp"
   ]
  },
  {
   "cell_type": "code",
   "execution_count": 166,
   "id": "b6197f4b",
   "metadata": {},
   "outputs": [
    {
     "data": {
      "text/plain": [
       "4.51804270289047"
      ]
     },
     "execution_count": 166,
     "metadata": {},
     "output_type": "execute_result"
    }
   ],
   "source": [
    "RMSEp = math.sqrt(MSEp)\n",
    "RMSEp"
   ]
  },
  {
   "cell_type": "code",
   "execution_count": 167,
   "id": "33d09129",
   "metadata": {},
   "outputs": [
    {
     "data": {
      "text/plain": [
       "19.5047881654086"
      ]
     },
     "execution_count": 167,
     "metadata": {},
     "output_type": "execute_result"
    }
   ],
   "source": [
    "MAPEp = mean_absolute_percentage_error(y_test,predicted_values_P)\n",
    "MAPEp"
   ]
  },
  {
   "cell_type": "markdown",
   "id": "0669bf01",
   "metadata": {},
   "source": [
    "### Random Forest"
   ]
  },
  {
   "cell_type": "code",
   "execution_count": 51,
   "id": "ca0b87b9",
   "metadata": {},
   "outputs": [],
   "source": [
    "# importing random forest libraries\n",
    "from sklearn.ensemble import RandomForestRegressor"
   ]
  },
  {
   "cell_type": "code",
   "execution_count": 52,
   "id": "fc4fe833",
   "metadata": {},
   "outputs": [],
   "source": [
    "#transfrom model into custom state\n",
    "Random_F = RandomForestRegressor(n_estimators=10, random_state=33)\n"
   ]
  },
  {
   "cell_type": "code",
   "execution_count": 53,
   "id": "5559ed77",
   "metadata": {},
   "outputs": [
    {
     "name": "stderr",
     "output_type": "stream",
     "text": [
      "<ipython-input-53-102436118242>:2: DataConversionWarning: A column-vector y was passed when a 1d array was expected. Please change the shape of y to (n_samples,), for example using ravel().\n",
      "  Random_F.fit(x_train,y_train)\n"
     ]
    },
    {
     "data": {
      "text/plain": [
       "RandomForestRegressor(n_estimators=10, random_state=33)"
      ]
     },
     "execution_count": 53,
     "metadata": {},
     "output_type": "execute_result"
    }
   ],
   "source": [
    "#fitted random forest model\n",
    "Random_F.fit(x_train,y_train)"
   ]
  },
  {
   "cell_type": "code",
   "execution_count": 54,
   "id": "d0fb2130",
   "metadata": {},
   "outputs": [],
   "source": [
    "# Creating predicting RF using x-test\n",
    "predicted_values_RF = Random_F.predict(x_test)"
   ]
  },
  {
   "cell_type": "code",
   "execution_count": 55,
   "id": "dd6018c1",
   "metadata": {},
   "outputs": [],
   "source": [
    "#Reshape data to normalize\n",
    "predicted_values_RF = predicted_values_RF.reshape(-1,1)\n",
    "predicted_values_RF = Sc.inverse_transform(predicted_values_RF)"
   ]
  },
  {
   "cell_type": "code",
   "execution_count": 56,
   "id": "5c9a81f3",
   "metadata": {},
   "outputs": [
    {
     "data": {
      "text/plain": [
       "0.7867854637464319"
      ]
     },
     "execution_count": 56,
     "metadata": {},
     "output_type": "execute_result"
    }
   ],
   "source": [
    "# Calculate R2\n",
    "R2rf = r2_score(y_test,predicted_values_RF)\n",
    "R2rf"
   ]
  },
  {
   "cell_type": "code",
   "execution_count": 57,
   "id": "94b7ebe9",
   "metadata": {},
   "outputs": [
    {
     "data": {
      "text/plain": [
       "2.4274015748031488"
      ]
     },
     "execution_count": 57,
     "metadata": {},
     "output_type": "execute_result"
    }
   ],
   "source": [
    "MAErf = mean_absolute_error(y_test,predicted_values_RF)\n",
    "MAErf"
   ]
  },
  {
   "cell_type": "code",
   "execution_count": 58,
   "id": "5538fbde",
   "metadata": {},
   "outputs": [
    {
     "data": {
      "text/plain": [
       "12.254321259842518"
      ]
     },
     "execution_count": 58,
     "metadata": {},
     "output_type": "execute_result"
    }
   ],
   "source": [
    "MSErf = mean_squared_error(y_test,predicted_values_RF)\n",
    "MSErf"
   ]
  },
  {
   "cell_type": "code",
   "execution_count": 59,
   "id": "ec0b9866",
   "metadata": {},
   "outputs": [
    {
     "data": {
      "text/plain": [
       "3.5006172684031767"
      ]
     },
     "execution_count": 59,
     "metadata": {},
     "output_type": "execute_result"
    }
   ],
   "source": [
    "RMSErf = math.sqrt(MSErf)\n",
    "RMSErf"
   ]
  },
  {
   "cell_type": "code",
   "execution_count": 60,
   "id": "5dc603c7",
   "metadata": {},
   "outputs": [
    {
     "data": {
      "text/plain": [
       "42.17668312174596"
      ]
     },
     "execution_count": 60,
     "metadata": {},
     "output_type": "execute_result"
    }
   ],
   "source": [
    "MAPErf = mean_absolute_percentage_error(y_test,predicted_values_RF)\n",
    "MAPErf"
   ]
  },
  {
   "cell_type": "markdown",
   "id": "ce3bdccd",
   "metadata": {},
   "source": [
    "### Support Vector Regression"
   ]
  },
  {
   "cell_type": "code",
   "execution_count": 1,
   "id": "5bff3c07",
   "metadata": {},
   "outputs": [],
   "source": [
    "# Importing SVR\n",
    "from sklearn.svm import SVR\n"
   ]
  },
  {
   "cell_type": "code",
   "execution_count": 13,
   "id": "cd578c6c",
   "metadata": {},
   "outputs": [],
   "source": [
    "#Build model\n",
    "Regressor_SVR = SVR(kernel='rbf')"
   ]
  },
  {
   "cell_type": "code",
   "execution_count": 14,
   "id": "22948def",
   "metadata": {},
   "outputs": [
    {
     "name": "stderr",
     "output_type": "stream",
     "text": [
      "D:\\Anaconda\\lib\\site-packages\\sklearn\\utils\\validation.py:63: DataConversionWarning: A column-vector y was passed when a 1d array was expected. Please change the shape of y to (n_samples, ), for example using ravel().\n",
      "  return f(*args, **kwargs)\n"
     ]
    },
    {
     "data": {
      "text/plain": [
       "SVR()"
      ]
     },
     "execution_count": 14,
     "metadata": {},
     "output_type": "execute_result"
    }
   ],
   "source": [
    "# Fit that model\n",
    "Regressor_SVR.fit(x_train,y_train)"
   ]
  },
  {
   "cell_type": "code",
   "execution_count": 15,
   "id": "2fc9cc46",
   "metadata": {},
   "outputs": [],
   "source": [
    "#Use model to create predicted svr\n",
    "predicted_values_svr = Regressor_SVR.predict(x_test)"
   ]
  },
  {
   "cell_type": "code",
   "execution_count": 17,
   "id": "a76471f3",
   "metadata": {},
   "outputs": [],
   "source": [
    "# reshapre predicted svr model to -1 and 1\n",
    "predicted_values_svr = predicted_values_svr.reshape(-1,1)\n"
   ]
  },
  {
   "cell_type": "code",
   "execution_count": 43,
   "id": "f5be01c5",
   "metadata": {},
   "outputs": [],
   "source": [
    "# Denormlize predicted model\n",
    "predicted_values_svr = Sc.inverse_transform(predicted_values_svr)"
   ]
  },
  {
   "cell_type": "code",
   "execution_count": 38,
   "id": "17a72dc1",
   "metadata": {},
   "outputs": [],
   "source": [
    "#importing evaluation metrics\n",
    "from sklearn.metrics import mean_absolute_error \n",
    "from sklearn.metrics import mean_squared_error\n",
    "from sklearn.metrics import r2_score\n",
    "import math"
   ]
  },
  {
   "cell_type": "code",
   "execution_count": 44,
   "id": "eed7d3a8",
   "metadata": {},
   "outputs": [
    {
     "data": {
      "text/plain": [
       "2.6210345549212417"
      ]
     },
     "execution_count": 44,
     "metadata": {},
     "output_type": "execute_result"
    }
   ],
   "source": [
    "MAEsvr = mean_absolute_error(y_test,predicted_values_svr)\n",
    "MAEsvr"
   ]
  },
  {
   "cell_type": "code",
   "execution_count": 45,
   "id": "5df52229",
   "metadata": {},
   "outputs": [
    {
     "data": {
      "text/plain": [
       "11.417166115225372"
      ]
     },
     "execution_count": 45,
     "metadata": {},
     "output_type": "execute_result"
    }
   ],
   "source": [
    "MSEsvr = mean_squared_error(y_test,predicted_values_svr)\n",
    "MSEsvr"
   ]
  },
  {
   "cell_type": "code",
   "execution_count": 46,
   "id": "5e786271",
   "metadata": {},
   "outputs": [
    {
     "data": {
      "text/plain": [
       "3.378929729252352"
      ]
     },
     "execution_count": 46,
     "metadata": {},
     "output_type": "execute_result"
    }
   ],
   "source": [
    "RMSEsvr = math.sqrt(MSEsvr)\n",
    "RMSEsvr"
   ]
  },
  {
   "cell_type": "code",
   "execution_count": 47,
   "id": "1e709ac9",
   "metadata": {},
   "outputs": [
    {
     "data": {
      "text/plain": [
       "42.40440288679086"
      ]
     },
     "execution_count": 47,
     "metadata": {},
     "output_type": "execute_result"
    }
   ],
   "source": [
    "MAPEsvr = mean_absolute_percentage_error(y_test,predicted_values_svr)\n",
    "MAPEsvr"
   ]
  },
  {
   "cell_type": "code",
   "execution_count": 50,
   "id": "dd24b814",
   "metadata": {},
   "outputs": [
    {
     "data": {
      "text/plain": [
       "0.8013512354564293"
      ]
     },
     "execution_count": 50,
     "metadata": {},
     "output_type": "execute_result"
    }
   ],
   "source": [
    "# Calculate R2\n",
    "R2svr = r2_score(y_test,predicted_values_svr)\n",
    "R2svr"
   ]
  },
  {
   "cell_type": "code",
   "execution_count": null,
   "id": "a6035185",
   "metadata": {},
   "outputs": [],
   "source": []
  }
 ],
 "metadata": {
  "kernelspec": {
   "display_name": "Python 3",
   "language": "python",
   "name": "python3"
  },
  "language_info": {
   "codemirror_mode": {
    "name": "ipython",
    "version": 3
   },
   "file_extension": ".py",
   "mimetype": "text/x-python",
   "name": "python",
   "nbconvert_exporter": "python",
   "pygments_lexer": "ipython3",
   "version": "3.8.8"
  },
  "varInspector": {
   "cols": {
    "lenName": 16,
    "lenType": 16,
    "lenVar": 40
   },
   "kernels_config": {
    "python": {
     "delete_cmd_postfix": "",
     "delete_cmd_prefix": "del ",
     "library": "var_list.py",
     "varRefreshCmd": "print(var_dic_list())"
    },
    "r": {
     "delete_cmd_postfix": ") ",
     "delete_cmd_prefix": "rm(",
     "library": "var_list.r",
     "varRefreshCmd": "cat(var_dic_list()) "
    }
   },
   "types_to_exclude": [
    "module",
    "function",
    "builtin_function_or_method",
    "instance",
    "_Feature"
   ],
   "window_display": false
  }
 },
 "nbformat": 4,
 "nbformat_minor": 5
}
