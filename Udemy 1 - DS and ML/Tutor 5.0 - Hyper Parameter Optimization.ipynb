{
 "cells": [
  {
   "cell_type": "markdown",
   "id": "83a6b995",
   "metadata": {},
   "source": [
    "# Machine Learning & Data Science A-Z: Hands-on Python 2021\n",
    "sources - https://www.udemy.com/course/data-science-machine-learning-a-z-hands-on-python/"
   ]
  },
  {
   "cell_type": "markdown",
   "id": "e6004e23",
   "metadata": {},
   "source": [
    "### SVR Hyper Parameter Tuning"
   ]
  },
  {
   "cell_type": "code",
   "execution_count": 1,
   "id": "7b646a0a",
   "metadata": {},
   "outputs": [],
   "source": [
    "#From previous study\n",
    "from sklearn.datasets import load_boston\n",
    "import numpy as np\n",
    "import pandas as pd \n",
    "import matplotlib as plt"
   ]
  },
  {
   "cell_type": "code",
   "execution_count": 2,
   "id": "0e2c9964",
   "metadata": {},
   "outputs": [],
   "source": [
    "Boston_P = load_boston()"
   ]
  },
  {
   "cell_type": "code",
   "execution_count": 3,
   "id": "6e55d03f",
   "metadata": {},
   "outputs": [],
   "source": [
    "# Indenpendent and Dependent Variable X and Y\n",
    "x = Boston_P.data # Independent\n",
    "y = Boston_P.target # Dependent"
   ]
  },
  {
   "cell_type": "code",
   "execution_count": 4,
   "id": "b0ff6a85",
   "metadata": {},
   "outputs": [],
   "source": [
    "# To Split Train and Test = 0.75/0.25\n",
    "from sklearn.model_selection import train_test_split\n",
    "x_train,x_test,y_train,y_test = train_test_split(x,y,test_size=0.25,train_size= 0.75,random_state=76)"
   ]
  },
  {
   "cell_type": "code",
   "execution_count": 5,
   "id": "eb3e8001",
   "metadata": {},
   "outputs": [],
   "source": [
    "# Normalizing a data - for making computer read it much better\n",
    "from sklearn.preprocessing import MinMaxScaler\n",
    "Sc = MinMaxScaler(feature_range=(0,1))\n",
    "x_train = Sc.fit_transform(x_train)\n",
    "x_test = Sc.fit_transform(x_test)"
   ]
  },
  {
   "cell_type": "code",
   "execution_count": 6,
   "id": "aa51ea3f",
   "metadata": {},
   "outputs": [],
   "source": [
    "# Reshaping y-train\n",
    "y_train = y_train.reshape(-1,1)\n",
    "y_train = Sc.fit_transform(y_train)"
   ]
  },
  {
   "cell_type": "code",
   "execution_count": 8,
   "id": "ff5cc90e",
   "metadata": {},
   "outputs": [],
   "source": [
    "# Importing SVR method and HPT\n",
    "from sklearn.svm import SVR\n",
    "from sklearn.model_selection import GridSearchCV\n"
   ]
  },
  {
   "cell_type": "code",
   "execution_count": 12,
   "id": "30a3bbaf",
   "metadata": {},
   "outputs": [],
   "source": [
    "parameters = {'kernel':['rbf','linear'] ,\n",
    "             'gamma':[1,0.1,0.01]}\n",
    "grid =GridSearchCV(SVR(),parameters,refit=True,verbose=2,scoring='neg_mean_squared_error')"
   ]
  },
  {
   "cell_type": "code",
   "execution_count": 14,
   "id": "af741053",
   "metadata": {},
   "outputs": [
    {
     "name": "stdout",
     "output_type": "stream",
     "text": [
      "Fitting 5 folds for each of 6 candidates, totalling 30 fits\n",
      "[CV] END ................................gamma=1, kernel=rbf; total time=   0.0s\n",
      "[CV] END ................................gamma=1, kernel=rbf; total time=   0.0s\n",
      "[CV] END ................................gamma=1, kernel=rbf; total time=   0.0s\n",
      "[CV] END ................................gamma=1, kernel=rbf; total time=   0.0s\n",
      "[CV] END ................................gamma=1, kernel=rbf; total time=   0.0s\n",
      "[CV] END .............................gamma=1, kernel=linear; total time=   1.1s\n",
      "[CV] END .............................gamma=1, kernel=linear; total time=   1.7s\n",
      "[CV] END .............................gamma=1, kernel=linear; total time=   1.4s\n",
      "[CV] END .............................gamma=1, kernel=linear; total time=   2.5s\n",
      "[CV] END .............................gamma=1, kernel=linear; total time=   1.3s\n",
      "[CV] END ..............................gamma=0.1, kernel=rbf; total time=   0.0s\n",
      "[CV] END ..............................gamma=0.1, kernel=rbf; total time=   0.0s\n",
      "[CV] END ..............................gamma=0.1, kernel=rbf; total time=   0.0s\n",
      "[CV] END ..............................gamma=0.1, kernel=rbf; total time=   0.0s\n",
      "[CV] END ..............................gamma=0.1, kernel=rbf; total time=   0.0s\n",
      "[CV] END ...........................gamma=0.1, kernel=linear; total time=   1.1s\n",
      "[CV] END ...........................gamma=0.1, kernel=linear; total time=   1.5s\n",
      "[CV] END ...........................gamma=0.1, kernel=linear; total time=   1.5s\n",
      "[CV] END ...........................gamma=0.1, kernel=linear; total time=   2.5s\n",
      "[CV] END ...........................gamma=0.1, kernel=linear; total time=   1.2s\n",
      "[CV] END .............................gamma=0.01, kernel=rbf; total time=   0.0s\n",
      "[CV] END .............................gamma=0.01, kernel=rbf; total time=   0.0s\n",
      "[CV] END .............................gamma=0.01, kernel=rbf; total time=   0.0s\n",
      "[CV] END .............................gamma=0.01, kernel=rbf; total time=   0.0s\n",
      "[CV] END .............................gamma=0.01, kernel=rbf; total time=   0.0s\n",
      "[CV] END ..........................gamma=0.01, kernel=linear; total time=   1.1s\n",
      "[CV] END ..........................gamma=0.01, kernel=linear; total time=   1.5s\n",
      "[CV] END ..........................gamma=0.01, kernel=linear; total time=   1.4s\n",
      "[CV] END ..........................gamma=0.01, kernel=linear; total time=   2.4s\n",
      "[CV] END ..........................gamma=0.01, kernel=linear; total time=   1.2s\n"
     ]
    }
   ],
   "source": [
    "grid.fit(x,y)\n",
    "best_params = grid.best_params_"
   ]
  },
  {
   "cell_type": "markdown",
   "id": "2cd06dd6",
   "metadata": {},
   "source": [
    "### K-Means Hyper Parameter Tuning"
   ]
  },
  {
   "cell_type": "code",
   "execution_count": 19,
   "id": "3a6d96a5",
   "metadata": {},
   "outputs": [],
   "source": [
    "K_inertia = []"
   ]
  },
  {
   "cell_type": "code",
   "execution_count": 21,
   "id": "8d6a1341",
   "metadata": {
    "scrolled": false
   },
   "outputs": [
    {
     "ename": "NameError",
     "evalue": "name 'Data_iris' is not defined",
     "output_type": "error",
     "traceback": [
      "\u001b[1;31m---------------------------------------------------------------------------\u001b[0m",
      "\u001b[1;31mNameError\u001b[0m                                 Traceback (most recent call last)",
      "\u001b[1;32m<ipython-input-21-d7cbe7d73674>\u001b[0m in \u001b[0;36m<module>\u001b[1;34m\u001b[0m\n\u001b[0;32m      1\u001b[0m \u001b[1;32mfor\u001b[0m \u001b[0mi\u001b[0m \u001b[1;32min\u001b[0m \u001b[0mrange\u001b[0m\u001b[1;33m(\u001b[0m\u001b[1;36m1\u001b[0m\u001b[1;33m,\u001b[0m\u001b[1;36m10\u001b[0m\u001b[1;33m)\u001b[0m\u001b[1;33m:\u001b[0m\u001b[1;33m\u001b[0m\u001b[1;33m\u001b[0m\u001b[0m\n\u001b[0;32m      2\u001b[0m     \u001b[0mKMNS\u001b[0m \u001b[1;33m=\u001b[0m \u001b[0mKMeans\u001b[0m\u001b[1;33m(\u001b[0m\u001b[0mn_clusters\u001b[0m\u001b[1;33m=\u001b[0m\u001b[0mi\u001b[0m\u001b[1;33m,\u001b[0m \u001b[0mrandom_state\u001b[0m\u001b[1;33m=\u001b[0m\u001b[1;36m44\u001b[0m\u001b[1;33m)\u001b[0m\u001b[1;33m\u001b[0m\u001b[1;33m\u001b[0m\u001b[0m\n\u001b[1;32m----> 3\u001b[1;33m     \u001b[0mKMNS\u001b[0m\u001b[1;33m.\u001b[0m\u001b[0mfit\u001b[0m\u001b[1;33m(\u001b[0m\u001b[0mData_iris\u001b[0m\u001b[1;33m)\u001b[0m\u001b[1;33m\u001b[0m\u001b[1;33m\u001b[0m\u001b[0m\n\u001b[0m\u001b[0;32m      4\u001b[0m     \u001b[0mK_inertia\u001b[0m\u001b[1;33m.\u001b[0m\u001b[0mappend\u001b[0m\u001b[1;33m(\u001b[0m\u001b[0mKMNS\u001b[0m\u001b[1;33m.\u001b[0m\u001b[0minertia_\u001b[0m\u001b[1;33m)\u001b[0m\u001b[1;33m\u001b[0m\u001b[1;33m\u001b[0m\u001b[0m\n",
      "\u001b[1;31mNameError\u001b[0m: name 'Data_iris' is not defined"
     ]
    }
   ],
   "source": [
    "for i in range(1,10):\n",
    "    KMNS = KMeans(n_clusters=i, random_state=44)\n",
    "    KMNS.fit(Data_iris)\n",
    "    K_inertia.append(KMNS.inertia_)"
   ]
  },
  {
   "cell_type": "markdown",
   "id": "62aae897",
   "metadata": {},
   "source": [
    "### K-NN Hyper Parameter Tuning"
   ]
  },
  {
   "cell_type": "code",
   "execution_count": 22,
   "id": "6970d200",
   "metadata": {},
   "outputs": [],
   "source": [
    "import numpy as np\n",
    "import pandas as pd \n",
    "import matplotlib.pyplot as plt"
   ]
  },
  {
   "cell_type": "code",
   "execution_count": 23,
   "id": "21a8f9bf",
   "metadata": {},
   "outputs": [],
   "source": [
    "from sklearn.datasets import load_iris\n",
    "iris = load_iris()"
   ]
  },
  {
   "cell_type": "code",
   "execution_count": 24,
   "id": "3e82e4f4",
   "metadata": {},
   "outputs": [],
   "source": [
    "x= iris.data\n",
    "y=iris.target"
   ]
  },
  {
   "cell_type": "code",
   "execution_count": 27,
   "id": "ff72a4a4",
   "metadata": {},
   "outputs": [],
   "source": [
    "from sklearn.model_selection import train_test_split\n",
    "x_train,x_test,y_train,y_test = train_test_split(x,y,test_size=30,\n",
    "                                                train_size= 0.70, random_state = 22,\n",
    "                                                shuffle =True,\n",
    "                                                stratify = y)\n"
   ]
  },
  {
   "cell_type": "code",
   "execution_count": 28,
   "id": "88c67d38",
   "metadata": {},
   "outputs": [],
   "source": [
    "from sklearn.neighbors import KNeighborsClassifier"
   ]
  },
  {
   "cell_type": "code",
   "execution_count": 29,
   "id": "26c1d7e6",
   "metadata": {},
   "outputs": [],
   "source": [
    "kNN_accuracy_test = []\n"
   ]
  },
  {
   "cell_type": "code",
   "execution_count": 30,
   "id": "91328539",
   "metadata": {},
   "outputs": [],
   "source": [
    "for k in range (1,50):\n",
    "    kNN = KNeighborsClassifier(n_neighbors=k, metric='minkowski',p=1)\n",
    "    kNN.fit(x_train,y_train)\n",
    "    kNN_accuracy_test.append(kNN.score(x_test,y_test))\n",
    "    "
   ]
  },
  {
   "cell_type": "code",
   "execution_count": 31,
   "id": "83b95ac8",
   "metadata": {},
   "outputs": [
    {
     "data": {
      "image/png": "[encoded data removed]",
      "text/plain": [
       "<Figure size 432x288 with 1 Axes>"
      ]
     },
     "metadata": {
      "needs_background": "light"
     },
     "output_type": "display_data"
    }
   ],
   "source": [
    "plt.plot(np.arange(1,50),kNN_accuracy_test,label = 'test')\n",
    "plt.xlabel('k')\n",
    "plt.ylabel('Score')\n",
    "plt.show()"
   ]
  },
  {
   "cell_type": "markdown",
   "id": "ec761ead",
   "metadata": {},
   "source": [
    "### Overfitting and Underfitting"
   ]
  },
  {
   "cell_type": "code",
   "execution_count": 32,
   "id": "3b043928",
   "metadata": {},
   "outputs": [],
   "source": [
    "kNN_accuracy_test = []\n",
    "kNN_accuracy_train = []"
   ]
  },
  {
   "cell_type": "code",
   "execution_count": 33,
   "id": "9d8b2235",
   "metadata": {},
   "outputs": [],
   "source": [
    "for k in range (1,50):\n",
    "    kNN = KNeighborsClassifier(n_neighbors=k, metric='minkowski',p=1)\n",
    "    kNN.fit(x_train,y_train)\n",
    "    kNN_accuracy_train.append(kNN.score(x_train,y_train))\n",
    "    kNN_accuracy_test.append(kNN.score(x_test,y_test))"
   ]
  },
  {
   "cell_type": "code",
   "execution_count": 35,
   "id": "ee39b528",
   "metadata": {},
   "outputs": [
    {
     "data": {
      "image/png": "[encoded data removed]",
      "text/plain": [
       "<Figure size 432x288 with 1 Axes>"
      ]
     },
     "metadata": {
      "needs_background": "light"
     },
     "output_type": "display_data"
    }
   ],
   "source": [
    "plt.plot(np.arange(1,50),kNN_accuracy_train,label = 'train')\n",
    "plt.plot(np.arange(1,50),kNN_accuracy_test,label = 'test')\n",
    "plt.xlabel('k')\n",
    "plt.ylabel('Score')\n",
    "plt.legend()\n",
    "plt.show()"
   ]
  },
  {
   "cell_type": "code",
   "execution_count": null,
   "id": "18800e62",
   "metadata": {},
   "outputs": [],
   "source": []
  }
 ],
 "metadata": {
  "kernelspec": {
   "display_name": "Python 3",
   "language": "python",
   "name": "python3"
  },
  "language_info": {
   "codemirror_mode": {
    "name": "ipython",
    "version": 3
   },
   "file_extension": ".py",
   "mimetype": "text/x-python",
   "name": "python",
   "nbconvert_exporter": "python",
   "pygments_lexer": "ipython3",
   "version": "3.8.8"
  },
  "varInspector": {
   "cols": {
    "lenName": 16,
    "lenType": 16,
    "lenVar": 40
   },
   "kernels_config": {
    "python": {
     "delete_cmd_postfix": "",
     "delete_cmd_prefix": "del ",
     "library": "var_list.py",
     "varRefreshCmd": "print(var_dic_list())"
    },
    "r": {
     "delete_cmd_postfix": ") ",
     "delete_cmd_prefix": "rm(",
     "library": "var_list.r",
     "varRefreshCmd": "cat(var_dic_list()) "
    }
   },
   "position": {
    "height": "144px",
    "left": "478px",
    "right": "20px",
    "top": "120px",
    "width": "350px"
   },
   "types_to_exclude": [
    "module",
    "function",
    "builtin_function_or_method",
    "instance",
    "_Feature"
   ],
   "window_display": false
  }
 },
 "nbformat": 4,
 "nbformat_minor": 5
}
