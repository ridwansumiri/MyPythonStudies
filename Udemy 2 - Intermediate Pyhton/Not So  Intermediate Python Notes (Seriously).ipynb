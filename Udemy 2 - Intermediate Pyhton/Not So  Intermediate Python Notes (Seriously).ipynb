{
 "cells": [
  {
   "cell_type": "markdown",
   "id": "c92512fe",
   "metadata": {},
   "source": [
    "# Intermediate Python Immersive Training | Boost your career\n",
    "\n",
    "sources - https://www.udemy.com/course/the-intermediate-python-training-boost-your-python-skills/"
   ]
  },
  {
   "cell_type": "markdown",
   "id": "b2f35554",
   "metadata": {},
   "source": [
    "## ITERATOR - Section 1\n"
   ]
  },
  {
   "cell_type": "code",
   "execution_count": 1,
   "id": "efef5109",
   "metadata": {},
   "outputs": [
    {
     "name": "stdout",
     "output_type": "stream",
     "text": [
      "banana\n",
      "lemon\n",
      "apple\n"
     ]
    }
   ],
   "source": [
    "# Iterator from fruitstuple and print each value.\n",
    "fruitstuple = ('banana','lemon','apple')\n",
    "newit = iter(fruitstuple) # to separate element from list\n",
    "print(next(newit))\n",
    "print(next(newit))\n",
    "print(next(newit))"
   ]
  },
  {
   "cell_type": "code",
   "execution_count": 3,
   "id": "569a6aad",
   "metadata": {},
   "outputs": [
    {
     "name": "stdout",
     "output_type": "stream",
     "text": [
      "l\n",
      "e\n",
      "m\n",
      "o\n",
      "n\n"
     ]
    }
   ],
   "source": [
    "# Iterator from sequence of characters\n",
    "fruitstr = 'lemon'\n",
    "newit = iter(fruitstr)\n",
    "print(next(newit))\n",
    "print(next(newit))\n",
    "print(next(newit))\n",
    "print(next(newit))\n",
    "print(next(newit))\n"
   ]
  },
  {
   "cell_type": "code",
   "execution_count": 4,
   "id": "ce84ec1e",
   "metadata": {},
   "outputs": [
    {
     "name": "stdout",
     "output_type": "stream",
     "text": [
      "banana\n",
      "lemon\n",
      "apple\n"
     ]
    }
   ],
   "source": [
    "# For Loop to iterate through a tuple\n",
    "fruitstuple = ('banana','lemon','apple')\n",
    "for i in fruitstuple:\n",
    "    print(i)\n",
    "    "
   ]
  },
  {
   "cell_type": "code",
   "execution_count": 5,
   "id": "4190e6a0",
   "metadata": {},
   "outputs": [
    {
     "name": "stdout",
     "output_type": "stream",
     "text": [
      "l\n",
      "e\n",
      "m\n",
      "o\n",
      "n\n"
     ]
    }
   ],
   "source": [
    "# For loop to iterate through a string\n",
    "fruitstr = 'lemon'\n",
    "for i in fruitstr:\n",
    "    print(i)"
   ]
  },
  {
   "cell_type": "code",
   "execution_count": 15,
   "id": "5d58acde",
   "metadata": {},
   "outputs": [
    {
     "ename": "TypeError",
     "evalue": "'Counting' object is not iterable",
     "output_type": "error",
     "traceback": [
      "\u001b[1;31m---------------------------------------------------------------------------\u001b[0m",
      "\u001b[1;31mTypeError\u001b[0m                                 Traceback (most recent call last)",
      "\u001b[1;32m<ipython-input-15-47b7ab5e6464>\u001b[0m in \u001b[0;36m<module>\u001b[1;34m\u001b[0m\n\u001b[0;32m     14\u001b[0m \u001b[1;33m\u001b[0m\u001b[0m\n\u001b[0;32m     15\u001b[0m \u001b[0mnewObj\u001b[0m \u001b[1;33m=\u001b[0m \u001b[0mCounting\u001b[0m\u001b[1;33m(\u001b[0m\u001b[1;33m)\u001b[0m\u001b[1;33m\u001b[0m\u001b[1;33m\u001b[0m\u001b[0m\n\u001b[1;32m---> 16\u001b[1;33m \u001b[0mnewit\u001b[0m \u001b[1;33m=\u001b[0m \u001b[0miter\u001b[0m\u001b[1;33m(\u001b[0m\u001b[0mnewObj\u001b[0m\u001b[1;33m)\u001b[0m\u001b[1;33m\u001b[0m\u001b[1;33m\u001b[0m\u001b[0m\n\u001b[0m\u001b[0;32m     17\u001b[0m \u001b[1;33m\u001b[0m\u001b[0m\n\u001b[0;32m     18\u001b[0m \u001b[1;33m\u001b[0m\u001b[0m\n",
      "\u001b[1;31mTypeError\u001b[0m: 'Counting' object is not iterable"
     ]
    }
   ],
   "source": [
    "# Building an iterator that returns numbers\n",
    "class Counting:\n",
    "    def _iter_(self):\n",
    "        self.a = 1\n",
    "        return self\n",
    "    \n",
    "    def _next_(self):\n",
    "        if self.a <= 19:\n",
    "            x = self.a\n",
    "            self.a += 19\n",
    "            return x\n",
    "        else:\n",
    "            raise StopIteration\n",
    "    \n",
    "newObj = Counting()\n",
    "newit = iter(newObj)\n",
    "\n",
    "\n",
    "\n"
   ]
  },
  {
   "cell_type": "markdown",
   "id": "1fcdc44b",
   "metadata": {},
   "source": [
    "## Coding Regions - Section 2"
   ]
  },
  {
   "cell_type": "code",
   "execution_count": 16,
   "id": "e50114b8",
   "metadata": {},
   "outputs": [
    {
     "name": "stdout",
     "output_type": "stream",
     "text": [
      "200\n"
     ]
    }
   ],
   "source": [
    "# Local scope of a function\n",
    "def newfunc():\n",
    "    x = 200\n",
    "    print (x)\n",
    "newfunc()"
   ]
  },
  {
   "cell_type": "code",
   "execution_count": 25,
   "id": "18736e77",
   "metadata": {},
   "outputs": [
    {
     "name": "stdout",
     "output_type": "stream",
     "text": [
      "200\n"
     ]
    }
   ],
   "source": [
    "# local variable can be accessed from a function \n",
    "def newOut():\n",
    "    x = 200\n",
    "    def newIn():\n",
    "        print(x)\n",
    "    newIn()\n",
    "newOut()\n",
    "    "
   ]
  },
  {
   "cell_type": "code",
   "execution_count": 18,
   "id": "3b83ebbd",
   "metadata": {},
   "outputs": [
    {
     "name": "stdout",
     "output_type": "stream",
     "text": [
      "100\n",
      "100\n"
     ]
    }
   ],
   "source": [
    "# Global varaibles are available from within any scope.\n",
    "x = 100\n",
    "def newfunc():\n",
    "    print(x)\n",
    "\n",
    "newfunc()\n",
    "print(x)"
   ]
  },
  {
   "cell_type": "code",
   "execution_count": 23,
   "id": "0e7eb6cc",
   "metadata": {},
   "outputs": [
    {
     "name": "stdout",
     "output_type": "stream",
     "text": [
      "Cat\n",
      "100\n"
     ]
    }
   ],
   "source": [
    "# Naming and Renaming Varaibles\n",
    "x = 100\n",
    "def newfunc():\n",
    "    x = \"Cat\"\n",
    "    print(x)\n",
    "newfunc()\n",
    "print(x)"
   ]
  },
  {
   "cell_type": "code",
   "execution_count": 33,
   "id": "5814b0ef",
   "metadata": {},
   "outputs": [
    {
     "name": "stdout",
     "output_type": "stream",
     "text": [
      "50\n"
     ]
    }
   ],
   "source": [
    "# The global keyword makes the varaible global.\n",
    "x = 100\n",
    "def newfunc():\n",
    "    global x\n",
    "    x = 50\n",
    "newfunc()\n",
    "print(x)"
   ]
  },
  {
   "cell_type": "markdown",
   "id": "48895a3d",
   "metadata": {},
   "source": [
    "## String Formatters - Section 3"
   ]
  },
  {
   "cell_type": "code",
   "execution_count": 35,
   "id": "2e8ea24d",
   "metadata": {},
   "outputs": [
    {
     "name": "stdout",
     "output_type": "stream",
     "text": [
      "The number is 25 for you!\n"
     ]
    }
   ],
   "source": [
    "# Adding a placeholder\n",
    "number  = 25 \n",
    "newmsg = 'The number is {} for you!'\n",
    "print(newmsg.format(number))"
   ]
  },
  {
   "cell_type": "code",
   "execution_count": 36,
   "id": "ed229d80",
   "metadata": {},
   "outputs": [
    {
     "name": "stdout",
     "output_type": "stream",
     "text": [
      "The number is 25.00 for you!\n"
     ]
    }
   ],
   "source": [
    "# Displayed as a number with two decimals\n",
    "number  = 25 \n",
    "newmsg = 'The number is {:.2f} for you!'\n",
    "print(newmsg.format(number))"
   ]
  },
  {
   "cell_type": "code",
   "execution_count": 38,
   "id": "03c5c472",
   "metadata": {},
   "outputs": [
    {
     "name": "stdout",
     "output_type": "stream",
     "text": [
      "We want 5 pieces of item number 50 for 24.00 dollars\n"
     ]
    }
   ],
   "source": [
    "# Adding Multiple Placeholders\n",
    "quantity = 5\n",
    "itemNumber = 50\n",
    "price = 24\n",
    "firstOrder = 'We want {} pieces of item number {} for {:.2f} dollars'\n",
    "print(firstOrder.format(quantity,itemNumber,price))"
   ]
  },
  {
   "cell_type": "code",
   "execution_count": 39,
   "id": "f1fcac25",
   "metadata": {},
   "outputs": [
    {
     "name": "stdout",
     "output_type": "stream",
     "text": [
      "We want 5 pieces of item number 50 for 24.00 dollars\n"
     ]
    }
   ],
   "source": [
    "# Using index numbers.\n",
    "quantity = 5\n",
    "itemNumber = 50\n",
    "price = 24\n",
    "firstOrder = 'We want {0} pieces of item number {1} for {2:.2f} dollars'\n",
    "print(firstOrder.format(quantity,itemNumber,price))"
   ]
  },
  {
   "cell_type": "code",
   "execution_count": 40,
   "id": "7e703d6a",
   "metadata": {},
   "outputs": [
    {
     "name": "stdout",
     "output_type": "stream",
     "text": [
      "The name is Jack. Jack is 45 years old.\n"
     ]
    }
   ],
   "source": [
    "age = 45\n",
    "name ='Jack'\n",
    "newTxt = 'The name is {1}. {1} is {0} years old.'\n",
    "print(newTxt.format(age,name))"
   ]
  },
  {
   "cell_type": "code",
   "execution_count": 41,
   "id": "3387b739",
   "metadata": {},
   "outputs": [
    {
     "name": "stdout",
     "output_type": "stream",
     "text": [
      " I have a Volvo, it is s60\n"
     ]
    }
   ],
   "source": [
    "# Using named indexes by entering a name inside the curly brackets.\n",
    "newOrder = ' I have a {car}, it is {model}'\n",
    "print(newOrder.format(car = 'Volvo',model = 's60'))"
   ]
  },
  {
   "cell_type": "markdown",
   "id": "492abe19",
   "metadata": {},
   "source": [
    "## Generators - Section 4"
   ]
  },
  {
   "cell_type": "code",
   "execution_count": 44,
   "id": "4909d77f",
   "metadata": {},
   "outputs": [
    {
     "name": "stdout",
     "output_type": "stream",
     "text": [
      "First item!\n",
      "15\n",
      "Second item!\n",
      "25\n",
      "Last item!\n",
      "40\n"
     ]
    }
   ],
   "source": [
    "# Create generator function.\n",
    "def Items() :\n",
    "    print('First item!')\n",
    "    yield 15\n",
    "        \n",
    "    print('Second item!')\n",
    "    yield 25\n",
    "    \n",
    "    print('Last item!')\n",
    "    yield 40\n",
    "    \n",
    "newGenerat = Items()\n",
    "print(next(newGenerat))\n",
    "print(next(newGenerat))\n",
    "print(next(newGenerat))"
   ]
  },
  {
   "cell_type": "code",
   "execution_count": 45,
   "id": "d4ee057b",
   "metadata": {},
   "outputs": [
    {
     "name": "stdout",
     "output_type": "stream",
     "text": [
      "First item!\n",
      "15\n"
     ]
    },
    {
     "ename": "StopIteration",
     "evalue": "",
     "output_type": "error",
     "traceback": [
      "\u001b[1;31m---------------------------------------------------------------------------\u001b[0m",
      "\u001b[1;31mStopIteration\u001b[0m                             Traceback (most recent call last)",
      "\u001b[1;32m<ipython-input-45-744c2d84e883>\u001b[0m in \u001b[0;36m<module>\u001b[1;34m\u001b[0m\n\u001b[0;32m     15\u001b[0m \u001b[0mnewGenerat\u001b[0m \u001b[1;33m=\u001b[0m \u001b[0mItems\u001b[0m\u001b[1;33m(\u001b[0m\u001b[1;33m)\u001b[0m\u001b[1;33m\u001b[0m\u001b[1;33m\u001b[0m\u001b[0m\n\u001b[0;32m     16\u001b[0m \u001b[0mprint\u001b[0m\u001b[1;33m(\u001b[0m\u001b[0mnext\u001b[0m\u001b[1;33m(\u001b[0m\u001b[0mnewGenerat\u001b[0m\u001b[1;33m)\u001b[0m\u001b[1;33m)\u001b[0m\u001b[1;33m\u001b[0m\u001b[1;33m\u001b[0m\u001b[0m\n\u001b[1;32m---> 17\u001b[1;33m \u001b[0mprint\u001b[0m\u001b[1;33m(\u001b[0m\u001b[0mnext\u001b[0m\u001b[1;33m(\u001b[0m\u001b[0mnewGenerat\u001b[0m\u001b[1;33m)\u001b[0m\u001b[1;33m)\u001b[0m\u001b[1;33m\u001b[0m\u001b[1;33m\u001b[0m\u001b[0m\n\u001b[0m\u001b[0;32m     18\u001b[0m \u001b[0mprint\u001b[0m\u001b[1;33m(\u001b[0m\u001b[0mnext\u001b[0m\u001b[1;33m(\u001b[0m\u001b[0mnewGenerat\u001b[0m\u001b[1;33m)\u001b[0m\u001b[1;33m)\u001b[0m\u001b[1;33m\u001b[0m\u001b[1;33m\u001b[0m\u001b[0m\n",
      "\u001b[1;31mStopIteration\u001b[0m: "
     ]
    }
   ],
   "source": [
    "# return a value and terminate the execution of the function.\n",
    "\n",
    "def Items() :\n",
    "    print('First item!')\n",
    "    yield 15\n",
    "    \n",
    "    return\n",
    "\n",
    "    print('Second item!')\n",
    "    yield 25\n",
    "    \n",
    "    print('Last item!')\n",
    "    yield 40\n",
    "    \n",
    "newGenerat = Items()\n",
    "print(next(newGenerat))\n",
    "print(next(newGenerat))\n",
    "print(next(newGenerat))"
   ]
  },
  {
   "cell_type": "code",
   "execution_count": 46,
   "id": "aa35dc14",
   "metadata": {},
   "outputs": [
    {
     "name": "stdout",
     "output_type": "stream",
     "text": [
      "0\n",
      "1\n",
      "2\n",
      "3\n",
      "4\n",
      "5\n",
      "6\n"
     ]
    },
    {
     "ename": "StopIteration",
     "evalue": "",
     "output_type": "error",
     "traceback": [
      "\u001b[1;31m---------------------------------------------------------------------------\u001b[0m",
      "\u001b[1;31mStopIteration\u001b[0m                             Traceback (most recent call last)",
      "\u001b[1;32m<ipython-input-46-b5be6672caa9>\u001b[0m in \u001b[0;36m<module>\u001b[1;34m\u001b[0m\n\u001b[0;32m     12\u001b[0m \u001b[0mprint\u001b[0m\u001b[1;33m(\u001b[0m\u001b[0mnext\u001b[0m\u001b[1;33m(\u001b[0m\u001b[0mseq1\u001b[0m\u001b[1;33m)\u001b[0m\u001b[1;33m)\u001b[0m\u001b[1;33m\u001b[0m\u001b[1;33m\u001b[0m\u001b[0m\n\u001b[0;32m     13\u001b[0m \u001b[0mprint\u001b[0m\u001b[1;33m(\u001b[0m\u001b[0mnext\u001b[0m\u001b[1;33m(\u001b[0m\u001b[0mseq1\u001b[0m\u001b[1;33m)\u001b[0m\u001b[1;33m)\u001b[0m\u001b[1;33m\u001b[0m\u001b[1;33m\u001b[0m\u001b[0m\n\u001b[1;32m---> 14\u001b[1;33m \u001b[0mprint\u001b[0m\u001b[1;33m(\u001b[0m\u001b[0mnext\u001b[0m\u001b[1;33m(\u001b[0m\u001b[0mseq1\u001b[0m\u001b[1;33m)\u001b[0m\u001b[1;33m)\u001b[0m\u001b[1;33m\u001b[0m\u001b[1;33m\u001b[0m\u001b[0m\n\u001b[0m\u001b[0;32m     15\u001b[0m \u001b[0mprint\u001b[0m\u001b[1;33m(\u001b[0m\u001b[0mnext\u001b[0m\u001b[1;33m(\u001b[0m\u001b[0mseq1\u001b[0m\u001b[1;33m)\u001b[0m\u001b[1;33m)\u001b[0m\u001b[1;33m\u001b[0m\u001b[1;33m\u001b[0m\u001b[0m\n",
      "\u001b[1;31mStopIteration\u001b[0m: "
     ]
    }
   ],
   "source": [
    "# Using generator function with for loop\n",
    "\n",
    "def newUpTo(x):\n",
    "    for i in range(x):\n",
    "        yield i\n",
    "seq1 = newUpTo(7)\n",
    "print(next(seq1))\n",
    "print(next(seq1))\n",
    "print(next(seq1))\n",
    "print(next(seq1))\n",
    "print(next(seq1))\n",
    "print(next(seq1))\n",
    "print(next(seq1))\n",
    "print(next(seq1))\n",
    "print(next(seq1))"
   ]
  },
  {
   "cell_type": "code",
   "execution_count": 47,
   "id": "bcc09c58",
   "metadata": {},
   "outputs": [
    {
     "name": "stdout",
     "output_type": "stream",
     "text": [
      "Received on the next(): 0\n",
      "Received on the next(): 1\n",
      "Received on the next(): 4\n",
      "Received on the next(): 9\n",
      "Received on the next(): 16\n",
      "Received on the next(): 25\n",
      "Received on the next(): 36\n"
     ]
    }
   ],
   "source": [
    "# Yield square of number\n",
    "\n",
    "def squareSequence(x):\n",
    "    for i in range(x):\n",
    "        yield i*i\n",
    "newGenerat = squareSequence(7)\n",
    "while True:\n",
    "    try:\n",
    "        print('Received on the next():',next(newGenerat))\n",
    "    except StopIteration:\n",
    "        break\n"
   ]
  },
  {
   "cell_type": "code",
   "execution_count": 48,
   "id": "f5f58342",
   "metadata": {},
   "outputs": [],
   "source": [
    "# generator with for loop and StopIteration automatically\n",
    "for sqr in newGenerat:\n",
    "    print(sqr)"
   ]
  },
  {
   "cell_type": "code",
   "execution_count": 51,
   "id": "71e97b0b",
   "metadata": {},
   "outputs": [
    {
     "name": "stdout",
     "output_type": "stream",
     "text": [
      "0\n",
      "1\n",
      "4\n",
      "9\n",
      "16\n",
      "25\n",
      "36\n"
     ]
    },
    {
     "ename": "StopIteration",
     "evalue": "",
     "output_type": "error",
     "traceback": [
      "\u001b[1;31m---------------------------------------------------------------------------\u001b[0m",
      "\u001b[1;31mStopIteration\u001b[0m                             Traceback (most recent call last)",
      "\u001b[1;32m<ipython-input-51-00c212ecff4c>\u001b[0m in \u001b[0;36m<module>\u001b[1;34m\u001b[0m\n\u001b[0;32m      9\u001b[0m \u001b[0mprint\u001b[0m\u001b[1;33m(\u001b[0m\u001b[0mnext\u001b[0m\u001b[1;33m(\u001b[0m\u001b[0mnewSquare\u001b[0m\u001b[1;33m)\u001b[0m\u001b[1;33m)\u001b[0m\u001b[1;33m\u001b[0m\u001b[1;33m\u001b[0m\u001b[0m\n\u001b[0;32m     10\u001b[0m \u001b[0mprint\u001b[0m\u001b[1;33m(\u001b[0m\u001b[0mnext\u001b[0m\u001b[1;33m(\u001b[0m\u001b[0mnewSquare\u001b[0m\u001b[1;33m)\u001b[0m\u001b[1;33m)\u001b[0m\u001b[1;33m\u001b[0m\u001b[1;33m\u001b[0m\u001b[0m\n\u001b[1;32m---> 11\u001b[1;33m \u001b[0mprint\u001b[0m\u001b[1;33m(\u001b[0m\u001b[0mnext\u001b[0m\u001b[1;33m(\u001b[0m\u001b[0mnewSquare\u001b[0m\u001b[1;33m)\u001b[0m\u001b[1;33m)\u001b[0m\u001b[1;33m\u001b[0m\u001b[1;33m\u001b[0m\u001b[0m\n\u001b[0m\u001b[0;32m     12\u001b[0m \u001b[0mprint\u001b[0m\u001b[1;33m(\u001b[0m\u001b[0mnext\u001b[0m\u001b[1;33m(\u001b[0m\u001b[0mnewSquare\u001b[0m\u001b[1;33m)\u001b[0m\u001b[1;33m)\u001b[0m\u001b[1;33m\u001b[0m\u001b[1;33m\u001b[0m\u001b[0m\n",
      "\u001b[1;31mStopIteration\u001b[0m: "
     ]
    }
   ],
   "source": [
    "# Use generator expression\n",
    "newSquare = (i*i for i in range(7))\n",
    "\n",
    "print(next(newSquare))\n",
    "print(next(newSquare))\n",
    "print(next(newSquare))\n",
    "print(next(newSquare))\n",
    "print(next(newSquare))\n",
    "print(next(newSquare))\n",
    "print(next(newSquare))\n",
    "print(next(newSquare))\n",
    "print(next(newSquare))"
   ]
  },
  {
   "cell_type": "code",
   "execution_count": 54,
   "id": "89771e07",
   "metadata": {},
   "outputs": [
    {
     "name": "stdout",
     "output_type": "stream",
     "text": [
      "285\n"
     ]
    }
   ],
   "source": [
    "# pass generator expression in a function\n",
    "import math \n",
    "print(sum(i*i for i in range (10)))"
   ]
  },
  {
   "cell_type": "markdown",
   "id": "00b3b064",
   "metadata": {},
   "source": [
    "## Regular Expression - Section 5"
   ]
  },
  {
   "cell_type": "code",
   "execution_count": 55,
   "id": "78625eda",
   "metadata": {},
   "outputs": [],
   "source": [
    "# import the regular expression module\n",
    "import re"
   ]
  },
  {
   "cell_type": "code",
   "execution_count": 56,
   "id": "98c7b1ed",
   "metadata": {},
   "outputs": [
    {
     "name": "stdout",
     "output_type": "stream",
     "text": [
      "Yes, we have a match!\n"
     ]
    }
   ],
   "source": [
    "# search the string to see if it starts with 'You' and ends with 'Python'\n",
    "newTxt = 'You can start learning Python'\n",
    "x = re.search('^You.*Python$',newTxt)\n",
    "\n",
    "if x:\n",
    "    print('Yes, we have a match!')\n",
    "else:\n",
    "    print('No match!')"
   ]
  },
  {
   "cell_type": "code",
   "execution_count": 57,
   "id": "cef0df36",
   "metadata": {},
   "outputs": [
    {
     "name": "stdout",
     "output_type": "stream",
     "text": [
      "['very', 'very']\n"
     ]
    }
   ],
   "source": [
    "# Use findall and print a list of all matches\n",
    "import re\n",
    "\n",
    "newTxt = 'Python is very very easy to understand'\n",
    "x = re.findall('very',newTxt)\n",
    "print(x)\n"
   ]
  },
  {
   "cell_type": "code",
   "execution_count": 59,
   "id": "52dfe618",
   "metadata": {},
   "outputs": [
    {
     "name": "stdout",
     "output_type": "stream",
     "text": [
      "First white-space position: 6\n"
     ]
    }
   ],
   "source": [
    "# Search for the first white-space\n",
    "import re\n",
    "newTxt = 'Python is very easy'\n",
    "x = re.search('\\s',newTxt)\n",
    "\n",
    "print('First white-space position:', x.start())"
   ]
  },
  {
   "cell_type": "code",
   "execution_count": 1,
   "id": "92e38d15",
   "metadata": {},
   "outputs": [
    {
     "name": "stdout",
     "output_type": "stream",
     "text": [
      "None\n"
     ]
    }
   ],
   "source": [
    "# making a search that returns no match\n",
    "\n",
    "import re\n",
    "newTxt = 'Python is very fun'\n",
    "x = re.search('rain',newTxt)\n",
    "print(x)"
   ]
  },
  {
   "cell_type": "code",
   "execution_count": 2,
   "id": "74fa2118",
   "metadata": {},
   "outputs": [
    {
     "name": "stdout",
     "output_type": "stream",
     "text": [
      "['try', 'top', 'code', 'with', 'Python']\n"
     ]
    }
   ],
   "source": [
    "# Split at each white-space in the string\n",
    "import re\n",
    "newTxt = 'try top code with Python'\n",
    "x =re.split('\\s', newTxt)\n",
    "print(x)"
   ]
  },
  {
   "cell_type": "code",
   "execution_count": 4,
   "id": "937ee20a",
   "metadata": {},
   "outputs": [
    {
     "name": "stdout",
     "output_type": "stream",
     "text": [
      "['try', 'top', 'code with Python']\n"
     ]
    }
   ],
   "source": [
    "# Split at each white-space by setting parameter in the string\n",
    "import re\n",
    "newTxt = 'try top code with Python'\n",
    "x =re.split('\\s', newTxt, 2)\n",
    "print(x)"
   ]
  },
  {
   "cell_type": "code",
   "execution_count": 6,
   "id": "bb4df8cb",
   "metadata": {},
   "outputs": [
    {
     "name": "stdout",
     "output_type": "stream",
     "text": [
      "newTxt\n"
     ]
    }
   ],
   "source": [
    "# replace every white space with $\n",
    "import re\n",
    "\n",
    "newTxt = 'Python is very easy'\n",
    "x =re.sub('\\s','$','newTxt',1)\n",
    "print(x)"
   ]
  },
  {
   "cell_type": "code",
   "execution_count": 2,
   "id": "e3b4a753",
   "metadata": {},
   "outputs": [
    {
     "name": "stdout",
     "output_type": "stream",
     "text": [
      "<re.Match object; span=(10, 14), match='very'>\n"
     ]
    }
   ],
   "source": [
    "# Search and return a match object\n",
    "import re\n",
    "newTxt = 'Python is very very easy'\n",
    "x = re.search('very',newTxt)\n",
    "\n",
    "print(x) # print an object"
   ]
  },
  {
   "cell_type": "code",
   "execution_count": 8,
   "id": "d3a7e835",
   "metadata": {},
   "outputs": [
    {
     "name": "stdout",
     "output_type": "stream",
     "text": [
      "(0, 4)\n"
     ]
    }
   ],
   "source": [
    "# searching for upper case C in the beginning of a word and print its position\n",
    "newTxt = 'Code with Python now'\n",
    "x = re.search(r'\\bC\\w+',newTxt)\n",
    "\n",
    "print(x.span())"
   ]
  },
  {
   "cell_type": "code",
   "execution_count": 10,
   "id": "cfe3c1f4",
   "metadata": {},
   "outputs": [
    {
     "name": "stdout",
     "output_type": "stream",
     "text": [
      "Code with Python is good for beginner\n"
     ]
    }
   ],
   "source": [
    "# String property to return passed intio the\n",
    "newTxt = 'Code with Python is good for beginner'\n",
    "x = re.search(r'\\bC\\w+',newTxt)\n",
    "print(x.string)\n"
   ]
  },
  {
   "cell_type": "code",
   "execution_count": 5,
   "id": "b3407a79",
   "metadata": {},
   "outputs": [
    {
     "name": "stdout",
     "output_type": "stream",
     "text": [
      "Code\n"
     ]
    }
   ],
   "source": [
    "# print the word that contains upper case p in the beginning\n",
    "print(x.group())"
   ]
  },
  {
   "cell_type": "markdown",
   "id": "30544e0a",
   "metadata": {},
   "source": [
    "## Built-In Modules - Section 6\n"
   ]
  },
  {
   "cell_type": "code",
   "execution_count": 11,
   "id": "268f2c5d",
   "metadata": {},
   "outputs": [
    {
     "name": "stdout",
     "output_type": "stream",
     "text": [
      "\n",
      "Please wait a moment while I gather a list of all available modules...\n",
      "\n"
     ]
    },
    {
     "name": "stderr",
     "output_type": "stream",
     "text": [
      "D:\\Anaconda\\lib\\site-packages\\IPython\\kernel\\__init__.py:12: ShimWarning: The `IPython.kernel` package has been deprecated since IPython 4.0.You should import from ipykernel or jupyter_client instead.\n",
      "  warn(\"The `IPython.kernel` package has been deprecated since IPython 4.0.\"\n",
      "WARNING: AstropyDeprecationWarning: The private astropy._erfa module has been made into its own package, pyerfa, which is a dependency of astropy and can be imported directly using \"import erfa\" [astropy._erfa]\n",
      "D:\\Anaconda\\lib\\pkgutil.py:92: MatplotlibDeprecationWarning: \n",
      "The matplotlib.compat module was deprecated in Matplotlib 3.3 and will be removed two minor releases later.\n",
      "  __import__(info.name)\n",
      "D:\\Anaconda\\lib\\site-packages\\nltk\\twitter\\__init__.py:21: UserWarning: The twython library has not been installed. Some functionality from the twitter package will not be available.\n",
      "  warnings.warn(\n",
      "D:\\Anaconda\\lib\\site-packages\\skimage\\viewer\\utils\\__init__.py:1: UserWarning: Recommended matplotlib backend is `Agg` for full skimage.viewer functionality.\n",
      "  from .core import *\n",
      "D:\\Anaconda\\lib\\site-packages\\qtawesome\\iconic_font.py:313: UserWarning: You need to have a running QApplication to use QtAwesome!\n",
      "  warnings.warn(\"You need to have a running \"\n",
      "D:\\Anaconda\\lib\\pkgutil.py:107: VisibleDeprecationWarning: zmq.eventloop.minitornado is deprecated in pyzmq 14.0 and will be removed.\n",
      "    Install tornado itself to use zmq with the tornado IOLoop.\n",
      "    \n",
      "  yield from walk_packages(path, info.name+'.', onerror)\n"
     ]
    },
    {
     "name": "stdout",
     "output_type": "stream",
     "text": [
      "Cython              brain_responses     locale              sklearn\n",
      "IPython             brain_scipy_signal  locket              smtpd\n",
      "OpenSSL             brain_six           logging             smtplib\n",
      "PIL                 brain_sqlalchemy    lxml                sndhdr\n",
      "PyQt5               brain_ssl           lzma                sniffio\n",
      "__future__          brain_subprocess    mailbox             snowballstemmer\n",
      "_abc                brain_threading     mailcap             socket\n",
      "_ast                brain_type          markupsafe          socketserver\n",
      "_asyncio            brain_typing        marshal             socks\n",
      "_bisect             brain_uuid          math                sockshandler\n",
      "_black_version      brotli              matplotlib          sortedcollections\n",
      "_blake2             bs4                 mccabe              sortedcontainers\n",
      "_bootlocale         builtins            menuinst            soupsieve\n",
      "_bz2                bz2                 mimetypes           sphinx\n",
      "_cffi_backend       cProfile            mistune             sphinxcontrib\n",
      "_codecs             calendar            mkl                 spyder\n",
      "_codecs_cn          certifi             mkl_fft             spyder_kernels\n",
      "_codecs_hk          cffi                mkl_random          sqlalchemy\n",
      "_codecs_iso2022     cgi                 mmap                sqlite3\n",
      "_codecs_jp          cgitb               mmapfile            sre_compile\n",
      "_codecs_kr          chardet             mmsystem            sre_constants\n",
      "_codecs_tw          chunk               mock                sre_parse\n",
      "_collections        click               modulefinder        ssl\n",
      "_collections_abc    cloudpickle         more_itertools      sspi\n",
      "_compat_pickle      clyent              mpmath              sspicon\n",
      "_compression        cmath               msgpack             stat\n",
      "_contextvars        cmd                 msilib              statistics\n",
      "_csv                code                msvcrt              statsmodels\n",
      "_ctypes             codecs              multipledispatch    storemagic\n",
      "_ctypes_test        codeop              multiprocessing     string\n",
      "_datetime           collections         mypy_extensions     stringprep\n",
      "_decimal            colorama            nacl                struct\n",
      "_distutils_hack     colorsys            navigator_updater   subprocess\n",
      "_dummy_thread       commctrl            nbclassic           sunau\n",
      "_elementtree        compileall          nbclient            symbol\n",
      "_functools          comtypes            nbconvert           sympy\n",
      "_hashlib            concurrent          nbformat            sympyprinting\n",
      "_heapq              conda               nest_asyncio        symtable\n",
      "_imp                conda_build         netbios             sys\n",
      "_io                 conda_content_trust netrc               sysconfig\n",
      "_json               conda_env           networkx            tables\n",
      "_locale             conda_package_handling nltk                tabnanny\n",
      "_lsprof             conda_token         nntplib             tarfile\n",
      "_lzma               conda_verify        nose                tblib\n",
      "_markupbase         configparser        notebook            telnetlib\n",
      "_md5                contextlib          nt                  tempfile\n",
      "_msi                contextlib2         ntpath              terminado\n",
      "_multibytecodec     contextvars         ntsecuritycon       test\n",
      "_multiprocessing    copy                nturl2path          test_data\n",
      "_nsis               copyreg             numba               test_pycosat\n",
      "_opcode             crypt               numbers             testpath\n",
      "_operator           cryptography        numexpr             tests\n",
      "_osx_support        csv                 numpy               textdistance\n",
      "_overlapped         ctypes              numpydoc            textwrap\n",
      "_pickle             curl                odbc                this\n",
      "_py_abc             curses              olefile             threading\n",
      "_pydecimal          cwp                 opcode              threadpoolctl\n",
      "_pyio               cycler              openpyxl            three_merge\n",
      "_pyrsistent_version cython              operator            tifffile\n",
      "_pytest             cythonmagic         optparse            time\n",
      "_queue              cytoolz             os                  timeit\n",
      "_random             dask                packaging           timer\n",
      "_sha1               dataclasses         pandas              tkinter\n",
      "_sha256             datetime            pandocfilters       tlz\n",
      "_sha3               dateutil            paramiko            token\n",
      "_sha512             dbi                 parser              tokenize\n",
      "_signal             dbm                 parso               toml\n",
      "_sitebuiltins       dde                 partd               toolz\n",
      "_socket             decimal             past                tornado\n",
      "_sqlite3            decorator           path                tqdm\n",
      "_sre                defusedxml          pathlib             trace\n",
      "_ssl                diff_match_patch    pathlib2            traceback\n",
      "_stat               difflib             pathspec            tracemalloc\n",
      "_statistics         dis                 patsy               traitlets\n",
      "_string             distributed         pdb                 tty\n",
      "_strptime           distutils           pep8                turtle\n",
      "_struct             doctest             perfmon             turtledemo\n",
      "_symtable           docutils            pexpect             typed_ast\n",
      "_system_path        dummy_threading     pickle              types\n",
      "_testbuffer         email               pickleshare         typing\n",
      "_testcapi           encodings           pickletools         typing_extensions\n",
      "_testconsole        ensurepip           pip                 ujson\n",
      "_testimportmultiple entrypoints         pipes               unicodecsv\n",
      "_testinternalcapi   enum                pkg_resources       unicodedata\n",
      "_testmultiphase     erfa                pkginfo             unittest\n",
      "_thread             errno               pkgutil             urllib\n",
      "_threading_local    et_xmlfile          platform            urllib3\n",
      "_tkinter            fastcache           plistlib            uu\n",
      "_tracemalloc        faulthandler        pluggy              uuid\n",
      "_warnings           filecmp             ply                 venv\n",
      "_weakref            fileinput           poplib              warnings\n",
      "_weakrefset         filelock            posixpath           watchdog\n",
      "_win32sysloader     flake8              pprint              wave\n",
      "_winapi             flask               profile             wcwidth\n",
      "_winxptheme         fnmatch             prometheus_client   weakref\n",
      "_xxsubinterpreters  formatter           prompt_toolkit      webbrowser\n",
      "_yaml               fractions           pstats              webencodings\n",
      "abc                 fsspec              psutil              werkzeug\n",
      "adodbapi            ftplib              pty                 wheel\n",
      "afxres              functools           ptyprocess          widgetsnbextension\n",
      "aifc                future              pvectorc            win2kras\n",
      "alabaster           gc                  py                  win32api\n",
      "anaconda_navigator  genericpath         py_compile          win32clipboard\n",
      "anaconda_project    getopt              pyclbr              win32com\n",
      "antigravity         getpass             pycodestyle         win32con\n",
      "anyio               gettext             pycosat             win32console\n",
      "appdirs             gevent              pycparser           win32cred\n",
      "argh                glob                pycurl              win32crypt\n",
      "argon2              glob2               pydoc               win32cryptcon\n",
      "argparse            greenlet            pydoc_data          win32ctypes\n",
      "array               gzip                pydocstyle          win32event\n",
      "asn1crypto          h5py                pyexpat             win32evtlog\n",
      "ast                 hashlib             pyflakes            win32evtlogutil\n",
      "astroid             heapdict            pygments            win32file\n",
      "astropy             heapq               pylab               win32gui\n",
      "async_generator     hmac                pylint              win32gui_struct\n",
      "asynchat            html                pyls                win32help\n",
      "asyncio             html5lib            pyls_black          win32inet\n",
      "asyncore            http                pyls_jsonrpc        win32inetcon\n",
      "atexit              idlelib             pyls_spyder         win32job\n",
      "atomicwrites        idna                pyodbc              win32lz\n",
      "attr                imagecodecs         pyparsing           win32net\n",
      "audioop             imageio             pyreadline          win32netcon\n",
      "autopep8            imagesize           pyrsistent          win32pdh\n",
      "autoreload          imaplib             pytest              win32pdhquery\n",
      "babel               imghdr              pythoncom           win32pdhutil\n",
      "backcall            imp                 pytz                win32pipe\n",
      "backports           importlib           pywin               win32print\n",
      "base64              importlib_metadata  pywin32_bootstrap   win32process\n",
      "bcrypt              iniconfig           pywin32_testutil    win32profile\n",
      "bdb                 inspect             pywintypes          win32ras\n",
      "binascii            intervaltree        pywt                win32rcparser\n",
      "binhex              io                  pyximport           win32security\n",
      "binstar_client      ipaddress           qdarkstyle          win32service\n",
      "bisect              ipykernel           qtawesome           win32serviceutil\n",
      "bitarray            ipykernel_launcher  qtconsole           win32timezone\n",
      "bkcharts            ipython_genutils    qtpy                win32trace\n",
      "black               ipywidgets          queue               win32traceutil\n",
      "blackd              isapi               quopri              win32transaction\n",
      "bleach              isort               random              win32ts\n",
      "blib2to3            isympy              rasutil             win32ui\n",
      "bokeh               itertools           re                  win32uiole\n",
      "boto                itsdangerous        readline            win32verstamp\n",
      "bottleneck          jdcal               regcheck            win32wnet\n",
      "brain_argparse      jedi                regex               win_inet_pton\n",
      "brain_attrs         jinja2              regutil             win_unicode_console\n",
      "brain_boto3         joblib              repo_cli            wincertstore\n",
      "brain_builtin_inference json                reprlib             winerror\n",
      "brain_collections   json5               requests            winioctlcon\n",
      "brain_crypt         jsonschema          rlcompleter         winnt\n",
      "brain_curses        jupyter             rmagic              winperf\n",
      "brain_dataclasses   jupyter_client      rope                winpty\n",
      "brain_dateutil      jupyter_console     rtree               winreg\n",
      "brain_fstrings      jupyter_contrib_core ruamel_yaml         winsound\n",
      "brain_functools     jupyter_contrib_nbextensions run                 winxpgui\n",
      "brain_gi            jupyter_core        runpy               winxptheme\n",
      "brain_hashlib       jupyter_highlight_selected_word sched               wrapt\n",
      "brain_http          jupyter_nbextensions_configurator scipy               wsgiref\n",
      "brain_hypothesis    jupyter_packaging   scripts             xdrlib\n",
      "brain_io            jupyter_server      seaborn             xlrd\n",
      "brain_mechanize     jupyterlab          secrets             xlsxwriter\n",
      "brain_multiprocessing jupyterlab_pygments select              xlwings\n",
      "brain_namedtuple_enum jupyterlab_server   selectors           xlwt\n",
      "brain_nose          jupyterlab_widgets  send2trash          xml\n",
      "brain_numpy_core_fromnumeric jupyterthemes       servicemanager      xmlrpc\n",
      "brain_numpy_core_function_base keyring             setuptools          xmltodict\n",
      "brain_numpy_core_multiarray keyword             shelve              xxsubtype\n",
      "brain_numpy_core_numeric kiwisolver          shlex               yaml\n",
      "brain_numpy_core_numerictypes latex_envs          shutil              yapf\n",
      "brain_numpy_core_umath lazy_object_proxy   signal              yapftests\n",
      "brain_numpy_ndarray lesscpy             simplegeneric       zict\n",
      "brain_numpy_random_mtrand lib2to3             singledispatch      zipapp\n",
      "brain_numpy_utils   libarchive          sip                 zipfile\n",
      "brain_pkg_resources libfuturize         sipconfig           zipimport\n",
      "brain_pytest        libpasteurize       sipdistutils        zipp\n",
      "brain_qt            lief                site                zlib\n",
      "brain_random        linecache           six                 zmq\n",
      "brain_re            llvmlite            skimage             zope\n",
      "\n",
      "Enter any module name to get more help.  Or, type \"modules spam\" to search\n",
      "for modules whose name or summary contain the string \"spam\".\n",
      "\n"
     ]
    }
   ],
   "source": [
    "help('modules')"
   ]
  },
  {
   "cell_type": "markdown",
   "id": "ca69f69f",
   "metadata": {},
   "source": [
    "##  Fibonaci Assignment - Section 7\n",
    "\n",
    "\n"
   ]
  },
  {
   "cell_type": "code",
   "execution_count": 17,
   "id": "eee235c3",
   "metadata": {},
   "outputs": [
    {
     "name": "stdout",
     "output_type": "stream",
     "text": [
      "Using loop method or rescursive method? >> [enter 'l' or 'r'] l\n",
      "Enter a number or 'q' to quit >> 2\n",
      "1\n",
      "Using loop method or rescursive method? >> [enter 'l' or 'r'] 3\n",
      "Using loop method or rescursive method? >> [enter 'l' or 'r'] 4\n",
      "Using loop method or rescursive method? >> [enter 'l' or 'r'] 5\n",
      "Using loop method or rescursive method? >> [enter 'l' or 'r'] 6\n",
      "Using loop method or rescursive method? >> [enter 'l' or 'r'] 7\n",
      "Using loop method or rescursive method? >> [enter 'l' or 'r'] 8\n",
      "Using loop method or rescursive method? >> [enter 'l' or 'r'] 9\n",
      "Using loop method or rescursive method? >> [enter 'l' or 'r'] r\n",
      "Enter a number or 'q' to quit >> q\n"
     ]
    },
    {
     "ename": "SystemExit",
     "evalue": "",
     "output_type": "error",
     "traceback": [
      "An exception has occurred, use %tb to see the full traceback.\n",
      "\u001b[1;31mSystemExit\u001b[0m\n"
     ]
    },
    {
     "name": "stderr",
     "output_type": "stream",
     "text": [
      "D:\\Anaconda\\lib\\site-packages\\IPython\\core\\interactiveshell.py:3445: UserWarning: To exit: use 'exit', 'quit', or Ctrl-D.\n",
      "  warn(\"To exit: use 'exit', 'quit', or Ctrl-D.\", stacklevel=1)\n"
     ]
    }
   ],
   "source": [
    "import sys\n",
    "                                            \n",
    "def new_fibonacci(n):\n",
    "    sequence = []\n",
    "    count = n\n",
    "    num1 = 0\n",
    "    num2 = 1\n",
    "    i = 1\n",
    "    while (i < count):\n",
    "        result = num1 + num2\n",
    "        num1 = num2\n",
    "        num2 = result\n",
    "        sequence.append(result)\n",
    "        i += 1\n",
    "    \n",
    "    return sequence[-1]\n",
    "\n",
    "def recursive_fibonacci(n):\n",
    "    if (n < 2):\n",
    "        return n\n",
    "    return recursive_fibonacci(n-1) + recursive_fibonacci(n-2)\n",
    " \n",
    "while True: \n",
    "    loop_or_rescursive = input(\"Using loop method or rescursive method? >> [enter 'l' or 'r'] \")\n",
    "    \n",
    "    if (loop_or_rescursive.lower() == 'r'):\n",
    "        response = input(\"Enter a number or 'q' to quit >> \")\n",
    "        if (response.lower() != 'q'):\n",
    "            print(recursive_fibonacci(int(response)))\n",
    "        else:\n",
    "            sys.exit()\n",
    "    if (loop_or_rescursive.lower() == 'l'):\n",
    "        response = input(\"Enter a number or 'q' to quit >> \")\n",
    "        if (response.lower() != 'q'):\n",
    "            print(new_fibonacci(int(response)))\n",
    "        else:\n",
    "            sys.exit()"
   ]
  },
  {
   "cell_type": "markdown",
   "id": "fc714d6d",
   "metadata": {},
   "source": [
    "##  Mad Libs - Section 7"
   ]
  },
  {
   "cell_type": "code",
   "execution_count": 18,
   "id": "b21bd863",
   "metadata": {},
   "outputs": [
    {
     "name": "stdout",
     "output_type": "stream",
     "text": [
      "Please enter an adjective >> a\n",
      "PLease enter another adjective >> b\n",
      "Please enter a noun >> cat\n",
      "Please enter a verb >> given\n",
      "Please enter an adjective >> ayam\n",
      "Please enter a noun >> da\n",
      "Please enter a name >> dog\n",
      "The a b cat given over the ayam da.\n",
      "I given Dog, but I didn't given the da.\n"
     ]
    }
   ],
   "source": [
    "ad0 = input(\"Please enter an adjective >> \")\n",
    "ad1 = input(\"PLease enter another adjective >> \")\n",
    "noun0 = input(\"Please enter a noun >> \")\n",
    "verb = input(\"Please enter a verb >> \") \n",
    "adj2 = input(\"Please enter an adjective >> \")\n",
    "noun1 = input(\"Please enter a noun >> \")\n",
    "name = input(\"Please enter a name >> \")\n",
    "\n",
    "name = name.title()\n",
    "\n",
    "print(\"The {} {} {} {} over the {} {}.\".format(ad0, ad1, noun0, verb, adj2, noun1))\n",
    "print(\"I {} {}, but I didn't {} the {}.\".format(verb, name, verb, noun1))"
   ]
  },
  {
   "cell_type": "code",
   "execution_count": null,
   "id": "fe90a173",
   "metadata": {},
   "outputs": [],
   "source": []
  }
 ],
 "metadata": {
  "kernelspec": {
   "display_name": "Python 3",
   "language": "python",
   "name": "python3"
  },
  "language_info": {
   "codemirror_mode": {
    "name": "ipython",
    "version": 3
   },
   "file_extension": ".py",
   "mimetype": "text/x-python",
   "name": "python",
   "nbconvert_exporter": "python",
   "pygments_lexer": "ipython3",
   "version": "3.8.8"
  },
  "varInspector": {
   "cols": {
    "lenName": 16,
    "lenType": 16,
    "lenVar": 40
   },
   "kernels_config": {
    "python": {
     "delete_cmd_postfix": "",
     "delete_cmd_prefix": "del ",
     "library": "var_list.py",
     "varRefreshCmd": "print(var_dic_list())"
    },
    "r": {
     "delete_cmd_postfix": ") ",
     "delete_cmd_prefix": "rm(",
     "library": "var_list.r",
     "varRefreshCmd": "cat(var_dic_list()) "
    }
   },
   "oldHeight": 122,
   "position": {
    "height": "40px",
    "left": "688px",
    "right": "20px",
    "top": "120px",
    "width": "250px"
   },
   "types_to_exclude": [
    "module",
    "function",
    "builtin_function_or_method",
    "instance",
    "_Feature"
   ],
   "varInspector_section_display": "none",
   "window_display": false
  }
 },
 "nbformat": 4,
 "nbformat_minor": 5
}
