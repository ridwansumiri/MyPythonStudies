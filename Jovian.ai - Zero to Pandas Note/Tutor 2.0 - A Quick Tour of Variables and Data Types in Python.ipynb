{
 "cells": [
  {
   "cell_type": "markdown",
   "id": "19126d63",
   "metadata": {},
   "source": [
    "## Storing information using variables\n",
    "\n",
    "Computers are useful for two purposes: storing information (also known as data) and performing operations on stored data. While working with a programming language such as Python, data is stored in variables. You can think of variables are containers for storing data. The data stored within a variable is called its value. \n"
   ]
  },
  {
   "cell_type": "code",
   "execution_count": 1,
   "id": "c36e3b5b",
   "metadata": {},
   "outputs": [],
   "source": [
    "my_favorite_color = \"blue\""
   ]
  },
  {
   "cell_type": "code",
   "execution_count": 3,
   "id": "433ca688",
   "metadata": {},
   "outputs": [
    {
     "data": {
      "text/plain": [
       "'blue'"
      ]
     },
     "execution_count": 3,
     "metadata": {},
     "output_type": "execute_result"
    }
   ],
   "source": [
    "my_favorite_color"
   ]
  },
  {
   "cell_type": "markdown",
   "id": "3ca76837",
   "metadata": {},
   "source": [
    "A variable is created using an assignment statement. It begins with the variable's name, followed by the assignment operator `=` followed by the value to be stored within the variable.  Note that the assignment operator `=` is different from the equality comparison operator `==`.\n",
    "\n",
    "You can also assign values to multiple variables in a single statement by separating the variable names and values with commas."
   ]
  },
  {
   "cell_type": "code",
   "execution_count": 4,
   "id": "946e97b9",
   "metadata": {},
   "outputs": [],
   "source": [
    "color1, color2, color3 = \"red\", \"green\", \"blue\""
   ]
  },
  {
   "cell_type": "code",
   "execution_count": 5,
   "id": "b12c33cc",
   "metadata": {},
   "outputs": [
    {
     "data": {
      "text/plain": [
       "'red'"
      ]
     },
     "execution_count": 5,
     "metadata": {},
     "output_type": "execute_result"
    }
   ],
   "source": [
    "color1"
   ]
  },
  {
   "cell_type": "code",
   "execution_count": 6,
   "id": "98bb0ac4",
   "metadata": {},
   "outputs": [
    {
     "data": {
      "text/plain": [
       "'green'"
      ]
     },
     "execution_count": 6,
     "metadata": {},
     "output_type": "execute_result"
    }
   ],
   "source": [
    "color2"
   ]
  },
  {
   "cell_type": "code",
   "execution_count": 7,
   "id": "81ab5622",
   "metadata": {},
   "outputs": [
    {
     "data": {
      "text/plain": [
       "'blue'"
      ]
     },
     "execution_count": 7,
     "metadata": {},
     "output_type": "execute_result"
    }
   ],
   "source": [
    "color3"
   ]
  },
  {
   "cell_type": "markdown",
   "id": "b989f30c",
   "metadata": {},
   "source": [
    "You can assign the same value to multiple variables by chaining multiple assignment operations within a single statement."
   ]
  },
  {
   "cell_type": "code",
   "execution_count": 8,
   "id": "1fc8d015",
   "metadata": {},
   "outputs": [],
   "source": [
    "color4 = color5 = color6 = \"magenta\""
   ]
  },
  {
   "cell_type": "code",
   "execution_count": 9,
   "id": "8e8e08df",
   "metadata": {},
   "outputs": [
    {
     "data": {
      "text/plain": [
       "'magenta'"
      ]
     },
     "execution_count": 9,
     "metadata": {},
     "output_type": "execute_result"
    }
   ],
   "source": [
    "color4"
   ]
  },
  {
   "cell_type": "code",
   "execution_count": 10,
   "id": "2c8e7b4b",
   "metadata": {},
   "outputs": [
    {
     "data": {
      "text/plain": [
       "'magenta'"
      ]
     },
     "execution_count": 10,
     "metadata": {},
     "output_type": "execute_result"
    }
   ],
   "source": [
    "color5"
   ]
  },
  {
   "cell_type": "code",
   "execution_count": 11,
   "id": "4ca728b6",
   "metadata": {},
   "outputs": [
    {
     "data": {
      "text/plain": [
       "'magenta'"
      ]
     },
     "execution_count": 11,
     "metadata": {},
     "output_type": "execute_result"
    }
   ],
   "source": [
    "color5"
   ]
  },
  {
   "cell_type": "code",
   "execution_count": 12,
   "id": "07d54e33",
   "metadata": {},
   "outputs": [
    {
     "data": {
      "text/plain": [
       "'magenta'"
      ]
     },
     "execution_count": 12,
     "metadata": {},
     "output_type": "execute_result"
    }
   ],
   "source": [
    "color6"
   ]
  },
  {
   "cell_type": "markdown",
   "id": "3561f7e6",
   "metadata": {},
   "source": [
    "You can change the value stored within a variable by assigning a new value to it using another assignment statement. Be careful while reassigning variables: when you assign a new value to the variable, the old value is lost and no longer accessible."
   ]
  },
  {
   "cell_type": "code",
   "execution_count": 13,
   "id": "7b813c88",
   "metadata": {},
   "outputs": [],
   "source": [
    "my_favorite_color = \"red\""
   ]
  },
  {
   "cell_type": "code",
   "execution_count": 14,
   "id": "4ef323f6",
   "metadata": {},
   "outputs": [
    {
     "data": {
      "text/plain": [
       "'red'"
      ]
     },
     "execution_count": 14,
     "metadata": {},
     "output_type": "execute_result"
    }
   ],
   "source": [
    "my_favorite_color"
   ]
  },
  {
   "cell_type": "markdown",
   "id": "135dc6ea",
   "metadata": {},
   "source": [
    "While reassigning a variable, you can also use the variable's previous value to compute the new value."
   ]
  },
  {
   "cell_type": "code",
   "execution_count": 15,
   "id": "fe67d27c",
   "metadata": {},
   "outputs": [],
   "source": [
    "counter = 10"
   ]
  },
  {
   "cell_type": "code",
   "execution_count": 16,
   "id": "dd7eb8a2",
   "metadata": {},
   "outputs": [],
   "source": [
    "counter = counter + 1"
   ]
  },
  {
   "cell_type": "code",
   "execution_count": 17,
   "id": "aec7e22d",
   "metadata": {},
   "outputs": [
    {
     "data": {
      "text/plain": [
       "11"
      ]
     },
     "execution_count": 17,
     "metadata": {},
     "output_type": "execute_result"
    }
   ],
   "source": [
    "counter"
   ]
  },
  {
   "cell_type": "markdown",
   "id": "412968c0",
   "metadata": {},
   "source": [
    "The pattern `var = var op something` (where `op` is an arithmetic operator like `+`, `-`, `*`, `/`) is very common, so Python provides a *shorthand* syntax for it."
   ]
  },
  {
   "cell_type": "code",
   "execution_count": 18,
   "id": "19a450ff",
   "metadata": {},
   "outputs": [],
   "source": [
    "counter = 10"
   ]
  },
  {
   "cell_type": "code",
   "execution_count": 19,
   "id": "0d190770",
   "metadata": {},
   "outputs": [],
   "source": [
    "# Same as `counter = counter + 4`\n",
    "counter += 4"
   ]
  },
  {
   "cell_type": "code",
   "execution_count": 20,
   "id": "d941abe4",
   "metadata": {},
   "outputs": [
    {
     "data": {
      "text/plain": [
       "14"
      ]
     },
     "execution_count": 20,
     "metadata": {},
     "output_type": "execute_result"
    }
   ],
   "source": [
    "counter"
   ]
  },
  {
   "cell_type": "markdown",
   "id": "23cbbf1a",
   "metadata": {},
   "source": [
    "Variable names can be short (`a`, `x`, `y`, etc.) or descriptive ( `my_favorite_color`, `profit_margin`, `the_3_musketeers`, etc.). However, you must follow these rules while naming Python variables:\n",
    "\n",
    "* A variable's name must start with a letter or the underscore character `_`. It cannot begin with a number.\n",
    "* A variable name can only contain lowercase (small) or uppercase (capital) letters, digits, or underscores (`a`-`z`, `A`-`Z`, `0`-`9`, and `_`).\n",
    "* Variable names are case-sensitive, i.e., `a_variable`, `A_Variable`, and `A_VARIABLE` are all different variables.\n",
    "\n",
    "Here are some valid variable names:"
   ]
  },
  {
   "cell_type": "code",
   "execution_count": 21,
   "id": "77255000",
   "metadata": {},
   "outputs": [],
   "source": [
    "a_variable = 23\n",
    "is_today_Saturday = False\n",
    "my_favorite_car = \"Delorean\"\n",
    "the_3_musketeers = [\"Athos\", \"Porthos\", \"Aramis\"] "
   ]
  },
  {
   "cell_type": "markdown",
   "id": "e5a26824",
   "metadata": {},
   "source": [
    "Let's try creating some variables with invalid names. Python prints a syntax error if your variable's name is invalid.\n",
    "\n",
    "> **Syntax**: The syntax of a programming language refers to the rules that govern the structure of a valid instruction or *statement*. If a statement does not follow these rules, Python stops execution and informs you that there is a *syntax error*. You can think of syntax as the rules of grammar for a programming language."
   ]
  },
  {
   "cell_type": "code",
   "execution_count": 22,
   "id": "72d71d7f",
   "metadata": {},
   "outputs": [
    {
     "ename": "SyntaxError",
     "evalue": "invalid syntax (<ipython-input-22-b4f9daa715a5>, line 1)",
     "output_type": "error",
     "traceback": [
      "\u001b[1;36m  File \u001b[1;32m\"<ipython-input-22-b4f9daa715a5>\"\u001b[1;36m, line \u001b[1;32m1\u001b[0m\n\u001b[1;33m    a variable = 23\u001b[0m\n\u001b[1;37m      ^\u001b[0m\n\u001b[1;31mSyntaxError\u001b[0m\u001b[1;31m:\u001b[0m invalid syntax\n"
     ]
    }
   ],
   "source": [
    "a variable = 23"
   ]
  },
  {
   "cell_type": "code",
   "execution_count": 23,
   "id": "328b2c8c",
   "metadata": {},
   "outputs": [
    {
     "ename": "SyntaxError",
     "evalue": "invalid syntax (<ipython-input-23-3785425ca227>, line 1)",
     "output_type": "error",
     "traceback": [
      "\u001b[1;36m  File \u001b[1;32m\"<ipython-input-23-3785425ca227>\"\u001b[1;36m, line \u001b[1;32m1\u001b[0m\n\u001b[1;33m    is_today_$aturday = False\u001b[0m\n\u001b[1;37m             ^\u001b[0m\n\u001b[1;31mSyntaxError\u001b[0m\u001b[1;31m:\u001b[0m invalid syntax\n"
     ]
    }
   ],
   "source": [
    "is_today_$aturday = False"
   ]
  },
  {
   "cell_type": "code",
   "execution_count": 24,
   "id": "abc22d14",
   "metadata": {},
   "outputs": [
    {
     "ename": "SyntaxError",
     "evalue": "cannot assign to operator (<ipython-input-24-829f5ed5b10b>, line 1)",
     "output_type": "error",
     "traceback": [
      "\u001b[1;36m  File \u001b[1;32m\"<ipython-input-24-829f5ed5b10b>\"\u001b[1;36m, line \u001b[1;32m1\u001b[0m\n\u001b[1;33m    my-favorite-car = \"Delorean\"\u001b[0m\n\u001b[1;37m    ^\u001b[0m\n\u001b[1;31mSyntaxError\u001b[0m\u001b[1;31m:\u001b[0m cannot assign to operator\n"
     ]
    }
   ],
   "source": [
    "my-favorite-car = \"Delorean\""
   ]
  },
  {
   "cell_type": "markdown",
   "id": "dbb1fb6f",
   "metadata": {},
   "source": [
    "## Built-in data types in Python\n",
    "\n",
    "Any data or information stored within a Python variable has a *type*. You can view the type of data stored within a variable using the `type` function."
   ]
  },
  {
   "cell_type": "code",
   "execution_count": 25,
   "id": "de49d5a2",
   "metadata": {},
   "outputs": [
    {
     "data": {
      "text/plain": [
       "23"
      ]
     },
     "execution_count": 25,
     "metadata": {},
     "output_type": "execute_result"
    }
   ],
   "source": [
    "a_variable"
   ]
  },
  {
   "cell_type": "code",
   "execution_count": 26,
   "id": "fc239289",
   "metadata": {},
   "outputs": [
    {
     "data": {
      "text/plain": [
       "int"
      ]
     },
     "execution_count": 26,
     "metadata": {},
     "output_type": "execute_result"
    }
   ],
   "source": [
    "type(a_variable)"
   ]
  },
  {
   "cell_type": "code",
   "execution_count": 27,
   "id": "03a69d4d",
   "metadata": {},
   "outputs": [
    {
     "data": {
      "text/plain": [
       "False"
      ]
     },
     "execution_count": 27,
     "metadata": {},
     "output_type": "execute_result"
    }
   ],
   "source": [
    "is_today_Saturday"
   ]
  },
  {
   "cell_type": "code",
   "execution_count": 28,
   "id": "a64eaaef",
   "metadata": {},
   "outputs": [
    {
     "data": {
      "text/plain": [
       "bool"
      ]
     },
     "execution_count": 28,
     "metadata": {},
     "output_type": "execute_result"
    }
   ],
   "source": [
    "type(is_today_Saturday)"
   ]
  },
  {
   "cell_type": "code",
   "execution_count": 29,
   "id": "5d74c07f",
   "metadata": {},
   "outputs": [
    {
     "data": {
      "text/plain": [
       "'Delorean'"
      ]
     },
     "execution_count": 29,
     "metadata": {},
     "output_type": "execute_result"
    }
   ],
   "source": [
    "my_favorite_car"
   ]
  },
  {
   "cell_type": "code",
   "execution_count": 30,
   "id": "a62945b5",
   "metadata": {},
   "outputs": [
    {
     "data": {
      "text/plain": [
       "str"
      ]
     },
     "execution_count": 30,
     "metadata": {},
     "output_type": "execute_result"
    }
   ],
   "source": [
    "type(my_favorite_car)"
   ]
  },
  {
   "cell_type": "code",
   "execution_count": 31,
   "id": "e62ca7ec",
   "metadata": {},
   "outputs": [
    {
     "data": {
      "text/plain": [
       "['Athos', 'Porthos', 'Aramis']"
      ]
     },
     "execution_count": 31,
     "metadata": {},
     "output_type": "execute_result"
    }
   ],
   "source": [
    "the_3_musketeers"
   ]
  },
  {
   "cell_type": "code",
   "execution_count": 32,
   "id": "4ad7e7c0",
   "metadata": {},
   "outputs": [
    {
     "data": {
      "text/plain": [
       "list"
      ]
     },
     "execution_count": 32,
     "metadata": {},
     "output_type": "execute_result"
    }
   ],
   "source": [
    "type(the_3_musketeers)"
   ]
  },
  {
   "cell_type": "markdown",
   "id": "5b62d8af",
   "metadata": {},
   "source": [
    "Python has several built-in data types for storing different kinds of information in variables. Following are some commonly used data types:\n",
    "\n",
    "1. Integer\n",
    "2. Float\n",
    "3. Boolean\n",
    "4. None\n",
    "5. String\n",
    "6. List\n",
    "7. Tuple\n",
    "8. Dictionary\n",
    "\n",
    "Integer, float, boolean, None, and string are *primitive data types* because they represent a single value. Other data types like list, tuple, and dictionary are often called *data structures* or *containers* because they hold multiple pieces of data together."
   ]
  },
  {
   "cell_type": "markdown",
   "id": "72f176c5",
   "metadata": {},
   "source": [
    "### Integer\n",
    "\n",
    "Integers represent positive or negative whole numbers, from negative infinity to infinity. Note that integers should not include decimal points. Integers have the type `int`."
   ]
  },
  {
   "cell_type": "code",
   "execution_count": 34,
   "id": "19be1c24",
   "metadata": {},
   "outputs": [],
   "source": [
    "current_year = 2020"
   ]
  },
  {
   "cell_type": "code",
   "execution_count": 35,
   "id": "ab4b9b18",
   "metadata": {},
   "outputs": [
    {
     "data": {
      "text/plain": [
       "2020"
      ]
     },
     "execution_count": 35,
     "metadata": {},
     "output_type": "execute_result"
    }
   ],
   "source": [
    "current_year"
   ]
  },
  {
   "cell_type": "code",
   "execution_count": 36,
   "id": "178a0303",
   "metadata": {},
   "outputs": [
    {
     "data": {
      "text/plain": [
       "int"
      ]
     },
     "execution_count": 36,
     "metadata": {},
     "output_type": "execute_result"
    }
   ],
   "source": [
    "type(current_year)"
   ]
  },
  {
   "cell_type": "code",
   "execution_count": 37,
   "id": "829188a7",
   "metadata": {},
   "outputs": [
    {
     "data": {
      "text/plain": [
       "int"
      ]
     },
     "execution_count": 37,
     "metadata": {},
     "output_type": "execute_result"
    }
   ],
   "source": [
    "type(current_year)"
   ]
  },
  {
   "cell_type": "markdown",
   "id": "163de8d0",
   "metadata": {},
   "source": [
    "Unlike some other programming languages, integers in Python can be arbitrarily large (or small). There's no lowest or highest value for integers, and there's just one `int` type (as opposed to `short`, `int`, `long`, `long long`, `unsigned int`, etc. in C/C++/Java)."
   ]
  },
  {
   "cell_type": "code",
   "execution_count": 38,
   "id": "efbd57a8",
   "metadata": {},
   "outputs": [],
   "source": [
    "a_large_negative_number = -23374038374832934334234317348343"
   ]
  },
  {
   "cell_type": "code",
   "execution_count": 39,
   "id": "632c8a0b",
   "metadata": {},
   "outputs": [
    {
     "data": {
      "text/plain": [
       "-23374038374832934334234317348343"
      ]
     },
     "execution_count": 39,
     "metadata": {},
     "output_type": "execute_result"
    }
   ],
   "source": [
    "a_large_negative_number"
   ]
  },
  {
   "cell_type": "code",
   "execution_count": 40,
   "id": "9d1b3b2d",
   "metadata": {},
   "outputs": [
    {
     "data": {
      "text/plain": [
       "int"
      ]
     },
     "execution_count": 40,
     "metadata": {},
     "output_type": "execute_result"
    }
   ],
   "source": [
    "type(a_large_negative_number)"
   ]
  },
  {
   "cell_type": "markdown",
   "id": "e650c142",
   "metadata": {},
   "source": [
    "### Float\n",
    "\n",
    "Floats (or floating-point numbers) are numbers with a decimal point. There are no limits on the value or the number of digits before or after the decimal point. Floating-point numbers have the type `float`.ipynb_checkpoints/"
   ]
  },
  {
   "cell_type": "code",
   "execution_count": 41,
   "id": "6fe7e3d1",
   "metadata": {},
   "outputs": [],
   "source": [
    "pi = 3.141592653589793238"
   ]
  },
  {
   "cell_type": "code",
   "execution_count": 42,
   "id": "114f1f6f",
   "metadata": {},
   "outputs": [
    {
     "data": {
      "text/plain": [
       "3.141592653589793"
      ]
     },
     "execution_count": 42,
     "metadata": {},
     "output_type": "execute_result"
    }
   ],
   "source": [
    "pi"
   ]
  },
  {
   "cell_type": "code",
   "execution_count": 43,
   "id": "19fcb2e7",
   "metadata": {},
   "outputs": [
    {
     "data": {
      "text/plain": [
       "float"
      ]
     },
     "execution_count": 43,
     "metadata": {},
     "output_type": "execute_result"
    }
   ],
   "source": [
    "type(pi)"
   ]
  },
  {
   "cell_type": "markdown",
   "id": "b8342ee5",
   "metadata": {},
   "source": [
    "Note that a whole number is treated as a float if written with a decimal point, even though the decimal portion of the number is zero."
   ]
  },
  {
   "cell_type": "code",
   "execution_count": 44,
   "id": "0a031462",
   "metadata": {},
   "outputs": [],
   "source": [
    "a_number = 3.0"
   ]
  },
  {
   "cell_type": "code",
   "execution_count": 45,
   "id": "95edbfe8",
   "metadata": {},
   "outputs": [
    {
     "data": {
      "text/plain": [
       "3.0"
      ]
     },
     "execution_count": 45,
     "metadata": {},
     "output_type": "execute_result"
    }
   ],
   "source": [
    "a_number"
   ]
  },
  {
   "cell_type": "code",
   "execution_count": 46,
   "id": "3f079a35",
   "metadata": {},
   "outputs": [
    {
     "data": {
      "text/plain": [
       "float"
      ]
     },
     "execution_count": 46,
     "metadata": {},
     "output_type": "execute_result"
    }
   ],
   "source": [
    "type(a_number)"
   ]
  },
  {
   "cell_type": "code",
   "execution_count": 48,
   "id": "8edaccbc",
   "metadata": {},
   "outputs": [],
   "source": [
    "another_number = 4."
   ]
  },
  {
   "cell_type": "code",
   "execution_count": 49,
   "id": "bd31b21d",
   "metadata": {},
   "outputs": [
    {
     "data": {
      "text/plain": [
       "4.0"
      ]
     },
     "execution_count": 49,
     "metadata": {},
     "output_type": "execute_result"
    }
   ],
   "source": [
    "another_number"
   ]
  },
  {
   "cell_type": "code",
   "execution_count": 50,
   "id": "7accf60d",
   "metadata": {},
   "outputs": [
    {
     "data": {
      "text/plain": [
       "float"
      ]
     },
     "execution_count": 50,
     "metadata": {},
     "output_type": "execute_result"
    }
   ],
   "source": [
    "type(another_number)"
   ]
  },
  {
   "cell_type": "markdown",
   "id": "f0c76636",
   "metadata": {},
   "source": [
    "Floating point numbers can also be written using the scientific notation with an \"e\" to indicate the power of 10."
   ]
  },
  {
   "cell_type": "code",
   "execution_count": 51,
   "id": "96d8bec3",
   "metadata": {},
   "outputs": [],
   "source": [
    "one_hundredth = 1e-2"
   ]
  },
  {
   "cell_type": "code",
   "execution_count": 52,
   "id": "a47883e9",
   "metadata": {},
   "outputs": [
    {
     "data": {
      "text/plain": [
       "0.01"
      ]
     },
     "execution_count": 52,
     "metadata": {},
     "output_type": "execute_result"
    }
   ],
   "source": [
    "one_hundredth"
   ]
  },
  {
   "cell_type": "code",
   "execution_count": 53,
   "id": "2711242c",
   "metadata": {},
   "outputs": [
    {
     "data": {
      "text/plain": [
       "float"
      ]
     },
     "execution_count": 53,
     "metadata": {},
     "output_type": "execute_result"
    }
   ],
   "source": [
    "type(one_hundredth)"
   ]
  },
  {
   "cell_type": "code",
   "execution_count": 54,
   "id": "e1e72889",
   "metadata": {},
   "outputs": [],
   "source": [
    "avogadro_number = 6.02214076e23"
   ]
  },
  {
   "cell_type": "code",
   "execution_count": 55,
   "id": "1ed67657",
   "metadata": {},
   "outputs": [
    {
     "data": {
      "text/plain": [
       "6.02214076e+23"
      ]
     },
     "execution_count": 55,
     "metadata": {},
     "output_type": "execute_result"
    }
   ],
   "source": [
    "avogadro_number"
   ]
  },
  {
   "cell_type": "code",
   "execution_count": 56,
   "id": "d5778239",
   "metadata": {},
   "outputs": [
    {
     "data": {
      "text/plain": [
       "float"
      ]
     },
     "execution_count": 56,
     "metadata": {},
     "output_type": "execute_result"
    }
   ],
   "source": [
    "type(avogadro_number)"
   ]
  },
  {
   "cell_type": "markdown",
   "id": "bae14224",
   "metadata": {},
   "source": [
    "You can convert floats into integers and vice versa using the `float` and `int` functions. The operation of converting one type of value into another is called casting."
   ]
  },
  {
   "cell_type": "code",
   "execution_count": 57,
   "id": "45d8cb1c",
   "metadata": {},
   "outputs": [
    {
     "data": {
      "text/plain": [
       "2020.0"
      ]
     },
     "execution_count": 57,
     "metadata": {},
     "output_type": "execute_result"
    }
   ],
   "source": [
    "\n",
    "float(current_year)"
   ]
  },
  {
   "cell_type": "code",
   "execution_count": 58,
   "id": "bdf0e3e4",
   "metadata": {},
   "outputs": [
    {
     "data": {
      "text/plain": [
       "-2.3374038374832935e+31"
      ]
     },
     "execution_count": 58,
     "metadata": {},
     "output_type": "execute_result"
    }
   ],
   "source": [
    "float(a_large_negative_number)"
   ]
  },
  {
   "cell_type": "code",
   "execution_count": 59,
   "id": "0121ff0d",
   "metadata": {},
   "outputs": [
    {
     "data": {
      "text/plain": [
       "3"
      ]
     },
     "execution_count": 59,
     "metadata": {},
     "output_type": "execute_result"
    }
   ],
   "source": [
    "int(pi)"
   ]
  },
  {
   "cell_type": "code",
   "execution_count": 60,
   "id": "60ed3575",
   "metadata": {},
   "outputs": [
    {
     "data": {
      "text/plain": [
       "602214075999999987023872"
      ]
     },
     "execution_count": 60,
     "metadata": {},
     "output_type": "execute_result"
    }
   ],
   "source": [
    "int(avogadro_number)"
   ]
  },
  {
   "cell_type": "markdown",
   "id": "35ee6736",
   "metadata": {},
   "source": [
    "While performing arithmetic operations, integers are automatically converted to `float`s if any of the operands is a `float`. Also, the division operator `/` always returns a `float`, even if both operands are integers. Use the `//` operator if you want the result of the division to be an `int`."
   ]
  },
  {
   "cell_type": "code",
   "execution_count": 61,
   "id": "c881a228",
   "metadata": {},
   "outputs": [
    {
     "data": {
      "text/plain": [
       "float"
      ]
     },
     "execution_count": 61,
     "metadata": {},
     "output_type": "execute_result"
    }
   ],
   "source": [
    "type(45 * 3.0)"
   ]
  },
  {
   "cell_type": "code",
   "execution_count": 62,
   "id": "ea43e894",
   "metadata": {},
   "outputs": [
    {
     "data": {
      "text/plain": [
       "int"
      ]
     },
     "execution_count": 62,
     "metadata": {},
     "output_type": "execute_result"
    }
   ],
   "source": [
    "type(45 * 3)"
   ]
  },
  {
   "cell_type": "code",
   "execution_count": 63,
   "id": "97af94d3",
   "metadata": {},
   "outputs": [
    {
     "data": {
      "text/plain": [
       "float"
      ]
     },
     "execution_count": 63,
     "metadata": {},
     "output_type": "execute_result"
    }
   ],
   "source": [
    "type(10/3)"
   ]
  },
  {
   "cell_type": "code",
   "execution_count": 64,
   "id": "6d766c99",
   "metadata": {},
   "outputs": [
    {
     "data": {
      "text/plain": [
       "float"
      ]
     },
     "execution_count": 64,
     "metadata": {},
     "output_type": "execute_result"
    }
   ],
   "source": [
    "type(10/2)"
   ]
  },
  {
   "cell_type": "code",
   "execution_count": 65,
   "id": "c1dc7f79",
   "metadata": {},
   "outputs": [
    {
     "data": {
      "text/plain": [
       "float"
      ]
     },
     "execution_count": 65,
     "metadata": {},
     "output_type": "execute_result"
    }
   ],
   "source": [
    "type(10/2)"
   ]
  },
  {
   "cell_type": "code",
   "execution_count": 66,
   "id": "a4e6cccb",
   "metadata": {},
   "outputs": [
    {
     "data": {
      "text/plain": [
       "int"
      ]
     },
     "execution_count": 66,
     "metadata": {},
     "output_type": "execute_result"
    }
   ],
   "source": [
    "type(10//2)"
   ]
  },
  {
   "cell_type": "markdown",
   "id": "2db9ad93",
   "metadata": {},
   "source": [
    "### Boolean\n",
    "\n",
    "Booleans represent one of 2 values: `True` and `False`. Booleans have the type `bool`.ipynb_checkpoints/"
   ]
  },
  {
   "cell_type": "code",
   "execution_count": 67,
   "id": "47ec07e7",
   "metadata": {},
   "outputs": [],
   "source": [
    "is_today_Sunday = True"
   ]
  },
  {
   "cell_type": "code",
   "execution_count": 68,
   "id": "35479198",
   "metadata": {},
   "outputs": [
    {
     "data": {
      "text/plain": [
       "True"
      ]
     },
     "execution_count": 68,
     "metadata": {},
     "output_type": "execute_result"
    }
   ],
   "source": [
    "is_today_Sunday"
   ]
  },
  {
   "cell_type": "code",
   "execution_count": 69,
   "id": "2eaa2435",
   "metadata": {},
   "outputs": [
    {
     "data": {
      "text/plain": [
       "bool"
      ]
     },
     "execution_count": 69,
     "metadata": {},
     "output_type": "execute_result"
    }
   ],
   "source": [
    "type(is_today_Saturday)"
   ]
  },
  {
   "cell_type": "markdown",
   "id": "ef61d354",
   "metadata": {},
   "source": [
    "Booleans are generally the result of a comparison operation, e.g., `==`, `>=`, etc."
   ]
  },
  {
   "cell_type": "code",
   "execution_count": 70,
   "id": "e8cb7f6b",
   "metadata": {},
   "outputs": [],
   "source": [
    "cost_of_ice_bag = 1.25\n",
    "is_ice_bag_expensive = cost_of_ice_bag >= 10"
   ]
  },
  {
   "cell_type": "code",
   "execution_count": 71,
   "id": "7abdae73",
   "metadata": {},
   "outputs": [
    {
     "data": {
      "text/plain": [
       "False"
      ]
     },
     "execution_count": 71,
     "metadata": {},
     "output_type": "execute_result"
    }
   ],
   "source": [
    "is_ice_bag_expensive"
   ]
  },
  {
   "cell_type": "code",
   "execution_count": 72,
   "id": "4158a611",
   "metadata": {},
   "outputs": [
    {
     "data": {
      "text/plain": [
       "bool"
      ]
     },
     "execution_count": 72,
     "metadata": {},
     "output_type": "execute_result"
    }
   ],
   "source": [
    "type(is_ice_bag_expensive)"
   ]
  },
  {
   "cell_type": "markdown",
   "id": "2fd15b05",
   "metadata": {},
   "source": [
    "Booleans are automatically converted to `int`s when used in arithmetic operations. `True` is converted to `1` and `False` is converted to `0`."
   ]
  },
  {
   "cell_type": "code",
   "execution_count": 73,
   "id": "8bf46786",
   "metadata": {},
   "outputs": [
    {
     "data": {
      "text/plain": [
       "5"
      ]
     },
     "execution_count": 73,
     "metadata": {},
     "output_type": "execute_result"
    }
   ],
   "source": [
    "5 + False"
   ]
  },
  {
   "cell_type": "code",
   "execution_count": 74,
   "id": "4be88fd6",
   "metadata": {},
   "outputs": [
    {
     "data": {
      "text/plain": [
       "4.0"
      ]
     },
     "execution_count": 74,
     "metadata": {},
     "output_type": "execute_result"
    }
   ],
   "source": [
    "3. + True"
   ]
  },
  {
   "cell_type": "markdown",
   "id": "ecd0fafe",
   "metadata": {},
   "source": [
    "Any value in Python can be converted to a Boolean using the `bool` function. \n",
    "\n",
    "Only the following values evaluate to `False` (they are often called *falsy* values):\n",
    "\n",
    "1. The value `False` itself\n",
    "2. The integer `0`\n",
    "3. The float `0.0`\n",
    "4. The empty value `None`\n",
    "5. The empty text `\"\"`\n",
    "6. The empty list `[]`\n",
    "7. The empty tuple `()`\n",
    "8. The empty dictionary `{}`\n",
    "9. The empty set `set()`\n",
    "10. The empty range `range(0)`\n",
    "\n",
    "Everything else evaluates to `True` (a value that evaluates to `True` is often called a *truthy* value)."
   ]
  },
  {
   "cell_type": "code",
   "execution_count": 75,
   "id": "7fe90a27",
   "metadata": {},
   "outputs": [
    {
     "data": {
      "text/plain": [
       "False"
      ]
     },
     "execution_count": 75,
     "metadata": {},
     "output_type": "execute_result"
    }
   ],
   "source": [
    "bool(False)"
   ]
  },
  {
   "cell_type": "code",
   "execution_count": 76,
   "id": "3ef00817",
   "metadata": {},
   "outputs": [
    {
     "data": {
      "text/plain": [
       "False"
      ]
     },
     "execution_count": 76,
     "metadata": {},
     "output_type": "execute_result"
    }
   ],
   "source": [
    "bool(0)"
   ]
  },
  {
   "cell_type": "code",
   "execution_count": 77,
   "id": "1d7f124a",
   "metadata": {},
   "outputs": [
    {
     "data": {
      "text/plain": [
       "False"
      ]
     },
     "execution_count": 77,
     "metadata": {},
     "output_type": "execute_result"
    }
   ],
   "source": [
    "bool(0.0)"
   ]
  },
  {
   "cell_type": "code",
   "execution_count": 78,
   "id": "ef029450",
   "metadata": {},
   "outputs": [
    {
     "data": {
      "text/plain": [
       "False"
      ]
     },
     "execution_count": 78,
     "metadata": {},
     "output_type": "execute_result"
    }
   ],
   "source": [
    "bool(None)"
   ]
  },
  {
   "cell_type": "code",
   "execution_count": 79,
   "id": "e736c861",
   "metadata": {},
   "outputs": [
    {
     "data": {
      "text/plain": [
       "False"
      ]
     },
     "execution_count": 79,
     "metadata": {},
     "output_type": "execute_result"
    }
   ],
   "source": [
    "bool(\"\")"
   ]
  },
  {
   "cell_type": "code",
   "execution_count": 81,
   "id": "84bae379",
   "metadata": {},
   "outputs": [
    {
     "data": {
      "text/plain": [
       "False"
      ]
     },
     "execution_count": 81,
     "metadata": {},
     "output_type": "execute_result"
    }
   ],
   "source": [
    "bool(())"
   ]
  },
  {
   "cell_type": "code",
   "execution_count": 82,
   "id": "c9b8f0f8",
   "metadata": {},
   "outputs": [
    {
     "data": {
      "text/plain": [
       "False"
      ]
     },
     "execution_count": 82,
     "metadata": {},
     "output_type": "execute_result"
    }
   ],
   "source": [
    "bool([])"
   ]
  },
  {
   "cell_type": "code",
   "execution_count": 83,
   "id": "3ad8900c",
   "metadata": {},
   "outputs": [
    {
     "data": {
      "text/plain": [
       "False"
      ]
     },
     "execution_count": 83,
     "metadata": {},
     "output_type": "execute_result"
    }
   ],
   "source": [
    "bool({})"
   ]
  },
  {
   "cell_type": "code",
   "execution_count": 84,
   "id": "5c115113",
   "metadata": {},
   "outputs": [
    {
     "data": {
      "text/plain": [
       "False"
      ]
     },
     "execution_count": 84,
     "metadata": {},
     "output_type": "execute_result"
    }
   ],
   "source": [
    "bool(set())"
   ]
  },
  {
   "cell_type": "code",
   "execution_count": 85,
   "id": "33ade763",
   "metadata": {},
   "outputs": [
    {
     "data": {
      "text/plain": [
       "False"
      ]
     },
     "execution_count": 85,
     "metadata": {},
     "output_type": "execute_result"
    }
   ],
   "source": [
    "bool(range(0))"
   ]
  },
  {
   "cell_type": "code",
   "execution_count": 86,
   "id": "61f43f32",
   "metadata": {},
   "outputs": [
    {
     "data": {
      "text/plain": [
       "(True, True, True, True, True, True, True)"
      ]
     },
     "execution_count": 86,
     "metadata": {},
     "output_type": "execute_result"
    }
   ],
   "source": [
    "bool(True), bool(1), bool(2.0), bool(\"hello\"), bool([1,2]), bool((2,3)), bool(range(10))"
   ]
  },
  {
   "cell_type": "markdown",
   "id": "19a52c2e",
   "metadata": {},
   "source": [
    "### None\n",
    "\n",
    "The None type includes a single value `None`, used to indicate the absence of a value. `None` has the type `NoneType`. It is often used to declare a variable whose value may be assigned later."
   ]
  },
  {
   "cell_type": "code",
   "execution_count": 87,
   "id": "e4490822",
   "metadata": {},
   "outputs": [],
   "source": [
    "nothing = None"
   ]
  },
  {
   "cell_type": "code",
   "execution_count": 88,
   "id": "988e92ea",
   "metadata": {},
   "outputs": [
    {
     "data": {
      "text/plain": [
       "NoneType"
      ]
     },
     "execution_count": 88,
     "metadata": {},
     "output_type": "execute_result"
    }
   ],
   "source": [
    "type(nothing)"
   ]
  },
  {
   "cell_type": "markdown",
   "id": "f3280202",
   "metadata": {},
   "source": [
    "### String\n",
    "\n",
    "A string is used to represent text (*a string of characters*) in Python. Strings must be surrounded using quotations (either the single quote `'` or the double quote `\"`). Strings have the type `string`."
   ]
  },
  {
   "cell_type": "code",
   "execution_count": 89,
   "id": "98063bd1",
   "metadata": {},
   "outputs": [],
   "source": [
    "today = \"Saturday\""
   ]
  },
  {
   "cell_type": "code",
   "execution_count": 90,
   "id": "f2694d03",
   "metadata": {},
   "outputs": [
    {
     "data": {
      "text/plain": [
       "'Saturday'"
      ]
     },
     "execution_count": 90,
     "metadata": {},
     "output_type": "execute_result"
    }
   ],
   "source": [
    "today"
   ]
  },
  {
   "cell_type": "code",
   "execution_count": 91,
   "id": "9b6fa808",
   "metadata": {},
   "outputs": [
    {
     "data": {
      "text/plain": [
       "str"
      ]
     },
     "execution_count": 91,
     "metadata": {},
     "output_type": "execute_result"
    }
   ],
   "source": [
    "type(today)"
   ]
  },
  {
   "cell_type": "markdown",
   "id": "d821c35a",
   "metadata": {},
   "source": [
    "You can use single quotes inside a string written with double quotes, and vice versa."
   ]
  },
  {
   "cell_type": "code",
   "execution_count": 92,
   "id": "72a00167",
   "metadata": {},
   "outputs": [],
   "source": [
    "my_favorite_movie = \"One Flew over the Cuckoo's Nest\" "
   ]
  },
  {
   "cell_type": "code",
   "execution_count": 93,
   "id": "a50f8949",
   "metadata": {},
   "outputs": [
    {
     "data": {
      "text/plain": [
       "\"One Flew over the Cuckoo's Nest\""
      ]
     },
     "execution_count": 93,
     "metadata": {},
     "output_type": "execute_result"
    }
   ],
   "source": [
    "my_favorite_movie"
   ]
  },
  {
   "cell_type": "code",
   "execution_count": 94,
   "id": "b101bc75",
   "metadata": {},
   "outputs": [],
   "source": [
    "my_favorite_pun = 'Thanks for explaining the word \"many\" to me, it means a lot.'"
   ]
  },
  {
   "cell_type": "code",
   "execution_count": 95,
   "id": "01004ce5",
   "metadata": {},
   "outputs": [
    {
     "data": {
      "text/plain": [
       "'Thanks for explaining the word \"many\" to me, it means a lot.'"
      ]
     },
     "execution_count": 95,
     "metadata": {},
     "output_type": "execute_result"
    }
   ],
   "source": [
    "my_favorite_pun"
   ]
  },
  {
   "cell_type": "markdown",
   "id": "e7cfebf4",
   "metadata": {},
   "source": [
    "To use a double quote within a string written with double quotes, *escape* the inner quotes by prefixing them with the `\\` character."
   ]
  },
  {
   "cell_type": "code",
   "execution_count": 96,
   "id": "1e8eaafe",
   "metadata": {},
   "outputs": [],
   "source": [
    "another_pun = \"The first time I got a universal remote control, I thought to myself \\\"This changes everything\\\".\""
   ]
  },
  {
   "cell_type": "code",
   "execution_count": 97,
   "id": "5c9d2bce",
   "metadata": {},
   "outputs": [
    {
     "data": {
      "text/plain": [
       "'The first time I got a universal remote control, I thought to myself \"This changes everything\".'"
      ]
     },
     "execution_count": 97,
     "metadata": {},
     "output_type": "execute_result"
    }
   ],
   "source": [
    "another_pun"
   ]
  },
  {
   "cell_type": "markdown",
   "id": "efbeb009",
   "metadata": {},
   "source": [
    "Strings created using single or double quotes must begin and end on the same line. To create multiline strings, use three single quotes `'''` or three double quotes `\"\"\"` to begin and end the string. Line breaks are represented using the newline character `\\n`."
   ]
  },
  {
   "cell_type": "code",
   "execution_count": 98,
   "id": "7649f415",
   "metadata": {},
   "outputs": [],
   "source": [
    "yet_another_pun = '''Son: \"Dad, can you tell me what a solar eclipse is?\" \n",
    "Dad: \"No sun.\"'''"
   ]
  },
  {
   "cell_type": "code",
   "execution_count": 99,
   "id": "f3a947cf",
   "metadata": {},
   "outputs": [
    {
     "data": {
      "text/plain": [
       "'Son: \"Dad, can you tell me what a solar eclipse is?\" \\nDad: \"No sun.\"'"
      ]
     },
     "execution_count": 99,
     "metadata": {},
     "output_type": "execute_result"
    }
   ],
   "source": [
    "yet_another_pun"
   ]
  },
  {
   "cell_type": "markdown",
   "id": "d72fa4e9",
   "metadata": {},
   "source": [
    "Multiline strings are best displayed using the `print` function."
   ]
  },
  {
   "cell_type": "code",
   "execution_count": 100,
   "id": "1449a6b2",
   "metadata": {},
   "outputs": [
    {
     "name": "stdout",
     "output_type": "stream",
     "text": [
      "Son: \"Dad, can you tell me what a solar eclipse is?\" \n",
      "Dad: \"No sun.\"\n"
     ]
    }
   ],
   "source": [
    "print(yet_another_pun)"
   ]
  },
  {
   "cell_type": "code",
   "execution_count": 101,
   "id": "6ab3174b",
   "metadata": {},
   "outputs": [],
   "source": [
    "a_music_pun = \"\"\"\n",
    "Two windmills are standing in a field and one asks the other, \n",
    "\"What kind of music do you like?\"  \n",
    "\n",
    "The other says, \n",
    "\"I'm a big metal fan.\"\n",
    "\"\"\""
   ]
  },
  {
   "cell_type": "code",
   "execution_count": 102,
   "id": "562d7148",
   "metadata": {},
   "outputs": [
    {
     "name": "stdout",
     "output_type": "stream",
     "text": [
      "\n",
      "Two windmills are standing in a field and one asks the other, \n",
      "\"What kind of music do you like?\"  \n",
      "\n",
      "The other says, \n",
      "\"I'm a big metal fan.\"\n",
      "\n"
     ]
    }
   ],
   "source": [
    "print(a_music_pun)"
   ]
  },
  {
   "cell_type": "code",
   "execution_count": 103,
   "id": "9df4a0ba",
   "metadata": {},
   "outputs": [
    {
     "data": {
      "text/plain": [
       "31"
      ]
     },
     "execution_count": 103,
     "metadata": {},
     "output_type": "execute_result"
    }
   ],
   "source": [
    "len(my_favorite_movie)"
   ]
  },
  {
   "cell_type": "markdown",
   "id": "b98aa6f6",
   "metadata": {},
   "source": [
    "Note that special characters like `\\n` and escaped characters like `\\\"` count as a single character, even though they are written and sometimes printed as two characters."
   ]
  },
  {
   "cell_type": "code",
   "execution_count": 104,
   "id": "264bf119",
   "metadata": {},
   "outputs": [
    {
     "data": {
      "text/plain": [
       "'a\\nb'"
      ]
     },
     "execution_count": 104,
     "metadata": {},
     "output_type": "execute_result"
    }
   ],
   "source": [
    "multiline_string = \"\"\"a\n",
    "b\"\"\"\n",
    "multiline_string"
   ]
  },
  {
   "cell_type": "code",
   "execution_count": 105,
   "id": "4967877b",
   "metadata": {},
   "outputs": [
    {
     "data": {
      "text/plain": [
       "3"
      ]
     },
     "execution_count": 105,
     "metadata": {},
     "output_type": "execute_result"
    }
   ],
   "source": [
    "len(multiline_string)"
   ]
  },
  {
   "cell_type": "markdown",
   "id": "b785aa49",
   "metadata": {},
   "source": [
    "A string can be converted into a list of characters using `list` function."
   ]
  },
  {
   "cell_type": "code",
   "execution_count": 106,
   "id": "93d30879",
   "metadata": {},
   "outputs": [
    {
     "data": {
      "text/plain": [
       "['a', '\\n', 'b']"
      ]
     },
     "execution_count": 106,
     "metadata": {},
     "output_type": "execute_result"
    }
   ],
   "source": [
    "list(multiline_string)"
   ]
  },
  {
   "cell_type": "markdown",
   "id": "29cc32fd",
   "metadata": {},
   "source": [
    "Strings also support several list operations, which are discussed in the next section. We'll look at a couple of examples here.\n",
    "\n",
    "You can access individual characters within a string using the `[]` indexing notation. Note the character indices go from `0` to `n-1`, where `n` is the length of the string."
   ]
  },
  {
   "cell_type": "code",
   "execution_count": 107,
   "id": "ce1f1b6c",
   "metadata": {},
   "outputs": [],
   "source": [
    "today = \"Saturday\""
   ]
  },
  {
   "cell_type": "code",
   "execution_count": 108,
   "id": "4aaa791f",
   "metadata": {},
   "outputs": [
    {
     "data": {
      "text/plain": [
       "'S'"
      ]
     },
     "execution_count": 108,
     "metadata": {},
     "output_type": "execute_result"
    }
   ],
   "source": [
    "today[0]"
   ]
  },
  {
   "cell_type": "code",
   "execution_count": 109,
   "id": "fd22e99d",
   "metadata": {},
   "outputs": [
    {
     "data": {
      "text/plain": [
       "'u'"
      ]
     },
     "execution_count": 109,
     "metadata": {},
     "output_type": "execute_result"
    }
   ],
   "source": [
    "today[3]"
   ]
  },
  {
   "cell_type": "code",
   "execution_count": 110,
   "id": "25907f4b",
   "metadata": {},
   "outputs": [
    {
     "data": {
      "text/plain": [
       "'y'"
      ]
     },
     "execution_count": 110,
     "metadata": {},
     "output_type": "execute_result"
    }
   ],
   "source": [
    "today[7]"
   ]
  },
  {
   "cell_type": "markdown",
   "id": "3e090c1a",
   "metadata": {},
   "source": [
    "You can access a part of a string using by providing a `start:end` range instead of a single index in `[]`."
   ]
  },
  {
   "cell_type": "code",
   "execution_count": 111,
   "id": "3e210a08",
   "metadata": {},
   "outputs": [
    {
     "data": {
      "text/plain": [
       "'day'"
      ]
     },
     "execution_count": 111,
     "metadata": {},
     "output_type": "execute_result"
    }
   ],
   "source": [
    "today[5:8]"
   ]
  },
  {
   "cell_type": "code",
   "execution_count": 112,
   "id": "051dc952",
   "metadata": {},
   "outputs": [
    {
     "data": {
      "text/plain": [
       "False"
      ]
     },
     "execution_count": 112,
     "metadata": {},
     "output_type": "execute_result"
    }
   ],
   "source": [
    "'Sun' in today"
   ]
  },
  {
   "cell_type": "markdown",
   "id": "d221befe",
   "metadata": {},
   "source": [
    "Two or more strings can be joined or *concatenated* using the `+` operator. Be careful while concatenating strings, sometimes you may need to add a space character `\" \"` between words."
   ]
  },
  {
   "cell_type": "code",
   "execution_count": 113,
   "id": "e363ea00",
   "metadata": {},
   "outputs": [],
   "source": [
    "full_name = \"Derek O'Brien\""
   ]
  },
  {
   "cell_type": "code",
   "execution_count": 114,
   "id": "7a728b2d",
   "metadata": {},
   "outputs": [],
   "source": [
    "greeting = \"Hello\""
   ]
  },
  {
   "cell_type": "code",
   "execution_count": 115,
   "id": "cce29fee",
   "metadata": {},
   "outputs": [
    {
     "data": {
      "text/plain": [
       "\"HelloDerek O'Brien\""
      ]
     },
     "execution_count": 115,
     "metadata": {},
     "output_type": "execute_result"
    }
   ],
   "source": [
    "greeting + full_name"
   ]
  },
  {
   "cell_type": "code",
   "execution_count": 116,
   "id": "85b616c5",
   "metadata": {},
   "outputs": [
    {
     "data": {
      "text/plain": [
       "\"Hello Derek O'Brien!\""
      ]
     },
     "execution_count": 116,
     "metadata": {},
     "output_type": "execute_result"
    }
   ],
   "source": [
    "greeting + \" \" + full_name + \"!\" # additional space"
   ]
  },
  {
   "cell_type": "markdown",
   "id": "8fbe9c42",
   "metadata": {},
   "source": [
    "Strings in Python have many built-in *methods* that are used to manipulate them. Let's try out some common string methods.\n",
    "\n",
    "> **Methods**: Methods are functions associated with data types and are accessed using the `.` notation e.g. `variable_name.method()` or `\"a string\".method()`. Methods are a powerful technique for associating common operations with values of specific data types.\n",
    "\n",
    "The `.lower()`, `.upper()` and `.capitalize()` methods are used to change the case of the characters."
   ]
  },
  {
   "cell_type": "code",
   "execution_count": 117,
   "id": "e825d9ed",
   "metadata": {},
   "outputs": [
    {
     "data": {
      "text/plain": [
       "'saturday'"
      ]
     },
     "execution_count": 117,
     "metadata": {},
     "output_type": "execute_result"
    }
   ],
   "source": [
    "today.lower()"
   ]
  },
  {
   "cell_type": "code",
   "execution_count": 118,
   "id": "8d5c2f8b",
   "metadata": {},
   "outputs": [
    {
     "data": {
      "text/plain": [
       "'SATURDAY'"
      ]
     },
     "execution_count": 118,
     "metadata": {},
     "output_type": "execute_result"
    }
   ],
   "source": [
    "\"saturday\".upper()"
   ]
  },
  {
   "cell_type": "code",
   "execution_count": 119,
   "id": "505f961b",
   "metadata": {},
   "outputs": [
    {
     "data": {
      "text/plain": [
       "'Monday'"
      ]
     },
     "execution_count": 119,
     "metadata": {},
     "output_type": "execute_result"
    }
   ],
   "source": [
    "\"monday\".capitalize() # changes first character to uppercase"
   ]
  },
  {
   "cell_type": "markdown",
   "id": "f07af3e3",
   "metadata": {},
   "source": [
    "The `.replace` method replaces a part of the string with another string. It takes the portion to be replaced and the replacement text as *inputs* or *arguments*."
   ]
  },
  {
   "cell_type": "code",
   "execution_count": 120,
   "id": "8174cf61",
   "metadata": {},
   "outputs": [],
   "source": [
    "another_day = today.replace(\"Satur\", \"Wednes\")"
   ]
  },
  {
   "cell_type": "code",
   "execution_count": 121,
   "id": "345bae31",
   "metadata": {},
   "outputs": [
    {
     "data": {
      "text/plain": [
       "'Wednesday'"
      ]
     },
     "execution_count": 121,
     "metadata": {},
     "output_type": "execute_result"
    }
   ],
   "source": [
    "another_day"
   ]
  },
  {
   "cell_type": "markdown",
   "id": "0b100155",
   "metadata": {},
   "source": [
    "Note that `replace` returns a new string, and the original string is not modified."
   ]
  },
  {
   "cell_type": "code",
   "execution_count": 122,
   "id": "32303572",
   "metadata": {},
   "outputs": [
    {
     "data": {
      "text/plain": [
       "'Saturday'"
      ]
     },
     "execution_count": 122,
     "metadata": {},
     "output_type": "execute_result"
    }
   ],
   "source": [
    "today"
   ]
  },
  {
   "cell_type": "markdown",
   "id": "a096960c",
   "metadata": {},
   "source": [
    "The `.split` method splits a string into a list of strings at every occurrence of provided character(s).ipynb_checkpoints/"
   ]
  },
  {
   "cell_type": "code",
   "execution_count": 123,
   "id": "2c0fee10",
   "metadata": {},
   "outputs": [
    {
     "data": {
      "text/plain": [
       "['Sun', 'Mon', 'Tue', 'Wed', 'Thu', 'Fri', 'Sat']"
      ]
     },
     "execution_count": 123,
     "metadata": {},
     "output_type": "execute_result"
    }
   ],
   "source": [
    "\"Sun,Mon,Tue,Wed,Thu,Fri,Sat\".split(\",\")"
   ]
  },
  {
   "cell_type": "markdown",
   "id": "781b6ee6",
   "metadata": {},
   "source": [
    "The `.strip` method removes whitespace characters from the beginning and end of a string."
   ]
  },
  {
   "cell_type": "code",
   "execution_count": 124,
   "id": "4d946b19",
   "metadata": {},
   "outputs": [],
   "source": [
    "a_long_line = \"       This is a long line with some space before, after,     and some space in the middle..    \""
   ]
  },
  {
   "cell_type": "code",
   "execution_count": 125,
   "id": "4bfd9322",
   "metadata": {},
   "outputs": [],
   "source": [
    "a_long_line_stripped = a_long_line.strip()"
   ]
  },
  {
   "cell_type": "code",
   "execution_count": 126,
   "id": "3fc750fd",
   "metadata": {},
   "outputs": [
    {
     "data": {
      "text/plain": [
       "'This is a long line with some space before, after,     and some space in the middle..'"
      ]
     },
     "execution_count": 126,
     "metadata": {},
     "output_type": "execute_result"
    }
   ],
   "source": [
    "a_long_line_stripped"
   ]
  },
  {
   "cell_type": "markdown",
   "id": "df8a38ab",
   "metadata": {},
   "source": [
    "The `.format` method combines values of other data types, e.g., integers, floats, booleans, lists, etc. with strings. You can use `format` to construct output messages for display."
   ]
  },
  {
   "cell_type": "code",
   "execution_count": 127,
   "id": "2d287a16",
   "metadata": {},
   "outputs": [
    {
     "name": "stdout",
     "output_type": "stream",
     "text": [
      "If a grocery store sells ice bags at $ {} per bag, with a profit margin of {} %, \n",
      "then the total profit it makes by selling {} ice bags is $ {}.\n"
     ]
    }
   ],
   "source": [
    "# Input variables\n",
    "cost_of_ice_bag = 1.25\n",
    "profit_margin = .2\n",
    "number_of_bags = 500\n",
    "\n",
    "# Template for output message\n",
    "output_template = \"\"\"If a grocery store sells ice bags at $ {} per bag, with a profit margin of {} %, \n",
    "then the total profit it makes by selling {} ice bags is $ {}.\"\"\"\n",
    "\n",
    "print(output_template)"
   ]
  },
  {
   "cell_type": "code",
   "execution_count": 128,
   "id": "80f6ead3",
   "metadata": {},
   "outputs": [
    {
     "name": "stdout",
     "output_type": "stream",
     "text": [
      "If a grocery store sells ice bags at $ 1.25 per bag, with a profit margin of 20.0 %, \n",
      "then the total profit it makes by selling 500 ice bags is $ 125.0.\n"
     ]
    }
   ],
   "source": [
    "# Inserting values into the string\n",
    "total_profit = cost_of_ice_bag * profit_margin * number_of_bags\n",
    "output_message = output_template.format(cost_of_ice_bag, profit_margin*100, number_of_bags, total_profit)\n",
    "\n",
    "print(output_message)"
   ]
  },
  {
   "cell_type": "markdown",
   "id": "2aca6cf0",
   "metadata": {},
   "source": [
    "Notice how the placeholders `{}` in the `output_template` string are replaced with the arguments provided to the `.format` method.\n",
    "\n",
    "It is also possible to use the string concatenation operator `+` to combine strings with other values. However, those values must first be converted to strings using the `str` function."
   ]
  },
  {
   "cell_type": "code",
   "execution_count": 129,
   "id": "b145b802",
   "metadata": {},
   "outputs": [
    {
     "ename": "TypeError",
     "evalue": "can only concatenate str (not \"float\") to str",
     "output_type": "error",
     "traceback": [
      "\u001b[1;31m---------------------------------------------------------------------------\u001b[0m",
      "\u001b[1;31mTypeError\u001b[0m                                 Traceback (most recent call last)",
      "\u001b[1;32m<ipython-input-129-78b7958ec7cc>\u001b[0m in \u001b[0;36m<module>\u001b[1;34m\u001b[0m\n\u001b[1;32m----> 1\u001b[1;33m \u001b[1;34m\"If a grocery store sells ice bags at $ \"\u001b[0m \u001b[1;33m+\u001b[0m \u001b[0mcost_of_ice_bag\u001b[0m \u001b[1;33m+\u001b[0m \u001b[1;34m\", with a profit margin of \"\u001b[0m \u001b[1;33m+\u001b[0m \u001b[0mprofit_margin\u001b[0m\u001b[1;33m\u001b[0m\u001b[1;33m\u001b[0m\u001b[0m\n\u001b[0m",
      "\u001b[1;31mTypeError\u001b[0m: can only concatenate str (not \"float\") to str"
     ]
    }
   ],
   "source": [
    "\"If a grocery store sells ice bags at $ \" + cost_of_ice_bag + \", with a profit margin of \" + profit_margin"
   ]
  },
  {
   "cell_type": "code",
   "execution_count": 130,
   "id": "6adf0dab",
   "metadata": {},
   "outputs": [
    {
     "data": {
      "text/plain": [
       "'If a grocery store sells ice bags at $ 1.25, with a profit margin of 0.2'"
      ]
     },
     "execution_count": 130,
     "metadata": {},
     "output_type": "execute_result"
    }
   ],
   "source": [
    "\"If a grocery store sells ice bags at $ \" + str(cost_of_ice_bag) + \", with a profit margin of \" + str(profit_margin)"
   ]
  },
  {
   "cell_type": "markdown",
   "id": "3e6a2778",
   "metadata": {},
   "source": [
    "You can `str` to convert a value of any data type into a string."
   ]
  },
  {
   "cell_type": "code",
   "execution_count": 131,
   "id": "91de5d7e",
   "metadata": {},
   "outputs": [
    {
     "data": {
      "text/plain": [
       "'23'"
      ]
     },
     "execution_count": 131,
     "metadata": {},
     "output_type": "execute_result"
    }
   ],
   "source": [
    "str(23)"
   ]
  },
  {
   "cell_type": "code",
   "execution_count": 132,
   "id": "41169d6e",
   "metadata": {},
   "outputs": [
    {
     "data": {
      "text/plain": [
       "'23.432'"
      ]
     },
     "execution_count": 132,
     "metadata": {},
     "output_type": "execute_result"
    }
   ],
   "source": [
    "str(23.432)"
   ]
  },
  {
   "cell_type": "code",
   "execution_count": 133,
   "id": "c77cd60d",
   "metadata": {},
   "outputs": [
    {
     "data": {
      "text/plain": [
       "'True'"
      ]
     },
     "execution_count": 133,
     "metadata": {},
     "output_type": "execute_result"
    }
   ],
   "source": [
    "str(True)"
   ]
  },
  {
   "cell_type": "code",
   "execution_count": 134,
   "id": "7a22e1fd",
   "metadata": {},
   "outputs": [
    {
     "data": {
      "text/plain": [
       "\"['Athos', 'Porthos', 'Aramis']\""
      ]
     },
     "execution_count": 134,
     "metadata": {},
     "output_type": "execute_result"
    }
   ],
   "source": [
    "the_3_musketeers = [\"Athos\", \"Porthos\", \"Aramis\"]\n",
    "str(the_3_musketeers)"
   ]
  },
  {
   "cell_type": "markdown",
   "id": "b089e4d4",
   "metadata": {},
   "source": [
    "Strings also support the comparison operators `==` and `!=` for checking whether two strings are equal."
   ]
  },
  {
   "cell_type": "code",
   "execution_count": 135,
   "id": "26ef8376",
   "metadata": {},
   "outputs": [],
   "source": [
    "first_name = \"John\""
   ]
  },
  {
   "cell_type": "code",
   "execution_count": 136,
   "id": "fca65166",
   "metadata": {},
   "outputs": [
    {
     "data": {
      "text/plain": [
       "False"
      ]
     },
     "execution_count": 136,
     "metadata": {},
     "output_type": "execute_result"
    }
   ],
   "source": [
    "first_name == \"Doe\""
   ]
  },
  {
   "cell_type": "code",
   "execution_count": 137,
   "id": "78516f2b",
   "metadata": {},
   "outputs": [
    {
     "data": {
      "text/plain": [
       "True"
      ]
     },
     "execution_count": 137,
     "metadata": {},
     "output_type": "execute_result"
    }
   ],
   "source": [
    "first_name == \"John\""
   ]
  },
  {
   "cell_type": "code",
   "execution_count": 138,
   "id": "f8a056c2",
   "metadata": {},
   "outputs": [
    {
     "data": {
      "text/plain": [
       "True"
      ]
     },
     "execution_count": 138,
     "metadata": {},
     "output_type": "execute_result"
    }
   ],
   "source": [
    "first_name != \"Jane\""
   ]
  },
  {
   "cell_type": "markdown",
   "id": "57f93397",
   "metadata": {},
   "source": [
    "We've looked at the primitive data types in Python. We're now ready to explore non-primitive data structures, also known as containers.\n",
    "\n",
    "Before continuing, let us run `jovian.commit` once again to record another snapshot of our notebook."
   ]
  },
  {
   "cell_type": "markdown",
   "id": "dfde03a4",
   "metadata": {},
   "source": [
    "### List\n",
    "\n",
    "A list in Python is an ordered collection of values. Lists can hold values of different data types and support operations to add, remove, and change values. Lists have the type `list`.\n",
    "\n",
    "To create a list, enclose a sequence of values within square brackets `[` and `]`, separated by commas."
   ]
  },
  {
   "cell_type": "code",
   "execution_count": 139,
   "id": "d41627fb",
   "metadata": {},
   "outputs": [],
   "source": [
    "fruits = ['apple', 'banana', 'cherry']"
   ]
  },
  {
   "cell_type": "code",
   "execution_count": 140,
   "id": "a4bf2c3f",
   "metadata": {},
   "outputs": [
    {
     "data": {
      "text/plain": [
       "['apple', 'banana', 'cherry']"
      ]
     },
     "execution_count": 140,
     "metadata": {},
     "output_type": "execute_result"
    }
   ],
   "source": [
    "fruits"
   ]
  },
  {
   "cell_type": "code",
   "execution_count": 141,
   "id": "6229785c",
   "metadata": {},
   "outputs": [
    {
     "data": {
      "text/plain": [
       "list"
      ]
     },
     "execution_count": 141,
     "metadata": {},
     "output_type": "execute_result"
    }
   ],
   "source": [
    "type(fruits)"
   ]
  },
  {
   "cell_type": "markdown",
   "id": "0cff4445",
   "metadata": {},
   "source": [
    "Let's try creating a list containing values of different data types, including another list."
   ]
  },
  {
   "cell_type": "code",
   "execution_count": 142,
   "id": "b0141326",
   "metadata": {},
   "outputs": [],
   "source": [
    "a_list = [23, 'hello', None, 3.14, fruits, 3 <= 5]"
   ]
  },
  {
   "cell_type": "code",
   "execution_count": 143,
   "id": "7995c484",
   "metadata": {},
   "outputs": [
    {
     "data": {
      "text/plain": [
       "[23, 'hello', None, 3.14, ['apple', 'banana', 'cherry'], True]"
      ]
     },
     "execution_count": 143,
     "metadata": {},
     "output_type": "execute_result"
    }
   ],
   "source": [
    "a_list"
   ]
  },
  {
   "cell_type": "code",
   "execution_count": 144,
   "id": "10e98bbf",
   "metadata": {},
   "outputs": [],
   "source": [
    "empty_list = []"
   ]
  },
  {
   "cell_type": "code",
   "execution_count": 145,
   "id": "0d7c7f71",
   "metadata": {},
   "outputs": [
    {
     "data": {
      "text/plain": [
       "[]"
      ]
     },
     "execution_count": 145,
     "metadata": {},
     "output_type": "execute_result"
    }
   ],
   "source": [
    "empty_list"
   ]
  },
  {
   "cell_type": "markdown",
   "id": "92eaafa8",
   "metadata": {},
   "source": [
    "To determine the number of values in a list, use the `len` function. You can use `len`  to determine the number of values in several other data types."
   ]
  },
  {
   "cell_type": "code",
   "execution_count": 147,
   "id": "f457bddc",
   "metadata": {},
   "outputs": [
    {
     "data": {
      "text/plain": [
       "3"
      ]
     },
     "execution_count": 147,
     "metadata": {},
     "output_type": "execute_result"
    }
   ],
   "source": [
    "len(fruits)"
   ]
  },
  {
   "cell_type": "code",
   "execution_count": 148,
   "id": "6d8a2196",
   "metadata": {},
   "outputs": [
    {
     "name": "stdout",
     "output_type": "stream",
     "text": [
      "Number of fruits: 3\n"
     ]
    }
   ],
   "source": [
    "print(\"Number of fruits:\", len(fruits))"
   ]
  },
  {
   "cell_type": "code",
   "execution_count": 149,
   "id": "1a235baa",
   "metadata": {},
   "outputs": [
    {
     "data": {
      "text/plain": [
       "6"
      ]
     },
     "execution_count": 149,
     "metadata": {},
     "output_type": "execute_result"
    }
   ],
   "source": [
    "len(a_list)"
   ]
  },
  {
   "cell_type": "code",
   "execution_count": 150,
   "id": "d86216a5",
   "metadata": {},
   "outputs": [
    {
     "data": {
      "text/plain": [
       "0"
      ]
     },
     "execution_count": 150,
     "metadata": {},
     "output_type": "execute_result"
    }
   ],
   "source": [
    "len(empty_list)"
   ]
  },
  {
   "cell_type": "markdown",
   "id": "7a06d3f8",
   "metadata": {},
   "source": [
    "You can access an element from the list using its *index*, e.g., `fruits[2]` returns the element at index 2 within the list `fruits`. The starting index of a list is 0."
   ]
  },
  {
   "cell_type": "code",
   "execution_count": 151,
   "id": "66b09e45",
   "metadata": {},
   "outputs": [
    {
     "data": {
      "text/plain": [
       "'apple'"
      ]
     },
     "execution_count": 151,
     "metadata": {},
     "output_type": "execute_result"
    }
   ],
   "source": [
    "fruits[0]"
   ]
  },
  {
   "cell_type": "code",
   "execution_count": 152,
   "id": "e05ec06a",
   "metadata": {},
   "outputs": [
    {
     "data": {
      "text/plain": [
       "'banana'"
      ]
     },
     "execution_count": 152,
     "metadata": {},
     "output_type": "execute_result"
    }
   ],
   "source": [
    "fruits[1]"
   ]
  },
  {
   "cell_type": "code",
   "execution_count": 153,
   "id": "a9e50b96",
   "metadata": {},
   "outputs": [
    {
     "data": {
      "text/plain": [
       "'cherry'"
      ]
     },
     "execution_count": 153,
     "metadata": {},
     "output_type": "execute_result"
    }
   ],
   "source": [
    "fruits[2]"
   ]
  },
  {
   "cell_type": "markdown",
   "id": "91bc6d97",
   "metadata": {},
   "source": [
    "If you try to access an index equal to or higher than the length of the list, Python returns an `IndexError`."
   ]
  },
  {
   "cell_type": "code",
   "execution_count": 154,
   "id": "40014eda",
   "metadata": {},
   "outputs": [
    {
     "ename": "IndexError",
     "evalue": "list index out of range",
     "output_type": "error",
     "traceback": [
      "\u001b[1;31m---------------------------------------------------------------------------\u001b[0m",
      "\u001b[1;31mIndexError\u001b[0m                                Traceback (most recent call last)",
      "\u001b[1;32m<ipython-input-154-7ceeafd384d7>\u001b[0m in \u001b[0;36m<module>\u001b[1;34m\u001b[0m\n\u001b[1;32m----> 1\u001b[1;33m \u001b[0mfruits\u001b[0m\u001b[1;33m[\u001b[0m\u001b[1;36m3\u001b[0m\u001b[1;33m]\u001b[0m\u001b[1;33m\u001b[0m\u001b[1;33m\u001b[0m\u001b[0m\n\u001b[0m",
      "\u001b[1;31mIndexError\u001b[0m: list index out of range"
     ]
    }
   ],
   "source": [
    "fruits[3]"
   ]
  },
  {
   "cell_type": "code",
   "execution_count": 155,
   "id": "b6a3d24f",
   "metadata": {},
   "outputs": [
    {
     "ename": "IndexError",
     "evalue": "list index out of range",
     "output_type": "error",
     "traceback": [
      "\u001b[1;31m---------------------------------------------------------------------------\u001b[0m",
      "\u001b[1;31mIndexError\u001b[0m                                Traceback (most recent call last)",
      "\u001b[1;32m<ipython-input-155-b8c91da6ba3a>\u001b[0m in \u001b[0;36m<module>\u001b[1;34m\u001b[0m\n\u001b[1;32m----> 1\u001b[1;33m \u001b[0mfruits\u001b[0m\u001b[1;33m[\u001b[0m\u001b[1;36m4\u001b[0m\u001b[1;33m]\u001b[0m\u001b[1;33m\u001b[0m\u001b[1;33m\u001b[0m\u001b[0m\n\u001b[0m",
      "\u001b[1;31mIndexError\u001b[0m: list index out of range"
     ]
    }
   ],
   "source": [
    "fruits[4]"
   ]
  },
  {
   "cell_type": "markdown",
   "id": "a575574a",
   "metadata": {},
   "source": [
    "You can use negative indices to access elements from the end of a list, e.g., `fruits[-1]` returns the last element, `fruits[-2]` returns the second last element, and so on."
   ]
  },
  {
   "cell_type": "code",
   "execution_count": 156,
   "id": "f75f99ca",
   "metadata": {},
   "outputs": [
    {
     "data": {
      "text/plain": [
       "'cherry'"
      ]
     },
     "execution_count": 156,
     "metadata": {},
     "output_type": "execute_result"
    }
   ],
   "source": [
    "fruits[-1]"
   ]
  },
  {
   "cell_type": "code",
   "execution_count": 157,
   "id": "5ff105e0",
   "metadata": {},
   "outputs": [
    {
     "data": {
      "text/plain": [
       "'banana'"
      ]
     },
     "execution_count": 157,
     "metadata": {},
     "output_type": "execute_result"
    }
   ],
   "source": [
    "fruits[-2]"
   ]
  },
  {
   "cell_type": "code",
   "execution_count": 158,
   "id": "0138219f",
   "metadata": {},
   "outputs": [
    {
     "data": {
      "text/plain": [
       "'apple'"
      ]
     },
     "execution_count": 158,
     "metadata": {},
     "output_type": "execute_result"
    }
   ],
   "source": [
    "fruits[-3]"
   ]
  },
  {
   "cell_type": "code",
   "execution_count": 159,
   "id": "baacdf7c",
   "metadata": {},
   "outputs": [
    {
     "ename": "IndexError",
     "evalue": "list index out of range",
     "output_type": "error",
     "traceback": [
      "\u001b[1;31m---------------------------------------------------------------------------\u001b[0m",
      "\u001b[1;31mIndexError\u001b[0m                                Traceback (most recent call last)",
      "\u001b[1;32m<ipython-input-159-1cb2d66442ee>\u001b[0m in \u001b[0;36m<module>\u001b[1;34m\u001b[0m\n\u001b[1;32m----> 1\u001b[1;33m \u001b[0mfruits\u001b[0m\u001b[1;33m[\u001b[0m\u001b[1;33m-\u001b[0m\u001b[1;36m4\u001b[0m\u001b[1;33m]\u001b[0m\u001b[1;33m\u001b[0m\u001b[1;33m\u001b[0m\u001b[0m\n\u001b[0m",
      "\u001b[1;31mIndexError\u001b[0m: list index out of range"
     ]
    }
   ],
   "source": [
    "fruits[-4]"
   ]
  },
  {
   "cell_type": "code",
   "execution_count": 160,
   "id": "8d2a952b",
   "metadata": {},
   "outputs": [],
   "source": [
    "a_list = [23, 'hello', None, 3.14, fruits, 3 <= 5]"
   ]
  },
  {
   "cell_type": "code",
   "execution_count": 161,
   "id": "8c4b322d",
   "metadata": {},
   "outputs": [
    {
     "data": {
      "text/plain": [
       "[None, 3.14, ['apple', 'banana', 'cherry']]"
      ]
     },
     "execution_count": 161,
     "metadata": {},
     "output_type": "execute_result"
    }
   ],
   "source": [
    "a_list[2:5]"
   ]
  },
  {
   "cell_type": "markdown",
   "id": "466c8cf6",
   "metadata": {},
   "source": [
    "Note that the range `2:5` includes the element at the start index `2` but does not include the element at the end index `5`. So, the result has 3 values (index `2`, `3`, and `4`).\n",
    "\n"
   ]
  },
  {
   "cell_type": "markdown",
   "id": "c4011a59",
   "metadata": {},
   "source": [
    "You can also change the value at a specific index within a list using the assignment operation."
   ]
  },
  {
   "cell_type": "code",
   "execution_count": 162,
   "id": "47db1dc2",
   "metadata": {},
   "outputs": [
    {
     "data": {
      "text/plain": [
       "['apple', 'banana', 'cherry']"
      ]
     },
     "execution_count": 162,
     "metadata": {},
     "output_type": "execute_result"
    }
   ],
   "source": [
    "fruits"
   ]
  },
  {
   "cell_type": "code",
   "execution_count": 163,
   "id": "68b51ac4",
   "metadata": {},
   "outputs": [],
   "source": [
    "fruits[1] = 'blueberry'"
   ]
  },
  {
   "cell_type": "code",
   "execution_count": 164,
   "id": "a658a688",
   "metadata": {},
   "outputs": [
    {
     "data": {
      "text/plain": [
       "['apple', 'blueberry', 'cherry']"
      ]
     },
     "execution_count": 164,
     "metadata": {},
     "output_type": "execute_result"
    }
   ],
   "source": [
    "fruits"
   ]
  },
  {
   "cell_type": "markdown",
   "id": "f90d18bd",
   "metadata": {},
   "source": [
    "A new value can be added to the end of a list using the `append` method."
   ]
  },
  {
   "cell_type": "code",
   "execution_count": 165,
   "id": "5d80ea77",
   "metadata": {},
   "outputs": [],
   "source": [
    "fruits.append('dates')"
   ]
  },
  {
   "cell_type": "markdown",
   "id": "6514d6e8",
   "metadata": {},
   "source": [
    "A new value can also be inserted at a specific index using the `insert` method."
   ]
  },
  {
   "cell_type": "code",
   "execution_count": 166,
   "id": "89425427",
   "metadata": {},
   "outputs": [],
   "source": [
    "fruits.insert(1, 'banana')"
   ]
  },
  {
   "cell_type": "code",
   "execution_count": 167,
   "id": "cfd8f8f3",
   "metadata": {},
   "outputs": [
    {
     "data": {
      "text/plain": [
       "['apple', 'banana', 'blueberry', 'cherry', 'dates']"
      ]
     },
     "execution_count": 167,
     "metadata": {},
     "output_type": "execute_result"
    }
   ],
   "source": [
    "fruits"
   ]
  },
  {
   "cell_type": "markdown",
   "id": "7e512d37",
   "metadata": {},
   "source": [
    "You can remove a value from a list using the `remove` method."
   ]
  },
  {
   "cell_type": "code",
   "execution_count": 168,
   "id": "67231b9d",
   "metadata": {},
   "outputs": [],
   "source": [
    "fruits.remove('blueberry')"
   ]
  },
  {
   "cell_type": "code",
   "execution_count": 169,
   "id": "9c37bdc2",
   "metadata": {},
   "outputs": [
    {
     "data": {
      "text/plain": [
       "['apple', 'banana', 'cherry', 'dates']"
      ]
     },
     "execution_count": 169,
     "metadata": {},
     "output_type": "execute_result"
    }
   ],
   "source": [
    "fruits"
   ]
  },
  {
   "cell_type": "code",
   "execution_count": 171,
   "id": "f98a0d89",
   "metadata": {},
   "outputs": [
    {
     "data": {
      "text/plain": [
       "'banana'"
      ]
     },
     "execution_count": 171,
     "metadata": {},
     "output_type": "execute_result"
    }
   ],
   "source": [
    "fruits.pop(1)"
   ]
  },
  {
   "cell_type": "code",
   "execution_count": 172,
   "id": "abb92e48",
   "metadata": {},
   "outputs": [
    {
     "data": {
      "text/plain": [
       "['apple', 'cherry', 'dates']"
      ]
     },
     "execution_count": 172,
     "metadata": {},
     "output_type": "execute_result"
    }
   ],
   "source": [
    "fruits"
   ]
  },
  {
   "cell_type": "markdown",
   "id": "50df243a",
   "metadata": {},
   "source": [
    "If no index is provided, the `pop` method removes the last element of the list."
   ]
  },
  {
   "cell_type": "code",
   "execution_count": 173,
   "id": "80b2e976",
   "metadata": {},
   "outputs": [
    {
     "data": {
      "text/plain": [
       "'dates'"
      ]
     },
     "execution_count": 173,
     "metadata": {},
     "output_type": "execute_result"
    }
   ],
   "source": [
    "fruits.pop()"
   ]
  },
  {
   "cell_type": "code",
   "execution_count": 174,
   "id": "93a8ce2a",
   "metadata": {},
   "outputs": [
    {
     "data": {
      "text/plain": [
       "['apple', 'cherry']"
      ]
     },
     "execution_count": 174,
     "metadata": {},
     "output_type": "execute_result"
    }
   ],
   "source": [
    "fruits"
   ]
  },
  {
   "cell_type": "markdown",
   "id": "d2b895c6",
   "metadata": {},
   "source": [
    "You can test whether a list contains a value using the `in` operator."
   ]
  },
  {
   "cell_type": "code",
   "execution_count": 175,
   "id": "20222ed1",
   "metadata": {},
   "outputs": [
    {
     "data": {
      "text/plain": [
       "False"
      ]
     },
     "execution_count": 175,
     "metadata": {},
     "output_type": "execute_result"
    }
   ],
   "source": [
    "'pineapple' in fruits"
   ]
  },
  {
   "cell_type": "code",
   "execution_count": 176,
   "id": "8759080b",
   "metadata": {},
   "outputs": [
    {
     "data": {
      "text/plain": [
       "True"
      ]
     },
     "execution_count": 176,
     "metadata": {},
     "output_type": "execute_result"
    }
   ],
   "source": [
    "'cherry' in fruits"
   ]
  },
  {
   "cell_type": "markdown",
   "id": "902c5957",
   "metadata": {},
   "source": [
    "To combine two or more lists, use the `+` operator. This operation is also called *concatenation*."
   ]
  },
  {
   "cell_type": "code",
   "execution_count": 177,
   "id": "86bd85ac",
   "metadata": {},
   "outputs": [
    {
     "data": {
      "text/plain": [
       "['apple', 'cherry']"
      ]
     },
     "execution_count": 177,
     "metadata": {},
     "output_type": "execute_result"
    }
   ],
   "source": [
    "fruits"
   ]
  },
  {
   "cell_type": "code",
   "execution_count": 178,
   "id": "5cd0a377",
   "metadata": {},
   "outputs": [],
   "source": [
    "more_fruits = fruits + ['pineapple', 'tomato', 'guava'] + ['dates', 'banana']"
   ]
  },
  {
   "cell_type": "code",
   "execution_count": 179,
   "id": "7a9d4f94",
   "metadata": {},
   "outputs": [
    {
     "data": {
      "text/plain": [
       "['apple', 'cherry', 'pineapple', 'tomato', 'guava', 'dates', 'banana']"
      ]
     },
     "execution_count": 179,
     "metadata": {},
     "output_type": "execute_result"
    }
   ],
   "source": [
    "more_fruits"
   ]
  },
  {
   "cell_type": "code",
   "execution_count": 180,
   "id": "a67fe6f6",
   "metadata": {},
   "outputs": [],
   "source": [
    "more_fruits_copy = more_fruits.copy()"
   ]
  },
  {
   "cell_type": "code",
   "execution_count": 181,
   "id": "8e404240",
   "metadata": {},
   "outputs": [
    {
     "data": {
      "text/plain": [
       "['apple', 'cherry', 'pineapple', 'tomato', 'guava', 'dates', 'banana']"
      ]
     },
     "execution_count": 181,
     "metadata": {},
     "output_type": "execute_result"
    }
   ],
   "source": [
    "more_fruits_copy"
   ]
  },
  {
   "cell_type": "code",
   "execution_count": 182,
   "id": "11d7aa06",
   "metadata": {},
   "outputs": [
    {
     "data": {
      "text/plain": [
       "['apple', 'cherry', 'tomato', 'guava', 'dates']"
      ]
     },
     "execution_count": 182,
     "metadata": {},
     "output_type": "execute_result"
    }
   ],
   "source": [
    "# Modify the copy\n",
    "more_fruits_copy.remove('pineapple')\n",
    "more_fruits_copy.pop()\n",
    "more_fruits_copy"
   ]
  },
  {
   "cell_type": "code",
   "execution_count": 183,
   "id": "4d2b1e89",
   "metadata": {},
   "outputs": [
    {
     "data": {
      "text/plain": [
       "['apple', 'cherry', 'pineapple', 'tomato', 'guava', 'dates', 'banana']"
      ]
     },
     "execution_count": 183,
     "metadata": {},
     "output_type": "execute_result"
    }
   ],
   "source": [
    "# Original list remains unchanged\n",
    "more_fruits"
   ]
  },
  {
   "cell_type": "markdown",
   "id": "d07fd35b",
   "metadata": {},
   "source": [
    "Note that you cannot create a copy of a list by simply creating a new variable using the assignment operator `=`. The new variable will point to the same list, and any modifications performed using either variable will affect the other."
   ]
  },
  {
   "cell_type": "code",
   "execution_count": 184,
   "id": "b214d45d",
   "metadata": {},
   "outputs": [
    {
     "data": {
      "text/plain": [
       "['apple', 'cherry', 'pineapple', 'tomato', 'guava', 'dates', 'banana']"
      ]
     },
     "execution_count": 184,
     "metadata": {},
     "output_type": "execute_result"
    }
   ],
   "source": [
    "more_fruits"
   ]
  },
  {
   "cell_type": "code",
   "execution_count": 185,
   "id": "f1ef0b81",
   "metadata": {},
   "outputs": [],
   "source": [
    "more_fruits_not_a_copy = more_fruits"
   ]
  },
  {
   "cell_type": "code",
   "execution_count": 187,
   "id": "55f21c66",
   "metadata": {},
   "outputs": [
    {
     "data": {
      "text/plain": [
       "'banana'"
      ]
     },
     "execution_count": 187,
     "metadata": {},
     "output_type": "execute_result"
    }
   ],
   "source": [
    "more_fruits_not_a_copy.remove('pineapple')\n",
    "more_fruits_not_a_copy.pop()"
   ]
  },
  {
   "cell_type": "code",
   "execution_count": 188,
   "id": "4d43a836",
   "metadata": {},
   "outputs": [
    {
     "data": {
      "text/plain": [
       "['apple', 'cherry', 'tomato', 'guava', 'dates']"
      ]
     },
     "execution_count": 188,
     "metadata": {},
     "output_type": "execute_result"
    }
   ],
   "source": [
    "more_fruits_not_a_copy"
   ]
  },
  {
   "cell_type": "code",
   "execution_count": 189,
   "id": "9bab9ff4",
   "metadata": {},
   "outputs": [
    {
     "data": {
      "text/plain": [
       "['apple', 'cherry', 'tomato', 'guava', 'dates']"
      ]
     },
     "execution_count": 189,
     "metadata": {},
     "output_type": "execute_result"
    }
   ],
   "source": [
    "more_fruits"
   ]
  },
  {
   "cell_type": "markdown",
   "id": "316b8a98",
   "metadata": {},
   "source": [
    "### Tuple\n",
    "\n",
    "A tuple is an ordered collection of values, similar to a list. However, it is not possible to add, remove, or modify values in a tuple. A tuple is created by enclosing values within parentheses `(` and `)`, separated by commas.\n",
    "\n",
    "> Any data structure that cannot be modified after creation is called *immutable*. You can think of tuples as immutable lists.\n",
    "\n",
    "Let's try some experiments with tuples."
   ]
  },
  {
   "cell_type": "code",
   "execution_count": 190,
   "id": "182deb0c",
   "metadata": {},
   "outputs": [],
   "source": [
    "fruits = ('apple', 'cherry', 'dates')"
   ]
  },
  {
   "cell_type": "code",
   "execution_count": 191,
   "id": "4b011da1",
   "metadata": {},
   "outputs": [
    {
     "data": {
      "text/plain": [
       "3"
      ]
     },
     "execution_count": 191,
     "metadata": {},
     "output_type": "execute_result"
    }
   ],
   "source": [
    "# check no. of elements\n",
    "len(fruits)"
   ]
  },
  {
   "cell_type": "code",
   "execution_count": 192,
   "id": "5e33184a",
   "metadata": {},
   "outputs": [
    {
     "data": {
      "text/plain": [
       "'apple'"
      ]
     },
     "execution_count": 192,
     "metadata": {},
     "output_type": "execute_result"
    }
   ],
   "source": [
    "# get an element (positive index)\n",
    "fruits[0]"
   ]
  },
  {
   "cell_type": "code",
   "execution_count": 193,
   "id": "0db684bf",
   "metadata": {},
   "outputs": [
    {
     "data": {
      "text/plain": [
       "'cherry'"
      ]
     },
     "execution_count": 193,
     "metadata": {},
     "output_type": "execute_result"
    }
   ],
   "source": [
    "# get an element (negative index)\n",
    "fruits[-2]"
   ]
  },
  {
   "cell_type": "code",
   "execution_count": 194,
   "id": "baf0ab0d",
   "metadata": {},
   "outputs": [
    {
     "data": {
      "text/plain": [
       "True"
      ]
     },
     "execution_count": 194,
     "metadata": {},
     "output_type": "execute_result"
    }
   ],
   "source": [
    "# check if it contains an element\n",
    "'dates' in fruits"
   ]
  },
  {
   "cell_type": "code",
   "execution_count": 195,
   "id": "1ed57690",
   "metadata": {},
   "outputs": [
    {
     "ename": "TypeError",
     "evalue": "'tuple' object does not support item assignment",
     "output_type": "error",
     "traceback": [
      "\u001b[1;31m---------------------------------------------------------------------------\u001b[0m",
      "\u001b[1;31mTypeError\u001b[0m                                 Traceback (most recent call last)",
      "\u001b[1;32m<ipython-input-195-eea1d48cc8b5>\u001b[0m in \u001b[0;36m<module>\u001b[1;34m\u001b[0m\n\u001b[0;32m      1\u001b[0m \u001b[1;31m# try to change an element\u001b[0m\u001b[1;33m\u001b[0m\u001b[1;33m\u001b[0m\u001b[1;33m\u001b[0m\u001b[0m\n\u001b[1;32m----> 2\u001b[1;33m \u001b[0mfruits\u001b[0m\u001b[1;33m[\u001b[0m\u001b[1;36m0\u001b[0m\u001b[1;33m]\u001b[0m \u001b[1;33m=\u001b[0m \u001b[1;34m'avocado'\u001b[0m\u001b[1;33m\u001b[0m\u001b[1;33m\u001b[0m\u001b[0m\n\u001b[0m",
      "\u001b[1;31mTypeError\u001b[0m: 'tuple' object does not support item assignment"
     ]
    }
   ],
   "source": [
    "# try to change an element\n",
    "fruits[0] = 'avocado'"
   ]
  },
  {
   "cell_type": "code",
   "execution_count": 196,
   "id": "d65881bb",
   "metadata": {},
   "outputs": [
    {
     "ename": "AttributeError",
     "evalue": "'tuple' object has no attribute 'append'",
     "output_type": "error",
     "traceback": [
      "\u001b[1;31m---------------------------------------------------------------------------\u001b[0m",
      "\u001b[1;31mAttributeError\u001b[0m                            Traceback (most recent call last)",
      "\u001b[1;32m<ipython-input-196-e5ea20adaaf8>\u001b[0m in \u001b[0;36m<module>\u001b[1;34m\u001b[0m\n\u001b[0;32m      1\u001b[0m \u001b[1;31m# try to append an element\u001b[0m\u001b[1;33m\u001b[0m\u001b[1;33m\u001b[0m\u001b[1;33m\u001b[0m\u001b[0m\n\u001b[1;32m----> 2\u001b[1;33m \u001b[0mfruits\u001b[0m\u001b[1;33m.\u001b[0m\u001b[0mappend\u001b[0m\u001b[1;33m(\u001b[0m\u001b[1;34m'blueberry'\u001b[0m\u001b[1;33m)\u001b[0m\u001b[1;33m\u001b[0m\u001b[1;33m\u001b[0m\u001b[0m\n\u001b[0m",
      "\u001b[1;31mAttributeError\u001b[0m: 'tuple' object has no attribute 'append'"
     ]
    }
   ],
   "source": [
    "# try to append an element\n",
    "fruits.append('blueberry')"
   ]
  },
  {
   "cell_type": "code",
   "execution_count": 197,
   "id": "d909a43f",
   "metadata": {},
   "outputs": [
    {
     "ename": "AttributeError",
     "evalue": "'tuple' object has no attribute 'remove'",
     "output_type": "error",
     "traceback": [
      "\u001b[1;31m---------------------------------------------------------------------------\u001b[0m",
      "\u001b[1;31mAttributeError\u001b[0m                            Traceback (most recent call last)",
      "\u001b[1;32m<ipython-input-197-37543d45b6b4>\u001b[0m in \u001b[0;36m<module>\u001b[1;34m\u001b[0m\n\u001b[0;32m      1\u001b[0m \u001b[1;31m# try to remove an element\u001b[0m\u001b[1;33m\u001b[0m\u001b[1;33m\u001b[0m\u001b[1;33m\u001b[0m\u001b[0m\n\u001b[1;32m----> 2\u001b[1;33m \u001b[0mfruits\u001b[0m\u001b[1;33m.\u001b[0m\u001b[0mremove\u001b[0m\u001b[1;33m(\u001b[0m\u001b[1;34m'apple'\u001b[0m\u001b[1;33m)\u001b[0m\u001b[1;33m\u001b[0m\u001b[1;33m\u001b[0m\u001b[0m\n\u001b[0m",
      "\u001b[1;31mAttributeError\u001b[0m: 'tuple' object has no attribute 'remove'"
     ]
    }
   ],
   "source": [
    "# try to remove an element\n",
    "fruits.remove('apple')"
   ]
  },
  {
   "cell_type": "code",
   "execution_count": 198,
   "id": "5c463e32",
   "metadata": {},
   "outputs": [],
   "source": [
    "the_3_musketeers = 'Athos', 'Porthos', 'Aramis'"
   ]
  },
  {
   "cell_type": "code",
   "execution_count": 199,
   "id": "0c64b651",
   "metadata": {},
   "outputs": [
    {
     "data": {
      "text/plain": [
       "('Athos', 'Porthos', 'Aramis')"
      ]
     },
     "execution_count": 199,
     "metadata": {},
     "output_type": "execute_result"
    }
   ],
   "source": [
    "the_3_musketeers"
   ]
  },
  {
   "cell_type": "markdown",
   "id": "deaf20ce",
   "metadata": {},
   "source": [
    "You can also create a tuple with just one element by typing a comma after it. Just wrapping it with parentheses `(` and `)` won't make it a tuple."
   ]
  },
  {
   "cell_type": "code",
   "execution_count": 200,
   "id": "531c71a2",
   "metadata": {},
   "outputs": [],
   "source": [
    "single_element_tuple = 4,"
   ]
  },
  {
   "cell_type": "code",
   "execution_count": 201,
   "id": "743255d8",
   "metadata": {},
   "outputs": [
    {
     "data": {
      "text/plain": [
       "(4,)"
      ]
     },
     "execution_count": 201,
     "metadata": {},
     "output_type": "execute_result"
    }
   ],
   "source": [
    "single_element_tuple"
   ]
  },
  {
   "cell_type": "code",
   "execution_count": 202,
   "id": "ad53709f",
   "metadata": {},
   "outputs": [],
   "source": [
    "another_single_element_tuple = (4,)"
   ]
  },
  {
   "cell_type": "code",
   "execution_count": 203,
   "id": "84f1577c",
   "metadata": {},
   "outputs": [
    {
     "data": {
      "text/plain": [
       "(4,)"
      ]
     },
     "execution_count": 203,
     "metadata": {},
     "output_type": "execute_result"
    }
   ],
   "source": [
    "another_single_element_tuple"
   ]
  },
  {
   "cell_type": "code",
   "execution_count": 205,
   "id": "4887ab9a",
   "metadata": {},
   "outputs": [],
   "source": [
    "not_a_tuple = (4)"
   ]
  },
  {
   "cell_type": "code",
   "execution_count": 206,
   "id": "064af91f",
   "metadata": {},
   "outputs": [
    {
     "data": {
      "text/plain": [
       "4"
      ]
     },
     "execution_count": 206,
     "metadata": {},
     "output_type": "execute_result"
    }
   ],
   "source": [
    "not_a_tuple"
   ]
  },
  {
   "cell_type": "markdown",
   "id": "efcfdba5",
   "metadata": {},
   "source": [
    "Tuples are often used to create multiple variables with a single statement."
   ]
  },
  {
   "cell_type": "code",
   "execution_count": 207,
   "id": "64449a3e",
   "metadata": {},
   "outputs": [],
   "source": [
    "point = (3, 4)"
   ]
  },
  {
   "cell_type": "code",
   "execution_count": 208,
   "id": "5b89654b",
   "metadata": {},
   "outputs": [],
   "source": [
    "point_x, point_y = point"
   ]
  },
  {
   "cell_type": "code",
   "execution_count": 209,
   "id": "24909f30",
   "metadata": {},
   "outputs": [
    {
     "data": {
      "text/plain": [
       "3"
      ]
     },
     "execution_count": 209,
     "metadata": {},
     "output_type": "execute_result"
    }
   ],
   "source": [
    "point_x"
   ]
  },
  {
   "cell_type": "code",
   "execution_count": 210,
   "id": "0f336210",
   "metadata": {},
   "outputs": [
    {
     "data": {
      "text/plain": [
       "4"
      ]
     },
     "execution_count": 210,
     "metadata": {},
     "output_type": "execute_result"
    }
   ],
   "source": [
    "point_y"
   ]
  },
  {
   "cell_type": "markdown",
   "id": "c9328c0b",
   "metadata": {},
   "source": [
    "You can convert a list into a tuple using the `tuple` function, and vice versa using the `list` function"
   ]
  },
  {
   "cell_type": "code",
   "execution_count": 211,
   "id": "ea7d8f5b",
   "metadata": {},
   "outputs": [
    {
     "data": {
      "text/plain": [
       "('one', 'two', 'three')"
      ]
     },
     "execution_count": 211,
     "metadata": {},
     "output_type": "execute_result"
    }
   ],
   "source": [
    "tuple(['one', 'two', 'three'])"
   ]
  },
  {
   "cell_type": "code",
   "execution_count": 212,
   "id": "68e0140e",
   "metadata": {},
   "outputs": [
    {
     "data": {
      "text/plain": [
       "['Athos', 'Porthos', 'Aramis']"
      ]
     },
     "execution_count": 212,
     "metadata": {},
     "output_type": "execute_result"
    }
   ],
   "source": [
    "list(('Athos', 'Porthos', 'Aramis'))"
   ]
  },
  {
   "cell_type": "markdown",
   "id": "b595b0fe",
   "metadata": {},
   "source": [
    "Tuples have just two built-in methods: `count` and `index`. Can you figure out what they do? While you look could look for documentation and examples online, there's an easier way to check a method's documentation, using the `help` function."
   ]
  },
  {
   "cell_type": "code",
   "execution_count": 214,
   "id": "4717f5f3",
   "metadata": {},
   "outputs": [],
   "source": [
    "a_tuple = 23, \"hello\", False, None, 23, 37, \"hello\""
   ]
  },
  {
   "cell_type": "code",
   "execution_count": 215,
   "id": "380c5625",
   "metadata": {},
   "outputs": [
    {
     "name": "stdout",
     "output_type": "stream",
     "text": [
      "Help on built-in function count:\n",
      "\n",
      "count(value, /) method of builtins.tuple instance\n",
      "    Return number of occurrences of value.\n",
      "\n"
     ]
    }
   ],
   "source": [
    "help(a_tuple.count)"
   ]
  },
  {
   "cell_type": "code",
   "execution_count": 216,
   "id": "0292f937",
   "metadata": {},
   "outputs": [],
   "source": [
    "?a_tuple.index"
   ]
  },
  {
   "cell_type": "markdown",
   "id": "b9e46319",
   "metadata": {},
   "source": [
    "### Dictionary\n",
    "\n",
    "A dictionary is an unordered collection of items. Each item stored in a dictionary has a key and value. You can use a key to retrieve the corresponding value from the dictionary.  Dictionaries have the type `dict`.\n",
    "\n",
    "Dictionaries are often used to store many pieces of information e.g. details about a person, in a single variable. Dictionaries are created by enclosing key-value pairs within braces or curly brackets `{` and `}`."
   ]
  },
  {
   "cell_type": "code",
   "execution_count": 217,
   "id": "717ab04d",
   "metadata": {},
   "outputs": [],
   "source": [
    "person1 = {\n",
    "    'name': 'John Doe',\n",
    "    'sex': 'Male',\n",
    "    'age': 32,\n",
    "    'married': True\n",
    "}"
   ]
  },
  {
   "cell_type": "code",
   "execution_count": 218,
   "id": "184118b8",
   "metadata": {},
   "outputs": [
    {
     "data": {
      "text/plain": [
       "{'name': 'John Doe', 'sex': 'Male', 'age': 32, 'married': True}"
      ]
     },
     "execution_count": 218,
     "metadata": {},
     "output_type": "execute_result"
    }
   ],
   "source": [
    "person1"
   ]
  },
  {
   "cell_type": "markdown",
   "id": "8bbd268e",
   "metadata": {},
   "source": [
    "Dictionaries can also be created using the `dict` function."
   ]
  },
  {
   "cell_type": "code",
   "execution_count": 221,
   "id": "cc36bed1",
   "metadata": {},
   "outputs": [],
   "source": [
    "person2 = dict(name='Jane Judy', sex='Female', age=28, married=False)"
   ]
  },
  {
   "cell_type": "code",
   "execution_count": 222,
   "id": "b035de70",
   "metadata": {},
   "outputs": [
    {
     "data": {
      "text/plain": [
       "{'name': 'Jane Judy', 'sex': 'Female', 'age': 28, 'married': False}"
      ]
     },
     "execution_count": 222,
     "metadata": {},
     "output_type": "execute_result"
    }
   ],
   "source": [
    "person2"
   ]
  },
  {
   "cell_type": "code",
   "execution_count": 223,
   "id": "7a13b1c8",
   "metadata": {},
   "outputs": [
    {
     "data": {
      "text/plain": [
       "dict"
      ]
     },
     "execution_count": 223,
     "metadata": {},
     "output_type": "execute_result"
    }
   ],
   "source": [
    "type(person1)"
   ]
  },
  {
   "cell_type": "markdown",
   "id": "7482521b",
   "metadata": {},
   "source": [
    "Keys can be used to access values using square brackets `[` and `]`."
   ]
  },
  {
   "cell_type": "code",
   "execution_count": 224,
   "id": "43adce8e",
   "metadata": {},
   "outputs": [
    {
     "data": {
      "text/plain": [
       "'John Doe'"
      ]
     },
     "execution_count": 224,
     "metadata": {},
     "output_type": "execute_result"
    }
   ],
   "source": [
    "person1['name']"
   ]
  },
  {
   "cell_type": "code",
   "execution_count": 225,
   "id": "2b074047",
   "metadata": {},
   "outputs": [
    {
     "data": {
      "text/plain": [
       "True"
      ]
     },
     "execution_count": 225,
     "metadata": {},
     "output_type": "execute_result"
    }
   ],
   "source": [
    "person1['married']"
   ]
  },
  {
   "cell_type": "code",
   "execution_count": 226,
   "id": "efee38b3",
   "metadata": {},
   "outputs": [
    {
     "data": {
      "text/plain": [
       "'Jane Judy'"
      ]
     },
     "execution_count": 226,
     "metadata": {},
     "output_type": "execute_result"
    }
   ],
   "source": [
    "person2['name']"
   ]
  },
  {
   "cell_type": "markdown",
   "id": "9b1eea64",
   "metadata": {},
   "source": [
    "If a key isn't present in the dictionary, then a `KeyError` is *thrown*."
   ]
  },
  {
   "cell_type": "code",
   "execution_count": 227,
   "id": "4d76ff43",
   "metadata": {},
   "outputs": [
    {
     "ename": "KeyError",
     "evalue": "'address'",
     "output_type": "error",
     "traceback": [
      "\u001b[1;31m---------------------------------------------------------------------------\u001b[0m",
      "\u001b[1;31mKeyError\u001b[0m                                  Traceback (most recent call last)",
      "\u001b[1;32m<ipython-input-227-f2b8bd2476d4>\u001b[0m in \u001b[0;36m<module>\u001b[1;34m\u001b[0m\n\u001b[1;32m----> 1\u001b[1;33m \u001b[0mperson1\u001b[0m\u001b[1;33m[\u001b[0m\u001b[1;34m'address'\u001b[0m\u001b[1;33m]\u001b[0m\u001b[1;33m\u001b[0m\u001b[1;33m\u001b[0m\u001b[0m\n\u001b[0m",
      "\u001b[1;31mKeyError\u001b[0m: 'address'"
     ]
    }
   ],
   "source": [
    "person1['address']"
   ]
  },
  {
   "cell_type": "code",
   "execution_count": 228,
   "id": "01bff7b7",
   "metadata": {},
   "outputs": [
    {
     "data": {
      "text/plain": [
       "'Jane Judy'"
      ]
     },
     "execution_count": 228,
     "metadata": {},
     "output_type": "execute_result"
    }
   ],
   "source": [
    "person2.get(\"name\")"
   ]
  },
  {
   "cell_type": "code",
   "execution_count": 229,
   "id": "b4648c89",
   "metadata": {},
   "outputs": [
    {
     "data": {
      "text/plain": [
       "'Jane Judy'"
      ]
     },
     "execution_count": 229,
     "metadata": {},
     "output_type": "execute_result"
    }
   ],
   "source": [
    "person2.get(\"name\")"
   ]
  },
  {
   "cell_type": "markdown",
   "id": "aaa46c51",
   "metadata": {},
   "source": [
    "The `get` method also accepts a default value, returned if the key is not present in the dictionary."
   ]
  },
  {
   "cell_type": "code",
   "execution_count": 230,
   "id": "3825778e",
   "metadata": {},
   "outputs": [
    {
     "data": {
      "text/plain": [
       "True"
      ]
     },
     "execution_count": 230,
     "metadata": {},
     "output_type": "execute_result"
    }
   ],
   "source": [
    "'name' in person1"
   ]
  },
  {
   "cell_type": "code",
   "execution_count": 231,
   "id": "7c238362",
   "metadata": {},
   "outputs": [
    {
     "data": {
      "text/plain": [
       "False"
      ]
     },
     "execution_count": 231,
     "metadata": {},
     "output_type": "execute_result"
    }
   ],
   "source": [
    "'address' in person1"
   ]
  },
  {
   "cell_type": "markdown",
   "id": "756ba42a",
   "metadata": {},
   "source": [
    "You can change the value associated with a key using the assignment operator."
   ]
  },
  {
   "cell_type": "code",
   "execution_count": 233,
   "id": "4b5689bf",
   "metadata": {},
   "outputs": [
    {
     "data": {
      "text/plain": [
       "False"
      ]
     },
     "execution_count": 233,
     "metadata": {},
     "output_type": "execute_result"
    }
   ],
   "source": [
    "person2['married']"
   ]
  },
  {
   "cell_type": "code",
   "execution_count": 234,
   "id": "a0ef9628",
   "metadata": {},
   "outputs": [],
   "source": [
    "person2['married'] = True"
   ]
  },
  {
   "cell_type": "code",
   "execution_count": 235,
   "id": "701da83d",
   "metadata": {},
   "outputs": [
    {
     "data": {
      "text/plain": [
       "True"
      ]
     },
     "execution_count": 235,
     "metadata": {},
     "output_type": "execute_result"
    }
   ],
   "source": [
    "person2['married']"
   ]
  },
  {
   "cell_type": "markdown",
   "id": "177c7738",
   "metadata": {},
   "source": [
    "The assignment operator can also be used to add new key-value pairs to the dictionary."
   ]
  },
  {
   "cell_type": "code",
   "execution_count": 236,
   "id": "71ebe471",
   "metadata": {},
   "outputs": [
    {
     "data": {
      "text/plain": [
       "{'name': 'John Doe', 'sex': 'Male', 'age': 32, 'married': True}"
      ]
     },
     "execution_count": 236,
     "metadata": {},
     "output_type": "execute_result"
    }
   ],
   "source": [
    "person1"
   ]
  },
  {
   "cell_type": "code",
   "execution_count": 238,
   "id": "ad9beefc",
   "metadata": {},
   "outputs": [],
   "source": [
    "person1['address'] = '1, Penny Lane'"
   ]
  },
  {
   "cell_type": "code",
   "execution_count": 239,
   "id": "34503e8b",
   "metadata": {},
   "outputs": [
    {
     "data": {
      "text/plain": [
       "{'name': 'John Doe',\n",
       " 'sex': 'Male',\n",
       " 'age': 32,\n",
       " 'married': True,\n",
       " 'address': '1, Penny Lane'}"
      ]
     },
     "execution_count": 239,
     "metadata": {},
     "output_type": "execute_result"
    }
   ],
   "source": [
    "person1"
   ]
  },
  {
   "cell_type": "markdown",
   "id": "261468ef",
   "metadata": {},
   "source": [
    "To remove a key and the associated value from a dictionary, use the `pop` method."
   ]
  },
  {
   "cell_type": "code",
   "execution_count": 240,
   "id": "c8ba8913",
   "metadata": {},
   "outputs": [
    {
     "data": {
      "text/plain": [
       "'1, Penny Lane'"
      ]
     },
     "execution_count": 240,
     "metadata": {},
     "output_type": "execute_result"
    }
   ],
   "source": [
    "person1.pop('address')"
   ]
  },
  {
   "cell_type": "code",
   "execution_count": 241,
   "id": "2deef883",
   "metadata": {},
   "outputs": [
    {
     "data": {
      "text/plain": [
       "{'name': 'John Doe', 'sex': 'Male', 'age': 32, 'married': True}"
      ]
     },
     "execution_count": 241,
     "metadata": {},
     "output_type": "execute_result"
    }
   ],
   "source": [
    "person1"
   ]
  },
  {
   "cell_type": "markdown",
   "id": "27e59a10",
   "metadata": {},
   "source": [
    "Dictionaries also provide methods to view the list of keys, values, or key-value pairs inside it."
   ]
  },
  {
   "cell_type": "code",
   "execution_count": 242,
   "id": "825af01b",
   "metadata": {},
   "outputs": [
    {
     "data": {
      "text/plain": [
       "dict_keys(['name', 'sex', 'age', 'married'])"
      ]
     },
     "execution_count": 242,
     "metadata": {},
     "output_type": "execute_result"
    }
   ],
   "source": [
    "person1.keys()"
   ]
  },
  {
   "cell_type": "code",
   "execution_count": 243,
   "id": "09acd73d",
   "metadata": {},
   "outputs": [
    {
     "data": {
      "text/plain": [
       "dict_values(['John Doe', 'Male', 32, True])"
      ]
     },
     "execution_count": 243,
     "metadata": {},
     "output_type": "execute_result"
    }
   ],
   "source": [
    "person1.values()"
   ]
  },
  {
   "cell_type": "code",
   "execution_count": 244,
   "id": "96b43a80",
   "metadata": {},
   "outputs": [
    {
     "data": {
      "text/plain": [
       "dict_items([('name', 'John Doe'), ('sex', 'Male'), ('age', 32), ('married', True)])"
      ]
     },
     "execution_count": 244,
     "metadata": {},
     "output_type": "execute_result"
    }
   ],
   "source": [
    "person1.items()"
   ]
  },
  {
   "cell_type": "code",
   "execution_count": 245,
   "id": "ae317277",
   "metadata": {},
   "outputs": [
    {
     "ename": "TypeError",
     "evalue": "'dict_items' object is not subscriptable",
     "output_type": "error",
     "traceback": [
      "\u001b[1;31m---------------------------------------------------------------------------\u001b[0m",
      "\u001b[1;31mTypeError\u001b[0m                                 Traceback (most recent call last)",
      "\u001b[1;32m<ipython-input-245-b9fb361f2a9e>\u001b[0m in \u001b[0;36m<module>\u001b[1;34m\u001b[0m\n\u001b[1;32m----> 1\u001b[1;33m \u001b[0mperson1\u001b[0m\u001b[1;33m.\u001b[0m\u001b[0mitems\u001b[0m\u001b[1;33m(\u001b[0m\u001b[1;33m)\u001b[0m\u001b[1;33m[\u001b[0m\u001b[1;36m1\u001b[0m\u001b[1;33m]\u001b[0m\u001b[1;33m\u001b[0m\u001b[1;33m\u001b[0m\u001b[0m\n\u001b[0m",
      "\u001b[1;31mTypeError\u001b[0m: 'dict_items' object is not subscriptable"
     ]
    }
   ],
   "source": [
    "person1.items()[1]"
   ]
  },
  {
   "cell_type": "markdown",
   "id": "c51eda4c",
   "metadata": {},
   "source": [
    "The results of `keys`, `values`, and `items` look like lists. However, they don't support the indexing operator `[]` for retrieving elements. \n",
    "\n",
    "Can you figure out how to access an element at a specific index from these results? Try it below. *Hint: Use the `list` function*"
   ]
  },
  {
   "cell_type": "code",
   "execution_count": null,
   "id": "8b486819",
   "metadata": {},
   "outputs": [],
   "source": []
  }
 ],
 "metadata": {
  "kernelspec": {
   "display_name": "Python 3",
   "language": "python",
   "name": "python3"
  },
  "language_info": {
   "codemirror_mode": {
    "name": "ipython",
    "version": 3
   },
   "file_extension": ".py",
   "mimetype": "text/x-python",
   "name": "python",
   "nbconvert_exporter": "python",
   "pygments_lexer": "ipython3",
   "version": "3.8.8"
  },
  "varInspector": {
   "cols": {
    "lenName": 16,
    "lenType": 16,
    "lenVar": 40
   },
   "kernels_config": {
    "python": {
     "delete_cmd_postfix": "",
     "delete_cmd_prefix": "del ",
     "library": "var_list.py",
     "varRefreshCmd": "print(var_dic_list())"
    },
    "r": {
     "delete_cmd_postfix": ") ",
     "delete_cmd_prefix": "rm(",
     "library": "var_list.r",
     "varRefreshCmd": "cat(var_dic_list()) "
    }
   },
   "types_to_exclude": [
    "module",
    "function",
    "builtin_function_or_method",
    "instance",
    "_Feature"
   ],
   "window_display": false
  }
 },
 "nbformat": 4,
 "nbformat_minor": 5
}
