{
 "cells": [
  {
   "cell_type": "markdown",
   "id": "aff2e3fb",
   "metadata": {},
   "source": [
    "# This is Python Tutorial"
   ]
  },
  {
   "cell_type": "markdown",
   "id": "10d435cc",
   "metadata": {},
   "source": [
    "This is our first program in python and it is very fun."
   ]
  },
  {
   "cell_type": "code",
   "execution_count": 4,
   "id": "fb8b29e0",
   "metadata": {
    "scrolled": true
   },
   "outputs": [
    {
     "name": "stdout",
     "output_type": "stream",
     "text": [
      "Hello World\n"
     ]
    }
   ],
   "source": [
    "print(\"Hello World\")"
   ]
  },
  {
   "cell_type": "markdown",
   "id": "59ee7990",
   "metadata": {},
   "source": [
    "$a=b+c$"
   ]
  },
  {
   "cell_type": "markdown",
   "id": "bea5edbd",
   "metadata": {},
   "source": [
    "Always check shortcut for much efficient lyfe :)"
   ]
  },
  {
   "cell_type": "markdown",
   "id": "df8506a3",
   "metadata": {},
   "source": [
    "# Variables"
   ]
  },
  {
   "cell_type": "code",
   "execution_count": 41,
   "id": "f316cafa",
   "metadata": {},
   "outputs": [],
   "source": [
    "x = 3"
   ]
  },
  {
   "cell_type": "code",
   "execution_count": 42,
   "id": "724f2ed8",
   "metadata": {},
   "outputs": [
    {
     "name": "stdout",
     "output_type": "stream",
     "text": [
      "No variables match your requested type.\n"
     ]
    }
   ],
   "source": [
    "%whos  #to check how many variables have assign in note book."
   ]
  },
  {
   "cell_type": "code",
   "execution_count": 43,
   "id": "02402c4e",
   "metadata": {},
   "outputs": [
    {
     "name": "stdout",
     "output_type": "stream",
     "text": [
      "<class 'int'>\n"
     ]
    }
   ],
   "source": [
    "print(type(x))  #to find out what type of variable that we assign."
   ]
  },
  {
   "cell_type": "code",
   "execution_count": 44,
   "id": "0de1e8fe",
   "metadata": {},
   "outputs": [],
   "source": [
    "x = 5.7"
   ]
  },
  {
   "cell_type": "code",
   "execution_count": 45,
   "id": "fea6d3f8",
   "metadata": {},
   "outputs": [
    {
     "name": "stdout",
     "output_type": "stream",
     "text": [
      "Variable   Type     Data/Info\n",
      "-----------------------------\n",
      "a          int      3\n",
      "c          float    6.0\n",
      "d          float    7.1\n",
      "e          int      -3\n",
      "f          int      -3\n",
      "x          float    5.7\n"
     ]
    }
   ],
   "source": [
    "%whos"
   ]
  },
  {
   "cell_type": "code",
   "execution_count": 12,
   "id": "5e901463",
   "metadata": {},
   "outputs": [
    {
     "name": "stdout",
     "output_type": "stream",
     "text": [
      "<class 'float'>\n"
     ]
    }
   ],
   "source": [
    "print (type(x))"
   ]
  },
  {
   "cell_type": "code",
   "execution_count": 46,
   "id": "55a55162",
   "metadata": {},
   "outputs": [],
   "source": [
    "y=23"
   ]
  },
  {
   "cell_type": "code",
   "execution_count": 47,
   "id": "4ba3ffd8",
   "metadata": {},
   "outputs": [
    {
     "name": "stdout",
     "output_type": "stream",
     "text": [
      "Variable   Type     Data/Info\n",
      "-----------------------------\n",
      "a          int      3\n",
      "c          float    6.0\n",
      "d          float    7.1\n",
      "e          int      -3\n",
      "f          int      -3\n",
      "x          float    5.7\n",
      "y          int      23\n"
     ]
    }
   ],
   "source": [
    "%whos"
   ]
  },
  {
   "cell_type": "code",
   "execution_count": 48,
   "id": "463b4a6a",
   "metadata": {},
   "outputs": [],
   "source": [
    "a,b,c,d,e = 3,5,6.0,7.1,-3"
   ]
  },
  {
   "cell_type": "code",
   "execution_count": 35,
   "id": "86bc078a",
   "metadata": {},
   "outputs": [
    {
     "name": "stdout",
     "output_type": "stream",
     "text": [
      "Variable   Type     Data/Info\n",
      "-----------------------------\n",
      "a          int      3\n",
      "b          int      5\n",
      "c          float    6.0\n",
      "d          float    7.1\n",
      "e          int      -3\n",
      "f          int      -3\n",
      "x          float    5.7\n",
      "y          int      23\n"
     ]
    }
   ],
   "source": [
    "%whos"
   ]
  },
  {
   "cell_type": "code",
   "execution_count": 49,
   "id": "08e72e6e",
   "metadata": {},
   "outputs": [],
   "source": [
    "del f"
   ]
  },
  {
   "cell_type": "code",
   "execution_count": 50,
   "id": "d31b949c",
   "metadata": {},
   "outputs": [
    {
     "ename": "NameError",
     "evalue": "name 'f' is not defined",
     "output_type": "error",
     "traceback": [
      "\u001b[1;31m---------------------------------------------------------------------------\u001b[0m",
      "\u001b[1;31mNameError\u001b[0m                                 Traceback (most recent call last)",
      "\u001b[1;32m<ipython-input-50-cd9dd56e7952>\u001b[0m in \u001b[0;36m<module>\u001b[1;34m\u001b[0m\n\u001b[1;32m----> 1\u001b[1;33m \u001b[0mprint\u001b[0m\u001b[1;33m(\u001b[0m\u001b[0mf\u001b[0m\u001b[1;33m)\u001b[0m \u001b[1;31m# error is cameout since we already delete the data for variables f\u001b[0m\u001b[1;33m\u001b[0m\u001b[1;33m\u001b[0m\u001b[0m\n\u001b[0m",
      "\u001b[1;31mNameError\u001b[0m: name 'f' is not defined"
     ]
    }
   ],
   "source": [
    "print(f) # error is cameout since we already delete the data for variables f"
   ]
  },
  {
   "cell_type": "code",
   "execution_count": 51,
   "id": "0f2f6d07",
   "metadata": {},
   "outputs": [
    {
     "name": "stdout",
     "output_type": "stream",
     "text": [
      "Variable   Type     Data/Info\n",
      "-----------------------------\n",
      "a          int      3\n",
      "b          int      5\n",
      "c          float    6.0\n",
      "d          float    7.1\n",
      "e          int      -3\n",
      "x          float    5.7\n",
      "y          int      23\n"
     ]
    }
   ],
   "source": [
    "%whos"
   ]
  },
  {
   "cell_type": "code",
   "execution_count": 52,
   "id": "84eef8e1",
   "metadata": {},
   "outputs": [],
   "source": [
    "f = \"Hello how are you\""
   ]
  },
  {
   "cell_type": "code",
   "execution_count": 53,
   "id": "99d0d6ca",
   "metadata": {},
   "outputs": [
    {
     "name": "stdout",
     "output_type": "stream",
     "text": [
      "<class 'str'>\n"
     ]
    }
   ],
   "source": [
    "print (type(f))"
   ]
  },
  {
   "cell_type": "code",
   "execution_count": 55,
   "id": "c39cc155",
   "metadata": {},
   "outputs": [
    {
     "name": "stdout",
     "output_type": "stream",
     "text": [
      "Variable   Type     Data/Info\n",
      "-----------------------------\n",
      "a          int      3\n",
      "b          int      5\n",
      "c          float    6.0\n",
      "d          float    7.1\n",
      "e          int      -3\n",
      "x          float    5.7\n",
      "y          int      23\n"
     ]
    }
   ],
   "source": [
    "%whos # int for non-decimal / float for decimal / string for words"
   ]
  },
  {
   "cell_type": "markdown",
   "id": "07c87a2e",
   "metadata": {},
   "source": [
    "# Operators \n",
    "(Symbol /Variables)\n",
    "((+)      Addition)/\n",
    "((-)      Subtraction)/\n",
    "((/)      Division)/\n",
    "((%)      Mod)/\n",
    "((8)      Multiplication)/\n",
    "((//)     Floor Division)/\n",
    "((88)     to the power of)\n"
   ]
  },
  {
   "cell_type": "code",
   "execution_count": 56,
   "id": "e277ecc7",
   "metadata": {},
   "outputs": [
    {
     "name": "stdout",
     "output_type": "stream",
     "text": [
      "Variable   Type     Data/Info\n",
      "-----------------------------\n",
      "a          int      3\n",
      "b          int      5\n",
      "c          float    6.0\n",
      "d          float    7.1\n",
      "e          int      -3\n",
      "f          str      Hello how are you\n",
      "x          float    5.7\n",
      "y          int      23\n"
     ]
    }
   ],
   "source": [
    "%whos"
   ]
  },
  {
   "cell_type": "code",
   "execution_count": 57,
   "id": "5b99cbd4",
   "metadata": {},
   "outputs": [],
   "source": [
    "sum_ab = a+b"
   ]
  },
  {
   "cell_type": "code",
   "execution_count": 58,
   "id": "5c293693",
   "metadata": {},
   "outputs": [
    {
     "name": "stdout",
     "output_type": "stream",
     "text": [
      "8\n"
     ]
    }
   ],
   "source": [
    "print(sum_ab)\n"
   ]
  },
  {
   "cell_type": "code",
   "execution_count": 59,
   "id": "d7b37234",
   "metadata": {},
   "outputs": [
    {
     "data": {
      "text/plain": [
       "int"
      ]
     },
     "execution_count": 59,
     "metadata": {},
     "output_type": "execute_result"
    }
   ],
   "source": [
    "type(sum_ab)"
   ]
  },
  {
   "cell_type": "code",
   "execution_count": 60,
   "id": "984d6cb8",
   "metadata": {},
   "outputs": [
    {
     "name": "stdout",
     "output_type": "stream",
     "text": [
      "<class 'int'>\n"
     ]
    }
   ],
   "source": [
    "print(type(sum_ab))"
   ]
  },
  {
   "cell_type": "code",
   "execution_count": 61,
   "id": "ff0df3ee",
   "metadata": {},
   "outputs": [
    {
     "data": {
      "text/plain": [
       "float"
      ]
     },
     "execution_count": 61,
     "metadata": {},
     "output_type": "execute_result"
    }
   ],
   "source": [
    "type(a+d)"
   ]
  },
  {
   "cell_type": "code",
   "execution_count": 62,
   "id": "eed23847",
   "metadata": {},
   "outputs": [],
   "source": [
    "v=((a+d)**3)/4"
   ]
  },
  {
   "cell_type": "code",
   "execution_count": 63,
   "id": "9db18759",
   "metadata": {},
   "outputs": [
    {
     "name": "stdout",
     "output_type": "stream",
     "text": [
      "257.57525\n"
     ]
    }
   ],
   "source": [
    "print(v)"
   ]
  },
  {
   "cell_type": "code",
   "execution_count": 65,
   "id": "0fe46c15",
   "metadata": {},
   "outputs": [
    {
     "name": "stdout",
     "output_type": "stream",
     "text": [
      "helloworld\n"
     ]
    }
   ],
   "source": [
    "s1=\"hello\"\n",
    "s2=\"world\"\n",
    "s = s1+s2\n",
    "print (s)"
   ]
  },
  {
   "cell_type": "markdown",
   "id": "fcc8eea8",
   "metadata": {},
   "source": [
    "Tips\n",
    "*Dunt assign \"_\" only as variables if you do then you will not be able to used it in future for another assign variables."
   ]
  },
  {
   "cell_type": "code",
   "execution_count": 67,
   "id": "e830067d",
   "metadata": {},
   "outputs": [
    {
     "ename": "SyntaxError",
     "evalue": "invalid syntax (<ipython-input-67-cd9f790baeff>, line 1)",
     "output_type": "error",
     "traceback": [
      "\u001b[1;36m  File \u001b[1;32m\"<ipython-input-67-cd9f790baeff>\"\u001b[1;36m, line \u001b[1;32m1\u001b[0m\n\u001b[1;33m    3x= 3 #Variable name cannot be start with number and some of hash symbol.\u001b[0m\n\u001b[1;37m     ^\u001b[0m\n\u001b[1;31mSyntaxError\u001b[0m\u001b[1;31m:\u001b[0m invalid syntax\n"
     ]
    }
   ],
   "source": [
    "3x=3 #Variable name cannot be start with number and some of hash symbol."
   ]
  },
  {
   "cell_type": "markdown",
   "id": "44c279aa",
   "metadata": {},
   "source": [
    "# Bool"
   ]
  },
  {
   "cell_type": "code",
   "execution_count": 68,
   "id": "a08bb0d5",
   "metadata": {},
   "outputs": [],
   "source": [
    "a = True\n",
    "b = True\n",
    "c = False"
   ]
  },
  {
   "cell_type": "code",
   "execution_count": 69,
   "id": "dd08c531",
   "metadata": {},
   "outputs": [
    {
     "name": "stdout",
     "output_type": "stream",
     "text": [
      "Variable   Type     Data/Info\n",
      "-----------------------------\n",
      "a          bool     True\n",
      "b          bool     True\n",
      "c          bool     False\n",
      "d          float    7.1\n",
      "e          int      -3\n",
      "f          str      Hello how are you\n",
      "s          str      helloworld\n",
      "s1         str      hello\n",
      "s2         str      world\n",
      "sum_ab     int      8\n",
      "v          float    257.57525\n",
      "x          float    5.7\n",
      "y          int      23\n"
     ]
    }
   ],
   "source": [
    "%whos"
   ]
  },
  {
   "cell_type": "code",
   "execution_count": 70,
   "id": "a84219ac",
   "metadata": {},
   "outputs": [
    {
     "name": "stdout",
     "output_type": "stream",
     "text": [
      "True\n"
     ]
    }
   ],
   "source": [
    "print (a and b)"
   ]
  },
  {
   "cell_type": "code",
   "execution_count": 71,
   "id": "dde1d56c",
   "metadata": {},
   "outputs": [
    {
     "name": "stdout",
     "output_type": "stream",
     "text": [
      "True\n"
     ]
    }
   ],
   "source": [
    "print (b and a)"
   ]
  },
  {
   "cell_type": "code",
   "execution_count": 72,
   "id": "5b322f39",
   "metadata": {},
   "outputs": [
    {
     "name": "stdout",
     "output_type": "stream",
     "text": [
      "False\n"
     ]
    }
   ],
   "source": [
    "print (a and c)"
   ]
  },
  {
   "cell_type": "code",
   "execution_count": 73,
   "id": "77bd081c",
   "metadata": {},
   "outputs": [
    {
     "name": "stdout",
     "output_type": "stream",
     "text": [
      "True\n"
     ]
    }
   ],
   "source": [
    "d = a or c\n",
    "print (d)"
   ]
  },
  {
   "cell_type": "code",
   "execution_count": 74,
   "id": "d0faed56",
   "metadata": {},
   "outputs": [
    {
     "data": {
      "text/plain": [
       "False"
      ]
     },
     "execution_count": 74,
     "metadata": {},
     "output_type": "execute_result"
    }
   ],
   "source": [
    "not(a)"
   ]
  },
  {
   "cell_type": "code",
   "execution_count": 75,
   "id": "cb1b30ba",
   "metadata": {},
   "outputs": [
    {
     "data": {
      "text/plain": [
       "False"
      ]
     },
     "execution_count": 75,
     "metadata": {},
     "output_type": "execute_result"
    }
   ],
   "source": [
    "not(b)"
   ]
  },
  {
   "cell_type": "code",
   "execution_count": 76,
   "id": "971e2c0e",
   "metadata": {},
   "outputs": [
    {
     "data": {
      "text/plain": [
       "True"
      ]
     },
     "execution_count": 76,
     "metadata": {},
     "output_type": "execute_result"
    }
   ],
   "source": [
    "not(c)"
   ]
  },
  {
   "cell_type": "code",
   "execution_count": 77,
   "id": "8560391f",
   "metadata": {},
   "outputs": [
    {
     "data": {
      "text/plain": [
       "False"
      ]
     },
     "execution_count": 77,
     "metadata": {},
     "output_type": "execute_result"
    }
   ],
   "source": [
    "not(d)"
   ]
  },
  {
   "cell_type": "code",
   "execution_count": 78,
   "id": "be1bdeef",
   "metadata": {},
   "outputs": [],
   "source": [
    "t = not(d)"
   ]
  },
  {
   "cell_type": "code",
   "execution_count": 79,
   "id": "ff6949c3",
   "metadata": {},
   "outputs": [
    {
     "data": {
      "text/plain": [
       "bool"
      ]
     },
     "execution_count": 79,
     "metadata": {},
     "output_type": "execute_result"
    }
   ],
   "source": [
    "type (not (d))"
   ]
  },
  {
   "cell_type": "code",
   "execution_count": 80,
   "id": "b78f05ef",
   "metadata": {},
   "outputs": [
    {
     "name": "stdout",
     "output_type": "stream",
     "text": [
      "Variable   Type     Data/Info\n",
      "-----------------------------\n",
      "a          bool     True\n",
      "b          bool     True\n",
      "c          bool     False\n",
      "d          bool     True\n",
      "e          int      -3\n",
      "f          str      Hello how are you\n",
      "s          str      helloworld\n",
      "s1         str      hello\n",
      "s2         str      world\n",
      "sum_ab     int      8\n",
      "t          bool     False\n",
      "v          float    257.57525\n",
      "x          float    5.7\n",
      "y          int      23\n"
     ]
    }
   ],
   "source": [
    "%whos"
   ]
  },
  {
   "cell_type": "code",
   "execution_count": 81,
   "id": "412a5be0",
   "metadata": {},
   "outputs": [
    {
     "data": {
      "text/plain": [
       "False"
      ]
     },
     "execution_count": 81,
     "metadata": {},
     "output_type": "execute_result"
    }
   ],
   "source": [
    "not((a and b)or(c or d))"
   ]
  },
  {
   "cell_type": "code",
   "execution_count": 82,
   "id": "f6b94538",
   "metadata": {},
   "outputs": [
    {
     "data": {
      "text/plain": [
       "True"
      ]
     },
     "execution_count": 82,
     "metadata": {},
     "output_type": "execute_result"
    }
   ],
   "source": [
    "x < y"
   ]
  },
  {
   "cell_type": "code",
   "execution_count": 83,
   "id": "840b4c98",
   "metadata": {},
   "outputs": [
    {
     "data": {
      "text/plain": [
       "False"
      ]
     },
     "execution_count": 83,
     "metadata": {},
     "output_type": "execute_result"
    }
   ],
   "source": [
    "x > y"
   ]
  },
  {
   "cell_type": "markdown",
   "id": "a25f5c5f",
   "metadata": {},
   "source": [
    "# Comparisons"
   ]
  },
  {
   "cell_type": "code",
   "execution_count": 84,
   "id": "f6cd9e6f",
   "metadata": {},
   "outputs": [
    {
     "name": "stdout",
     "output_type": "stream",
     "text": [
      "True\n"
     ]
    }
   ],
   "source": [
    "print (2<3)"
   ]
  },
  {
   "cell_type": "code",
   "execution_count": 85,
   "id": "85c1daed",
   "metadata": {},
   "outputs": [],
   "source": [
    "c = 2<3"
   ]
  },
  {
   "cell_type": "code",
   "execution_count": 87,
   "id": "a7633e02",
   "metadata": {},
   "outputs": [
    {
     "name": "stdout",
     "output_type": "stream",
     "text": [
      "<class 'bool'>\n",
      "True\n"
     ]
    }
   ],
   "source": [
    "print (type(c))\n",
    "print (c)"
   ]
  },
  {
   "cell_type": "code",
   "execution_count": 88,
   "id": "e24db182",
   "metadata": {},
   "outputs": [],
   "source": [
    "d = 3==4"
   ]
  },
  {
   "cell_type": "code",
   "execution_count": 89,
   "id": "6b443a75",
   "metadata": {},
   "outputs": [
    {
     "name": "stdout",
     "output_type": "stream",
     "text": [
      "False\n"
     ]
    }
   ],
   "source": [
    "print (d)"
   ]
  },
  {
   "cell_type": "code",
   "execution_count": 90,
   "id": "f033b4ad",
   "metadata": {},
   "outputs": [
    {
     "data": {
      "text/plain": [
       "True"
      ]
     },
     "execution_count": 90,
     "metadata": {},
     "output_type": "execute_result"
    }
   ],
   "source": [
    "3==3.0"
   ]
  },
  {
   "cell_type": "code",
   "execution_count": 91,
   "id": "b83ccdaf",
   "metadata": {},
   "outputs": [],
   "source": [
    "x = 4\n",
    "y = 9\n",
    "z = 8.3\n",
    "r = -3"
   ]
  },
  {
   "cell_type": "code",
   "execution_count": 92,
   "id": "122cd0a4",
   "metadata": {},
   "outputs": [
    {
     "data": {
      "text/plain": [
       "True"
      ]
     },
     "execution_count": 92,
     "metadata": {},
     "output_type": "execute_result"
    }
   ],
   "source": [
    "(x<y) and (z<y) or (r==x)"
   ]
  },
  {
   "cell_type": "code",
   "execution_count": 94,
   "id": "daa45ada",
   "metadata": {},
   "outputs": [
    {
     "data": {
      "text/plain": [
       "False"
      ]
     },
     "execution_count": 94,
     "metadata": {},
     "output_type": "execute_result"
    }
   ],
   "source": [
    "(r==x) and (x<y) or (z>y) "
   ]
  },
  {
   "cell_type": "code",
   "execution_count": 103,
   "id": "7a5ba072",
   "metadata": {},
   "outputs": [
    {
     "data": {
      "text/plain": [
       "True"
      ]
     },
     "execution_count": 103,
     "metadata": {},
     "output_type": "execute_result"
    }
   ],
   "source": [
    "True or False and False # in this rule \"and\" will applied 1st follow up by \"or\", if there is no brackets."
   ]
  },
  {
   "cell_type": "code",
   "execution_count": 104,
   "id": "89f816b7",
   "metadata": {},
   "outputs": [
    {
     "name": "stdout",
     "output_type": "stream",
     "text": [
      "False\n"
     ]
    }
   ],
   "source": [
    "print((not(2!=3)and True)or (False and True))"
   ]
  },
  {
   "cell_type": "markdown",
   "id": "35cc34ba",
   "metadata": {},
   "source": [
    "Tips UF => $round(x,y)$ // $x$ is value and $y$ is number of decimal."
   ]
  },
  {
   "cell_type": "code",
   "execution_count": 105,
   "id": "222827fd",
   "metadata": {},
   "outputs": [
    {
     "name": "stdout",
     "output_type": "stream",
     "text": [
      "5\n"
     ]
    }
   ],
   "source": [
    "print(round(4.556))"
   ]
  },
  {
   "cell_type": "code",
   "execution_count": 106,
   "id": "c4dcbe97",
   "metadata": {},
   "outputs": [
    {
     "name": "stdout",
     "output_type": "stream",
     "text": [
      "4\n"
     ]
    }
   ],
   "source": [
    "print(round(4.345))"
   ]
  },
  {
   "cell_type": "code",
   "execution_count": 107,
   "id": "e798765c",
   "metadata": {},
   "outputs": [
    {
     "name": "stdout",
     "output_type": "stream",
     "text": [
      "4.557\n"
     ]
    }
   ],
   "source": [
    "print(round(4.556789,3))"
   ]
  },
  {
   "cell_type": "markdown",
   "id": "5006bb94",
   "metadata": {},
   "source": [
    "@ Tips CF => $divmod(x,y)$ // $x$ is quotient and $y$ is remainder."
   ]
  },
  {
   "cell_type": "code",
   "execution_count": 109,
   "id": "c671462d",
   "metadata": {},
   "outputs": [],
   "source": [
    "G = divmod(34,9)"
   ]
  },
  {
   "cell_type": "code",
   "execution_count": 110,
   "id": "0c7c9368",
   "metadata": {},
   "outputs": [
    {
     "data": {
      "text/plain": [
       "tuple"
      ]
     },
     "execution_count": 110,
     "metadata": {},
     "output_type": "execute_result"
    }
   ],
   "source": [
    "type(G)"
   ]
  },
  {
   "cell_type": "code",
   "execution_count": 111,
   "id": "d815a91e",
   "metadata": {},
   "outputs": [
    {
     "name": "stdout",
     "output_type": "stream",
     "text": [
      "(3, 7)\n"
     ]
    }
   ],
   "source": [
    "print(G)"
   ]
  },
  {
   "cell_type": "code",
   "execution_count": 112,
   "id": "1bbabb47",
   "metadata": {},
   "outputs": [
    {
     "data": {
      "text/plain": [
       "3"
      ]
     },
     "execution_count": 112,
     "metadata": {},
     "output_type": "execute_result"
    }
   ],
   "source": [
    "G[0]"
   ]
  },
  {
   "cell_type": "code",
   "execution_count": 113,
   "id": "1db20309",
   "metadata": {},
   "outputs": [
    {
     "data": {
      "text/plain": [
       "7"
      ]
     },
     "execution_count": 113,
     "metadata": {},
     "output_type": "execute_result"
    }
   ],
   "source": [
    "G[1]"
   ]
  },
  {
   "cell_type": "markdown",
   "id": "009eab95",
   "metadata": {},
   "source": [
    "@ Common Tips = \"[]\" is represent value in index number starting with 0."
   ]
  },
  {
   "cell_type": "code",
   "execution_count": 114,
   "id": "69a53e30",
   "metadata": {},
   "outputs": [
    {
     "data": {
      "text/plain": [
       "3"
      ]
     },
     "execution_count": 114,
     "metadata": {},
     "output_type": "execute_result"
    }
   ],
   "source": [
    "34//9"
   ]
  },
  {
   "cell_type": "code",
   "execution_count": 115,
   "id": "c70ce9bb",
   "metadata": {},
   "outputs": [
    {
     "data": {
      "text/plain": [
       "7"
      ]
     },
     "execution_count": 115,
     "metadata": {},
     "output_type": "execute_result"
    }
   ],
   "source": [
    "34%9"
   ]
  },
  {
   "cell_type": "markdown",
   "id": "00a6b076",
   "metadata": {},
   "source": [
    " @ Tips CF => $isinstance()$ returns \"True\" . if first argument is an instance of that class. Multiple classes can also be checked at once."
   ]
  },
  {
   "cell_type": "code",
   "execution_count": 123,
   "id": "4693ecc3",
   "metadata": {},
   "outputs": [
    {
     "data": {
      "text/plain": [
       "True"
      ]
     },
     "execution_count": 123,
     "metadata": {},
     "output_type": "execute_result"
    }
   ],
   "source": [
    "isinstance (3,int) # to check the value is int or not if yes then \"True\"."
   ]
  },
  {
   "cell_type": "code",
   "execution_count": 120,
   "id": "169d3a18",
   "metadata": {},
   "outputs": [
    {
     "data": {
      "text/plain": [
       "False"
      ]
     },
     "execution_count": 120,
     "metadata": {},
     "output_type": "execute_result"
    }
   ],
   "source": [
    "isinstance(3.4,int)"
   ]
  },
  {
   "cell_type": "code",
   "execution_count": 124,
   "id": "548cb72b",
   "metadata": {},
   "outputs": [
    {
     "data": {
      "text/plain": [
       "False"
      ]
     },
     "execution_count": 124,
     "metadata": {},
     "output_type": "execute_result"
    }
   ],
   "source": [
    "isinstance(2+3j,(int,float,)) # to check the result value either int or float or not both"
   ]
  },
  {
   "cell_type": "code",
   "execution_count": 125,
   "id": "d95da286",
   "metadata": {},
   "outputs": [
    {
     "data": {
      "text/plain": [
       "True"
      ]
     },
     "execution_count": 125,
     "metadata": {},
     "output_type": "execute_result"
    }
   ],
   "source": [
    "isinstance (2+3j, complex)"
   ]
  },
  {
   "cell_type": "markdown",
   "id": "6c60a154",
   "metadata": {},
   "source": [
    "@ Tips CF => $pow(x,y,z)$ $x$ raise to the power $y$ and remainder by $z$"
   ]
  },
  {
   "cell_type": "code",
   "execution_count": 126,
   "id": "fe787dfb",
   "metadata": {},
   "outputs": [
    {
     "data": {
      "text/plain": [
       "16"
      ]
     },
     "execution_count": 126,
     "metadata": {},
     "output_type": "execute_result"
    }
   ],
   "source": [
    "pow(2,4)"
   ]
  },
  {
   "cell_type": "code",
   "execution_count": 127,
   "id": "5b00f49c",
   "metadata": {},
   "outputs": [
    {
     "data": {
      "text/plain": [
       "16"
      ]
     },
     "execution_count": 127,
     "metadata": {},
     "output_type": "execute_result"
    }
   ],
   "source": [
    "2**4\n"
   ]
  },
  {
   "cell_type": "code",
   "execution_count": 130,
   "id": "5cc892fc",
   "metadata": {},
   "outputs": [
    {
     "data": {
      "text/plain": [
       "7"
      ]
     },
     "execution_count": 130,
     "metadata": {},
     "output_type": "execute_result"
    }
   ],
   "source": [
    "pow(2,4,9)"
   ]
  },
  {
   "cell_type": "markdown",
   "id": "0339b65b",
   "metadata": {},
   "source": [
    "@ Tips CF => $input()$ a = input(\"Enter something\")"
   ]
  },
  {
   "cell_type": "code",
   "execution_count": 132,
   "id": "5362ecf4",
   "metadata": {},
   "outputs": [
    {
     "name": "stdout",
     "output_type": "stream",
     "text": [
      "Enter the number :56\n"
     ]
    }
   ],
   "source": [
    "x = input(\"Enter the number :\")"
   ]
  },
  {
   "cell_type": "code",
   "execution_count": 133,
   "id": "ea7c4ed9",
   "metadata": {},
   "outputs": [
    {
     "name": "stdout",
     "output_type": "stream",
     "text": [
      "56\n"
     ]
    }
   ],
   "source": [
    "print (x)"
   ]
  },
  {
   "cell_type": "code",
   "execution_count": 134,
   "id": "e6719f7a",
   "metadata": {},
   "outputs": [
    {
     "data": {
      "text/plain": [
       "str"
      ]
     },
     "execution_count": 134,
     "metadata": {},
     "output_type": "execute_result"
    }
   ],
   "source": [
    "type (x)"
   ]
  },
  {
   "cell_type": "code",
   "execution_count": 135,
   "id": "39c7964a",
   "metadata": {},
   "outputs": [],
   "source": [
    "x = int(x)"
   ]
  },
  {
   "cell_type": "code",
   "execution_count": 136,
   "id": "98f396ea",
   "metadata": {},
   "outputs": [
    {
     "data": {
      "text/plain": [
       "int"
      ]
     },
     "execution_count": 136,
     "metadata": {},
     "output_type": "execute_result"
    }
   ],
   "source": [
    "type (x)"
   ]
  },
  {
   "cell_type": "code",
   "execution_count": 137,
   "id": "10c9d54a",
   "metadata": {},
   "outputs": [
    {
     "name": "stdout",
     "output_type": "stream",
     "text": [
      "22\n"
     ]
    }
   ],
   "source": [
    "print (x - 34)"
   ]
  },
  {
   "cell_type": "code",
   "execution_count": 140,
   "id": "b7d9ec80",
   "metadata": {},
   "outputs": [
    {
     "name": "stdout",
     "output_type": "stream",
     "text": [
      "Enter a real Number :12.5\n"
     ]
    }
   ],
   "source": [
    "a = float(input(\"Enter a real Number :\"))"
   ]
  },
  {
   "cell_type": "code",
   "execution_count": 142,
   "id": "97e845d2",
   "metadata": {},
   "outputs": [
    {
     "name": "stdout",
     "output_type": "stream",
     "text": [
      "Enter a Real Number :abc\n"
     ]
    },
    {
     "ename": "ValueError",
     "evalue": "could not convert string to float: 'abc'",
     "output_type": "error",
     "traceback": [
      "\u001b[1;31m---------------------------------------------------------------------------\u001b[0m",
      "\u001b[1;31mValueError\u001b[0m                                Traceback (most recent call last)",
      "\u001b[1;32m<ipython-input-142-fe1c71f7c757>\u001b[0m in \u001b[0;36m<module>\u001b[1;34m\u001b[0m\n\u001b[1;32m----> 1\u001b[1;33m \u001b[0mb\u001b[0m \u001b[1;33m=\u001b[0m \u001b[0mfloat\u001b[0m\u001b[1;33m(\u001b[0m\u001b[0minput\u001b[0m\u001b[1;33m(\u001b[0m\u001b[1;34m\"Enter a Real Number :\"\u001b[0m\u001b[1;33m)\u001b[0m\u001b[1;33m)\u001b[0m \u001b[1;31m#this is how we put a rule on input() function\u001b[0m\u001b[1;33m\u001b[0m\u001b[1;33m\u001b[0m\u001b[0m\n\u001b[0m",
      "\u001b[1;31mValueError\u001b[0m: could not convert string to float: 'abc'"
     ]
    }
   ],
   "source": [
    "b = float(input(\"Enter a Real Number :\")) #this is how we put a rule on input() function"
   ]
  },
  {
   "cell_type": "markdown",
   "id": "159b120f",
   "metadata": {},
   "source": [
    "@ Useful Tips => if you do not know what and how the function use then you can simply use \"?\" after function to open discription. i.e \"pow?\" - \"??\" or help(pow) for more details"
   ]
  },
  {
   "cell_type": "code",
   "execution_count": 143,
   "id": "44cdee3c",
   "metadata": {},
   "outputs": [],
   "source": [
    "pow?"
   ]
  },
  {
   "cell_type": "code",
   "execution_count": 144,
   "id": "3d27e7dd",
   "metadata": {},
   "outputs": [
    {
     "name": "stdout",
     "output_type": "stream",
     "text": [
      "Help on built-in function pow in module builtins:\n",
      "\n",
      "pow(base, exp, mod=None)\n",
      "    Equivalent to base**exp with 2 arguments or base**exp % mod with 3 arguments\n",
      "    \n",
      "    Some types, such as ints, are able to use a more efficient algorithm when\n",
      "    invoked using the three argument form.\n",
      "\n"
     ]
    }
   ],
   "source": [
    "help(pow)"
   ]
  },
  {
   "cell_type": "markdown",
   "id": "48f7ac51",
   "metadata": {},
   "source": [
    "# Control Flow"
   ]
  },
  {
   "cell_type": "markdown",
   "id": "9b85464f",
   "metadata": {},
   "source": [
    "@ Useful Tips => use \"(<b.r>)\" to add break line and double star to bold words."
   ]
  },
  {
   "cell_type": "markdown",
   "id": "ce5e5748",
   "metadata": {},
   "source": [
    "**Question 1** <br>\n",
    "$a$ = int(input()) <br>\n",
    "$b$ = int(input()) <br> <br>\n",
    "Task : <br>\n",
    "Print only bigger Number."
   ]
  },
  {
   "cell_type": "markdown",
   "id": "aa872d1e",
   "metadata": {},
   "source": [
    "**Answer** :"
   ]
  },
  {
   "cell_type": "markdown",
   "id": "b50e2362",
   "metadata": {},
   "source": [
    "**IF and IF**"
   ]
  },
  {
   "cell_type": "code",
   "execution_count": 148,
   "id": "f0a7206d",
   "metadata": {
    "scrolled": false
   },
   "outputs": [
    {
     "name": "stdout",
     "output_type": "stream",
     "text": [
      "45\n",
      "10\n",
      "45\n",
      "I am still inside if condition\n",
      "I am outside the if condition\n"
     ]
    }
   ],
   "source": [
    "a = int(input())\n",
    "b = int(input())\n",
    "if a>b:\n",
    "    print(a)\n",
    "    print(\"I am still inside if condition\")\n",
    "print(\"I am outside the if condition\")"
   ]
  },
  {
   "cell_type": "code",
   "execution_count": 151,
   "id": "90889cbc",
   "metadata": {},
   "outputs": [
    {
     "name": "stdout",
     "output_type": "stream",
     "text": [
      "Enter 'a' Value :22\n",
      "Enter 'b' value :10\n",
      "22\n"
     ]
    }
   ],
   "source": [
    "a = int(input(\"Enter 'a' Value :\"))\n",
    "b = int(input(\"Enter 'b' value :\"))\n",
    "if a>b:\n",
    "    print(a)\n",
    "if b>a:\n",
    "    print(b)"
   ]
  },
  {
   "cell_type": "markdown",
   "id": "26a3a974",
   "metadata": {},
   "source": [
    "**IF and Else**"
   ]
  },
  {
   "cell_type": "code",
   "execution_count": 153,
   "id": "db92e067",
   "metadata": {},
   "outputs": [
    {
     "name": "stdout",
     "output_type": "stream",
     "text": [
      "Enter 'a' Value :10\n",
      "Enter 'b' value :10\n",
      "10\n",
      "else part\n"
     ]
    }
   ],
   "source": [
    "a = int(input(\"Enter 'a' Value :\"))\n",
    "b = int(input(\"Enter 'b' value :\"))\n",
    "if a>b:\n",
    "    print(a)\n",
    "    print(\"if part\")\n",
    "else:\n",
    "    print(b)\n",
    "    print(\"else part\")"
   ]
  },
  {
   "cell_type": "markdown",
   "id": "74d5d601",
   "metadata": {},
   "source": [
    "**IF and Else and Elif**"
   ]
  },
  {
   "cell_type": "code",
   "execution_count": 170,
   "id": "dc7af8ea",
   "metadata": {},
   "outputs": [
    {
     "name": "stdout",
     "output_type": "stream",
     "text": [
      "B\n",
      "Not in If\n"
     ]
    }
   ],
   "source": [
    "a = 5\n",
    "b = 7\n",
    "if a==b:\n",
    "    print(\"Equal\")\n",
    "elif a>b:      # put a certain condition after a certain condition and can be more than one time used\n",
    "    print(\"A\")\n",
    "else:\n",
    "    print(\"B\")\n",
    "    print(\"Not in If\")\n",
    "\n",
    "   "
   ]
  },
  {
   "cell_type": "markdown",
   "id": "08b1b009",
   "metadata": {},
   "source": [
    "**Short hand IF**"
   ]
  },
  {
   "cell_type": "code",
   "execution_count": 174,
   "id": "fb603086",
   "metadata": {},
   "outputs": [
    {
     "name": "stdout",
     "output_type": "stream",
     "text": [
      "Enter Marks :5\n",
      "Below Average\n"
     ]
    }
   ],
   "source": [
    "a = int(input(\"Enter Marks :\"))\n",
    "if a >= 85:\n",
    "    print(\"A Grade\")\n",
    "elif (a< 85) and (a >= 80):\n",
    "    print (\"A- Grade\")\n",
    "elif (a< 80) and (a >= 75):\n",
    "    print (\"B+ Grade\")\n",
    "elif (a< 75) and (a >= 70):\n",
    "    print (\"B Grade\")  \n",
    "else:\n",
    "    print(\"Below Average\")"
   ]
  },
  {
   "cell_type": "code",
   "execution_count": 177,
   "id": "d6c09260",
   "metadata": {},
   "outputs": [
    {
     "name": "stdout",
     "output_type": "stream",
     "text": [
      ">10\n"
     ]
    }
   ],
   "source": [
    "a= 13\n",
    "if a>10:\n",
    "    print(\">10\")\n",
    "elif not(a>10):\n",
    "    print (\"Else part\")"
   ]
  },
  {
   "cell_type": "markdown",
   "id": "0923b25c",
   "metadata": {},
   "source": [
    "@ Stop at 3:51"
   ]
  },
  {
   "cell_type": "markdown",
   "id": "b96d2b44",
   "metadata": {},
   "source": [
    "**Nested IF** <br>\n",
    "@ If condition inside If condition"
   ]
  },
  {
   "cell_type": "code",
   "execution_count": 11,
   "id": "1a0eeea7",
   "metadata": {},
   "outputs": [
    {
     "name": "stdout",
     "output_type": "stream",
     "text": [
      "Enter Number :1\n",
      "Outside all IFs\n"
     ]
    }
   ],
   "source": [
    "a= int(input(\"Enter Number :\"))\n",
    "if a>10:\n",
    "    print(\">10\")\n",
    "    print(\"Inside the top IF\")\n",
    "    if a>20:                 #condition 1.\n",
    "        print(\">20\")\n",
    "        print(\"Inside the nested IF\")\n",
    "        if a> 30:           #condition 2.\n",
    "            print(\">30\")\n",
    "            print(\"inside the nested IF of nested IF\")\n",
    "        else:               #conjunction of condition 2.\n",
    "            print (\"<=30\")  \n",
    "            print (\"inside else part of nested IF of nested IF\")\n",
    "    else:                   #conjunction of condition 1.\n",
    "        print(\"<=20\")      \n",
    "        print(\"Inside the else part of nested IF\")\n",
    "print(\"Outside all IFs\")    # if not satisfy both criteria."
   ]
  },
  {
   "cell_type": "markdown",
   "id": "accfc7dd",
   "metadata": {},
   "source": [
    "**Indentation** <br>\n",
    "@ kedudukan baris setiap kali tulis \"condition\" hendaklah betol seperti kita open or close \"bracket\""
   ]
  },
  {
   "cell_type": "code",
   "execution_count": 32,
   "id": "9dd7d2a1",
   "metadata": {},
   "outputs": [
    {
     "name": "stdout",
     "output_type": "stream",
     "text": [
      "Enter a real Number :88\n",
      "Even\n"
     ]
    }
   ],
   "source": [
    "#single line comment\n",
    "\"\"\"\n",
    "User will enter a floating point number let say 238.915. Your task is to \n",
    "find out the integer portion before the point (in this case 238) and then \n",
    "check if that integer portion is an even number or not?\n",
    "\n",
    "\"\"\"\n",
    "\n",
    "x = float(input(\"Enter a real Number :\"))\n",
    "if x>0:\n",
    "    y = round(x)\n",
    "    if y>x:\n",
    "        intPortion = y-1 \n",
    "    else:\n",
    "        intPortion = y\n",
    "else:\n",
    "    y=round(x)\n",
    "    if y<x:\n",
    "        intPortion = y+1\n",
    "    else:\n",
    "        intPortion = y\n",
    "        \n",
    "if intPortion%2 == 0: # Even number is mod is equal to 0 // Odd number is mod isnt  equal to 0\n",
    "    print(\"Even\")\n",
    "else:\n",
    "    print (\"Odd\")"
   ]
  },
  {
   "cell_type": "markdown",
   "id": "e0ba6f45",
   "metadata": {},
   "source": [
    "**Loops**"
   ]
  },
  {
   "cell_type": "code",
   "execution_count": 40,
   "id": "d7452b60",
   "metadata": {},
   "outputs": [
    {
     "name": "stdout",
     "output_type": "stream",
     "text": [
      "6\n",
      "1\n",
      "This is iteration number : 1\n",
      "4\n",
      "This is iteration number : 2\n",
      "9\n",
      "This is iteration number : 3\n",
      "16\n",
      "This is iteration number : 4\n",
      "25\n",
      "This is iteration number : 5\n",
      "Loop Done\n"
     ]
    }
   ],
   "source": [
    "n = int(input())\n",
    "i = 1\n",
    "while i<n:\n",
    "    print(i**2)\n",
    "    print(\"This is iteration number :\", i)\n",
    "    i+=1    #i = i+1\n",
    "print (\"Loop Done\")\n",
    "    "
   ]
  },
  {
   "cell_type": "markdown",
   "id": "2ed1380c",
   "metadata": {},
   "source": [
    "**Loops : break, continue**"
   ]
  },
  {
   "cell_type": "code",
   "execution_count": 47,
   "id": "190a9633",
   "metadata": {},
   "outputs": [
    {
     "name": "stdout",
     "output_type": "stream",
     "text": [
      "inside if\n",
      "inside if\n",
      "inside if\n",
      "inside if\n",
      "something\n",
      "somethingelse\n",
      "done\n"
     ]
    }
   ],
   "source": [
    "n = 10\n",
    "i = 1\n",
    "while True:\n",
    "    if i%5 != 0: \n",
    "        print(\"inside if\")\n",
    "        i += 1\n",
    "        continue\n",
    "    print(\"something\")\n",
    "    print(\"somethingelse\")\n",
    "    break\n",
    "   \n",
    "print(\"done\")"
   ]
  },
  {
   "cell_type": "markdown",
   "id": "ca802404",
   "metadata": {},
   "source": [
    "**For Loops**"
   ]
  },
  {
   "cell_type": "code",
   "execution_count": 54,
   "id": "2ed66feb",
   "metadata": {},
   "outputs": [
    {
     "name": "stdout",
     "output_type": "stream",
     "text": [
      "0\n",
      "2\n",
      "4\n",
      "6\n",
      "8\n",
      "[0, 4, 16, 36, 64]\n"
     ]
    }
   ],
   "source": [
    "L = []\n",
    "for i in range(0,10,2):\n",
    "    print(i)\n",
    "    L.append(i**2) #pow\n",
    "print(L)    "
   ]
  },
  {
   "cell_type": "markdown",
   "id": "5c4c6b68",
   "metadata": {},
   "source": [
    "**Else in For Loops**"
   ]
  },
  {
   "cell_type": "code",
   "execution_count": 63,
   "id": "ef3cf7ce",
   "metadata": {},
   "outputs": [
    {
     "name": "stdout",
     "output_type": "stream",
     "text": [
      "apple\n",
      "4.9\n",
      "out side the loop\n"
     ]
    }
   ],
   "source": [
    "S = [\"apple\",4.9,\"cherry\"]\n",
    "i = 1\n",
    "for x in S:\n",
    "    print (x)\n",
    "    i+=1\n",
    "    if i==3:\n",
    "        break\n",
    "    else:\n",
    "        pass\n",
    "else:\n",
    "    print(\"Loop terminates with success\")\n",
    "print(\"out side the loop\")"
   ]
  },
  {
   "cell_type": "markdown",
   "id": "47b67eac",
   "metadata": {},
   "source": [
    "**Exploring a Dictionary**"
   ]
  },
  {
   "cell_type": "code",
   "execution_count": 65,
   "id": "626b29f2",
   "metadata": {},
   "outputs": [
    {
     "name": "stdout",
     "output_type": "stream",
     "text": [
      "A 10\n",
      "B -19\n",
      "C abc\n"
     ]
    }
   ],
   "source": [
    "D = {\"A\":10,\"B\":-19,\"C\":\"abc\"}\n",
    "for x in D:\n",
    "    print(x,D[x])"
   ]
  },
  {
   "cell_type": "code",
   "execution_count": 71,
   "id": "2fb75d36",
   "metadata": {},
   "outputs": [
    {
     "name": "stdout",
     "output_type": "stream",
     "text": [
      "[-5, 1, 2, 2, 3, 3, 7, 9]\n"
     ]
    }
   ],
   "source": [
    "\"\"\"\n",
    "Given ta list of numbers i.e. [1,2,3,-5,7,9,3,2], make another list that\n",
    "contains all the items in sorted order from min to max. i.e. your result\n",
    "will be another list like [-5,1,2,2,3,3,7,9]\n",
    "\"\"\"\n",
    "L = [1,2,3,-5,7,9,3,2]\n",
    "for j in range(len(L)):\n",
    "    m = L[j]\n",
    "    idx = j\n",
    "    c = j\n",
    "    for i in range(j,len(L)):\n",
    "        if L[i]<m:\n",
    "            m = L[i]\n",
    "            idx = c\n",
    "        c+=1\n",
    "    tmp = L[j]\n",
    "    L[j] = m\n",
    "    L[idx] = tmp\n",
    "print(L)"
   ]
  },
  {
   "cell_type": "markdown",
   "id": "11deed98",
   "metadata": {},
   "source": [
    "# Functions"
   ]
  },
  {
   "cell_type": "code",
   "execution_count": 77,
   "id": "19cdd297",
   "metadata": {},
   "outputs": [],
   "source": [
    "#Example:\n",
    "\n",
    "def printSuccess():  #this is how we define new functions.\n",
    "    print(\"I am done\")\n",
    "    print(\"Send me anothern task\")"
   ]
  },
  {
   "cell_type": "code",
   "execution_count": 78,
   "id": "1cac4a97",
   "metadata": {},
   "outputs": [
    {
     "name": "stdout",
     "output_type": "stream",
     "text": [
      "I am done\n",
      "Send me anothern task\n"
     ]
    }
   ],
   "source": [
    "printSuccess()"
   ]
  },
  {
   "cell_type": "code",
   "execution_count": 80,
   "id": "66906948",
   "metadata": {},
   "outputs": [
    {
     "data": {
      "text/plain": [
       "11"
      ]
     },
     "execution_count": 80,
     "metadata": {},
     "output_type": "execute_result"
    }
   ],
   "source": [
    "3+8 "
   ]
  },
  {
   "cell_type": "code",
   "execution_count": 82,
   "id": "1a070ff4",
   "metadata": {},
   "outputs": [
    {
     "name": "stdout",
     "output_type": "stream",
     "text": [
      "I am done\n",
      "Send me anothern task\n"
     ]
    }
   ],
   "source": [
    "printSuccess()"
   ]
  },
  {
   "cell_type": "markdown",
   "id": "a6ecc89b",
   "metadata": {},
   "source": [
    "**Doc String** <br>\n",
    "@ write a description of the new define functions."
   ]
  },
  {
   "cell_type": "code",
   "execution_count": 86,
   "id": "79da85e0",
   "metadata": {},
   "outputs": [],
   "source": [
    "def printSuccess2():\n",
    "    \"\"\" \n",
    "    This functions is doing nothing except printing a masseges.\n",
    "    That massages is \"Hello\"\n",
    "    \"\"\"\n",
    "    print(\"Hello\")"
   ]
  },
  {
   "cell_type": "code",
   "execution_count": 92,
   "id": "5902834f",
   "metadata": {},
   "outputs": [
    {
     "name": "stdout",
     "output_type": "stream",
     "text": [
      "Hello\n"
     ]
    }
   ],
   "source": [
    "printSuccess2()"
   ]
  },
  {
   "cell_type": "markdown",
   "id": "0e81abaf",
   "metadata": {},
   "source": [
    "**Input Arguments**"
   ]
  },
  {
   "cell_type": "code",
   "execution_count": 99,
   "id": "cbaacf83",
   "metadata": {},
   "outputs": [],
   "source": [
    "def printMsg(msg):\n",
    "    \"\"\"\n",
    "    The functions prints the massage supplied by the user or prints that msg\n",
    "    is not the form of string.\n",
    "    \"\"\"\n",
    "    if isinstance(msg,str):\n",
    "        print(msg)\n",
    "    else:\n",
    "        print(\"Your input argument is not a string\")\n",
    "        print(\"Here is the type of what you have supplied\",type(msg))"
   ]
  },
  {
   "cell_type": "code",
   "execution_count": 95,
   "id": "8730370f",
   "metadata": {},
   "outputs": [],
   "source": [
    "printMsg??"
   ]
  },
  {
   "cell_type": "code",
   "execution_count": 100,
   "id": "ce72711d",
   "metadata": {},
   "outputs": [
    {
     "name": "stdout",
     "output_type": "stream",
     "text": [
      "This is the message\n"
     ]
    }
   ],
   "source": [
    "printMsg(\"This is the message\")"
   ]
  },
  {
   "cell_type": "code",
   "execution_count": 101,
   "id": "63574f7e",
   "metadata": {},
   "outputs": [
    {
     "name": "stdout",
     "output_type": "stream",
     "text": [
      "Your input argument is not a string\n",
      "Here is the type of what you have supplied <class 'int'>\n"
     ]
    }
   ],
   "source": [
    "printMsg(23)"
   ]
  },
  {
   "cell_type": "code",
   "execution_count": 103,
   "id": "c0c2821a",
   "metadata": {},
   "outputs": [
    {
     "name": "stdout",
     "output_type": "stream",
     "text": [
      "hellow world\n"
     ]
    }
   ],
   "source": [
    "y = \"hellow world\"\n",
    "printMsg(y)"
   ]
  },
  {
   "cell_type": "code",
   "execution_count": 105,
   "id": "b218b7ab",
   "metadata": {},
   "outputs": [],
   "source": [
    "def mypow(a,b):\n",
    "    \"\"\" \n",
    "    This function compute power just like builtin power function\n",
    "    \"\"\"\n",
    "    c = a**b\n",
    "    print(c)"
   ]
  },
  {
   "cell_type": "code",
   "execution_count": 106,
   "id": "3e054ffb",
   "metadata": {},
   "outputs": [],
   "source": [
    "mypow?"
   ]
  },
  {
   "cell_type": "code",
   "execution_count": 108,
   "id": "51597eac",
   "metadata": {},
   "outputs": [
    {
     "name": "stdout",
     "output_type": "stream",
     "text": [
      "64\n"
     ]
    }
   ],
   "source": [
    "mypow(2,6)"
   ]
  },
  {
   "cell_type": "code",
   "execution_count": 113,
   "id": "60432f79",
   "metadata": {},
   "outputs": [],
   "source": [
    "def checkArgs(a,b,c):\n",
    "    if isinstance(a,(int,float)) and isinstance(b,(int,float)) and isinstance(c,(int,float)):\n",
    "        print((a+b+c)**2)\n",
    "    else:\n",
    "        print(\"Error: The input arguments are not of the expected types\")"
   ]
  },
  {
   "cell_type": "code",
   "execution_count": 114,
   "id": "a9534098",
   "metadata": {},
   "outputs": [
    {
     "name": "stdout",
     "output_type": "stream",
     "text": [
      "144\n"
     ]
    }
   ],
   "source": [
    "checkArgs(3,4,5)"
   ]
  },
  {
   "cell_type": "code",
   "execution_count": 115,
   "id": "d11742e9",
   "metadata": {},
   "outputs": [
    {
     "name": "stdout",
     "output_type": "stream",
     "text": [
      "Error: The input arguments are not of the expected types\n"
     ]
    }
   ],
   "source": [
    "checkArgs(3,4,\"g\")"
   ]
  },
  {
   "cell_type": "code",
   "execution_count": 1,
   "id": "6149fa3d",
   "metadata": {},
   "outputs": [
    {
     "ename": "NameError",
     "evalue": "name 'checkArgs' is not defined",
     "output_type": "error",
     "traceback": [
      "\u001b[1;31m---------------------------------------------------------------------------\u001b[0m",
      "\u001b[1;31mNameError\u001b[0m                                 Traceback (most recent call last)",
      "\u001b[1;32m<ipython-input-1-a85fc4e7e597>\u001b[0m in \u001b[0;36m<module>\u001b[1;34m\u001b[0m\n\u001b[1;32m----> 1\u001b[1;33m \u001b[0mcheckArgs\u001b[0m\u001b[1;33m(\u001b[0m\u001b[1;36m3\u001b[0m\u001b[1;33m,\u001b[0m\u001b[1;36m4\u001b[0m\u001b[1;33m,\u001b[0m\u001b[0mc\u001b[0m\u001b[1;33m,\u001b[0m\u001b[1;36m5\u001b[0m\u001b[1;33m)\u001b[0m \u001b[1;31m# cannot assign more than our setting condition\u001b[0m\u001b[1;33m\u001b[0m\u001b[1;33m\u001b[0m\u001b[0m\n\u001b[0m",
      "\u001b[1;31mNameError\u001b[0m: name 'checkArgs' is not defined"
     ]
    }
   ],
   "source": [
    "checkArgs(3,4,c,5) # cannot assign more than our setting condition"
   ]
  },
  {
   "cell_type": "markdown",
   "id": "d598a578",
   "metadata": {},
   "source": [
    "**Variables Inside & Return Statement**"
   ]
  },
  {
   "cell_type": "code",
   "execution_count": 7,
   "id": "7aad8d02",
   "metadata": {},
   "outputs": [],
   "source": [
    "def myadd(a,b):\n",
    "    sumValue = a+b\n",
    "    return sumValue \n"
   ]
  },
  {
   "cell_type": "code",
   "execution_count": 9,
   "id": "3ff4c1eb",
   "metadata": {},
   "outputs": [
    {
     "name": "stdout",
     "output_type": "stream",
     "text": [
      "5\n"
     ]
    }
   ],
   "source": [
    "d = myadd(2,3)\n",
    "print(d)"
   ]
  },
  {
   "cell_type": "code",
   "execution_count": 10,
   "id": "85abdeb7",
   "metadata": {},
   "outputs": [],
   "source": [
    "variableOutsideTheFunction = 3"
   ]
  },
  {
   "cell_type": "code",
   "execution_count": 16,
   "id": "f26341fe",
   "metadata": {},
   "outputs": [],
   "source": [
    "def g():\n",
    "    variableOutsideTheFunction = 5\n",
    "    #print(variableOutsideTheFunction)"
   ]
  },
  {
   "cell_type": "code",
   "execution_count": 19,
   "id": "a50325d8",
   "metadata": {},
   "outputs": [
    {
     "name": "stdout",
     "output_type": "stream",
     "text": [
      "<class 'NoneType'>\n"
     ]
    }
   ],
   "source": [
    "print(type(g()))"
   ]
  },
  {
   "cell_type": "code",
   "execution_count": 15,
   "id": "4e39de40",
   "metadata": {},
   "outputs": [
    {
     "name": "stdout",
     "output_type": "stream",
     "text": [
      "3\n"
     ]
    }
   ],
   "source": [
    "print(variableOutsideTheFunction)"
   ]
  },
  {
   "cell_type": "code",
   "execution_count": 37,
   "id": "ac3c0b04",
   "metadata": {},
   "outputs": [],
   "source": [
    "def h():\n",
    "    print(\"A\")\n",
    "    a = 3\n",
    "    b = 5\n",
    "    c = a+b\n",
    "    print(\"something\")\n",
    "    return c\n",
    "    print(\"B\")\n",
    "    print(\"C\")\n"
   ]
  },
  {
   "cell_type": "code",
   "execution_count": 38,
   "id": "88ac8084",
   "metadata": {},
   "outputs": [
    {
     "name": "stdout",
     "output_type": "stream",
     "text": [
      "A\n",
      "something\n",
      "8\n"
     ]
    }
   ],
   "source": [
    "print(h())"
   ]
  },
  {
   "cell_type": "code",
   "execution_count": 24,
   "id": "4ce45e21",
   "metadata": {},
   "outputs": [],
   "source": [
    "def r():\n",
    "    a = 5\n",
    "    b = 7\n",
    "    d = \"something\"\n",
    "    return a,b,d"
   ]
  },
  {
   "cell_type": "code",
   "execution_count": 30,
   "id": "0c39d502",
   "metadata": {},
   "outputs": [
    {
     "name": "stdout",
     "output_type": "stream",
     "text": [
      "5 7 something\n"
     ]
    }
   ],
   "source": [
    "x,y,z = r()\n",
    "print(x,y,z)"
   ]
  },
  {
   "cell_type": "markdown",
   "id": "0311d1fa",
   "metadata": {},
   "source": [
    "**Variable Number of Input Arguments**"
   ]
  },
  {
   "cell_type": "code",
   "execution_count": 44,
   "id": "7ea3a24b",
   "metadata": {},
   "outputs": [],
   "source": [
    "def myAddUniversal(*args):\n",
    "    s = 0\n",
    "    for i in range(len(args)):\n",
    "        s += args[i] # s = s+args[i]\n",
    "    return s"
   ]
  },
  {
   "cell_type": "code",
   "execution_count": 46,
   "id": "7b0beae4",
   "metadata": {},
   "outputs": [
    {
     "name": "stdout",
     "output_type": "stream",
     "text": [
      "95\n"
     ]
    }
   ],
   "source": [
    "print(myAddUniversal(1,4,6,7,77))"
   ]
  },
  {
   "cell_type": "code",
   "execution_count": 48,
   "id": "9c58faef",
   "metadata": {},
   "outputs": [],
   "source": [
    "def printAllVarAndVal(**args):\n",
    "    for x in args:\n",
    "        print (\"Variable Name is : \",x,\"And Value is :\", args[x])"
   ]
  },
  {
   "cell_type": "code",
   "execution_count": 49,
   "id": "20da22cd",
   "metadata": {},
   "outputs": [
    {
     "name": "stdout",
     "output_type": "stream",
     "text": [
      "Variable Name is :  a And Value is : 3\n",
      "Variable Name is :  b And Value is : B\n",
      "Variable Name is :  c And Value is : ccc\n",
      "Variable Name is :  y And Value is : 6.7\n"
     ]
    }
   ],
   "source": [
    "printAllVarAndVal(a=3,b=\"B\",c=\"ccc\",y=6.7)"
   ]
  },
  {
   "cell_type": "markdown",
   "id": "3edadf8c",
   "metadata": {},
   "source": [
    "**Default Value**"
   ]
  },
  {
   "cell_type": "code",
   "execution_count": 51,
   "id": "994ac91b",
   "metadata": {},
   "outputs": [],
   "source": [
    "def gg(s=4):\n",
    "    print(s)"
   ]
  },
  {
   "cell_type": "code",
   "execution_count": 53,
   "id": "19b8ed58",
   "metadata": {},
   "outputs": [
    {
     "name": "stdout",
     "output_type": "stream",
     "text": [
      "56\n"
     ]
    }
   ],
   "source": [
    "gg(56)"
   ]
  },
  {
   "cell_type": "code",
   "execution_count": 60,
   "id": "3707d8bd",
   "metadata": {},
   "outputs": [
    {
     "name": "stdout",
     "output_type": "stream",
     "text": [
      "[-99, 2, 3]\n"
     ]
    }
   ],
   "source": [
    "L = [1,2,3]\n",
    "L2 = L\n",
    "L2[0] = -99\n",
    "print (L)"
   ]
  },
  {
   "cell_type": "code",
   "execution_count": 61,
   "id": "8592df2a",
   "metadata": {},
   "outputs": [],
   "source": [
    "def ff(L=[1,2]):\n",
    "    for i in L:\n",
    "        print(i)"
   ]
  },
  {
   "cell_type": "code",
   "execution_count": 65,
   "id": "5a1b224d",
   "metadata": {},
   "outputs": [
    {
     "name": "stdout",
     "output_type": "stream",
     "text": [
      "1\n",
      "2\n"
     ]
    }
   ],
   "source": [
    "L2 = [12,3,4,5]\n",
    "ff()"
   ]
  },
  {
   "cell_type": "code",
   "execution_count": 68,
   "id": "8ac0c12c",
   "metadata": {},
   "outputs": [
    {
     "name": "stdout",
     "output_type": "stream",
     "text": [
      "12\n",
      "3\n",
      "4\n",
      "5\n"
     ]
    }
   ],
   "source": [
    "ff(L2)"
   ]
  },
  {
   "cell_type": "markdown",
   "id": "84a7f9d6",
   "metadata": {},
   "source": [
    "**Modules**"
   ]
  },
  {
   "cell_type": "code",
   "execution_count": 76,
   "id": "8573bdcd",
   "metadata": {},
   "outputs": [],
   "source": [
    "import sys\n",
    "sys.path.append('E:/My Python Module/')\n"
   ]
  },
  {
   "cell_type": "code",
   "execution_count": 83,
   "id": "f0b159bd",
   "metadata": {},
   "outputs": [],
   "source": [
    "#import My_1st_Modules_Function as myfs\n",
    "from My_1st_Modules_Function import addAllNumerics"
   ]
  },
  {
   "cell_type": "code",
   "execution_count": 84,
   "id": "8f237ec9",
   "metadata": {},
   "outputs": [
    {
     "data": {
      "text/plain": [
       "21"
      ]
     },
     "execution_count": 84,
     "metadata": {},
     "output_type": "execute_result"
    }
   ],
   "source": [
    "addAllNumerics (1,2,3,4,5,6)"
   ]
  },
  {
   "cell_type": "code",
   "execution_count": 81,
   "id": "982a5da1",
   "metadata": {},
   "outputs": [],
   "source": [
    "c = myfs.addAllNumerics (2,3,4,6)"
   ]
  },
  {
   "cell_type": "code",
   "execution_count": 85,
   "id": "59c26b38",
   "metadata": {},
   "outputs": [
    {
     "data": {
      "text/plain": [
       "'Python Course'"
      ]
     },
     "execution_count": 85,
     "metadata": {},
     "output_type": "execute_result"
    }
   ],
   "source": [
    "myfs.myName"
   ]
  },
  {
   "cell_type": "code",
   "execution_count": 86,
   "id": "2089ca87",
   "metadata": {},
   "outputs": [
    {
     "data": {
      "text/plain": [
       "'\\nUser will enter a floating point number let say 238.915. Your task is to \\nfind out the integer portion before the point (in this case 238) and then \\ncheck if that integer portion is an even number or not?\\n\\n'"
      ]
     },
     "execution_count": 86,
     "metadata": {},
     "output_type": "execute_result"
    }
   ],
   "source": [
    "\"\"\"\n",
    "User will enter a floating point number let say 238.915. Your task is to \n",
    "find out the integer portion before the point (in this case 238) and then \n",
    "check if that integer portion is an even number or not?\n",
    "\n",
    "\"\"\""
   ]
  },
  {
   "cell_type": "code",
   "execution_count": 98,
   "id": "a392a275",
   "metadata": {},
   "outputs": [],
   "source": [
    "def finMin(L,startIndx):\n",
    "    m = L[startIndx]\n",
    "    idx = startIndx\n",
    "    for i in range(startIndx,len(L)):\n",
    "        x = L[i]\n",
    "        if x<m:\n",
    "            m=x\n",
    "            idx = i\n",
    "        else:\n",
    "            pass\n",
    "        i+=1\n",
    "    return m,idx"
   ]
  },
  {
   "cell_type": "code",
   "execution_count": 93,
   "id": "cd19f958",
   "metadata": {},
   "outputs": [],
   "source": [
    "a,b = finMin([2,3,4,0,9])"
   ]
  },
  {
   "cell_type": "code",
   "execution_count": 94,
   "id": "1f4c11d3",
   "metadata": {},
   "outputs": [
    {
     "name": "stdout",
     "output_type": "stream",
     "text": [
      "0 3\n"
     ]
    }
   ],
   "source": [
    "print (a,b)"
   ]
  },
  {
   "cell_type": "code",
   "execution_count": 96,
   "id": "daf778b1",
   "metadata": {},
   "outputs": [],
   "source": [
    "def swapValues(L,idx1,idx2):\n",
    "    tmp = L[idx1]\n",
    "    L[idx1] = L[idx2]\n",
    "    L[idx2] = tmp\n",
    "    return L"
   ]
  },
  {
   "cell_type": "code",
   "execution_count": 97,
   "id": "b928b2fe",
   "metadata": {},
   "outputs": [
    {
     "name": "stdout",
     "output_type": "stream",
     "text": [
      "[2, 7, 6, 3]\n"
     ]
    }
   ],
   "source": [
    "L = [2,3,6,7]\n",
    "L2 = swapValues(L,1,3)\n",
    "print(L2)"
   ]
  },
  {
   "cell_type": "code",
   "execution_count": 122,
   "id": "2ab06868",
   "metadata": {},
   "outputs": [],
   "source": [
    "from My_1st_Modules_Function import checkIfNotNumeric \n",
    "def sortlist(L):\n",
    "    if not(checkIfNotNumeric2(L)):\n",
    "        print(\"Error: List does not contain numeric values\")\n",
    "        return\n",
    "    else:\n",
    "        c = 0\n",
    "        for x in L:\n",
    "            m,idx = finMin(L,c)\n",
    "            L = swapValues(L,c,idx)\n",
    "            c+=1\n",
    "        return L"
   ]
  },
  {
   "cell_type": "code",
   "execution_count": 123,
   "id": "10dd745c",
   "metadata": {},
   "outputs": [
    {
     "name": "stdout",
     "output_type": "stream",
     "text": [
      "[-8, 1, 2, 3, 5, 17]\n"
     ]
    }
   ],
   "source": [
    "L2 = sortlist([2,1,5,3,-8,17])\n",
    "print(L2)"
   ]
  },
  {
   "cell_type": "code",
   "execution_count": 105,
   "id": "48fa2e66",
   "metadata": {},
   "outputs": [],
   "source": [
    "checkIfNotNumeric??"
   ]
  },
  {
   "cell_type": "code",
   "execution_count": 115,
   "id": "18945f98",
   "metadata": {},
   "outputs": [
    {
     "name": "stdout",
     "output_type": "stream",
     "text": [
      "True\n"
     ]
    }
   ],
   "source": [
    "print(checkIfNotNumeric2([2,1,5,3,-8,17]))"
   ]
  },
  {
   "cell_type": "code",
   "execution_count": 114,
   "id": "9a4a954c",
   "metadata": {},
   "outputs": [],
   "source": [
    "def checkIfNotNumeric2(L):\n",
    "  \n",
    "    for x in L:\n",
    "       \n",
    "        if not (isinstance(x,(int,float))):\n",
    "            return False\n",
    "    return True"
   ]
  },
  {
   "cell_type": "markdown",
   "id": "6027096b",
   "metadata": {},
   "source": [
    "# String"
   ]
  },
  {
   "cell_type": "markdown",
   "id": "1095681a",
   "metadata": {},
   "source": [
    "@ \"\"  or  '' both are fine.\n"
   ]
  },
  {
   "cell_type": "code",
   "execution_count": 6,
   "id": "ab930719",
   "metadata": {},
   "outputs": [],
   "source": [
    "s = \"Python is a good language\"\n",
    "t = \"Its a good for data science\""
   ]
  },
  {
   "cell_type": "code",
   "execution_count": 2,
   "id": "1ad9206a",
   "metadata": {},
   "outputs": [
    {
     "data": {
      "text/plain": [
       "str"
      ]
     },
     "execution_count": 2,
     "metadata": {},
     "output_type": "execute_result"
    }
   ],
   "source": [
    "type(s)"
   ]
  },
  {
   "cell_type": "code",
   "execution_count": 3,
   "id": "690d9395",
   "metadata": {},
   "outputs": [
    {
     "name": "stdout",
     "output_type": "stream",
     "text": [
      "Python is a good language\n"
     ]
    }
   ],
   "source": [
    "print(s)"
   ]
  },
  {
   "cell_type": "code",
   "execution_count": 4,
   "id": "5db0abaf",
   "metadata": {},
   "outputs": [
    {
     "name": "stdout",
     "output_type": "stream",
     "text": [
      "Hello 12 Hello2 5.9\n"
     ]
    }
   ],
   "source": [
    "print(\"Hello\",12,\"Hello2\",5.9)"
   ]
  },
  {
   "cell_type": "code",
   "execution_count": 9,
   "id": "52a3d7f5",
   "metadata": {},
   "outputs": [
    {
     "name": "stdout",
     "output_type": "stream",
     "text": [
      "Python is a good language Its a good for data science\n"
     ]
    }
   ],
   "source": [
    "v = s+\" \"+t  # \"\" can be also used to create space between string\n",
    "print(v)"
   ]
  },
  {
   "cell_type": "code",
   "execution_count": 19,
   "id": "a0f96874",
   "metadata": {},
   "outputs": [
    {
     "name": "stdout",
     "output_type": "stream",
     "text": [
      "The Price of this book is: 12\n",
      "The Price of this book is: 12\n"
     ]
    }
   ],
   "source": [
    "price = 12\n",
    "s = \"The Price of this book\"\n",
    "v = s +' is: '+str(price) # number also can be changed into string.\n",
    "print(v)\n",
    "print (s ,\"is:\",price)"
   ]
  },
  {
   "cell_type": "code",
   "execution_count": 22,
   "id": "58dad234",
   "metadata": {},
   "outputs": [
    {
     "name": "stdout",
     "output_type": "stream",
     "text": [
      "Hello, my name ridwan\n",
      "I am newbie in programming\n",
      "Hope one day became much better\n",
      "\n"
     ]
    }
   ],
   "source": [
    "a = \"\"\"Hello, my name is ridwan\n",
    "I am newbie in programming\n",
    "Hope one day became much better\n",
    "\"\"\"\n",
    "print(a)"
   ]
  },
  {
   "cell_type": "code",
   "execution_count": 24,
   "id": "cd414ce5",
   "metadata": {},
   "outputs": [
    {
     "name": "stdout",
     "output_type": "stream",
     "text": [
      "  The Following option are availablel:\n",
      "            -a : does nothing.\n",
      "            -b : good is good\n",
      "\n"
     ]
    }
   ],
   "source": [
    "print( \"\"\"  The Following option are availablel:\n",
    "            -a : does nothing.\n",
    "            -b : good is good\n",
    "\"\"\")"
   ]
  },
  {
   "cell_type": "markdown",
   "id": "b20bbf2a",
   "metadata": {},
   "source": [
    "**String Cont..**"
   ]
  },
  {
   "cell_type": "code",
   "execution_count": 30,
   "id": "cea250f1",
   "metadata": {},
   "outputs": [
    {
     "name": "stdout",
     "output_type": "stream",
     "text": [
      "H\n"
     ]
    }
   ],
   "source": [
    "s = \"How are you and who are you\"\n",
    "print(s[0])"
   ]
  },
  {
   "cell_type": "code",
   "execution_count": 27,
   "id": "395bc7fc",
   "metadata": {},
   "outputs": [
    {
     "data": {
      "text/plain": [
       "str"
      ]
     },
     "execution_count": 27,
     "metadata": {},
     "output_type": "execute_result"
    }
   ],
   "source": [
    "type(s[5])"
   ]
  },
  {
   "cell_type": "code",
   "execution_count": 33,
   "id": "06f48f5e",
   "metadata": {},
   "outputs": [
    {
     "data": {
      "text/plain": [
       "'How are yo'"
      ]
     },
     "execution_count": 33,
     "metadata": {},
     "output_type": "execute_result"
    }
   ],
   "source": [
    "s[0:10]"
   ]
  },
  {
   "cell_type": "code",
   "execution_count": 34,
   "id": "9e777191",
   "metadata": {},
   "outputs": [
    {
     "data": {
      "text/plain": [
       "'y'"
      ]
     },
     "execution_count": 34,
     "metadata": {},
     "output_type": "execute_result"
    }
   ],
   "source": [
    "s[-3]"
   ]
  },
  {
   "cell_type": "code",
   "execution_count": 35,
   "id": "2a411822",
   "metadata": {},
   "outputs": [
    {
     "data": {
      "text/plain": [
       "' are'"
      ]
     },
     "execution_count": 35,
     "metadata": {},
     "output_type": "execute_result"
    }
   ],
   "source": [
    "s[-8:-4]"
   ]
  },
  {
   "cell_type": "code",
   "execution_count": 37,
   "id": "1946c1f5",
   "metadata": {},
   "outputs": [
    {
     "ename": "TypeError",
     "evalue": "'str' object does not support item assignment",
     "output_type": "error",
     "traceback": [
      "\u001b[1;31m---------------------------------------------------------------------------\u001b[0m",
      "\u001b[1;31mTypeError\u001b[0m                                 Traceback (most recent call last)",
      "\u001b[1;32m<ipython-input-37-63b930127365>\u001b[0m in \u001b[0;36m<module>\u001b[1;34m\u001b[0m\n\u001b[1;32m----> 1\u001b[1;33m \u001b[0ms\u001b[0m\u001b[1;33m[\u001b[0m\u001b[1;36m1\u001b[0m\u001b[1;33m]\u001b[0m \u001b[1;33m=\u001b[0m \u001b[1;34m\"e\"\u001b[0m \u001b[1;31m#string index cannot be changed directly\u001b[0m\u001b[1;33m\u001b[0m\u001b[1;33m\u001b[0m\u001b[0m\n\u001b[0m",
      "\u001b[1;31mTypeError\u001b[0m: 'str' object does not support item assignment"
     ]
    }
   ],
   "source": [
    "s[1] = \"e\" #string index cannot be changed directly"
   ]
  },
  {
   "cell_type": "code",
   "execution_count": 38,
   "id": "fca1caba",
   "metadata": {},
   "outputs": [
    {
     "data": {
      "text/plain": [
       "'Hwaeyu'"
      ]
     },
     "execution_count": 38,
     "metadata": {},
     "output_type": "execute_result"
    }
   ],
   "source": [
    "s[0:12:2]"
   ]
  },
  {
   "cell_type": "code",
   "execution_count": 39,
   "id": "42d9399b",
   "metadata": {},
   "outputs": [
    {
     "data": {
      "text/plain": [
       "'How are you '"
      ]
     },
     "execution_count": 39,
     "metadata": {},
     "output_type": "execute_result"
    }
   ],
   "source": [
    "#s[start:end:step]\n",
    "s[:12]"
   ]
  },
  {
   "cell_type": "code",
   "execution_count": 40,
   "id": "c1dfb973",
   "metadata": {},
   "outputs": [
    {
     "data": {
      "text/plain": [
       "' are you and who are you'"
      ]
     },
     "execution_count": 40,
     "metadata": {},
     "output_type": "execute_result"
    }
   ],
   "source": [
    "s[3:]"
   ]
  },
  {
   "cell_type": "code",
   "execution_count": 41,
   "id": "14736529",
   "metadata": {},
   "outputs": [
    {
     "data": {
      "text/plain": [
       "'uoy era ohw dna uoy era woH'"
      ]
     },
     "execution_count": 41,
     "metadata": {},
     "output_type": "execute_result"
    }
   ],
   "source": [
    "s[::-1]"
   ]
  },
  {
   "cell_type": "code",
   "execution_count": 44,
   "id": "fd585cfb",
   "metadata": {},
   "outputs": [
    {
     "name": "stdout",
     "output_type": "stream",
     "text": [
      "abc  def   how\n"
     ]
    }
   ],
   "source": [
    "a = \"       abc  def   how    \"\n",
    "b = a.strip() # to remove unapproprite space\n",
    "print(b)"
   ]
  },
  {
   "cell_type": "code",
   "execution_count": 45,
   "id": "f8eb064f",
   "metadata": {},
   "outputs": [
    {
     "name": "stdout",
     "output_type": "stream",
     "text": [
      "abc defg :: qf\n"
     ]
    }
   ],
   "source": [
    "a = \"ABC deFG :: QF\" \n",
    "b = a.lower() # to make all the word became lower case.\n",
    "print(b)"
   ]
  },
  {
   "cell_type": "code",
   "execution_count": 46,
   "id": "f353c376",
   "metadata": {},
   "outputs": [
    {
     "name": "stdout",
     "output_type": "stream",
     "text": [
      "AAAA VVVV  CCCC\n"
     ]
    }
   ],
   "source": [
    "a = \"aaaa vvvv  cccc\"\n",
    "b = a.upper() # to make all the word uppercase.\n",
    "print(b)"
   ]
  },
  {
   "cell_type": "code",
   "execution_count": 51,
   "id": "64dfe2fe",
   "metadata": {},
   "outputs": [
    {
     "name": "stdout",
     "output_type": "stream",
     "text": [
      " ,,*** $$ %%a ,,*** $$ %%a ,,*** $$ %%a ,,*** $$ %%a ,,*** $$ %%  ,,*** $$ %%v ,,*** $$ %%v ,,*** $$ %%v ,,*** $$ %%v ,,*** $$ %%  ,,*** $$ %%  ,,*** $$ %%c ,,*** $$ %%c ,,*** $$ %%c ,,*** $$ %%c ,,*** $$ %%\n"
     ]
    }
   ],
   "source": [
    "d = a.replace(\"\",\" ,,*** $$ %%\")\n",
    "print (d)"
   ]
  },
  {
   "cell_type": "code",
   "execution_count": 53,
   "id": "9d7f7867",
   "metadata": {},
   "outputs": [
    {
     "name": "stdout",
     "output_type": "stream",
     "text": [
      " Ayam Goreng\n"
     ]
    }
   ],
   "source": [
    "a = \" Ayam Goreng\"\n",
    "print (a)"
   ]
  },
  {
   "cell_type": "code",
   "execution_count": 61,
   "id": "382066ec",
   "metadata": {},
   "outputs": [
    {
     "name": "stdout",
     "output_type": "stream",
     "text": [
      " Ayam Goreng\n"
     ]
    }
   ],
   "source": [
    "d = a.replace(\"kambing golek\",\"\")\n",
    "print(d)"
   ]
  },
  {
   "cell_type": "code",
   "execution_count": 65,
   "id": "75b0ac40",
   "metadata": {},
   "outputs": [
    {
     "data": {
      "text/plain": [
       "True"
      ]
     },
     "execution_count": 65,
     "metadata": {},
     "output_type": "execute_result"
    }
   ],
   "source": [
    "\"abc\" in \"mmkkmllkolmcikmabcamalmlksamdkbamasbc\""
   ]
  },
  {
   "cell_type": "code",
   "execution_count": 67,
   "id": "70fd525d",
   "metadata": {},
   "outputs": [
    {
     "name": "stdout",
     "output_type": "stream",
     "text": [
      "we are learning\"string\"here\n"
     ]
    }
   ],
   "source": [
    "print(\"we are learning\\\"string\\\"here\") # how to highlight the word."
   ]
  },
  {
   "cell_type": "code",
   "execution_count": 69,
   "id": "3b856ef0",
   "metadata": {},
   "outputs": [
    {
     "name": "stdout",
     "output_type": "stream",
     "text": [
      "we are \n",
      " now another line\n"
     ]
    }
   ],
   "source": [
    "print(\"we are \\n now another line\") # \\n for write space between line"
   ]
  },
  {
   "cell_type": "code",
   "execution_count": 70,
   "id": "2ec595c2",
   "metadata": {},
   "outputs": [
    {
     "name": "stdout",
     "output_type": "stream",
     "text": [
      "c:\\drive\n",
      "ame\n"
     ]
    }
   ],
   "source": [
    "print(\"c:\\drive\\name\")"
   ]
  },
  {
   "cell_type": "code",
   "execution_count": 71,
   "id": "a347aa3e",
   "metadata": {},
   "outputs": [
    {
     "name": "stdout",
     "output_type": "stream",
     "text": [
      "c:\\drive\\name\n"
     ]
    }
   ],
   "source": [
    "print(r\"c:\\drive\\name\")"
   ]
  },
  {
   "cell_type": "markdown",
   "id": "44f6df32",
   "metadata": {},
   "source": [
    "# Data Structures"
   ]
  },
  {
   "cell_type": "markdown",
   "id": "1d03d317",
   "metadata": {},
   "source": [
    "@ List - order - changeable - duplicates - bracket kotak <br>\n",
    "@ Tuple - order - unchageable - duplicates - bracket bulat<br>\n",
    "@ Set - Unorder - Addable/Removeable - no duplicates -bracket segitiga<br>"
   ]
  },
  {
   "cell_type": "code",
   "execution_count": null,
   "id": "73cf9f41",
   "metadata": {},
   "outputs": [],
   "source": []
  }
 ],
 "metadata": {
  "kernelspec": {
   "display_name": "Python 3",
   "language": "python",
   "name": "python3"
  },
  "language_info": {
   "codemirror_mode": {
    "name": "ipython",
    "version": 3
   },
   "file_extension": ".py",
   "mimetype": "text/x-python",
   "name": "python",
   "nbconvert_exporter": "python",
   "pygments_lexer": "ipython3",
   "version": "3.8.8"
  }
 },
 "nbformat": 4,
 "nbformat_minor": 5
}
