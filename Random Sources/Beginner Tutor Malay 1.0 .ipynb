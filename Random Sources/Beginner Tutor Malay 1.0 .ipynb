{
 "cells": [
  {
   "cell_type": "code",
   "execution_count": 2,
   "id": "eaa6d58e",
   "metadata": {
    "scrolled": true
   },
   "outputs": [
    {
     "name": "stdout",
     "output_type": "stream",
     "text": [
      "Hai Awak\n",
      "1\n"
     ]
    }
   ],
   "source": [
    "print(\"Hai Awak\") #cara berinteraksi dgn bahasa computer\n",
    "print (1)"
   ]
  },
  {
   "cell_type": "markdown",
   "id": "2995f65d",
   "metadata": {},
   "source": [
    "**Data Type** - most popular one. -- wujud utk mengelakkan percampuran yg x sepandan jenis\n",
    "1. String - seperti nama dan sebagainya (\"Ahmad\",\"Book\",\"Cat\")\n",
    "2. Boolean - utk cek rules (True , False)\n",
    "3. Integer - nombor tanpa decimal (2,3,4,5)\n",
    "5. Float - nombor dgn decimal (2.3, 2.4, 2.5)"
   ]
  },
  {
   "cell_type": "code",
   "execution_count": 3,
   "id": "8437df68",
   "metadata": {},
   "outputs": [
    {
     "name": "stdout",
     "output_type": "stream",
     "text": [
      "12\n",
      "Ridwan\n"
     ]
    }
   ],
   "source": [
    "x = 12\n",
    "myName = \"Ridwan\"\n",
    "\n",
    "print(x)\n",
    "print(myName)"
   ]
  },
  {
   "cell_type": "markdown",
   "id": "c66a20de",
   "metadata": {},
   "source": [
    "**Operatos** <br>\n",
    "Hanya ada 6 Operatos dalam Python\n",
    "1. Addition (tambah) = \" + \" \n",
    "2. Subtraction (tolak) = \" - \"\n",
    "3. Multiplication (darab) = \" * \"\n",
    "4. Division (bahagi) = \" / \"\n",
    "5. Modulus = \" % \" \n",
    "6. Power (Kuasa)  = \" ** \""
   ]
  },
  {
   "cell_type": "code",
   "execution_count": 8,
   "id": "90f60f01",
   "metadata": {},
   "outputs": [
    {
     "name": "stdout",
     "output_type": "stream",
     "text": [
      "13\n",
      "6\n",
      "42\n",
      "279936\n"
     ]
    }
   ],
   "source": [
    "x = 6\n",
    "y = 7\n",
    "\n",
    "print(x+y) \n",
    "print (x%y)\n",
    "print (x*y)\n",
    "print (x**y)"
   ]
  },
  {
   "cell_type": "markdown",
   "id": "bec88ced",
   "metadata": {},
   "source": [
    "**Comparison Operators** <br>\n",
    "Juga ada 6 jenis dalam Python -- kebiasaan digunakan utk keluarkan booleans value (\"True or False\")\n",
    "1. Equal (sama dengan)  \" == \"\n",
    "2. Not Equal (tidak sama dengan) \" != \"\n",
    "3. More than (lebih dari) \" > \"\n",
    "4. Less than (kurang dari) \" < \"\n",
    "5. More than and equals \" >= \"\n",
    "6. Less than equals \" <= \""
   ]
  },
  {
   "cell_type": "code",
   "execution_count": 16,
   "id": "1a770550",
   "metadata": {},
   "outputs": [
    {
     "data": {
      "text/plain": [
       "True"
      ]
     },
     "execution_count": 16,
     "metadata": {},
     "output_type": "execute_result"
    }
   ],
   "source": [
    "x == 6\n",
    "y == 7"
   ]
  },
  {
   "cell_type": "code",
   "execution_count": 11,
   "id": "51bac797",
   "metadata": {},
   "outputs": [
    {
     "data": {
      "text/plain": [
       "True"
      ]
     },
     "execution_count": 11,
     "metadata": {},
     "output_type": "execute_result"
    }
   ],
   "source": [
    "x != y"
   ]
  },
  {
   "cell_type": "code",
   "execution_count": 12,
   "id": "112a0e7b",
   "metadata": {},
   "outputs": [
    {
     "data": {
      "text/plain": [
       "False"
      ]
     },
     "execution_count": 12,
     "metadata": {},
     "output_type": "execute_result"
    }
   ],
   "source": [
    "x > y"
   ]
  },
  {
   "cell_type": "code",
   "execution_count": 13,
   "id": "9e0730ba",
   "metadata": {},
   "outputs": [
    {
     "data": {
      "text/plain": [
       "True"
      ]
     },
     "execution_count": 13,
     "metadata": {},
     "output_type": "execute_result"
    }
   ],
   "source": [
    "x < y"
   ]
  },
  {
   "cell_type": "code",
   "execution_count": 14,
   "id": "9b31806d",
   "metadata": {},
   "outputs": [
    {
     "data": {
      "text/plain": [
       "False"
      ]
     },
     "execution_count": 14,
     "metadata": {},
     "output_type": "execute_result"
    }
   ],
   "source": [
    "x >= y"
   ]
  },
  {
   "cell_type": "code",
   "execution_count": 15,
   "id": "43d71561",
   "metadata": {},
   "outputs": [
    {
     "data": {
      "text/plain": [
       "True"
      ]
     },
     "execution_count": 15,
     "metadata": {},
     "output_type": "execute_result"
    }
   ],
   "source": [
    "x <= y"
   ]
  },
  {
   "cell_type": "markdown",
   "id": "63ad6488",
   "metadata": {},
   "source": [
    "**Logical Operators**<br>\n",
    "Hanya digunakan utk mengeluarkan Booleans sahaja\n",
    "1. and - kena dua2 statement betol baru True\n",
    "2. or - kena dua2 statement salah baru False\n",
    "3. not - "
   ]
  },
  {
   "cell_type": "code",
   "execution_count": 23,
   "id": "85c82d4d",
   "metadata": {},
   "outputs": [
    {
     "name": "stdout",
     "output_type": "stream",
     "text": [
      "False\n"
     ]
    }
   ],
   "source": [
    "statement1 = 2==2\n",
    "statement2 = 3>2\n",
    "\n",
    "result = not( statement1 and statement2)\n",
    "\n",
    "print(result)"
   ]
  },
  {
   "cell_type": "markdown",
   "id": "74c06e9a",
   "metadata": {},
   "source": [
    "**LIST**<br>\n",
    "List adalah senarai 'item' or 'element' yang tersusun dan boleh diubah <br>\n",
    "'item' yang sama boleh ada lebih dari satu.\n"
   ]
  },
  {
   "cell_type": "code",
   "execution_count": 24,
   "id": "db6fc4ed",
   "metadata": {},
   "outputs": [
    {
     "name": "stdout",
     "output_type": "stream",
     "text": [
      "[1, 2, 3, 4]\n",
      "['apple', 'Mangga', 'Anggur', 'Tomato']\n",
      "[42, 'kereta', 'suis', 9]\n"
     ]
    }
   ],
   "source": [
    "# Cara menaip list.\n",
    "\n",
    "L1 = [1,2,3,4]\n",
    "L2 = [\"apple\",'Mangga','Anggur',\"Tomato\"]\n",
    "L3 = [42,'kereta','suis',9]\n",
    "\n",
    "print(L1)\n",
    "print(L2)\n",
    "print(L3)\n",
    "\n"
   ]
  },
  {
   "cell_type": "code",
   "execution_count": 32,
   "id": "3a9d9a9f",
   "metadata": {},
   "outputs": [
    {
     "name": "stdout",
     "output_type": "stream",
     "text": [
      "apple\n",
      "Tomato\n",
      "['Mangga']\n",
      "['apple', 'Mangga']\n",
      "['Mangga', 'Anggur', 'Tomato']\n"
     ]
    }
   ],
   "source": [
    "# Cara mengakses 'item' yang ada dalam List\n",
    "# 'Index' bermula dari 0\n",
    "# Contoh\n",
    "\n",
    "\n",
    "print(L2[0])  #yang pertama dari hadapan\n",
    "print(L2[-1]) # yang pertama dari belakang\n",
    "print(L2[1:2] )  # dari 'index' 1 hingga tidak termasuk 'index' 2\n",
    "print(L2[:2])    # dari permulaan hingga tidak temasuk 'index' 2\n",
    "print(L2[1:])    # dari 'index' 1 hingga akhir\n",
    "\n"
   ]
  },
  {
   "cell_type": "code",
   "execution_count": 36,
   "id": "a20a81e4",
   "metadata": {},
   "outputs": [
    {
     "data": {
      "text/plain": [
       "['apple', 'Oren', 'Anggur', 'Tomato']"
      ]
     },
     "execution_count": 36,
     "metadata": {},
     "output_type": "execute_result"
    }
   ],
   "source": [
    "# Cara menukar 'item'\n",
    "\n",
    "L2[1] = \"Oren\"\n",
    "L2"
   ]
  },
  {
   "cell_type": "code",
   "execution_count": 39,
   "id": "11f475ba",
   "metadata": {},
   "outputs": [
    {
     "data": {
      "text/plain": [
       "4"
      ]
     },
     "execution_count": 39,
     "metadata": {},
     "output_type": "execute_result"
    }
   ],
   "source": [
    "# Panjang sesuatu List\n",
    "\n",
    "len(L2) # akan mengeluarkan panjang 'List'"
   ]
  },
  {
   "cell_type": "markdown",
   "id": "c7d05418",
   "metadata": {},
   "source": [
    "Antara function yg populer gitu.\n",
    "1. L2.pop  - maknanya membuang item yg terakhir dalam list\n",
    "2. L2.append - maknanya tamabah satu item dalam list duduk hujung\n",
    "3. L2.insert(2,'betik') -  maknanya tambah 'betik' dalam list kedudukan yg kedua\n",
    "4. L2.remove('anggur') - buang item dalam list\n",
    "\n",
    "\n",
    "dan banyak lagi diluar sana lagi bosskur google nnt yeah skrr\n"
   ]
  },
  {
   "cell_type": "markdown",
   "id": "2e3ace07",
   "metadata": {},
   "source": [
    "**Tuple** <br>\n",
    "\n",
    "Senarai 'item' yang tersusun dan tidak boleh diubah. <br>\n",
    "'Item' yang sama boleh ada lebih dari satu. <br>\n",
    "Menambah, mengubah dan mengeluarkan 'item' adalah mustahil."
   ]
  },
  {
   "cell_type": "code",
   "execution_count": 46,
   "id": "9e0face5",
   "metadata": {},
   "outputs": [],
   "source": [
    "# cara menaip 'Tuple'\n",
    "T1 = ('epal', 'mangga', 'tomato')\n",
    "\n",
    "# Cara menaip 'Tuple' dengan satu 'item'\n",
    "T2 = ('epal',)"
   ]
  },
  {
   "cell_type": "code",
   "execution_count": 58,
   "id": "7cb48895",
   "metadata": {},
   "outputs": [
    {
     "data": {
      "text/plain": [
       "('epal', 'mangga', 'tomato', 'durian', 'durian', 'durian')"
      ]
     },
     "execution_count": 58,
     "metadata": {},
     "output_type": "execute_result"
    }
   ],
   "source": [
    "# cara tukar kepada Tuple kepada list\n",
    "\n",
    "LT = list(T1)\n",
    "LT.append(\"durian\")\n",
    "T1 = tuple(LT)\n",
    "T1"
   ]
  },
  {
   "cell_type": "markdown",
   "id": "9daf2ef7",
   "metadata": {},
   "source": [
    "**Set** <br>\n",
    "Senarai 'item' yang tidak tersusun dan tidak boleh diubah. <br>\n",
    "'item' yang sama tidak akan dibaca <br>\n",
    "Mengubah 'item' adalah mustahil.<br>\n",
    "Menambah atau mengeluarkan 'item' dalam set boleh."
   ]
  },
  {
   "cell_type": "code",
   "execution_count": 61,
   "id": "f3c2b271",
   "metadata": {},
   "outputs": [],
   "source": [
    "# cara menaip 'Set'\n",
    "S = {'melaka','johor','selangor','melaka'} # set nie melaka takkan berulang."
   ]
  },
  {
   "cell_type": "code",
   "execution_count": 60,
   "id": "530fe6e9",
   "metadata": {},
   "outputs": [
    {
     "data": {
      "text/plain": [
       "{'johor', 'melaka', 'selangor'}"
      ]
     },
     "execution_count": 60,
     "metadata": {},
     "output_type": "execute_result"
    }
   ],
   "source": [
    "S"
   ]
  },
  {
   "cell_type": "markdown",
   "id": "b398c3d3",
   "metadata": {},
   "source": [
    "**Dictionary** <br>\n",
    "Senarai 'item' yang tidak tersusun tetapi boleh diubah. <br>\n",
    "Menggunakan \"Key:value\". <br>\n",
    "Diletakan dalam \"{....}\", (curly braces)."
   ]
  },
  {
   "cell_type": "code",
   "execution_count": 64,
   "id": "a3455f65",
   "metadata": {},
   "outputs": [],
   "source": [
    "# Cara taip 'dictionary'\n",
    "\n",
    "lelaki = {'nama' : 'ridwan', 'umur': 24, 'pekerjaan': 'nganggur'}\n",
    "\n",
    "# Cara senang baca yg mantap.\n",
    "pompuan = {\n",
    "    'nama' : 'ainin', \n",
    "    'umur': 24,\n",
    "    'pekerjaan': 'tunggu jodoh'\n",
    "}"
   ]
  },
  {
   "cell_type": "code",
   "execution_count": 65,
   "id": "429279d3",
   "metadata": {},
   "outputs": [
    {
     "name": "stdout",
     "output_type": "stream",
     "text": [
      "{'nama': 'ainin', 'umur': 24, 'pekerjaan': 'tunggu jodoh'}\n"
     ]
    }
   ],
   "source": [
    "print (pompuan)"
   ]
  },
  {
   "cell_type": "code",
   "execution_count": 67,
   "id": "db3f0f23",
   "metadata": {},
   "outputs": [
    {
     "name": "stdout",
     "output_type": "stream",
     "text": [
      "ridwan\n",
      "tunggu jodoh\n"
     ]
    }
   ],
   "source": [
    "# Cara akses 'dictionary'\n",
    "\n",
    "print(lelaki['nama']) # access key\n",
    "print(pompuan['pekerjaan'])"
   ]
  },
  {
   "cell_type": "code",
   "execution_count": 71,
   "id": "2f709c78",
   "metadata": {},
   "outputs": [],
   "source": [
    "# Cara ubah 'value' dalam dictionary\n",
    "\n",
    "lelaki['nama'] = \"ijat\""
   ]
  },
  {
   "cell_type": "code",
   "execution_count": 72,
   "id": "0f7605b7",
   "metadata": {},
   "outputs": [],
   "source": [
    "# cara tambah 'item' dalam 'dictionary'\n",
    "\n",
    "lelaki['jantina'] = 'Ajat'\n",
    "lelaki['status'] = 'hensem'"
   ]
  },
  {
   "cell_type": "code",
   "execution_count": 73,
   "id": "b59ba3b5",
   "metadata": {},
   "outputs": [
    {
     "name": "stdout",
     "output_type": "stream",
     "text": [
      "{'nama': 'ijat', 'umur': 24, 'pekerjaan': 'nganggur', 'jantina': 'Ajat', 'status': 'hensem'}\n"
     ]
    }
   ],
   "source": [
    "print(lelaki)"
   ]
  },
  {
   "cell_type": "code",
   "execution_count": 74,
   "id": "08dc8402",
   "metadata": {},
   "outputs": [
    {
     "data": {
      "text/plain": [
       "24"
      ]
     },
     "execution_count": 74,
     "metadata": {},
     "output_type": "execute_result"
    }
   ],
   "source": [
    "# Cara remove item dalam 'Dictionary'\n",
    "\n",
    "lelaki.pop('umur')"
   ]
  },
  {
   "cell_type": "code",
   "execution_count": 75,
   "id": "39bdfa32",
   "metadata": {},
   "outputs": [
    {
     "name": "stdout",
     "output_type": "stream",
     "text": [
      "{'nama': 'ijat', 'pekerjaan': 'nganggur', 'jantina': 'Ajat', 'status': 'hensem'}\n"
     ]
    }
   ],
   "source": [
    "print(lelaki)"
   ]
  },
  {
   "cell_type": "markdown",
   "id": "044d6c2c",
   "metadata": {},
   "source": [
    "**If Else Statement** "
   ]
  },
  {
   "cell_type": "code",
   "execution_count": 80,
   "id": "187bd4b4",
   "metadata": {},
   "outputs": [
    {
     "name": "stdout",
     "output_type": "stream",
     "text": [
      "Dasar bocah\n"
     ]
    }
   ],
   "source": [
    "# Cara taip 'if else'\n",
    "\n",
    "umur = 1\n",
    "\n",
    "if (umur >= 18) :\n",
    "    print (\"Awak dibenarkan naik\")\n",
    "elif (umur >= 12) :\n",
    "    print (\"Budak Budak x leh main\")\n",
    "else :\n",
    "    print (\"Dasar bocah\")\n",
    "        \n"
   ]
  },
  {
   "cell_type": "markdown",
   "id": "e0ab4adf",
   "metadata": {},
   "source": [
    "**While Loop** <br>\n",
    "Jika sesuatu code itu dijalankan beberapa kali selagi sesuatu syarat dipenuhi <br>\n",
    "untuk mengelakkan pengulangan code membazir<br>\n",
    "Amalkan konsep 'DRY' (Dont Repeat Yourself)"
   ]
  },
  {
   "cell_type": "code",
   "execution_count": 83,
   "id": "c405e458",
   "metadata": {},
   "outputs": [
    {
     "name": "stdout",
     "output_type": "stream",
     "text": [
      "yahoo\n",
      "yahoo\n",
      "yahoo\n"
     ]
    }
   ],
   "source": [
    "# Cara taip 'While loop'\n",
    "\n",
    "x = 0 # pada mulanya x itu sama dgn kosong\n",
    "\n",
    "while x < 3: #rule tulis di sini boskur\n",
    "    \n",
    "    print (\"yahoo\")   # code insert here\n",
    "    x += 1         # lalu kita create formula untuk x bergerak ke limit syarat tu\n"
   ]
  },
  {
   "cell_type": "code",
   "execution_count": 87,
   "id": "f355e155",
   "metadata": {},
   "outputs": [
    {
     "name": "stdout",
     "output_type": "stream",
     "text": [
      "1\n",
      "2\n",
      "4\n",
      "5\n"
     ]
    }
   ],
   "source": [
    "# Cara gunakan skip salah satu loop\n",
    "x = 0\n",
    "\n",
    "while x < 5:\n",
    "    x += 1\n",
    "    if x == 3:\n",
    "        continue # continue kalau nak skip ah dari kiraan\n",
    "    print(x)"
   ]
  },
  {
   "cell_type": "code",
   "execution_count": 88,
   "id": "29a620d7",
   "metadata": {},
   "outputs": [
    {
     "name": "stdout",
     "output_type": "stream",
     "text": [
      "1\n",
      "2\n"
     ]
    }
   ],
   "source": [
    "x = 0\n",
    "\n",
    "while x < 5:\n",
    "    x += 1\n",
    "    if x == 3:\n",
    "        break # break nie stop sampai situ ja pelik \n",
    "    print(x)"
   ]
  },
  {
   "cell_type": "markdown",
   "id": "b50a3889",
   "metadata": {},
   "source": [
    "**For Loop** <br>\n",
    "Jika suatu code itu perlu dijalankan dalam 'range' yang telah ditetapkan <br>\n",
    "(seperti, 'loop' dalam 'list', dictionary atau nombor).<br>\n",
    "Untuk mengelakkan pengulangan code yg membazir <br>\n",
    "Amalkan konsep Dont Repeat Yourself"
   ]
  },
  {
   "cell_type": "code",
   "execution_count": 13,
   "id": "84d28aea",
   "metadata": {},
   "outputs": [
    {
     "name": "stdout",
     "output_type": "stream",
     "text": [
      "epal\n",
      "oren\n",
      "anggur\n",
      "epal\n",
      "oren\n",
      "anggur\n"
     ]
    }
   ],
   "source": [
    "# Cara taip 'for loop'\n",
    "\n",
    "buahBuahan = ['epal','oren','anggur','epal','oren','anggur']\n",
    "\n",
    "for buah in buahBuahan : #buahBuahan adalah nama list yg nak di intiret /buah adlh nama var utk buahBuahan\n",
    "    print (buah)\n"
   ]
  },
  {
   "cell_type": "code",
   "execution_count": 12,
   "id": "2272d38e",
   "metadata": {},
   "outputs": [
    {
     "name": "stdout",
     "output_type": "stream",
     "text": [
      "0\n",
      "1\n",
      "2\n",
      "3\n",
      "4\n",
      "5\n"
     ]
    }
   ],
   "source": [
    "# cara taip range()\n",
    "\n",
    "for x in range(6):\n",
    "    print(x )"
   ]
  },
  {
   "cell_type": "code",
   "execution_count": 7,
   "id": "c40e0ff4",
   "metadata": {},
   "outputs": [
    {
     "name": "stdout",
     "output_type": "stream",
     "text": [
      "5\n"
     ]
    }
   ],
   "source": [
    "print(x)"
   ]
  },
  {
   "cell_type": "markdown",
   "id": "9c469245",
   "metadata": {},
   "source": [
    "**Functions**<br>\n",
    "satu blok code yang akan dijalankan apabila di'call'.<br>\n",
    "Data boleh dimasukkan dalam function, dikenali sebagai parameter. <br>\n",
    "Data yang dihasilkan juga boleh dikeluarkan <br>\n",
    "mengamalkan kosep DRY\n"
   ]
  },
  {
   "cell_type": "code",
   "execution_count": 27,
   "id": "78078d75",
   "metadata": {},
   "outputs": [
    {
     "name": "stdout",
     "output_type": "stream",
     "text": [
      "6.4031242374328485\n",
      "7.211102550927978\n",
      "8.06225774829855\n",
      "8.94427190999916\n"
     ]
    }
   ],
   "source": [
    "# contoh function pythogoras teorem\n",
    "\n",
    "import math\n",
    "\n",
    "def pythagoras(x,y):\n",
    "    answer = math.sqrt(x*x+y*y)\n",
    "    \n",
    "    return answer\n",
    "\n",
    "print (pythagoras(4,5))\n",
    "print (pythagoras(4,6))\n",
    "print (pythagoras(4,7))\n",
    "print (pythagoras(4,8))"
   ]
  },
  {
   "cell_type": "markdown",
   "id": "4aae7fdd",
   "metadata": {},
   "source": [
    "# Exercise Erk"
   ]
  },
  {
   "cell_type": "markdown",
   "id": "67b9ea0d",
   "metadata": {},
   "source": [
    "**Exercise 1 : evenSum** <br>\n",
    "\n",
    "Input = list of integers <br>\n",
    "Contoh input:<br>\n",
    "[1,2,3,4,5] <br>\n",
    "\n",
    "Tujuan 'function':<br>\n",
    "jumlah penambahan nombor jika nombor adalah genap <br>"
   ]
  },
  {
   "cell_type": "code",
   "execution_count": 35,
   "id": "3d2a347e",
   "metadata": {},
   "outputs": [
    {
     "name": "stdout",
     "output_type": "stream",
     "text": [
      "[3, 4, 5, 7]\n"
     ]
    }
   ],
   "source": [
    "# CASES 1\n",
    "# Question: nums1 = [1,2,3,5]\n",
    "# Answer is [3,4,5,7]\n",
    "# Solution: Dgn tambah 2 setiap nombor dalam list.\n",
    "\n",
    "nums1 = [1,2,3,5]\n",
    "def add2(nums):\n",
    "    for x in range(len(nums)):\n",
    "        nums[x] = nums[x] +2\n",
    "                      \n",
    "    return nums\n",
    "print(add2(nums1))\n",
    "\n",
    "   "
   ]
  },
  {
   "cell_type": "code",
   "execution_count": 46,
   "id": "f4567c83",
   "metadata": {},
   "outputs": [
    {
     "name": "stdout",
     "output_type": "stream",
     "text": [
      "890\n"
     ]
    }
   ],
   "source": [
    "# evenSum exercoise:\n",
    "\n",
    "nums2 = [2,4,5,6,32,45,126,676,343,12,32,55,763,343,11,99]\n",
    "def evenSum(numbers): #create define formula dengan parameters nya\n",
    "    total = 0\n",
    "    for number in numbers: # cerita parameter dgn elementnya\n",
    "        if (number%2 == 0): # syarat nak jadi even number\n",
    "              total = total + number # solution utk soalan\n",
    "    return(total)\n",
    "print (evenSum(nums2))"
   ]
  },
  {
   "cell_type": "markdown",
   "id": "7a89fe83",
   "metadata": {},
   "source": [
    "**Exercise 2 : capitalizeWords** <br>\n",
    "\n",
    "@ cara besarkan huruf huruf kecik\n"
   ]
  },
  {
   "cell_type": "code",
   "execution_count": 51,
   "id": "04593054",
   "metadata": {},
   "outputs": [
    {
     "name": "stdout",
     "output_type": "stream",
     "text": [
      "['what', 'hello', 'Ridwan', 'Fish']\n",
      "['hey', 'Cempedak', 'guli', 'Gasing']\n"
     ]
    }
   ],
   "source": [
    "# If word have 'f','r','m','s'\n",
    "\n",
    "def capitalizeWords(words): # 1st create satu function name capitalizeWords / dgn parameters words\n",
    "    selectedLetters = 'frms' # create variable dgn name selectedLetters yg terdiri daripada isi value 'frms'\n",
    "    answer = []\n",
    "    \n",
    "    for word in words :\n",
    "        added = False\n",
    "        \n",
    "        for letter in word:\n",
    "            \n",
    "            if letter in selectedLetters :\n",
    "                answer.append(word.capitalize())\n",
    "                added = True\n",
    "                break\n",
    "                \n",
    "        if not added :\n",
    "            answer.append(word)\n",
    "    return (answer)\n",
    "\n",
    "words1 = ['what','hello','ridwan','fish']\n",
    "words2 = ['hey','cempedak','guli','gasing']\n",
    "\n",
    "\n",
    "print ( capitalizeWords(words1))\n",
    "print ( capitalizeWords(words2))"
   ]
  },
  {
   "cell_type": "markdown",
   "id": "0685b381",
   "metadata": {},
   "source": [
    "**Exercise 3 : combinationLock**<br>\n",
    "\n",
    "Tujuan : untuk mencari jumlah langkah paling minima dari 'start' ke 'end'.\n",
    "                                   "
   ]
  },
  {
   "cell_type": "code",
   "execution_count": 52,
   "id": "7522649d",
   "metadata": {},
   "outputs": [
    {
     "name": "stdout",
     "output_type": "stream",
     "text": [
      "7\n",
      "6\n"
     ]
    }
   ],
   "source": [
    "def combinationLock(startLock, endLock):\n",
    "  \n",
    "  totalCount = 0\n",
    "\n",
    "  for x in range(5) :\n",
    "    if (startLock[x] > endLock[x]) :\n",
    "      spinCount = startLock[x] - endLock[x]\n",
    "    else :\n",
    "      spinCount = endLock[x] - startLock[x]\n",
    "\n",
    "    if spinCount > 5 :\n",
    "      totalCount = totalCount + (10 - spinCount)\n",
    "    else :\n",
    "      totalCount = totalCount + spinCount\n",
    "    \n",
    "  return totalCount\n",
    "\n",
    "\n",
    "# Answer is 7\n",
    "startLock1 = [1, 2, 3, 4, 5]\n",
    "endLock1 = [2, 3, 4, 7, 6]\n",
    "\n",
    "# Answer is 6\n",
    "startLock2 = [1, 2, 3, 1, 5]\n",
    "endLock2 = [2, 3, 4, 9, 6]\n",
    "\n",
    "print(combinationLock(startLock1, endLock1))\n",
    "print(combinationLock(startLock2, endLock2))"
   ]
  },
  {
   "cell_type": "code",
   "execution_count": 53,
   "id": "da86d6da",
   "metadata": {},
   "outputs": [],
   "source": [
    "tropical = [\"mango\", \"pineapple\", \"papaya\"]"
   ]
  },
  {
   "cell_type": "code",
   "execution_count": 55,
   "id": "d0a72271",
   "metadata": {},
   "outputs": [],
   "source": [
    "tropical.extend??"
   ]
  },
  {
   "cell_type": "code",
   "execution_count": 56,
   "id": "fb2d4972",
   "metadata": {},
   "outputs": [],
   "source": [
    "del tropical"
   ]
  },
  {
   "cell_type": "code",
   "execution_count": 57,
   "id": "23e9c24a",
   "metadata": {},
   "outputs": [
    {
     "ename": "NameError",
     "evalue": "name 'tropical' is not defined",
     "output_type": "error",
     "traceback": [
      "\u001b[1;31m---------------------------------------------------------------------------\u001b[0m",
      "\u001b[1;31mNameError\u001b[0m                                 Traceback (most recent call last)",
      "\u001b[1;32m<ipython-input-57-a4b65c7cb998>\u001b[0m in \u001b[0;36m<module>\u001b[1;34m\u001b[0m\n\u001b[1;32m----> 1\u001b[1;33m \u001b[0mtropical\u001b[0m\u001b[1;33m\u001b[0m\u001b[1;33m\u001b[0m\u001b[0m\n\u001b[0m",
      "\u001b[1;31mNameError\u001b[0m: name 'tropical' is not defined"
     ]
    }
   ],
   "source": [
    "tropical"
   ]
  },
  {
   "cell_type": "code",
   "execution_count": null,
   "id": "941439be",
   "metadata": {},
   "outputs": [],
   "source": [
    "pip install jupyter_contrib_nbextensions"
   ]
  }
 ],
 "metadata": {
  "kernelspec": {
   "display_name": "Python 3",
   "language": "python",
   "name": "python3"
  },
  "language_info": {
   "codemirror_mode": {
    "name": "ipython",
    "version": 3
   },
   "file_extension": ".py",
   "mimetype": "text/x-python",
   "name": "python",
   "nbconvert_exporter": "python",
   "pygments_lexer": "ipython3",
   "version": "3.8.8"
  }
 },
 "nbformat": 4,
 "nbformat_minor": 5
}
