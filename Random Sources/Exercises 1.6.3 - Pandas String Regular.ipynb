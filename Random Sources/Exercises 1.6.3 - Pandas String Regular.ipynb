{
 "cells": [
  {
   "cell_type": "code",
   "execution_count": 3,
   "id": "69803851",
   "metadata": {},
   "outputs": [
    {
     "name": "stdout",
     "output_type": "stream",
     "text": [
      "Original Series: \n",
      "0         X\n",
      "1         Y\n",
      "2         Z\n",
      "3      Aaba\n",
      "4      Baca\n",
      "5       NaN\n",
      "6      CABA\n",
      "7      None\n",
      "8      bird\n",
      "9     horse\n",
      "10      dog\n",
      "dtype: object\n",
      "\n",
      "Convert all string values of the said Series to upper case:\n",
      "0         X\n",
      "1         Y\n",
      "2         Z\n",
      "3      AABA\n",
      "4      BACA\n",
      "5       NaN\n",
      "6      CABA\n",
      "7      None\n",
      "8      BIRD\n",
      "9     HORSE\n",
      "10      DOG\n",
      "dtype: object\n",
      "\n",
      "Convert all string values of the said Series to lower case: \n",
      "0         x\n",
      "1         y\n",
      "2         z\n",
      "3      aaba\n",
      "4      baca\n",
      "5       NaN\n",
      "6      caba\n",
      "7      None\n",
      "8      bird\n",
      "9     horse\n",
      "10      dog\n",
      "dtype: object\n",
      "\n",
      "Length of the string values of the said Series: \n",
      "0     1.0\n",
      "1     1.0\n",
      "2     1.0\n",
      "3     4.0\n",
      "4     4.0\n",
      "5     NaN\n",
      "6     4.0\n",
      "7     NaN\n",
      "8     4.0\n",
      "9     5.0\n",
      "10    3.0\n",
      "dtype: float64\n"
     ]
    }
   ],
   "source": [
    "\"\"\"\n",
    "1. Write a Pandas program to convert all the string values to upper, \n",
    "lower cases in a given pandas series. Also find the length of the string values. \n",
    "\"\"\"\n",
    "import pandas as pd\n",
    "import numpy as np\n",
    "s = pd.Series(['X','Y','Z','Aaba','Baca',np.nan,'CABA',None,'bird','horse','dog'])\n",
    "print('Original Series: ')\n",
    "print(s)\n",
    "print('\\nConvert all string values of the said Series to upper case:')\n",
    "print(s.str.upper())\n",
    "print('\\nConvert all string values of the said Series to lower case: ')\n",
    "print(s.str.lower())\n",
    "print('\\nLength of the string values of the said Series: ')\n",
    "print(s.str.len())\n"
   ]
  },
  {
   "cell_type": "code",
   "execution_count": 7,
   "id": "ccb30616",
   "metadata": {},
   "outputs": [
    {
     "name": "stdout",
     "output_type": "stream",
     "text": [
      "Original Series:\n",
      "Index([' Green', 'Black ', 'Red', 'White  ', 'Pink'], dtype='object')\n",
      "\n",
      "Remove whitespace\n",
      "Index(['Green', 'Black', 'Red', 'White', 'Pink'], dtype='object')\n",
      "Remove left sided whitespace\n",
      "Index(['Green', 'Black ', 'Red', 'White  ', 'Pink'], dtype='object')\n",
      "Remove Right sided whitespace\n",
      "Index([' Green', 'Black', 'Red', 'White', 'Pink'], dtype='object')\n"
     ]
    }
   ],
   "source": [
    "\"\"\"\n",
    "2. Write a Pandas program to remove whitespaces, left sided whitespaces and \n",
    "right sided whitespaces of the string values of a given pandas series \n",
    "\"\"\"\n",
    "import pandas as pd\n",
    "color1 = pd.Index([' Green','Black ','Red','White  ','Pink'])\n",
    "print('Original Series:')\n",
    "print(color1)\n",
    "print('\\nRemove whitespace')\n",
    "print(color1.str.strip())\n",
    "print('Remove left sided whitespace')\n",
    "print(color1.str.lstrip())\n",
    "print('Remove Right sided whitespace')\n",
    "print(color1.str.rstrip())"
   ]
  },
  {
   "cell_type": "code",
   "execution_count": 14,
   "id": "cb4b4455",
   "metadata": {},
   "outputs": [
    {
     "name": "stdout",
     "output_type": "stream",
     "text": [
      "Original DataFrame: \n",
      "   amount\n",
      "0      10\n",
      "1     250\n",
      "2    3000\n",
      "3   40000\n",
      "4  500000\n",
      "\n",
      "Add leading zeros: \n",
      "     amount\n",
      "0  00000010\n",
      "1  00000250\n",
      "2  00003000\n",
      "3  00040000\n",
      "4  00500000\n"
     ]
    }
   ],
   "source": [
    "\"\"\"\n",
    "3. Write a Pandas program to add leading zeros to the integer column in a pandas series and \n",
    "makes the length of the field to 8 digit\n",
    "\"\"\"\n",
    "import pandas as pd\n",
    "import numpy as np\n",
    "nums = {'amount' : [10,250,3000,40000,500000]}\n",
    "print('Original DataFrame: ')\n",
    "df = pd.DataFrame(nums)\n",
    "print(df)\n",
    "print(\"\\nAdd leading zeros: \")\n",
    "df['amount'] = df['amount'].apply(lambda x: '{0:0>8}'.format(x))\n",
    "print(df)"
   ]
  },
  {
   "cell_type": "code",
   "execution_count": 17,
   "id": "0beb80a9",
   "metadata": {},
   "outputs": [
    {
     "name": "stdout",
     "output_type": "stream",
     "text": [
      "Original DataFrame: \n",
      "   amount\n",
      "0      10\n",
      "1     250\n",
      "2    3000\n",
      "3   40000\n",
      "4  500000\n",
      "\n",
      "Add leading zeros: \n",
      "       amount\n",
      "0  0000000010\n",
      "1  0000000250\n",
      "2  0000003000\n",
      "3  0000040000\n",
      "4  0000500000\n"
     ]
    }
   ],
   "source": [
    "\"\"\"\n",
    "4. Write a Pandas program to add leading zeros to the character column\n",
    "in a pandas series and makes the length of the field to 8 digit\n",
    "\"\"\"\n",
    "import pandas as pd\n",
    "nums = {'amount' : ['10','250','3000','40000','500000']}\n",
    "print('Original DataFrame: ')\n",
    "df = pd.DataFrame(nums)\n",
    "print(df)\n",
    "print('\\nAdd leading zeros: ')\n",
    "df['amount'] = list(map(lambda x: x.zfill(10), df['amount']))\n",
    "print(df)"
   ]
  },
  {
   "cell_type": "code",
   "execution_count": 20,
   "id": "58f70012",
   "metadata": {},
   "outputs": [
    {
     "name": "stdout",
     "output_type": "stream",
     "text": [
      "Original DataFrame: \n",
      "      name date_of_birth    age\n",
      "0  alberto     17/05/2002  18.5\n",
      "1     gino     16/02/1999  21.2\n",
      "2     ryan     25/09/1998  22.5\n",
      "3    Eesha     11/05/2002  22.0\n",
      "4     syed     15/09/1997  23.0\n",
      "\n",
      "After capitalizing name column: \n",
      "      name date_of_birth    age\n",
      "0  Alberto     17/05/2002  18.5\n",
      "1     Gino     16/02/1999  21.2\n",
      "2     Ryan     25/09/1998  22.5\n",
      "3    Eesha     11/05/2002  22.0\n",
      "4     Syed     15/09/1997  23.0\n"
     ]
    }
   ],
   "source": [
    "\"\"\"\n",
    "5. Write a Pandas program to capitalize all the string values of specified columns of \n",
    "a given DataFrame\n",
    "\"\"\"\n",
    "import pandas as pd\n",
    "df = pd.DataFrame({\n",
    "    'name': ['alberto','gino','ryan', 'Eesha', 'syed'],\n",
    "    'date_of_birth ': ['17/05/2002','16/02/1999','25/09/1998','11/05/2002','15/09/1997'],\n",
    "    'age': [18.5, 21.2, 22.5, 22, 23]\n",
    "})\n",
    "print('Original DataFrame: ')\n",
    "print(df)\n",
    "print('\\nAfter capitalizing name column: ')\n",
    "df['name'] = list(map(lambda x: x.capitalize(), df['name']))\n",
    "print(df)"
   ]
  },
  {
   "cell_type": "code",
   "execution_count": 21,
   "id": "d621c2a4",
   "metadata": {},
   "outputs": [
    {
     "name": "stdout",
     "output_type": "stream",
     "text": [
      "Original DataFrame: \n",
      "  name_code date_of_birth    age\n",
      "0      c001     12/05/2002  18.5\n",
      "1      c002     16/02/1999  21.2\n",
      "2      c022     25/09/1998  22.5\n",
      "3     c2002     12/02/2022  22.0\n",
      "4     c2222     15/09/1997  23.0\n",
      "\n",
      "Count occurance of 2 in date_of_birth column: \n",
      "  name_code date_of_birth    age  count\n",
      "0      c001     12/05/2002  18.5      0\n",
      "1      c002     16/02/1999  21.2      1\n",
      "2      c022     25/09/1998  22.5      2\n",
      "3     c2002     12/02/2022  22.0      2\n",
      "4     c2222     15/09/1997  23.0      4\n"
     ]
    }
   ],
   "source": [
    "\"\"\"\n",
    "6. Write a Pandas program to count of occurrence of a specified substring in a DataFrame column \n",
    "\"\"\"\n",
    "import pandas as pd\n",
    "df = pd.DataFrame({\n",
    "    'name_code': ['c001','c002','c022', 'c2002', 'c2222'],\n",
    "    'date_of_birth ': ['12/05/2002','16/02/1999','25/09/1998','12/02/2022','15/09/1997'],\n",
    "    'age': [18.5, 21.2, 22.5, 22, 23]\n",
    "})\n",
    "print('Original DataFrame: ')\n",
    "print(df)\n",
    "print('\\nCount occurance of 2 in date_of_birth column: ')\n",
    "df['count'] = list(map(lambda x: x.count('2'),df['name_code']))\n",
    "print(df)"
   ]
  },
  {
   "cell_type": "code",
   "execution_count": 23,
   "id": "429ebaeb",
   "metadata": {},
   "outputs": [
    {
     "name": "stdout",
     "output_type": "stream",
     "text": [
      "Original DataFrame: \n",
      "  name_code date_of_birth    age\n",
      "0      c001     12/05/2002  18.5\n",
      "1      c002     16/02/1999  21.2\n",
      "2      c022     25/09/1998  22.5\n",
      "3     c2002     12/02/2022  22.0\n",
      "4     c2222     15/09/1997  23.0\n",
      "\n",
      "Count occurence of 22 in date_of_birth column: \n",
      "  name_code date_of_birth    age  Index\n",
      "0      c001     12/05/2002  18.5     -1\n",
      "1      c002     16/02/1999  21.2     -1\n",
      "2      c022     25/09/1998  22.5      2\n",
      "3     c2002     12/02/2022  22.0     -1\n",
      "4     c2222     15/09/1997  23.0      1\n"
     ]
    }
   ],
   "source": [
    "\"\"\"\n",
    "7. Write a Pandas program to find the index of a given substring of a DataFrame column.\n",
    "\"\"\"\n",
    "import pandas as pd\n",
    "df = pd.DataFrame({\n",
    "    'name_code': ['c001','c002','c022', 'c2002', 'c2222'],\n",
    "    'date_of_birth ': ['12/05/2002','16/02/1999','25/09/1998','12/02/2022','15/09/1997'],\n",
    "    'age': [18.5, 21.2, 22.5, 22, 23]\n",
    "})\n",
    "print('Original DataFrame: ')\n",
    "print(df)\n",
    "print('\\nCount occurence of 22 in date_of_birth column: ')\n",
    "df['Index'] = list(map(lambda x: x.find('22'),df['name_code']))\n",
    "print(df)"
   ]
  },
  {
   "cell_type": "code",
   "execution_count": 25,
   "id": "a2fea23f",
   "metadata": {},
   "outputs": [
    {
     "name": "stdout",
     "output_type": "stream",
     "text": [
      "Original DataFrame: \n",
      "  name_code date_of_birth    age\n",
      "0      c001     12/05/2002  18.5\n",
      "1      c002     16/02/1999  21.2\n",
      "2      c022     25/09/1998  22.5\n",
      "3     c2002     12/02/2022  22.0\n",
      "4     c2222     15/09/1997  23.0\n",
      "\n",
      "Index of a substring in a specified column of a dataframe: \n",
      "  name_code date_of_birth    age  Index\n",
      "0      c001     12/05/2002  18.5      0\n",
      "1      c002     16/02/1999  21.2      0\n",
      "2      c022     25/09/1998  22.5      0\n",
      "3     c2002     12/02/2022  22.0      0\n",
      "4     c2222     15/09/1997  23.0      0\n"
     ]
    }
   ],
   "source": [
    "\"\"\"\n",
    "8. Write a Pandas program to find the index of a substring of DataFrame with beginning and\n",
    "end position. \n",
    "\"\"\"\n",
    "import pandas as pd\n",
    "df = pd.DataFrame({\n",
    "    'name_code': ['c001','c002','c022', 'c2002', 'c2222'],\n",
    "    'date_of_birth ': ['12/05/2002','16/02/1999','25/09/1998','12/02/2022','15/09/1997'],\n",
    "    'age': [18.5, 21.2, 22.5, 22, 23]\n",
    "})\n",
    "print('Original DataFrame: ')\n",
    "print(df)\n",
    "print('\\nIndex of a substring in a specified column of a dataframe: ')\n",
    "df['Index'] = list(map(lambda x: x.find('c',0,5), df['name_code']))\n",
    "print(df)"
   ]
  },
  {
   "cell_type": "code",
   "execution_count": 26,
   "id": "ce69e128",
   "metadata": {},
   "outputs": [
    {
     "name": "stdout",
     "output_type": "stream",
     "text": [
      "Original DataFrame:\n",
      "      name_code date_of_birth    age\n",
      "0       Company     12/05/2002  18.5\n",
      "1  Company a001     16/02/1999  21.2\n",
      "2   Company 123     25/09/1998  22.5\n",
      "3          1234     12/02/2022  22.0\n",
      "4    Company 12     15/09/1997  23.0\n",
      "\n",
      "Whether all characters in the string are alphanumeric? \n",
      "      name_code date_of_birth    age  name_cade_is_alphanumeric\n",
      "0       Company     12/05/2002  18.5                       True\n",
      "1  Company a001     16/02/1999  21.2                      False\n",
      "2   Company 123     25/09/1998  22.5                      False\n",
      "3          1234     12/02/2022  22.0                       True\n",
      "4    Company 12     15/09/1997  23.0                      False\n"
     ]
    }
   ],
   "source": [
    "\"\"\"\n",
    "9. Write a Pandas program to check whether alpha numeric values present\n",
    "in a given column of a DataFrame\n",
    "\"\"\"\n",
    "import pandas as pd\n",
    "df = pd.DataFrame({\n",
    "    'name_code': ['Company','Company a001','Company 123', '1234', 'Company 12'],\n",
    "    'date_of_birth ': ['12/05/2002','16/02/1999','25/09/1998','12/02/2022','15/09/1997'],\n",
    "    'age': [18.5, 21.2, 22.5, 22, 23]\n",
    "})\n",
    "print(\"Original DataFrame:\")\n",
    "print(df)\n",
    "print('\\nWhether all characters in the string are alphanumeric? ')\n",
    "df['name_code_is_alphanumeric'] = list(map(lambda x: x.isalnum(), df ['name_code']))\n",
    "print(df)"
   ]
  },
  {
   "cell_type": "code",
   "execution_count": 27,
   "id": "1b230434",
   "metadata": {},
   "outputs": [
    {
     "name": "stdout",
     "output_type": "stream",
     "text": [
      "Original DataFrame:\n",
      "   company_code date_of_sale   sale_amount\n",
      "0       Company    12/05/2002      12348.5\n",
      "1  Company a001    16/02/1999     233331.2\n",
      "2   Company 123    25/09/1998         22.5\n",
      "3          abcd    12/02/2022    2566552.0\n",
      "4    Company 12    15/09/1997         23.0\n",
      "\n",
      "Whether Alphabetic values present in company_code column?\n",
      "   company_code date_of_sale   sale_amount  company_code_is_alpha\n",
      "0       Company    12/05/2002      12348.5                   True\n",
      "1  Company a001    16/02/1999     233331.2                  False\n",
      "2   Company 123    25/09/1998         22.5                  False\n",
      "3          abcd    12/02/2022    2566552.0                   True\n",
      "4    Company 12    15/09/1997         23.0                  False\n"
     ]
    }
   ],
   "source": [
    "\"\"\"\n",
    "10. Write a Pandas program to check whether alphabetic values present in a given column of\n",
    "a DataFrame. \n",
    "\"\"\"\n",
    "import pandas as pd\n",
    "df = pd.DataFrame({\n",
    "    'company_code': ['Company','Company a001','Company 123', 'abcd', 'Company 12'],\n",
    "    'date_of_sale ': ['12/05/2002','16/02/1999','25/09/1998','12/02/2022','15/09/1997'],\n",
    "    'sale_amount': [12348.5, 233331.2, 22.5, 2566552.0, 23.0]})\n",
    "\n",
    "print(\"Original DataFrame:\")\n",
    "print(df)\n",
    "print('\\nWhether Alphabetic values present in company_code column?')\n",
    "df['company_code_is_alpha'] = list(map(lambda x: x.isalpha(),df['company_code']))\n",
    "print(df)\n"
   ]
  },
  {
   "cell_type": "code",
   "execution_count": 28,
   "id": "c0074e48",
   "metadata": {},
   "outputs": [
    {
     "name": "stdout",
     "output_type": "stream",
     "text": [
      "Original DataFrame:\n",
      "   company_code date_of_sale   sale_amount\n",
      "0       Company    12/05/2002      12348.5\n",
      "1  Company a001    16/02/1999     233331.2\n",
      "2          2055    25/09/1998         22.5\n",
      "3          abcd    12/02/2022    2566552.0\n",
      "4        123345    15/09/1997         23.0\n",
      "Numeric values present in company_code column: \n",
      "   company_code date_of_sale   sale_amount  company_code_is_digit\n",
      "0       Company    12/05/2002      12348.5                  False\n",
      "1  Company a001    16/02/1999     233331.2                  False\n",
      "2          2055    25/09/1998         22.5                   True\n",
      "3          abcd    12/02/2022    2566552.0                  False\n",
      "4        123345    15/09/1997         23.0                   True\n"
     ]
    }
   ],
   "source": [
    "\"\"\"\n",
    "11. Write a Pandas program to check whether only numeric values present in a given \n",
    "column of a DataFrame\n",
    "\"\"\"\n",
    "import pandas as pd\n",
    "df = pd.DataFrame({\n",
    "    'company_code': ['Company','Company a001', '2055', 'abcd', '123345'],\n",
    "    'date_of_sale ': ['12/05/2002','16/02/1999','25/09/1998','12/02/2022','15/09/1997'],\n",
    "    'sale_amount': [12348.5, 233331.2, 22.5, 2566552.0, 23.0]})\n",
    "\t\n",
    "print(\"Original DataFrame:\")\n",
    "print(df)\n",
    "print('Numeric values present in company_code column: ')\n",
    "df['company_code_is_digit'] = list(map(lambda x: x.isdigit(),df['company_code']))\n",
    "print(df)"
   ]
  },
  {
   "cell_type": "code",
   "execution_count": 29,
   "id": "825c94fa",
   "metadata": {},
   "outputs": [
    {
     "name": "stdout",
     "output_type": "stream",
     "text": [
      "Original DataFrame:\n",
      "  company_code date_of_sale   sale_amount\n",
      "0         ABCD    12/05/2002      12348.5\n",
      "1         EFGF    16/02/1999     233331.2\n",
      "2         hhhh    25/09/1998         22.5\n",
      "3         abcd    12/02/2022    2566552.0\n",
      "4      EAWQaaa    15/09/1997         23.0\n",
      "nIs lower (company_code)?\n",
      "  company_code date_of_sale   sale_amount  company_code_ul_cases\n",
      "0         ABCD    12/05/2002      12348.5                  False\n",
      "1         EFGF    16/02/1999     233331.2                  False\n",
      "2         hhhh    25/09/1998         22.5                   True\n",
      "3         abcd    12/02/2022    2566552.0                   True\n",
      "4      EAWQaaa    15/09/1997         23.0                  False\n",
      "\n",
      "Is Upper (company_code)?\n",
      "  company_code date_of_sale   sale_amount  company_code_ul_cases\n",
      "0         ABCD    12/05/2002      12348.5                   True\n",
      "1         EFGF    16/02/1999     233331.2                   True\n",
      "2         hhhh    25/09/1998         22.5                  False\n",
      "3         abcd    12/02/2022    2566552.0                  False\n",
      "4      EAWQaaa    15/09/1997         23.0                  False\n"
     ]
    }
   ],
   "source": [
    "\"\"\"\n",
    "12. Write a Pandas program to check whether only lower case or upper case is \n",
    "present in a given column of a DataFrame\n",
    "\"\"\"\n",
    "import pandas as pd\n",
    "df = pd.DataFrame({\n",
    "    'company_code': ['ABCD','EFGF', 'hhhh', 'abcd', 'EAWQaaa'],\n",
    "    'date_of_sale ': ['12/05/2002','16/02/1999','25/09/1998','12/02/2022','15/09/1997'],\n",
    "    'sale_amount': [12348.5, 233331.2, 22.5, 2566552.0, 23.0]})\n",
    "\n",
    "print(\"Original DataFrame:\")\n",
    "print(df)\n",
    "print('nIs lower (company_code)?')\n",
    "df['company_code_ul_cases']=list(map(lambda x: x.islower(), df['company_code']))\n",
    "print(df)\n",
    "print('\\nIs Upper (company_code)?')\n",
    "df['company_code_ul_cases'] = list(map(lambda x: x.isupper(), df['company_code']))\n",
    "print(df)"
   ]
  },
  {
   "cell_type": "code",
   "execution_count": 31,
   "id": "cd71814e",
   "metadata": {},
   "outputs": [
    {
     "name": "stdout",
     "output_type": "stream",
     "text": [
      "Original DataFrame:\n",
      "  company_code date_of_sale   sale_amount\n",
      "0         ABCD    12/05/2002      12348.5\n",
      "1         EFGF    16/02/1999     233331.2\n",
      "2         hhhh    25/09/1998         22.5\n",
      "3         abcd    12/02/2022    2566552.0\n",
      "4      EAWQaaa    15/09/1997         23.0\n",
      "\n",
      "Is proper case or title case?\n",
      "  company_code date_of_sale   sale_amount  company_code_is title\n",
      "0         ABCD    12/05/2002      12348.5                  False\n",
      "1         EFGF    16/02/1999     233331.2                  False\n",
      "2         hhhh    25/09/1998         22.5                  False\n",
      "3         abcd    12/02/2022    2566552.0                  False\n",
      "4      EAWQaaa    15/09/1997         23.0                  False\n"
     ]
    }
   ],
   "source": [
    "\"\"\"\n",
    "13. Write a Pandas program to check whether only proper case or title case is present in\n",
    "a given column of a DataFrame. \n",
    "\"\"\"\n",
    "import pandas as pd\n",
    "df = pd.DataFrame({\n",
    "    'company_code': ['ABCD','EFGF', 'hhhh', 'abcd', 'EAWQaaa'],\n",
    "    'date_of_sale ': ['12/05/2002','16/02/1999','25/09/1998','12/02/2022','15/09/1997'],\n",
    "    'sale_amount': [12348.5, 233331.2, 22.5, 2566552.0, 23.0]})\n",
    "\n",
    "print(\"Original DataFrame:\")\n",
    "print(df)\n",
    "print('\\nIs proper case or title case?')\n",
    "df['company_code_is title'] = list(map(lambda x: x.istitle(), df['company_code']))\n",
    "print(df)"
   ]
  },
  {
   "cell_type": "code",
   "execution_count": 33,
   "id": "6f779494",
   "metadata": {},
   "outputs": [
    {
     "name": "stdout",
     "output_type": "stream",
     "text": [
      "Original DataFrame: \n",
      "  company_code date_of_sale   sale_amount\n",
      "0         Abcd    12/05/2002      12348.5\n",
      "1        EFGF     16/02/1999     233331.2\n",
      "2                 25/09/1998         22.5\n",
      "3         abcd    12/02/2022    2566552.0\n",
      "4                 15/09/1997         23.0\n",
      "\n",
      "Is space is present?\n",
      "  company_code date_of_sale   sale_amount  company_code_is_title\n",
      "0         Abcd    12/05/2002      12348.5                  False\n",
      "1        EFGF     16/02/1999     233331.2                  False\n",
      "2                 25/09/1998         22.5                   True\n",
      "3         abcd    12/02/2022    2566552.0                  False\n",
      "4                 15/09/1997         23.0                   True\n"
     ]
    }
   ],
   "source": [
    "\"\"\"\n",
    "14. Write a Pandas program to check whether only space is present in a given column of a DataFrame\n",
    "\"\"\"\n",
    "import pandas as pd\n",
    "df = pd.DataFrame({\n",
    "    'company_code': ['Abcd','EFGF ', '  ', 'abcd', ' '],\n",
    "    'date_of_sale ': ['12/05/2002','16/02/1999','25/09/1998','12/02/2022','15/09/1997'],\n",
    "    'sale_amount': [12348.5, 233331.2, 22.5, 2566552.0, 23.0]\n",
    "\n",
    "})\n",
    "print('Original DataFrame: ')\n",
    "print(df)\n",
    "print('\\nIs space is present?')\n",
    "df['company_code_is_title'] = list(map(lambda x: x.isspace(), df['company_code']))\n",
    "print(df)"
   ]
  },
  {
   "cell_type": "code",
   "execution_count": 34,
   "id": "cde90da0",
   "metadata": {},
   "outputs": [
    {
     "name": "stdout",
     "output_type": "stream",
     "text": [
      "Original DataFrame: \n",
      "  company_code date_of_sale   sale_amount\n",
      "0         Abcd    12/05/2002      12348.5\n",
      "1         EFGF    16/02/1999     233331.2\n",
      "2      skfsalf    25/09/1998         22.5\n",
      "3      sdfslew    12/02/2022    2566552.0\n",
      "4       safsdf    15/09/1997         23.0\n",
      "\n",
      "Length of the string in column: \n",
      "  company_code date_of_sale   sale_amount  company_code_length\n",
      "0         Abcd    12/05/2002      12348.5                    4\n",
      "1         EFGF    16/02/1999     233331.2                    4\n",
      "2      skfsalf    25/09/1998         22.5                    7\n",
      "3      sdfslew    12/02/2022    2566552.0                    7\n",
      "4       safsdf    15/09/1997         23.0                    6\n"
     ]
    }
   ],
   "source": [
    "\"\"\"\n",
    "15. Write a Pandas program to get the length of the string present of a given column in a DataFrame.\n",
    "\"\"\"\n",
    "import pandas as pd\n",
    "df = pd.DataFrame({\n",
    "    'company_code': ['Abcd','EFGF', 'skfsalf', 'sdfslew', 'safsdf'],\n",
    "    'date_of_sale ': ['12/05/2002','16/02/1999','25/09/1998','12/02/2022','15/09/1997'],\n",
    "    'sale_amount': [12348.5, 233331.2, 22.5, 2566552.0, 23.0]\n",
    "})\n",
    "print('Original DataFrame: ')\n",
    "print(df)\n",
    "print('\\nLength of the string in column: ')\n",
    "df['company_code_length'] = df['company_code'].apply(len)\n",
    "print(df)"
   ]
  },
  {
   "cell_type": "code",
   "execution_count": 35,
   "id": "d7be925d",
   "metadata": {},
   "outputs": [
    {
     "name": "stdout",
     "output_type": "stream",
     "text": [
      "Original DataFrame: \n",
      "  company_code date_of_sale  sale_amount\n",
      "0         Abcd   12/05/2002      12348.5\n",
      "1         EFGF   16/02/1999     233331.2\n",
      "2      skfsalf   25/09/1998         22.5\n",
      "3      sdfslew   12/02/2022    2566552.0\n",
      "4       safsdf   15/09/1997         23.0\n",
      "\n",
      "Length of sale_amount: \n",
      "  company_code date_of_sale  sale_amount  sale_amount_length\n",
      "0         Abcd   12/05/2002      12348.5                   7\n",
      "1         EFGF   16/02/1999     233331.2                   8\n",
      "2      skfsalf   25/09/1998         22.5                   4\n",
      "3      sdfslew   12/02/2022    2566552.0                   9\n",
      "4       safsdf   15/09/1997         23.0                   4\n"
     ]
    }
   ],
   "source": [
    "\"\"\"\n",
    "16. Write a Pandas program to get the length of the integer of a given column in a DataFrame\n",
    "\"\"\"\n",
    "import pandas as pd\n",
    "df = pd.DataFrame({\n",
    "    'company_code': ['Abcd','EFGF', 'skfsalf', 'sdfslew', 'safsdf'],\n",
    "    'date_of_sale': ['12/05/2002','16/02/1999','25/09/1998','12/02/2022','15/09/1997'],\n",
    "    'sale_amount': [12348.5, 233331.2, 22.5, 2566552.0, 23.0]\n",
    "})\n",
    "print('Original DataFrame: ')\n",
    "print(df)\n",
    "print('\\nLength of sale_amount: ')\n",
    "df['sale_amount_length'] = df['sale_amount'].map(str).apply(len)\n",
    "print(df)"
   ]
  },
  {
   "cell_type": "code",
   "execution_count": 36,
   "id": "061d603c",
   "metadata": {},
   "outputs": [
    {
     "name": "stdout",
     "output_type": "stream",
     "text": [
      "Original DataFrame: \n",
      "  company_code date_of_sale  sale_amount\n",
      "0         Abcd   12/05/2002      12348.5\n",
      "1         EFGF   16/02/1999     233331.2\n",
      "2      zefsalf   25/09/1998         22.5\n",
      "3      sdfslew   12/02/2022    2566552.0\n",
      "4      zekfsdf   15/09/1997         23.0\n",
      "\n",
      "If a specified column starts with a specified string?\n",
      "  company_code date_of_sale  sale_amount  company_code_starts_with\n",
      "0         Abcd   12/05/2002      12348.5                     False\n",
      "1         EFGF   16/02/1999     233331.2                     False\n",
      "2      zefsalf   25/09/1998         22.5                      True\n",
      "3      sdfslew   12/02/2022    2566552.0                     False\n",
      "4      zekfsdf   15/09/1997         23.0                      True\n"
     ]
    }
   ],
   "source": [
    "\"\"\"\n",
    "17. Write a Pandas program to check if a specified column starts with a \n",
    "specified string in a DataFrame.\n",
    "\"\"\"\n",
    "import pandas as pd\n",
    "df = pd.DataFrame({\n",
    "    'company_code': ['Abcd','EFGF', 'zefsalf', 'sdfslew', 'zekfsdf'],\n",
    "    'date_of_sale': ['12/05/2002','16/02/1999','25/09/1998','12/02/2022','15/09/1997'],\n",
    "    'sale_amount': [12348.5, 233331.2, 22.5, 2566552.0, 23.0]\n",
    "})\n",
    "print('Original DataFrame: ')\n",
    "print(df)\n",
    "print('\\nIf a specified column starts with a specified string?')\n",
    "df['company_code_starts_with'] = list( map(lambda x: x.startswith('ze'),df['company_code']))\n",
    "print(df)"
   ]
  },
  {
   "cell_type": "code",
   "execution_count": 37,
   "id": "4718e892",
   "metadata": {},
   "outputs": [
    {
     "name": "stdout",
     "output_type": "stream",
     "text": [
      "Original DataFrame: \n",
      "  company_code date_of_sale  sale_amount\n",
      "0         Abcd   12/05/2002      12348.5\n",
      "1         EFGF   16/02/1999     233331.2\n",
      "2      zefsalf   25/09/1998         22.5\n",
      "3      sdfslew   12/02/2022    2566552.0\n",
      "4      zekfsdf   15/09/1997         23.0\n",
      "\n",
      "Swapp cases in company_code\n",
      "  company_code date_of_sale  sale_amount swapped_company_code\n",
      "0         Abcd   12/05/2002      12348.5                 aBCD\n",
      "1         EFGF   16/02/1999     233331.2                 efgf\n",
      "2      zefsalf   25/09/1998         22.5              ZEFSALF\n",
      "3      sdfslew   12/02/2022    2566552.0              SDFSLEW\n",
      "4      zekfsdf   15/09/1997         23.0              ZEKFSDF\n"
     ]
    }
   ],
   "source": [
    "\"\"\"\n",
    "18. Write a Pandas program to swap the cases of a specified character column in a given DataFrame.\n",
    "\"\"\"\n",
    "import pandas as pd\n",
    "df = pd.DataFrame({\n",
    "    'company_code': ['Abcd','EFGF', 'zefsalf', 'sdfslew', 'zekfsdf'],\n",
    "    'date_of_sale': ['12/05/2002','16/02/1999','25/09/1998','12/02/2022','15/09/1997'],\n",
    "    'sale_amount': [12348.5, 233331.2, 22.5, 2566552.0, 23.0]\n",
    "})\n",
    "print('Original DataFrame: ')\n",
    "print(df)\n",
    "print('\\nSwapp cases in company_code')\n",
    "df['swapped_company_code'] = list(map(lambda x: x.swapcase(), df['company_code'] ))\n",
    "print(df)"
   ]
  },
  {
   "cell_type": "code",
   "execution_count": 39,
   "id": "a1b34fde",
   "metadata": {},
   "outputs": [
    {
     "name": "stdout",
     "output_type": "stream",
     "text": [
      "Original DataFrame: \n",
      "  company_code date_of_sale  sale_amount\n",
      "0         Abcd   12/05/2002      12348.5\n",
      "1         EFGF   16/02/1999     233331.2\n",
      "2      zefsalf   25/09/1998         22.5\n",
      "3      sdfslew   12/02/2022    2566552.0\n",
      "4      zekfsdf   15/09/1997         23.0\n",
      "\n",
      "Upper cases in company_code: \n",
      "  company_code date_of_sale  sale_amount upper_company_code\n",
      "0         Abcd   12/05/2002      12348.5               ABCD\n",
      "1         EFGF   16/02/1999     233331.2               EFGF\n",
      "2      zefsalf   25/09/1998         22.5            ZEFSALF\n",
      "3      sdfslew   12/02/2022    2566552.0            SDFSLEW\n",
      "4      zekfsdf   15/09/1997         23.0            ZEKFSDF\n",
      "\n",
      "Lower cases in compnay_code: \n",
      "  company_code date_of_sale  sale_amount lower_company_code\n",
      "0         Abcd   12/05/2002      12348.5               abcd\n",
      "1         EFGF   16/02/1999     233331.2               efgf\n",
      "2      zefsalf   25/09/1998         22.5            zefsalf\n",
      "3      sdfslew   12/02/2022    2566552.0            sdfslew\n",
      "4      zekfsdf   15/09/1997         23.0            zekfsdf\n"
     ]
    }
   ],
   "source": [
    "\"\"\"\n",
    "19. Write a Pandas program to convert a specified character column in upper/lower cases in \n",
    "a given DataFrame\n",
    "\"\"\"\n",
    "import pandas as pd\n",
    "df = pd.DataFrame({\n",
    "    'company_code': ['Abcd','EFGF', 'zefsalf', 'sdfslew', 'zekfsdf'],\n",
    "    'date_of_sale': ['12/05/2002','16/02/1999','25/09/1998','12/02/2022','15/09/1997'],\n",
    "    'sale_amount': [12348.5, 233331.2, 22.5, 2566552.0, 23.0]\n",
    "    \n",
    "})\n",
    "df1 = pd.DataFrame({\n",
    "    'company_code': ['Abcd','EFGF', 'zefsalf', 'sdfslew', 'zekfsdf'],\n",
    "    'date_of_sale': ['12/05/2002','16/02/1999','25/09/1998','12/02/2022','15/09/1997'],\n",
    "    'sale_amount': [12348.5, 233331.2, 22.5, 2566552.0, 23.0]\n",
    "})\n",
    "print('Original DataFrame: ')\n",
    "print(df)\n",
    "print('\\nUpper cases in company_code: ')\n",
    "df['upper_company_code'] = list(map(lambda x: x.upper(),df['company_code']))\n",
    "print(df)\n",
    "print('\\nLower cases in compnay_code: ')\n",
    "df1['lower_company_code'] = list(map(lambda x: x.lower(), df1['company_code']))\n",
    "print(df1)"
   ]
  },
  {
   "cell_type": "code",
   "execution_count": 41,
   "id": "716fe5b5",
   "metadata": {},
   "outputs": [
    {
     "name": "stdout",
     "output_type": "stream",
     "text": [
      "Original DataFrame: \n",
      "  company_code date_of_sale  sale_amount\n",
      "0         Abcd   12/05/2002      12348.5\n",
      "1         EFGF   16/02/1999     233331.2\n",
      "2      zefsalf   25/09/1998         22.5\n",
      "3      sdfslew   12/02/2022    2566552.0\n",
      "4      zekfsdf   15/09/1997         23.0\n",
      "\n",
      "Title Cases: \n",
      "  company_code date_of_sale  sale_amount company_code_title_cases\n",
      "0         Abcd   12/05/2002      12348.5                     Abcd\n",
      "1         EFGF   16/02/1999     233331.2                     Efgf\n",
      "2      zefsalf   25/09/1998         22.5                  Zefsalf\n",
      "3      sdfslew   12/02/2022    2566552.0                  Sdfslew\n",
      "4      zekfsdf   15/09/1997         23.0                  Zekfsdf\n"
     ]
    }
   ],
   "source": [
    "\"\"\"\n",
    "20. Write a Pandas program to convert a specified character column in title case in a given DataFrame.\n",
    "\"\"\"\n",
    "import pandas as pd\n",
    "df = pd.DataFrame({\n",
    "    'company_code': ['Abcd','EFGF', 'zefsalf', 'sdfslew', 'zekfsdf'],\n",
    "    'date_of_sale': ['12/05/2002','16/02/1999','25/09/1998','12/02/2022','15/09/1997'],\n",
    "    'sale_amount': [12348.5, 233331.2, 22.5, 2566552.0, 23.0]\n",
    "})\n",
    "\n",
    "print('Original DataFrame: ')\n",
    "print(df)\n",
    "\n",
    "print('\\nTitle Cases: ')\n",
    "df['company_code_title_cases'] = list(map(lambda x: x.title(), df['company_code']))\n",
    "print(df)\n"
   ]
  },
  {
   "cell_type": "code",
   "execution_count": 42,
   "id": "325fa661",
   "metadata": {},
   "outputs": [
    {
     "name": "stdout",
     "output_type": "stream",
     "text": [
      "Original DataFrame: \n",
      "  company_code date_of_sale  sale_amount\n",
      "0            A   12/05/2002      12348.5\n",
      "1            B   16/02/1999     233331.2\n",
      "2            C   25/09/1998         22.5\n",
      "3            D   12/02/2022    2566552.0\n",
      "4            A   15/09/1997         23.0\n",
      "\n",
      "Replace A with C:\n",
      "  company_code date_of_sale  sale_amount\n",
      "0            C   12/05/2002      12348.5\n",
      "1            B   16/02/1999     233331.2\n",
      "2            C   25/09/1998         22.5\n",
      "3            D   12/02/2022    2566552.0\n",
      "4            C   15/09/1997         23.0\n"
     ]
    }
   ],
   "source": [
    "\"\"\"\n",
    "21. Write a Pandas program to replace arbitrary values with other values in a given DataFrame. \n",
    "\"\"\"\n",
    "import pandas as pd\n",
    "df = pd.DataFrame({\n",
    "    'company_code': ['A','B', 'C', 'D', 'A'],\n",
    "    'date_of_sale': ['12/05/2002','16/02/1999','25/09/1998','12/02/2022','15/09/1997'],\n",
    "    'sale_amount': [12348.5, 233331.2, 22.5, 2566552.0, 23.0]   \n",
    "})\n",
    "print('Original DataFrame: ')\n",
    "print(df)\n",
    "\n",
    "print('\\nReplace A with C:')\n",
    "df = df.replace('A','C')\n",
    "print(df)"
   ]
  },
  {
   "cell_type": "code",
   "execution_count": 43,
   "id": "c823af93",
   "metadata": {},
   "outputs": [
    {
     "name": "stdout",
     "output_type": "stream",
     "text": [
      "Original DataFrame: \n",
      "  company_code date_of_sale  sale_amount\n",
      "0            A   12/05/2002      12348.5\n",
      "1            B   16/02/1999     233331.2\n",
      "2            C   25/09/1998         22.5\n",
      "3            D   12/02/2022    2566552.0\n",
      "4            A   15/09/1997         23.0\n",
      "\n",
      "Replace A with C: \n",
      "  company_code date_of_sale  sale_amount\n",
      "0            X   12/05/2002      12348.5\n",
      "1            B   16/02/1999     233331.2\n",
      "2            C   25/09/1998         22.5\n",
      "3            Y   12/02/2022    2566552.0\n",
      "4            X   15/09/1997         23.0\n"
     ]
    }
   ],
   "source": [
    "\"\"\"\n",
    "22. Write a Pandas program to replace more than one value with other values in a given DataFrame.\n",
    "\"\"\"\n",
    "import pandas as pd\n",
    "df = pd.DataFrame({\n",
    "    'company_code': ['A','B', 'C', 'D', 'A'],\n",
    "    'date_of_sale': ['12/05/2002','16/02/1999','25/09/1998','12/02/2022','15/09/1997'],\n",
    "    'sale_amount': [12348.5, 233331.2, 22.5, 2566552.0, 23.0]\n",
    "})\n",
    "print('Original DataFrame: ')\n",
    "print(df)\n",
    "\n",
    "print('\\nReplace A with C: ')\n",
    "df = df.replace(['A','D'],['X','Y'])\n",
    "print(df)"
   ]
  },
  {
   "cell_type": "code",
   "execution_count": 44,
   "id": "1efd95c5",
   "metadata": {},
   "outputs": [
    {
     "name": "stdout",
     "output_type": "stream",
     "text": [
      "Original DataFrame: \n",
      "                 name date_of_birth    age\n",
      "0     Alberto  Franco     17/05/2002  18.5\n",
      "1    Gino Ann Mcneill     16/02/1999  21.2\n",
      "2        Ryan  Parkes     25/09/1998  22.5\n",
      "3  Eesha Artur Hinton     11/05/2002  22.0\n",
      "4       Syed  Wharton     15/09/1997  23.0\n",
      "\n",
      "New DataFrame: \n",
      "                 name date_of_birth    age    first middle     last\n",
      "0     Alberto  Franco     17/05/2002  18.5  Alberto          Franco\n",
      "1    Gino Ann Mcneill     16/02/1999  21.2     Gino    Ann  Mcneill\n",
      "2        Ryan  Parkes     25/09/1998  22.5     Ryan          Parkes\n",
      "3  Eesha Artur Hinton     11/05/2002  22.0    Eesha  Artur   Hinton\n",
      "4       Syed  Wharton     15/09/1997  23.0     Syed         Wharton\n"
     ]
    }
   ],
   "source": [
    "\"\"\"\n",
    "23. Write a Pandas program to split a string of a column of a given DataFrame into multiple columns.\n",
    "\"\"\"\n",
    "import pandas as pd\n",
    "df = pd.DataFrame({\n",
    "    'name': ['Alberto  Franco','Gino Ann Mcneill','Ryan  Parkes', 'Eesha Artur Hinton', 'Syed  Wharton'],\n",
    "    'date_of_birth ': ['17/05/2002','16/02/1999','25/09/1998','11/05/2002','15/09/1997'],\n",
    "    'age': [18.5, 21.2, 22.5, 22, 23]\n",
    "})\n",
    "print('Original DataFrame: ')\n",
    "print(df)\n",
    "df[['first','middle','last']] = df['name'].str.split(\" \",expand = True)\n",
    "print('\\nNew DataFrame: ')\n",
    "print(df)"
   ]
  },
  {
   "cell_type": "code",
   "execution_count": 49,
   "id": "e74e0a0c",
   "metadata": {},
   "outputs": [
    {
     "name": "stdout",
     "output_type": "stream",
     "text": [
      "Original DataFrame:\n",
      "                    name_email\n",
      "0  Alberto Franco af@gmail.com\n",
      "1    Gino Mcneill gm@yahoo.com\n",
      "2        Ryan Parkes rp@abc.io\n",
      "3                 Eesha Hinton\n",
      "4   Gino Mcneill gm@github.com\n",
      "\n",
      "Extracting email from dataframe columns: \n",
      "                    name_email          email\n",
      "0  Alberto Franco af@gmail.com   af@gmail.com\n",
      "1    Gino Mcneill gm@yahoo.com   gm@yahoo.com\n",
      "2        Ryan Parkes rp@abc.io      rp@abc.io\n",
      "3                 Eesha Hinton               \n",
      "4   Gino Mcneill gm@github.com  gm@github.com\n"
     ]
    }
   ],
   "source": [
    "\"\"\"\n",
    "24. Write a Pandas program to extract email from a specified column of string type of a \n",
    "given DataFrame\n",
    "\"\"\"\n",
    "import pandas as pd\n",
    "import re as re\n",
    "pd.set_option('display.max_columns', 10)\n",
    "df = pd.DataFrame({\n",
    "    'name_email': ['Alberto Franco af@gmail.com','Gino Mcneill gm@yahoo.com','Ryan Parkes rp@abc.io', 'Eesha Hinton', 'Gino Mcneill gm@github.com']\n",
    "    })\n",
    "print(\"Original DataFrame:\")\n",
    "print(df)\n",
    "def find_email(text):\n",
    "    email = re.findall(r'[\\w\\.-]+@[\\w\\.-]+',str(text))\n",
    "    return \",\".join(email)\n",
    "df['email'] = df['name_email'].apply(lambda x: find_email(x))\n",
    "print('\\nExtracting email from dataframe columns: ')\n",
    "print(df)"
   ]
  },
  {
   "cell_type": "code",
   "execution_count": 51,
   "id": "fc5086c4",
   "metadata": {},
   "outputs": [
    {
     "name": "stdout",
     "output_type": "stream",
     "text": [
      "Original DataFrame:\n",
      "                                  tweets\n",
      "0                    #Obama says goodbye\n",
      "1                     Retweets for #cash\n",
      "2  A political endorsement in #Indonesia\n",
      "3                 1 dog = many #retweets\n",
      "4                     Just a simple #egg\n",
      "\n",
      "Extracting#@word from dataframe columns: \n",
      "                                  tweets  hash_word\n",
      "0                    #Obama says goodbye      Obama\n",
      "1                     Retweets for #cash       cash\n",
      "2  A political endorsement in #Indonesia  Indonesia\n",
      "3                 1 dog = many #retweets   retweets\n",
      "4                     Just a simple #egg        egg\n"
     ]
    }
   ],
   "source": [
    "\"\"\"\n",
    "25. Write a Pandas program to extract hash attached word from twitter text from \n",
    "the specified column of a given DataFrame \n",
    "\"\"\"\n",
    "import pandas as pd\n",
    "import re as re\n",
    "pd.set_option('display.max_columns', 10)\n",
    "df = pd.DataFrame({\n",
    "    'tweets': ['#Obama says goodbye','Retweets for #cash','A political endorsement in #Indonesia', '1 dog = many #retweets', 'Just a simple #egg']\n",
    "    })\n",
    "print(\"Original DataFrame:\")\n",
    "print(df)\n",
    "def find_hash(text):\n",
    "    hword = re.findall(r'(?<=#)\\w+',text)\n",
    "    return\" \".join(hword)\n",
    "df['hash_word'] = df['tweets'].apply(lambda x: find_hash(x))\n",
    "print('\\nExtracting#@word from dataframe columns: ')\n",
    "print(df)"
   ]
  },
  {
   "cell_type": "code",
   "execution_count": 53,
   "id": "2b4822ea",
   "metadata": {},
   "outputs": [
    {
     "name": "stdout",
     "output_type": "stream",
     "text": [
      "Original DataFrame:\n",
      "                                  tweets\n",
      "0                    @Obama says goodbye\n",
      "1                     Retweets for @cash\n",
      "2  A political endorsement in @Indonesia\n",
      "3                 1 dog = many #retweets\n",
      "4                     Just a simple #egg\n",
      "\n",
      "Extracting @ word from dataframe columns: \n",
      "                                  tweets    at_word\n",
      "0                    @Obama says goodbye      Obama\n",
      "1                     Retweets for @cash       cash\n",
      "2  A political endorsement in @Indonesia  Indonesia\n",
      "3                 1 dog = many #retweets           \n",
      "4                     Just a simple #egg           \n"
     ]
    }
   ],
   "source": [
    "\"\"\"\n",
    "26. Write a Pandas program to extract word mention someone in tweets using @ from \n",
    "the specified column of a given DataFrame\n",
    "\"\"\"\n",
    "import pandas as pd\n",
    "import re as re\n",
    "pd.set_option('display.max_columns', 10)\n",
    "df = pd.DataFrame({\n",
    "    'tweets': ['@Obama says goodbye','Retweets for @cash','A political endorsement in @Indonesia', '1 dog = many #retweets', 'Just a simple #egg']\n",
    "    })\n",
    "print(\"Original DataFrame:\")\n",
    "print(df)\n",
    "\n",
    "def find_at_word(text):\n",
    "    word = re.findall(r'(?<=@)\\w+',text)\n",
    "    return\" \".join(word)\n",
    "df['at_word'] = df['tweets'].apply(lambda x: find_at_word(x))\n",
    "print('\\nExtracting @ word from dataframe columns: ')\n",
    "print(df)"
   ]
  },
  {
   "cell_type": "code",
   "execution_count": null,
   "id": "7f5c9f23",
   "metadata": {},
   "outputs": [],
   "source": []
  }
 ],
 "metadata": {
  "kernelspec": {
   "display_name": "Python 3",
   "language": "python",
   "name": "python3"
  },
  "language_info": {
   "codemirror_mode": {
    "name": "ipython",
    "version": 3
   },
   "file_extension": ".py",
   "mimetype": "text/x-python",
   "name": "python",
   "nbconvert_exporter": "python",
   "pygments_lexer": "ipython3",
   "version": "3.8.8"
  }
 },
 "nbformat": 4,
 "nbformat_minor": 5
}
