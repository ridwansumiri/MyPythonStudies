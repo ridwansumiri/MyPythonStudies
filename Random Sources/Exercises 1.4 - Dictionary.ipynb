{
 "cells": [
  {
   "cell_type": "code",
   "execution_count": 1,
   "id": "fd8ab909",
   "metadata": {},
   "outputs": [
    {
     "name": "stdout",
     "output_type": "stream",
     "text": [
      "original dictionary : {1: 2, 3: 4, 4: 3, 2: 1, 0: 0}\n",
      "Dictionary in ascending order by value : [(0, 0), (2, 1), (1, 2), (4, 3), (3, 4)]\n",
      "Dictionary in descending order by value : {3: 4, 4: 3, 1: 2, 2: 1, 0: 0}\n"
     ]
    }
   ],
   "source": [
    "\"\"\"\n",
    "1. Write a Python program to sort \n",
    "(ascending and descending) a dictionary by value.\n",
    "\"\"\"\n",
    "import operator\n",
    "d = {1:2,3:4,4:3,2:1,0:0}\n",
    "print('original dictionary :',d)\n",
    "sorted_d = sorted(d.items(), key = operator.itemgetter(1))\n",
    "print('Dictionary in ascending order by value :', sorted_d)\n",
    "sorted_d = dict(sorted(d.items(),key=operator.itemgetter(1),reverse = True))\n",
    "print('Dictionary in descending order by value :', sorted_d)\n"
   ]
  },
  {
   "cell_type": "code",
   "execution_count": 4,
   "id": "5140d6f6",
   "metadata": {},
   "outputs": [
    {
     "name": "stdout",
     "output_type": "stream",
     "text": [
      "{0: 10, 1: 20, 2: 30}\n"
     ]
    }
   ],
   "source": [
    "\"\"\"\n",
    "2. Write a Python script to add a key to a dictionary.\n",
    "\n",
    "Sample Dictionary : {0: 10, 1: 20}\n",
    "Expected Result : {0: 10, 1: 20, 2: 30}\n",
    "\"\"\"\n",
    "\n",
    "sample_d = {0:10,1:20}\n",
    "sample_d.update({2:30})\n",
    "print(sample_d)\n",
    "\n"
   ]
  },
  {
   "cell_type": "code",
   "execution_count": 6,
   "id": "423a2a39",
   "metadata": {},
   "outputs": [
    {
     "name": "stdout",
     "output_type": "stream",
     "text": [
      "{1: 10, 2: 20, 3: 30, 4: 40, 5: 50, 6: 60}\n"
     ]
    }
   ],
   "source": [
    "\"\"\"\n",
    "3. Write a Python script to concatenate \n",
    "following dictionaries to create a new one.\n",
    "\n",
    "Sample Dictionary :\n",
    "dic1={1:10, 2:20}\n",
    "dic2={3:30, 4:40}\n",
    "dic3={5:50,6:60}\n",
    "\n",
    "Expected Result : {1: 10, 2: 20, 3: 30, 4: 40, 5: 50, 6: 60}\n",
    "\"\"\"\n",
    "    \n",
    "dic1 = {1:10, 2:20}\n",
    "dic2 = {3:30, 4:40}\n",
    "dic3 = {5:50, 6:60}\n",
    "dic4 = {}\n",
    "\n",
    "for d in (dic1,dic2,dic3):\n",
    "    dic4.update(d)\n",
    "\n",
    "print (dic4)\n",
    "\n",
    "\n"
   ]
  },
  {
   "cell_type": "code",
   "execution_count": 13,
   "id": "cac71b42",
   "metadata": {},
   "outputs": [
    {
     "name": "stdout",
     "output_type": "stream",
     "text": [
      "Wujud ku disini : Value =  200\n",
      "Wujud ku disini : Value =  100\n"
     ]
    }
   ],
   "source": [
    "\"\"\"\n",
    "4. Write a Python script to\n",
    "check whether a given key already exists in a dictionary\n",
    "\"\"\"\n",
    "\n",
    "def cekkey(dict,keyV):\n",
    "    if keyV in dict.keys():\n",
    "        print (\"Wujud ku disini :\",end = \" \")\n",
    "        print (\"Value = \", dict[keyV])\n",
    "    else:\n",
    "        print (\"gak wujud bak\")\n",
    "        \n",
    "\n",
    "dict = {'a':100,'b':200,'c':300}\n",
    "\n",
    "keyV = 'b'\n",
    "\n",
    "cekkey(dict,keyV)\n",
    "        \n",
    "keyV = 'a'\n",
    "\n",
    "cekkey(dict,keyV)       \n",
    "\n",
    "\n",
    "\n",
    "\n"
   ]
  },
  {
   "cell_type": "code",
   "execution_count": 16,
   "id": "b642ba9e",
   "metadata": {},
   "outputs": [
    {
     "name": "stdout",
     "output_type": "stream",
     "text": [
      "a -> 100\n",
      "b -> 200\n",
      "c -> 300\n"
     ]
    }
   ],
   "source": [
    "\"\"\"\n",
    "5.  a Python program to iterate over dictionaries using for loops.\n",
    "\n",
    "\"\"\"\n",
    "buku ={'a':100,'b':200,'c':300}\n",
    "\n",
    "for dictVal, dictKey in buku.items():\n",
    "    print(dictVal, '->' , dictKey)\n",
    "\n"
   ]
  },
  {
   "cell_type": "code",
   "execution_count": 37,
   "id": "73548154",
   "metadata": {},
   "outputs": [
    {
     "name": "stdout",
     "output_type": "stream",
     "text": [
      "{1: 1, 2: 4, 3: 9, 4: 16, 5: 25, 6: 36, 7: 49, 8: 64, 9: 81, 10: 100, 11: 121, 12: 144, 13: 169, 14: 196, 15: 225}\n"
     ]
    }
   ],
   "source": [
    "\"\"\"\n",
    "6. Write a Python script to print \n",
    "a dictionary where the keys are numbers between 1 and 15 \n",
    "(both included) and the values are square of keys\n",
    "\"\"\"\n",
    "\n",
    "d = {}\n",
    "for x in range(1,16):\n",
    "    d[x]=x**2\n",
    "print(d)  \n",
    "\n",
    "        \n",
    "  \n",
    "    \n",
    "\n"
   ]
  },
  {
   "cell_type": "code",
   "execution_count": 44,
   "id": "035b63fa",
   "metadata": {},
   "outputs": [
    {
     "name": "stdout",
     "output_type": "stream",
     "text": [
      "{'a': 100, 'b': 200, 'c': 300, 'd': 300, 'e': 400}\n"
     ]
    }
   ],
   "source": [
    "\"\"\"\n",
    "7.Write a Python script to merge two Python dictionaries\n",
    "\n",
    "\"\"\"\n",
    "def Merge(dict1, dict2):\n",
    "    res = {**dict1,**dict2}\n",
    "    return res\n",
    "\n",
    "dict1 = {'a':100, 'b':200, 'c':300}\n",
    "dict2 = {'d': 300, 'e':400}\n",
    "dict3 = Merge(dict1,dict2)\n",
    "print (dict3)"
   ]
  },
  {
   "cell_type": "code",
   "execution_count": 46,
   "id": "43cb5be3",
   "metadata": {},
   "outputs": [
    {
     "name": "stdout",
     "output_type": "stream",
     "text": [
      "-1333800\n"
     ]
    }
   ],
   "source": [
    "\"\"\"\n",
    "8. Write a Python program to sum all the items in a dictionary.\n",
    "\"\"\"\n",
    "my_dict = {'data1':100,'data2':-54,'data3':247}\n",
    "result = 1\n",
    "for key in my_dict:\n",
    "    result = result*my_dict[key]\n",
    "    \n",
    "print(result)\n"
   ]
  },
  {
   "cell_type": "code",
   "execution_count": 47,
   "id": "fe1e243a",
   "metadata": {},
   "outputs": [
    {
     "name": "stdout",
     "output_type": "stream",
     "text": [
      "{'a': 1, 'b': 2, 'c': 3, 'd': 4}\n",
      "{'b': 2, 'c': 3, 'd': 4}\n"
     ]
    }
   ],
   "source": [
    "\"\"\"\n",
    "10. Remove key in Python dictionary\n",
    "\"\"\"\n",
    "\n",
    "myDict = {'a':1,'b':2,'c':3,'d':4}\n",
    "print(myDict)\n",
    "if 'a' in myDict: \n",
    "    del myDict['a']\n",
    "print(myDict)\n",
    "\n",
    "\n"
   ]
  },
  {
   "cell_type": "code",
   "execution_count": 48,
   "id": "80bdd0ed",
   "metadata": {},
   "outputs": [
    {
     "name": "stdout",
     "output_type": "stream",
     "text": [
      "{'red': '#0000FF', 'green': '#0000FF', 'blue': '#0000FF'}\n"
     ]
    }
   ],
   "source": [
    "\"\"\"\n",
    "11. Write a Python program to map two lists into a dictionary.\n",
    "\"\"\"\n",
    "keys = ['red', 'green', 'blue']\n",
    "values = ['#FF0000','#008000', '#0000FF']\n",
    "\n",
    "dict1 = {k:v for k in keys for v in values}\n",
    "print(dict1)"
   ]
  },
  {
   "cell_type": "code",
   "execution_count": 53,
   "id": "41d3d5e8",
   "metadata": {},
   "outputs": [
    {
     "name": "stdout",
     "output_type": "stream",
     "text": [
      "black:#000000\n",
      "green:#008000\n",
      "red:#FF0000\n",
      "white:#FFFFFF\n"
     ]
    }
   ],
   "source": [
    "\"\"\"\n",
    "12. Write a Python program to sort a dictionary by key.\n",
    "\"\"\"\n",
    "\n",
    "color_dict = {'red':'#FF0000',\n",
    "          'green':'#008000',\n",
    "          'black':'#000000',\n",
    "          'white':'#FFFFFF'}\n",
    "              \n",
    "for key in sorted(color_dict):\n",
    "    print('%s:%s'%(key,color_dict[key]))\n"
   ]
  },
  {
   "cell_type": "code",
   "execution_count": 54,
   "id": "85404381",
   "metadata": {},
   "outputs": [
    {
     "name": "stdout",
     "output_type": "stream",
     "text": [
      "Maximum Value: 5874\n",
      "Minimum Value: 500\n"
     ]
    }
   ],
   "source": [
    "\"\"\"\n",
    "13. Write a Python program to get the maximum and\n",
    "minimum value in a dictionary\n",
    "\"\"\"\n",
    "my_dict = {'x':500, 'y':5874, 'z':560}\n",
    "\n",
    "key_max = max(my_dict.keys(), key = (lambda k: my_dict[k]))\n",
    "key_min = min(my_dict.keys(), key = (lambda k: my_dict[k]))\n",
    "\n",
    "print('Maximum Value:', my_dict[key_max])\n",
    "print('Minimum Value:', my_dict[key_min])\n",
    "\n"
   ]
  },
  {
   "cell_type": "code",
   "execution_count": 55,
   "id": "5675b27b",
   "metadata": {},
   "outputs": [
    {
     "name": "stdout",
     "output_type": "stream",
     "text": [
      "{'id1': {'name': ['Sara'], 'class': ['V'], 'subject_integration': ['english, math, science']}, 'id2': {'name': ['David'], 'class': ['V'], 'subject_integration': ['english, math, science']}, 'id4': {'name': ['Surya'], 'class': ['V'], 'subject_integration': ['english, math, science']}}\n"
     ]
    }
   ],
   "source": [
    "\"\"\"\n",
    "14. Write a Python program to remove duplicates from Dictionary.\n",
    "\n",
    "\"\"\"\n",
    "dictx = {'id1': \n",
    "   {'name': ['Sara'], \n",
    "    'class': ['V'], \n",
    "    'subject_integration': ['english, math, science']\n",
    "   },\n",
    " 'id2': \n",
    "  {'name': ['David'], \n",
    "    'class': ['V'], \n",
    "    'subject_integration': ['english, math, science']\n",
    "   },\n",
    " 'id3': \n",
    "    {'name': ['Sara'], \n",
    "    'class': ['V'], \n",
    "    'subject_integration': ['english, math, science']\n",
    "   },\n",
    " 'id4': \n",
    "   {'name': ['Surya'], \n",
    "    'class': ['V'], \n",
    "    'subject_integration': ['english, math, science']\n",
    "   },\n",
    "}\n",
    "\n",
    "result = {}\n",
    "\n",
    "for k,v in dictx.items():\n",
    "    if v not in result.values():\n",
    "        result[k] = v\n",
    "        \n",
    "print(result)"
   ]
  },
  {
   "cell_type": "code",
   "execution_count": 56,
   "id": "d9494ab2",
   "metadata": {},
   "outputs": [
    {
     "name": "stdout",
     "output_type": "stream",
     "text": [
      "Dictionary is empty\n"
     ]
    }
   ],
   "source": [
    "\"\"\"\n",
    "15.  Write a Python program to check a dictionary is empty or not.\n",
    "\"\"\"\n",
    "my_dict = {}\n",
    "\n",
    "if not bool(my_dict):\n",
    "    print('Dictionary is empty')"
   ]
  },
  {
   "cell_type": "code",
   "execution_count": 57,
   "id": "cec2ac9a",
   "metadata": {},
   "outputs": [
    {
     "name": "stdout",
     "output_type": "stream",
     "text": [
      "Counter({'a': 400, 'b': 400, 'd': 400, 'c': 300})\n"
     ]
    }
   ],
   "source": [
    "\"\"\"\n",
    "16. Write a Python program to combine \n",
    "two dictionary adding values for common keys\n",
    "\"\"\"\n",
    "from collections import Counter\n",
    "d1 = {'a': 100, 'b': 200,  'c':300}\n",
    "d2 = {'a': 300, 'b': 200, 'd': 400}\n",
    "d = Counter(d1) + Counter(d2)\n",
    "print(d)"
   ]
  },
  {
   "cell_type": "code",
   "execution_count": 62,
   "id": "99623a80",
   "metadata": {},
   "outputs": [
    {
     "name": "stdout",
     "output_type": "stream",
     "text": [
      "ac\n",
      "ad\n",
      "bc\n",
      "bd\n"
     ]
    }
   ],
   "source": [
    "\"\"\"\n",
    "17. Write a Python program to create and \n",
    "display all combinations of letters, selecting each letter\n",
    "from a different key in a dictionary.\n",
    "\"\"\"\n",
    "import itertools\n",
    "datax = {'1':['a','b'], '2':['c','d']}\n",
    "for combo in itertools.product(*[datax[k] for k in sorted(datax.keys())]):\n",
    "    print(''.join(combo))\n",
    "    "
   ]
  },
  {
   "cell_type": "code",
   "execution_count": 63,
   "id": "ce83ed58",
   "metadata": {},
   "outputs": [
    {
     "name": "stdout",
     "output_type": "stream",
     "text": [
      "['b', 'e', 'c']\n"
     ]
    }
   ],
   "source": [
    "\"\"\"\n",
    "18. Write a Python program to find the \n",
    "highest 3 values of corresponding keys in a dictionary.  \n",
    "\"\"\"\n",
    "from heapq import nlargest\n",
    "my_dict = {'a':500, 'b':5874, 'c':560, 'd':400, 'e':5874, 'f':20}\n",
    "three_largest = nlargest(3, my_dict, key=my_dict.get)\n",
    "print(three_largest)"
   ]
  },
  {
   "cell_type": "code",
   "execution_count": 64,
   "id": "daa59d29",
   "metadata": {},
   "outputs": [
    {
     "name": "stdout",
     "output_type": "stream",
     "text": [
      "C1 C2 C3\n",
      "1 5 9\n",
      "2 6 10\n",
      "3 7 11\n"
     ]
    }
   ],
   "source": [
    "\"\"\"\n",
    "19.  Write a Python program to print a dictionary in table format.\n",
    "\"\"\"\n",
    "my_dict = {'C1':[1,2,3],'C2':[5,6,7],'C3':[9,10,11]}\n",
    "for row in zip (*([key] + (value) for key, value in sorted(my_dict.items()))):\n",
    "    print(*row)"
   ]
  },
  {
   "cell_type": "code",
   "execution_count": 65,
   "id": "f2d08b5c",
   "metadata": {},
   "outputs": [
    {
     "name": "stdout",
     "output_type": "stream",
     "text": [
      "{'n1': [1, 2, 3], 'n2': [1, 2, 5], 'n3': [2, 3, 4]}\n"
     ]
    }
   ],
   "source": [
    "\"\"\"\n",
    "20. Write a Python program to sort a list alphabetically in a dictionary\n",
    "\"\"\"\n",
    "num = {'n1':[2,3,1],'n2':[5,1,2],'n3':[3,2,4]}\n",
    "sorted_dict = {x:sorted(y) for x, y in num.items()}\n",
    "print(sorted_dict)"
   ]
  },
  {
   "cell_type": "code",
   "execution_count": 70,
   "id": "7dc65bc3",
   "metadata": {},
   "outputs": [
    {
     "name": "stdout",
     "output_type": "stream",
     "text": [
      "{'S001': ['Math', 'Science'], 'S002': ['Math', 'English']}\n"
     ]
    }
   ],
   "source": [
    "\"\"\"\n",
    "21. Write a Python program to remove spaces from dictionary keys.\n",
    "\"\"\"\n",
    "dicx = {'S  001': ['Math', 'Science'], 'S    002': ['Math', 'English']}\n",
    "dicy = {}\n",
    "\n",
    "for a,b in dicx.items():\n",
    "    for x in \" \":\n",
    "        a = a.replace(x,\"\")\n",
    "        dicy[a] = b\n",
    "print(dicy)    \n",
    "        \n",
    "    "
   ]
  },
  {
   "cell_type": "code",
   "execution_count": 71,
   "id": "7da13ea7",
   "metadata": {},
   "outputs": [
    {
     "name": "stdout",
     "output_type": "stream",
     "text": [
      "True\n",
      "False\n",
      "True\n"
     ]
    }
   ],
   "source": [
    "\"\"\"\n",
    "22. Write a Python program to check multiple keys exists in a dictionary \n",
    "\"\"\"\n",
    "student = {\n",
    "  'name': 'Alex',\n",
    "  'class': 'V',\n",
    "  'roll_id': '2'\n",
    "}\n",
    "print(student.keys() >= {'class', 'name'})\n",
    "print(student.keys() >= {'name', 'Alex'})\n",
    "print(student.keys() >= {'roll_id', 'name'})\n",
    "\n"
   ]
  },
  {
   "cell_type": "code",
   "execution_count": 72,
   "id": "238d9f4e",
   "metadata": {},
   "outputs": [
    {
     "name": "stdout",
     "output_type": "stream",
     "text": [
      "5\n"
     ]
    }
   ],
   "source": [
    "\"\"\"\n",
    "23. Write a Python program to count number of items\n",
    "in a dictionary value that is a list\n",
    "\"\"\"\n",
    "\n",
    "dict =  {'Alex': ['subj1', 'subj2', 'subj3'], 'David': ['subj1', 'subj2']}\n",
    "ctr = sum(map(len, dict.values()))\n",
    "print(ctr)\n",
    "\n"
   ]
  },
  {
   "cell_type": "code",
   "execution_count": 75,
   "id": "59259b7e",
   "metadata": {},
   "outputs": [
    {
     "name": "stdout",
     "output_type": "stream",
     "text": [
      "[('Chemistry', 87), ('Physics', 83), ('Math', 81)]\n"
     ]
    }
   ],
   "source": [
    "\"\"\"\n",
    "24. Write a Python program to sort Counter by value. \n",
    "\"\"\"\n",
    "from collections import Counter\n",
    "x = Counter({'Math' : 81, 'Physics':83, 'Chemistry':87})\n",
    "print(x.most_common())\n"
   ]
  },
  {
   "cell_type": "code",
   "execution_count": 76,
   "id": "4d42eeaf",
   "metadata": {},
   "outputs": [
    {
     "name": "stdout",
     "output_type": "stream",
     "text": [
      "defaultdict(<class 'set'>, {'Class-V': {1}, 'Class-VI': {2}, 'Class-VII': {2}, 'Class-VIII': {3}})\n"
     ]
    }
   ],
   "source": [
    "\"\"\"\n",
    "25. Write a Python program to create a dictionary from two lists\n",
    "without losing duplicate values.\n",
    "\"\"\"\n",
    "from collections import defaultdict\n",
    "class_list = ['Class-V','Class-VI','Class-VII','Class-VIII']\n",
    "id_list = [1,2,2,3]\n",
    "temp = defaultdict(set)\n",
    "for c, i in zip(class_list, id_list):\n",
    "    temp[c].add(i)\n",
    "print(temp)\n"
   ]
  },
  {
   "cell_type": "code",
   "execution_count": 77,
   "id": "3e8dabd1",
   "metadata": {},
   "outputs": [
    {
     "name": "stdout",
     "output_type": "stream",
     "text": [
      "[{'id': 1, 'subject': 'math', 'V+vI': 76.0}, {'id': 2, 'subject': 'math', 'V+vI': 73.5}, {'id': 3, 'subject': 'math', 'V+vI': 80.5}]\n"
     ]
    }
   ],
   "source": [
    "\"\"\"\n",
    "26.  Write a Python program to replace\n",
    "dictionary values with their average.\n",
    "\"\"\"\n",
    "def avgx(listx):\n",
    "    for d in listx:\n",
    "        n1 = d.pop('V')\n",
    "        n2 = d.pop('VI')\n",
    "        d[\"V+vI\"] = (n1 + n2)/2\n",
    "    return listx\n",
    "datx = [\n",
    "  {'id' : 1, 'subject' : 'math', 'V' : 70, 'VI' : 82},\n",
    "  {'id' : 2, 'subject' : 'math', 'V' : 73, 'VI' : 74},\n",
    "  {'id' : 3, 'subject' : 'math', 'V' : 75, 'VI' : 86}\n",
    "]\n",
    "\n",
    "print(avgx(datx))"
   ]
  },
  {
   "cell_type": "code",
   "execution_count": 78,
   "id": "0836dc07",
   "metadata": {},
   "outputs": [
    {
     "name": "stdout",
     "output_type": "stream",
     "text": [
      "key1: 1 is present in both x and y\n"
     ]
    }
   ],
   "source": [
    "\"\"\"\n",
    "27. Write a Python program to match key values in two dictionaries.\n",
    "\"\"\"\n",
    "x = {'key1':1, 'key2':3 , 'key3':2}\n",
    "y = {'key1':1, 'key2':2}\n",
    "for (key,value) in set(x.items() & set(y.items())): # true and false statement\n",
    "    print('%s: %s is present in both x and y' % (key,value)) # %s - %s = (key,value)"
   ]
  },
  {
   "cell_type": "code",
   "execution_count": 82,
   "id": "b6fbbc11",
   "metadata": {},
   "outputs": [
    {
     "name": "stdout",
     "output_type": "stream",
     "text": [
      "Original Dictionary :\n",
      "{'Cierra Vega': (6.2, 70), 'Alden Cantrell': (5.9, 65), 'Kierra Gentry': (6.0, 68), 'Pierre Cox': (5.8, 66)}\n",
      "\n",
      "Height > 6ft and Weight > 70kg:\n",
      "{'Cierra Vega': (6.2, 70)}\n"
     ]
    }
   ],
   "source": [
    "\"\"\"\n",
    "28. Write a Python program to filter \n",
    "the height and width of students, which are stored in a dictionary\n",
    "\"\"\"\n",
    "def filter_data(students):\n",
    "    result = {k:v for k,v in students.items()\n",
    "              if v[0] >= 6.0 and v[1] >= 70}\n",
    "    return result\n",
    "\n",
    "students = {'Cierra Vega': (6.2, 70), 'Alden Cantrell': (5.9, 65),\n",
    "            'Kierra Gentry': (6.0, 68), 'Pierre Cox': (5.8, 66)}\n",
    "print('Original Dictionary :')\n",
    "print(students)\n",
    "print('\\nHeight > 6ft and Weight > 70kg:')\n",
    "print(filter_data(students))"
   ]
  },
  {
   "cell_type": "code",
   "execution_count": 84,
   "id": "5b25bef6",
   "metadata": {},
   "outputs": [
    {
     "name": "stdout",
     "output_type": "stream",
     "text": [
      "Original Dictionary:\n",
      "{'c1': 'Red', 'c2': 'Green', 'c3': None}\n",
      "New Dictionary after dropping empty items:\n",
      "{'c1': 'Red', 'c2': 'Green'}\n"
     ]
    }
   ],
   "source": [
    "\"\"\"\n",
    "29. Write a Python program to drop\n",
    "empty Items from a given Dictionary.\n",
    "\"\"\"\n",
    "dict1 = {'c1': 'Red', 'c2': 'Green', 'c3':None}\n",
    "print(\"Original Dictionary:\")\n",
    "print(dict1)\n",
    "print(\"New Dictionary after dropping empty items:\")\n",
    "dict1 = {key:value for (key, value) in dict1.items() if value is not None}\n",
    "print(dict1)\n",
    "\n",
    "\n"
   ]
  },
  {
   "cell_type": "code",
   "execution_count": 86,
   "id": "93788862",
   "metadata": {},
   "outputs": [
    {
     "name": "stdout",
     "output_type": "stream",
     "text": [
      "\n",
      "Original Dictionary:\n",
      "{'a': 5, 'b': 14, 'c': 32, 'd': 35, 'e': 24, 'f': 100, 'g': 57, 'h': 8, 'i': 100}\n",
      "\n",
      " 1 maximum value(s) in the said dictionary:\n",
      "['f']\n",
      "\n",
      " 2 maximum value(s) in the said dictionary:\n",
      "['f', 'i']\n",
      "\n",
      " 5 maximum value(s) in the said dictionary:\n",
      "['f', 'i', 'g', 'd', 'c']\n"
     ]
    }
   ],
   "source": [
    "\"\"\"\n",
    "30. Write a Python program to find the specified number \n",
    "of maximum values in a given dictionary. \n",
    "\"\"\"\n",
    "def test(dictt, N):\n",
    "    result = sorted(dictt, key=dictt.get, reverse=True)[:N]\n",
    "    return result \n",
    "dictt = {'a':5, 'b':14, 'c': 32, 'd':35, 'e':24, 'f': 100, 'g':57, 'h':8, 'i': 100}\n",
    "print(\"\\nOriginal Dictionary:\")\n",
    "print(dictt)\n",
    "N = 1\n",
    "print(\"\\n\",N,\"maximum value(s) in the said dictionary:\")\n",
    "print(test(dictt, N))\n",
    "N = 2\n",
    "print(\"\\n\",N,\"maximum value(s) in the said dictionary:\")\n",
    "print(test(dictt, N))\n",
    "N = 5\n",
    "print(\"\\n\",N,\"maximum value(s) in the said dictionary:\")\n",
    "print(test(dictt, N))\n"
   ]
  },
  {
   "cell_type": "code",
   "execution_count": null,
   "id": "7c4260fc",
   "metadata": {},
   "outputs": [],
   "source": [
    "\n"
   ]
  }
 ],
 "metadata": {
  "kernelspec": {
   "display_name": "Python 3",
   "language": "python",
   "name": "python3"
  },
  "language_info": {
   "codemirror_mode": {
    "name": "ipython",
    "version": 3
   },
   "file_extension": ".py",
   "mimetype": "text/x-python",
   "name": "python",
   "nbconvert_exporter": "python",
   "pygments_lexer": "ipython3",
   "version": "3.8.8"
  }
 },
 "nbformat": 4,
 "nbformat_minor": 5
}
