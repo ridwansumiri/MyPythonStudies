{
 "cells": [
  {
   "cell_type": "code",
   "execution_count": 2,
   "id": "e7026b46",
   "metadata": {},
   "outputs": [
    {
     "name": "stdout",
     "output_type": "stream",
     "text": [
      "()\n",
      "()\n"
     ]
    }
   ],
   "source": [
    "\"\"\"\n",
    "1.Write a Python program to create a tuple\n",
    "\n",
    "\"\"\"\n",
    "# create an empty tuple\n",
    "x =()\n",
    "\n",
    "print (x)\n",
    "# create an empty tuple with tuple() functions built-in\n",
    "\n",
    "tuplex = tuple()\n",
    "print(tuplex)\n"
   ]
  },
  {
   "cell_type": "code",
   "execution_count": 5,
   "id": "b1ce8b91",
   "metadata": {},
   "outputs": [
    {
     "name": "stdout",
     "output_type": "stream",
     "text": [
      "('tuple', False, 3.2, 1)\n"
     ]
    }
   ],
   "source": [
    "\"\"\"\n",
    "2. Write a Python program to create a tuple with different data types\n",
    "\"\"\"\n",
    "tuplex = (\"tuple\",False,3.2,1)\n",
    "print(tuplex)\n"
   ]
  },
  {
   "cell_type": "code",
   "execution_count": 8,
   "id": "605f2d05",
   "metadata": {},
   "outputs": [
    {
     "name": "stdout",
     "output_type": "stream",
     "text": [
      "(1, 2, 3, 4, 5)\n",
      "(5,)\n"
     ]
    }
   ],
   "source": [
    "\"\"\"\n",
    "3. Write a Python program to create a tuple with numbers and print one item.\n",
    "\n",
    "\"\"\"\n",
    "#create a tuple with numbers\n",
    "nums = (1,2,3,4,5)\n",
    "print(nums)\n",
    "\n",
    "# Create a tuple of one item.\n",
    "tuplex = 5,\n",
    "print(tuplex)"
   ]
  },
  {
   "cell_type": "code",
   "execution_count": 12,
   "id": "64cfa17d",
   "metadata": {},
   "outputs": [
    {
     "name": "stdout",
     "output_type": "stream",
     "text": [
      "(4, 8, 3)\n",
      "15\n"
     ]
    },
    {
     "ename": "ValueError",
     "evalue": "not enough values to unpack (expected 4, got 3)",
     "output_type": "error",
     "traceback": [
      "\u001b[1;31m---------------------------------------------------------------------------\u001b[0m",
      "\u001b[1;31mValueError\u001b[0m                                Traceback (most recent call last)",
      "\u001b[1;32m<ipython-input-12-d01006c8c0da>\u001b[0m in \u001b[0;36m<module>\u001b[1;34m\u001b[0m\n\u001b[0;32m     13\u001b[0m \u001b[1;31m# the numbers of variables must be equal to the numbers of itmes\u001b[0m\u001b[1;33m\u001b[0m\u001b[1;33m\u001b[0m\u001b[1;33m\u001b[0m\u001b[0m\n\u001b[0;32m     14\u001b[0m \u001b[1;33m\u001b[0m\u001b[0m\n\u001b[1;32m---> 15\u001b[1;33m \u001b[0mn1\u001b[0m\u001b[1;33m,\u001b[0m\u001b[0mn2\u001b[0m\u001b[1;33m,\u001b[0m\u001b[0mn3\u001b[0m\u001b[1;33m,\u001b[0m\u001b[0mn4\u001b[0m \u001b[1;33m=\u001b[0m \u001b[0mtuplex\u001b[0m\u001b[1;33m\u001b[0m\u001b[1;33m\u001b[0m\u001b[0m\n\u001b[0m",
      "\u001b[1;31mValueError\u001b[0m: not enough values to unpack (expected 4, got 3)"
     ]
    }
   ],
   "source": [
    "\"\"\"\n",
    "4.Write a Python program to unpack a tuple in several variables \n",
    "\"\"\"\n",
    "\n",
    "# Create a tuple\n",
    "tuplex = 4,8,3\n",
    "print(tuplex)\n",
    "n1, n2, n3 = tuplex\n",
    "\n",
    "# Unpack a tuple in variables\n",
    "print(n1+n2+n3)\n",
    "\n",
    "# the numbers of variables must be equal to the numbers of itmes\n",
    "\n",
    "n1,n2,n3,n4 = tuplex\n"
   ]
  },
  {
   "cell_type": "code",
   "execution_count": 15,
   "id": "8675512a",
   "metadata": {},
   "outputs": [
    {
     "name": "stdout",
     "output_type": "stream",
     "text": [
      "exercises\n"
     ]
    }
   ],
   "source": [
    "\"\"\"\n",
    "5. Write a Python program to convert a tuple to a string.\n",
    "\"\"\"\n",
    "tup = ('e', 'x', 'e', 'r', 'c', 'i', 's', 'e', 's')\n",
    "str = ''.join(tup) # to combine each items in tuple and became a string.\n",
    "print(str)"
   ]
  },
  {
   "cell_type": "code",
   "execution_count": 29,
   "id": "197762c5",
   "metadata": {},
   "outputs": [
    {
     "name": "stdout",
     "output_type": "stream",
     "text": [
      "(1, 2, 3, 4, 5, 6)\n"
     ]
    }
   ],
   "source": [
    "\"\"\"\n",
    "6. Write a Python program to add an item in a tuple.\n",
    "\"\"\"\n",
    "# note - tuple are cannot change value inside so need to change first into list\n",
    "tup = (1,2,3)\n",
    "x = [4,5,6]\n",
    "\n",
    "listx = list(tup)\n",
    "listx = listx + x\n",
    "tup = tuple(listx)\n",
    "\n",
    "\n",
    "print(tup)"
   ]
  },
  {
   "cell_type": "code",
   "execution_count": 33,
   "id": "609bf6a9",
   "metadata": {},
   "outputs": [
    {
     "name": "stdout",
     "output_type": "stream",
     "text": [
      "e\n",
      "u\n"
     ]
    }
   ],
   "source": [
    "\"\"\"\n",
    "7. Write a Python program to get the 4th element and\n",
    "4th element from last of a tuple\n",
    "\"\"\"\n",
    "tuplex = (\"w\",3,\"r\",\"e\",'s','o','u','r','c','e')\n",
    "\n",
    "# 4th element\n",
    "print(tuplex[3])\n",
    "\n",
    "# 4th element from last of a tuple\n",
    "print(tuplex[-4])"
   ]
  },
  {
   "cell_type": "code",
   "execution_count": 35,
   "id": "56b5fd6b",
   "metadata": {},
   "outputs": [
    {
     "name": "stdout",
     "output_type": "stream",
     "text": [
      "('Hello', 5, [], True)\n",
      "('Hello', 5, [50], True)\n",
      "('Hello', 5, [], True)\n"
     ]
    }
   ],
   "source": [
    "\"\"\"\n",
    "8. Write a python program to create the colon in the tuple\n",
    "\"\"\"\n",
    "from copy import deepcopy\n",
    "\n",
    "tuplex = ('Hello',5,[],True)\n",
    "print(tuplex)\n",
    "\n",
    "# make a copy of a tuple using deepcopy() functions\n",
    "tuplex_colon = deepcopy(tuplex)\n",
    "tuplex_colon[2].append (50)\n",
    "print (tuplex_colon)\n",
    "print (tuplex)\n"
   ]
  },
  {
   "cell_type": "code",
   "execution_count": 40,
   "id": "f5c50a97",
   "metadata": {},
   "outputs": [
    {
     "name": "stdout",
     "output_type": "stream",
     "text": [
      "(2, 3, 3, 4, 5, 5, 5, 6, 7, 7, 8)\n",
      "2\n"
     ]
    }
   ],
   "source": [
    "\"\"\"\n",
    "9. Write a program to find the repeated items of a tuple\n",
    "\"\"\"\n",
    "tuplex = 2,3,3,4,5,5,5,6,7,7,8\n",
    "print(tuplex)\n",
    "\n",
    "count = tuplex.count(3)\n",
    "print (count)"
   ]
  },
  {
   "cell_type": "code",
   "execution_count": 42,
   "id": "47156517",
   "metadata": {},
   "outputs": [
    {
     "name": "stdout",
     "output_type": "stream",
     "text": [
      "True\n"
     ]
    }
   ],
   "source": [
    "\"\"\"\n",
    "10. Write a Python program to check whether an element exists within a tuple.\n",
    "\"\"\"\n",
    "\n",
    "tuplex = (1,2,3,4,5,6,\"cat\")\n",
    "if \"cat\" in tuplex:\n",
    "    print(True)\n",
    "else:\n",
    "    print(False)\n",
    "        "
   ]
  },
  {
   "cell_type": "code",
   "execution_count": 46,
   "id": "4711bb10",
   "metadata": {},
   "outputs": [
    {
     "name": "stdout",
     "output_type": "stream",
     "text": [
      "(1, 2, 3, 4, 5) <class 'tuple'>\n"
     ]
    }
   ],
   "source": [
    "\"\"\"\n",
    "11. Write a Python program to convert a list to a tuple\n",
    "\"\"\"\n",
    "list1 = [1,2,3,4,5]\n",
    "tuple1 = tuple(list1)\n",
    "print (tuple1,type(tuple1))"
   ]
  },
  {
   "cell_type": "code",
   "execution_count": 51,
   "id": "1a6da5e0",
   "metadata": {},
   "outputs": [
    {
     "name": "stdout",
     "output_type": "stream",
     "text": [
      "('Apple', 'Banana', 'Cherry', 'Durian', 'Elephant') <class 'tuple'>\n",
      "['Apple', 'Banana', 'Cherry', 'Durian', 'Elephant'] <class 'list'>\n",
      "('Apple', 'Banana', 'Cherry', 'Elephant') <class 'tuple'>\n"
     ]
    }
   ],
   "source": [
    "\"\"\"\n",
    "12. Write a Python program to remove an item from a tuple.\n",
    "\"\"\"\n",
    "# tuple data cannot been changed so it is a good idea to change it into list first\n",
    "\n",
    "tuplex = ('Apple','Banana','Cherry','Durian','Elephant')\n",
    "print(tuplex,type(tuplex))\n",
    "\n",
    "# change tuple to list\n",
    "\n",
    "listx = list(tuplex)\n",
    "print(listx,type(listx))\n",
    "\n",
    "# Drop Durian in listx and change back to tuple\n",
    "listx.remove('Durian')\n",
    "tuplex = tuple(listx)\n",
    "print (tuplex,type(tuplex))"
   ]
  },
  {
   "cell_type": "code",
   "execution_count": 52,
   "id": "20ba07a8",
   "metadata": {},
   "outputs": [
    {
     "name": "stdout",
     "output_type": "stream",
     "text": [
      "(5, 4)\n",
      "(2, 4, 3, 5, 4, 6)\n",
      "(6, 7, 8, 6, 1)\n",
      "(2, 4, 3, 5, 4, 6, 7, 8, 6, 1)\n",
      "(3, 5, 4, 6)\n",
      "('H', 'E', 'L', 'L', 'O', ' ', 'W', 'O', 'R', 'L', 'D')\n",
      "('L', 'O', 'W', 'R')\n",
      "('H', 'O', 'R')\n",
      "('L', ' ')\n"
     ]
    }
   ],
   "source": [
    "\"\"\"\n",
    "13. Write a Python program to slice a tuple.\n",
    "\"\"\"\n",
    "#create a tuple\n",
    "tuplex = (2, 4, 3, 5, 4, 6, 7, 8, 6, 1)\n",
    "\n",
    "#used tuple[start:stop] the start index is inclusive and the stop index\n",
    "_slice = tuplex[3:5]\n",
    "#is exclusive\n",
    "print(_slice)\n",
    "\n",
    "#if the start index isn't defined, is taken from the beg inning of the tuple\n",
    "_slice = tuplex[:6]\n",
    "print(_slice)\n",
    "\n",
    "#if the end index isn't defined, is taken until the end of the tuple\n",
    "_slice = tuplex[5:]\n",
    "print(_slice)\n",
    "\n",
    "#if neither is defined, returns the full tuple\n",
    "_slice = tuplex[:]\n",
    "print(_slice)\n",
    "\n",
    "#The indexes can be defined with negative values\n",
    "_slice = tuplex[-8:-4]\n",
    "print(_slice)\n",
    "\n",
    "#create another tuple\n",
    "tuplex = tuple(\"HELLO WORLD\")\n",
    "print(tuplex)\n",
    "\n",
    "#step specify an increment between the elements to cut of the tuple\n",
    "#tuple[start:stop:step]\n",
    "_slice = tuplex[2:9:2]\n",
    "print(_slice)\n",
    "\n",
    "#returns a tuple with a jump every 3 items\n",
    "_slice = tuplex[::4]\n",
    "print(_slice)\n",
    "\n",
    "#when step is negative the jump is made back\n",
    "_slice = tuplex[9:2:-4]\n",
    "print(_slice)\n",
    "\n"
   ]
  },
  {
   "cell_type": "code",
   "execution_count": 59,
   "id": "de777b8c",
   "metadata": {},
   "outputs": [
    {
     "name": "stdout",
     "output_type": "stream",
     "text": [
      "1\n"
     ]
    }
   ],
   "source": [
    "\"\"\"\n",
    "14.Write a Python program to find the index of an item of a tuple.\n",
    "\"\"\"\n",
    "tuplex = (1,4,6,8,9,8,5,4,3,4,6,7,8,5,4,3,4,2,1,1)\n",
    "x = tuplex.index(4)\n",
    "print(x)"
   ]
  },
  {
   "cell_type": "code",
   "execution_count": 60,
   "id": "9056cf79",
   "metadata": {},
   "outputs": [
    {
     "name": "stdout",
     "output_type": "stream",
     "text": [
      "20\n"
     ]
    }
   ],
   "source": [
    "\"\"\"\n",
    "15. Write a Python program to find the length of a tuple.\n",
    "\"\"\"\n",
    "tuplex = (1,4,6,8,9,8,5,4,3,4,6,7,8,5,4,3,4,2,1,1)\n",
    "print(len(tuplex))"
   ]
  },
  {
   "cell_type": "code",
   "execution_count": 65,
   "id": "edcabb2c",
   "metadata": {},
   "outputs": [
    {
     "name": "stdout",
     "output_type": "stream",
     "text": [
      "{'w': 2, 'r': 3} <class 'dict'>\n"
     ]
    }
   ],
   "source": [
    "\"\"\"\n",
    "16. Write a Python program to convert a tuple to a dictionary \n",
    "\"\"\"\n",
    "tuplex = ((2,\"w\"),(3,\"r\"))\n",
    "x = dict((y,x) for x,y in tuplex)\n",
    "print (x,(type(x)))\n",
    "\n"
   ]
  },
  {
   "cell_type": "code",
   "execution_count": 68,
   "id": "155b1e75",
   "metadata": {},
   "outputs": [
    {
     "name": "stdout",
     "output_type": "stream",
     "text": [
      "[(1, 3, 8), (2, 4, 9)]\n"
     ]
    }
   ],
   "source": [
    "\"\"\"\n",
    "17. Write a Python program to unzip a list of tuples into individual lists.\n",
    "\"\"\"\n",
    "tuplex = [(1,2),(3,4),(8,9)]\n",
    "print (list(zip(*tuplex)))\n"
   ]
  },
  {
   "cell_type": "code",
   "execution_count": 73,
   "id": "826cddf8",
   "metadata": {},
   "outputs": [
    {
     "name": "stdout",
     "output_type": "stream",
     "text": [
      "['e', 'c', 'r', 'u', 'o', 's', 'e', 'r', 3, 'w'] <class 'list'>\n",
      "('e', 'c', 'r', 'u', 'o', 's', 'e', 'r', 3, 'w') <class 'tuple'>\n"
     ]
    }
   ],
   "source": [
    "\"\"\"\n",
    "18. Write a Python program to reverse a tuple.\n",
    "\n",
    "\"\"\"\n",
    "# change a tuplex into a list\n",
    "tuplex = ('w',3,'r','e','s','o','u','r','c','e')\n",
    "listx = list(tuplex)\n",
    "\n",
    "#doing a reverse using listx\n",
    "listy = listx[::-1]\n",
    "print(listy,type(listy))\n",
    "\n",
    "#switch back list into tupple\n",
    "tuplex = tuple(listy)\n",
    "print(tuplex,type(tuplex))"
   ]
  },
  {
   "cell_type": "code",
   "execution_count": 78,
   "id": "5ec4c096",
   "metadata": {},
   "outputs": [
    {
     "name": "stdout",
     "output_type": "stream",
     "text": [
      "{'A': 90, 'B': 80, 'C': 70, 'D': 60, 'E': 50, 'F': 40}\n"
     ]
    }
   ],
   "source": [
    "\"\"\"\n",
    "19. Write a Python program to convert a list of tuples into a dictionary.\n",
    "\n",
    "\"\"\"\n",
    "# python code to define convert into dictionary dict\n",
    "\n",
    "def convert (tup,dic):\n",
    "    dic = dict(tup)\n",
    "    return dic\n",
    "\n",
    "# driver code\n",
    "tup = [('A',90),('B',80),('C',70),('D',60),('E',50),('F',40)]\n",
    "dictionary = {}\n",
    "print (convert(tup,dictionary))\n",
    "\n"
   ]
  },
  {
   "cell_type": "code",
   "execution_count": 80,
   "id": "ff8c4a16",
   "metadata": {},
   "outputs": [
    {
     "name": "stdout",
     "output_type": "stream",
     "text": [
      "This is a tuple (100, 200, 300)\n"
     ]
    }
   ],
   "source": [
    "\"\"\"\n",
    "20. Write a Python program to print a tuple with string formatting.\n",
    "\"\"\"\n",
    "tuplex = (100,200,300)\n",
    "print('This is a tuple {0}'.format(tuplex)) # cara tulis tuple gabung dgn string"
   ]
  },
  {
   "cell_type": "code",
   "execution_count": 82,
   "id": "cfa702df",
   "metadata": {},
   "outputs": [
    {
     "name": "stdout",
     "output_type": "stream",
     "text": [
      "[(10, 20, 100), (40, 50, 100), (40, 50, 100)]\n"
     ]
    }
   ],
   "source": [
    "\"\"\"\n",
    "21. Write a Python program to replace last value of tuples in a list.\n",
    "\"\"\"\n",
    "listx = [(10,20,40),(40,50,60),(40,50,60)]\n",
    "listy = []\n",
    "\n",
    "for i in listx:\n",
    "    i = list(i)\n",
    "    i[2] = 100\n",
    "    i = tuple(i)\n",
    "    listy.append(i)\n",
    "    \n",
    "print(listy)\n",
    " \n"
   ]
  },
  {
   "cell_type": "code",
   "execution_count": 102,
   "id": "b12a4b67",
   "metadata": {},
   "outputs": [
    {
     "name": "stdout",
     "output_type": "stream",
     "text": [
      "[('',), ('a', 'b'), ('a', 'b', 'c'), 'd']\n"
     ]
    }
   ],
   "source": [
    "\"\"\"\n",
    "22.Write a Python program to remove \n",
    "an empty tuple(s) from a list of tuples. \n",
    "\n",
    "Sample data: [(), (), ('',), ('a', 'b'), ('a', 'b', 'c'), ('d')]\n",
    "Expected output: [('',), ('a', 'b'), ('a', 'b', 'c'), 'd']\n",
    "\"\"\"\n",
    "\n",
    "\n",
    "# empty tuples using filter\n",
    "listx = [(), (), ('',), ('a', 'b'), ('a', 'b', 'c'), ('d')]\n",
    "listy = []\n",
    "\n",
    "for i in listx:\n",
    "    if len(i) > 0:\n",
    "        listy.append(i)\n",
    "   \n",
    "print(listy)"
   ]
  },
  {
   "cell_type": "code",
   "execution_count": 104,
   "id": "3046b90c",
   "metadata": {},
   "outputs": [
    {
     "name": "stdout",
     "output_type": "stream",
     "text": [
      "[('item3', '24.5'), ('item2', '15.10'), ('item1', '12.20')]\n"
     ]
    }
   ],
   "source": [
    "\"\"\"\n",
    "23. Write a Python program to sort a tuple by its float element \n",
    "\n",
    "Sample data: [('item1', '12.20'), ('item2', '15.10'), ('item3', '24.5')]\n",
    "Expected Output: [('item3', '24.5'), ('item2', '15.10'), ('item1', '12.20')]\n",
    "\n",
    "\"\"\"\n",
    "listx = [('item1', '12.20'), ('item2', '15.10'), ('item3', '24.5')]\n",
    "print(sorted(listx,key = lambda x: float(x[1]),reverse =True))\n"
   ]
  },
  {
   "cell_type": "code",
   "execution_count": 113,
   "id": "ffccaf1f",
   "metadata": {},
   "outputs": [
    {
     "name": "stdout",
     "output_type": "stream",
     "text": [
      "4\n"
     ]
    }
   ],
   "source": [
    "\"\"\"\n",
    "24. Write a Python program to count the elements in a list\n",
    "until an element is a tuple\n",
    "\n",
    "\"\"\"\n",
    "listx = [10,20,30,40,(50,60),70,80]\n",
    "count_ele = 0\n",
    "\n",
    "for i in listx:\n",
    "    if isinstance(i,tuple):\n",
    "        break\n",
    "    count_ele += 1\n",
    "    \n",
    "print(count_ele)"
   ]
  },
  {
   "cell_type": "code",
   "execution_count": 115,
   "id": "68f68ef9",
   "metadata": {},
   "outputs": [
    {
     "name": "stdout",
     "output_type": "stream",
     "text": [
      "10\n"
     ]
    }
   ],
   "source": [
    "\"\"\"\n",
    "25. Write a Python program convert a given string list to a tuple\n",
    "\n",
    "example:\n",
    "Original string: python 3.0\n",
    "<class 'str'>\n",
    "Convert the said string to a tuple:\n",
    "('p', 'y', 't', 'h', 'o', 'n', '3', '.', '0')\n",
    "<class 'tuple'>\n",
    "\"\"\"\n",
    "# 1st will define tuple fucntion\n",
    "def string_list_to_tuple(str1):\n",
    "    result = tuple(x for x in str1\n",
    "                   if not x.isspace()) \n",
    "    return result\n",
    "str1 = \"python 3.0\"\n",
    "\n",
    "print(\"Original string:\")\n",
    "print(str1)\n",
    "print(type(str1))\n",
    "print(\"Convert the said string to a tuple:\") \n",
    "print(string_list_to_tuple(str1))\n",
    "print(type(string_list_to_tuple(str1)))\n",
    "\n",
    "    \n",
    "    "
   ]
  },
  {
   "cell_type": "code",
   "execution_count": 117,
   "id": "89b40868",
   "metadata": {},
   "outputs": [
    {
     "name": "stdout",
     "output_type": "stream",
     "text": [
      "Product - multiplying all the numbers of the said tuple: -864\n",
      "Product - multiplying all the numbers of the said tuple: 27648\n"
     ]
    }
   ],
   "source": [
    "\"\"\"\n",
    "26. Write a Python program calculate the product, \n",
    "multiplying all the numbers of a given tuple. \n",
    "\n",
    "Original Tuple:\n",
    "(4, 3, 2, 2, -1, 18)\n",
    "Product - multiplying all the numbers of the said tuple: -864\n",
    "\n",
    "Original Tuple:\n",
    "(2, 4, 8, 8, 3, 2, 9)\n",
    "Product - multiplying all the numbers of the said tuple: 27648 \n",
    "\"\"\"\n",
    "\n",
    "def mulx (tuplex):\n",
    "    listx = list(tuplex)\n",
    "    product = 1\n",
    "    for x in listx:\n",
    "        product *= x\n",
    "    return product\n",
    "\n",
    "tuplex = (4, 3, 2, 2, -1, 18)\n",
    "print (\"Product - multiplying all the numbers of the said tuple:\", mulx(tuplex))\n",
    "\n",
    "tuplex = (2, 4, 8, 8, 3, 2, 9)\n",
    "print (\"Product - multiplying all the numbers of the said tuple:\", mulx(tuplex))\n"
   ]
  },
  {
   "cell_type": "code",
   "execution_count": 118,
   "id": "74cc0cb2",
   "metadata": {},
   "outputs": [
    {
     "name": "stdout",
     "output_type": "stream",
     "text": [
      "Original Tuple: \n",
      "((10, 10, 10, 12), (30, 45, 56, 45), (81, 80, 39, 32), (1, 2, 3, 4))\n",
      "\n",
      "Average value of the numbers of the said tuple of tuples:\n",
      " [30.5, 34.25, 27.0, 23.25]\n",
      "\n",
      "Original Tuple: \n",
      "((1, 1, -5), (30, -15, 56), (81, -60, -39), (-10, 2, 3))\n",
      "\n",
      "Average value of the numbers of the said tuple of tuples:\n",
      " [25.5, -18.0, 3.75]\n"
     ]
    }
   ],
   "source": [
    "\"\"\"\n",
    "27. Write a Python program to calculate the average value \n",
    " of the numbers in a given tuple of tuples\n",
    "\n",
    "Original Tuple:\n",
    "((10, 10, 10, 12), (30, 45, 56, 45), (81, 80, 39, 32), (1, 2, 3, 4))\n",
    "Average value of the numbers of the said tuple of tuples:\n",
    "[30.5, 34.25, 27.0, 23.25]\n",
    "\n",
    "Original Tuple:\n",
    "((1, 1, -5), (30, -15, 56), (81, -60, -39), (-10, 2, 3))\n",
    "Average value of the numbers of the said tuple of tuples:\n",
    "[25.5, -18.0, 3.75]\n",
    "\"\"\"\n",
    "\n",
    "def average_tuple(nums):\n",
    "    result = [sum(x) / len(x) for x in zip(*nums)]\n",
    "    return result\n",
    "\n",
    "nums = ((10, 10, 10, 12), (30, 45, 56, 45), (81, 80, 39, 32), (1, 2, 3, 4))\n",
    "print (\"Original Tuple: \")\n",
    "print(nums)\n",
    "print(\"\\nAverage value of the numbers of the said tuple of tuples:\\n\",average_tuple(nums))\n",
    "\n",
    "nums = ((1, 1, -5), (30, -15, 56), (81, -60, -39), (-10, 2, 3))\n",
    "print (\"\\nOriginal Tuple: \")\n",
    "print(nums)\n",
    "print(\"\\nAverage value of the numbers of the said tuple of tuples:\\n\",average_tuple(nums))\n",
    "\n"
   ]
  },
  {
   "cell_type": "code",
   "execution_count": 119,
   "id": "99871f2a",
   "metadata": {},
   "outputs": [
    {
     "name": "stdout",
     "output_type": "stream",
     "text": [
      "Original tuple values:\n",
      "(('333', '33'), ('1416', '55'))\n",
      "\n",
      "New tuple values:\n",
      "((333, 33), (1416, 55))\n"
     ]
    }
   ],
   "source": [
    "\"\"\"\n",
    "28. Write a Python program to convert a\n",
    "tuple of string values to a tuple of integer values.\n",
    "\n",
    "\n",
    "\n",
    "\"\"\"\n",
    "def tuple_int_str(tuple_str):\n",
    "    result = tuple((int(x[0]), int(x[1])) for x in tuple_str)\n",
    "    return result\n",
    "     \n",
    "tuple_str =  (('333', '33'), ('1416', '55'))\n",
    "print(\"Original tuple values:\")\n",
    "print(tuple_str)\n",
    "print(\"\\nNew tuple values:\")\n",
    "print(tuple_int_str(tuple_str))\n",
    "\n"
   ]
  },
  {
   "cell_type": "code",
   "execution_count": 123,
   "id": "8671780c",
   "metadata": {},
   "outputs": [
    {
     "name": "stdout",
     "output_type": "stream",
     "text": [
      "Original lists:\n",
      "(1, 2, 3, 4)\n",
      "(3, 5, 2, 1)\n",
      "(2, 2, 3, 1)\n",
      "\n",
      "Element-wise sum of the said tuples:\n",
      "(6, 9, 8, 6)\n"
     ]
    }
   ],
   "source": [
    "\"\"\"\n",
    "29. Write a Python program to compute element-wise sum of given tuples\n",
    "\n",
    "Original lists:\n",
    "(1, 2, 3, 4)\n",
    "(3, 5, 2, 1)\n",
    "(2, 2, 3, 1)\n",
    "Element-wise sum of the said tuples:\n",
    "(6, 9, 8, 6)\n",
    "\n",
    "\"\"\"\n",
    "x = (1,2,3,4)\n",
    "y = (3,5,2,1)\n",
    "z = (2,2,3,1)\n",
    "print(\"Original lists:\")\n",
    "print(x)\n",
    "print(y)\n",
    "print(z)\n",
    "print(\"\\nElement-wise sum of the said tuples:\")\n",
    "result = tuple(map(sum, zip(x, y, z)))\n",
    "print(result)\n",
    "\n",
    "\n",
    "\n"
   ]
  },
  {
   "cell_type": "code",
   "execution_count": 124,
   "id": "d2f9c557",
   "metadata": {},
   "outputs": [
    {
     "name": "stdout",
     "output_type": "stream",
     "text": [
      "Original list:\n",
      "(('Red', 'White', 'Blue'), ('Green', 'Pink', 'Purple'), ('Orange', 'Yellow', 'Lime'))\n",
      "\n",
      "Check if White presenet in said tuple of tuples!\n",
      "True\n",
      "\n",
      "Check if White presenet in said tuple of tuples!\n",
      "True\n",
      "\n",
      "Check if Olive presenet in said tuple of tuples!\n",
      "False\n"
     ]
    }
   ],
   "source": [
    "\"\"\"\n",
    "30. Write a Python program to check if \n",
    "a specified element presents in a tuple of tuples\n",
    "\n",
    "Original list:\n",
    "(('Red', 'White', 'Blue'), ('Green', 'Pink', 'Purple'), ('Orange', 'Yellow', 'Lime'))\n",
    "Check if White presenet in said tuple of tuples!\n",
    "True\n",
    "Check if White presenet in said tuple of tuples!\n",
    "True\n",
    "Check if Olive presenet in said tuple of tuples!\n",
    "False\n",
    "\n",
    "\"\"\"\n",
    "def check_in_tuples(colors, c):\n",
    "    result = any(c in tu for tu in colors)\n",
    "    return result\n",
    "\n",
    "colors = (\n",
    "    ('Red', 'White', 'Blue'),\n",
    "    ('Green', 'Pink', 'Purple'),\n",
    "    ('Orange', 'Yellow', 'Lime'),\n",
    ")\n",
    "print(\"Original list:\")\n",
    "print(colors)\n",
    "c1 = 'White'\n",
    "print(\"\\nCheck if\",c1,\"presenet in said tuple of tuples!\")\n",
    "print(check_in_tuples(colors, c1))\n",
    "c1 = 'White'\n",
    "print(\"\\nCheck if\",c1,\"presenet in said tuple of tuples!\")\n",
    "print(check_in_tuples(colors, c1))\n",
    "c1 = 'Olive'\n",
    "print(\"\\nCheck if\",c1,\"presenet in said tuple of tuples!\")\n",
    "print(check_in_tuples(colors, c1))\n",
    "\n"
   ]
  },
  {
   "cell_type": "code",
   "execution_count": null,
   "id": "891c178b",
   "metadata": {},
   "outputs": [],
   "source": []
  }
 ],
 "metadata": {
  "kernelspec": {
   "display_name": "Python 3",
   "language": "python",
   "name": "python3"
  },
  "language_info": {
   "codemirror_mode": {
    "name": "ipython",
    "version": 3
   },
   "file_extension": ".py",
   "mimetype": "text/x-python",
   "name": "python",
   "nbconvert_exporter": "python",
   "pygments_lexer": "ipython3",
   "version": "3.8.8"
  }
 },
 "nbformat": 4,
 "nbformat_minor": 5
}
