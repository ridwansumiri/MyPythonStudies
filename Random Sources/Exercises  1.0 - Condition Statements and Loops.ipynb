{
 "cells": [
  {
   "cell_type": "markdown",
   "id": "0201f519",
   "metadata": {},
   "source": [
    "# Conditional Statements and Loops <br>\n",
    "- 1st\n",
    "- This exercise are 99% copy and paste\n",
    "- More to learning new thing and gain new knowledge"
   ]
  },
  {
   "cell_type": "code",
   "execution_count": 1,
   "id": "4d85ffea",
   "metadata": {},
   "outputs": [
    {
     "name": "stdout",
     "output_type": "stream",
     "text": [
      "1505,1540,1575,1610,1645,1680,1715,1750,1785,1820,1855,1890,1925,1960,1995,2030,2065,2100,2135,2170,2205,2240,2275,2310,2345,2380,2415,2450,2485,2520,2555,2590,2625,2660,2695\n"
     ]
    }
   ],
   "source": [
    "\"\"\" \n",
    "1. Write a Python program to find those numbers which are divisible by 7 \n",
    "and multiple of 5, between 1500 and 2700 (both included)\n",
    "\n",
    "\"\"\"\n",
    "nl=[]  # create satu list baru\n",
    "for x in range(1500, 2701):  # kemudian let x dalam range antara 1500 hingga 2701\n",
    "    if (x%7==0) and (x%5==0): # seandainya nilai x boleh di modulus 7 dan 5 sama dgn 0\n",
    "        nl.append(str(x)) #  maka nombor itu di pilih // hingga nombor habis\n",
    "print (','.join(nl)) # lalu print semua nombor yg di pilih.\n"
   ]
  },
  {
   "cell_type": "code",
   "execution_count": 6,
   "id": "b68a4445",
   "metadata": {},
   "outputs": [
    {
     "name": "stdout",
     "output_type": "stream",
     "text": [
      "Input the  temperature you like to convert? (e.g., 45F, 102C etc.) : 100\n",
      "Input proper convention.\n",
      "The temperature in Celsius is 7 degrees.\n"
     ]
    }
   ],
   "source": [
    "\"\"\"\n",
    "2. Write a Python program to convert temperatures to and from \n",
    "celsius, fahrenheit. Go to the editor\n",
    "[ Formula : c/5 = f-32/9 [ where c = temperature in celsius and f = temperature in fahrenheit ]\n",
    "\n",
    "\"\"\"\n",
    "\n",
    "temp = input(\"Input the  temperature you like to convert? (e.g., 45F, 102C etc.) : \") # meminta pengguna memasukkan no temperature\n",
    "degree = int(temp[:-1]) # assign variable degree sama dgn something.\n",
    "i_convention = temp[-1] # x paham\n",
    "\n",
    "if i_convention.upper() == \"C\":\n",
    "  result = int(round((9 * degree) / 5 + 32))\n",
    "  o_convention = \"Fahrenheit\"\n",
    "elif i_convention.upper() == \"F\":\n",
    "  result = int(round((degree - 32) * 5 / 9))\n",
    "  o_convention = \"Celsius\"\n",
    "else:\n",
    "  print(\"Input proper convention.\")\n",
    "  quit()\n",
    "print(\"The temperature in\", o_convention, \"is\", result, \"degrees.\")\n"
   ]
  },
  {
   "cell_type": "code",
   "execution_count": null,
   "id": "c244bbb4",
   "metadata": {},
   "outputs": [],
   "source": [
    " \"\"\"\n",
    "3. Write a Python program to guess a number between 1 to 9. Go to the editor\n",
    "Note : User is prompted to enter a guess. If the user guesses wrong then \n",
    "the prompt appears again until the guess is correct, on successful guess,\n",
    "user will get a \"Well guessed!\" message, and the program will exit.\n",
    "\n",
    "\"\"\"\n",
    "\n",
    "import random # modules dalam pyhton random utk generate random number\n",
    "target_num  = random.randint(1,10) # meminta python pilih nombor dari 1 hingga 10 random\n",
    "while target_num != guess_num: # kita buat rule utk orang assign nombor dan compare dgn nombor pilihan python\n",
    "    guess_num = int(input('Guess a number between 1 and 10 until you get it right :')) # meminta org masukkan nombor dgn syarat diberi sehingga memenuhi syarat jika x memenuhi syarat sila masuk kan no lagi\n",
    "print('Well guessed!')   # seandainya syarat di while sudah di penuhi maka print sekian."
   ]
  },
  {
   "cell_type": "code",
   "execution_count": 39,
   "id": "dd8c9881",
   "metadata": {},
   "outputs": [
    {
     "name": "stdout",
     "output_type": "stream",
     "text": [
      "\n",
      "* \n",
      "* * \n",
      "* * * \n",
      "* * * * \n",
      "* * * * * \n",
      "* * * * \n",
      "* * * \n",
      "* * \n",
      "* \n"
     ]
    }
   ],
   "source": [
    "\"\"\"\n",
    "4. Write a Python program to construct the following pattern, \n",
    "using a nested for loop.\n",
    "\n",
    "* \n",
    "* * \n",
    "* * * \n",
    "* * * * \n",
    "* * * * * \n",
    "* * * * \n",
    "* * * \n",
    "* * \n",
    "*\n",
    "\n",
    "\"\"\"\n",
    "\n",
    "n=5  # assign n sama dgn lima sebab max star yg nak\n",
    "for i in range(n): # decision making - i dalam range i =[0,1,2,3,4,5] - 1st step select \"1\"  \n",
    "    for j in range(i): # decision making - j dalam i  i = [0] -1st step\n",
    "        print ('* ', end=\"\") # skip sebab j x de lagi dalam i since j = [0] -1st step\n",
    "    print('') # print nie sebab j xde dalam satu dan akan loop ke for range i balik\n",
    "\n",
    "for i in range(n,0,-1): # decision making - i dalam range i =[0,1,2,3,4,5] - 1st step select \"5\"  \n",
    "    for j in range(i):\n",
    "        print('* ', end=\"\")\n",
    "    print('')\n",
    "\t\n",
    "\n"
   ]
  },
  {
   "cell_type": "code",
   "execution_count": 44,
   "id": "585deff2",
   "metadata": {},
   "outputs": [
    {
     "name": "stdout",
     "output_type": "stream",
     "text": [
      "The word is : nasi\n",
      "isan\n"
     ]
    }
   ],
   "source": [
    "\"\"\"\n",
    "5. Write a Python program that accepts a word from the user and reverse it.\n",
    "\n",
    "\"\"\"\n",
    "x = input((\"The word is : \"))\n",
    "print(x[::-1]) "
   ]
  },
  {
   "cell_type": "code",
   "execution_count": 59,
   "id": "ffa2b5fc",
   "metadata": {},
   "outputs": [
    {
     "name": "stdout",
     "output_type": "stream",
     "text": [
      "Number of even numbers : 7\n",
      "Number of odd numbers : 3\n"
     ]
    }
   ],
   "source": [
    "\"\"\"\n",
    "6. Write a Python program to count the number of even and odd numbers from \n",
    "a series of numbers. \n",
    "Sample numbers : numbers = (1, 2, 3, 4, 5, 6, 7, 8, 9) \n",
    "Expected Output :\n",
    "Number of even numbers : 5\n",
    "Number of odd numbers : 4\n",
    "\n",
    "\"\"\"\n",
    "\n",
    "nums = (2,4,6,8,10,11,12,13,14,15) # kita declare tuple di sini\n",
    "count_odd = 0 # kita assign new var untuk kira odd - start dari kosong\n",
    "count_even = 0 # kita assign new var utk kira even  - start dari kosong\n",
    "\n",
    "for x in nums: #decision making dibina - \n",
    "    if  x%2 == 0: # dimana val x di dalam var tuple nums boleh di bahagi dengan 2 \n",
    "        count_even +=1 # maka var odd akan di tambah satu\n",
    "    else:  # jika tidak - \n",
    "        count_odd +=1 # maka var even pula akan di tambah satu.\n",
    "               # jika dah nilai x dah tiada dalam tuple - \n",
    "print(\"Number of even numbers :\", count_even) # print jumlah nilai even\n",
    "print(\"Number of odd numbers :\" , count_odd)  # print jumlah nilai odd\n"
   ]
  },
  {
   "cell_type": "code",
   "execution_count": 70,
   "id": "c001edae",
   "metadata": {},
   "outputs": [
    {
     "name": "stdout",
     "output_type": "stream",
     "text": [
      "<class 'list'>\n",
      "Type of 1452 is  <class 'int'>\n",
      "Type of 11.23 is  <class 'float'>\n",
      "Type of (1+2j) is  <class 'complex'>\n",
      "Type of True is  <class 'bool'>\n",
      "Type of w3resource is  <class 'str'>\n",
      "Type of (0, -1) is  <class 'tuple'>\n",
      "Type of [5, 12] is  <class 'list'>\n",
      "Type of {'class': 'V', 'section': 'A'} is  <class 'dict'>\n"
     ]
    }
   ],
   "source": [
    "\"\"\"\n",
    "7. Write a Python program that prints each item and its \n",
    "corresponding type from the following list.\n",
    "Sample List : datalist = [1452, 11.23, 1+2j, True, \n",
    "'w3resource', (0, -1), [5, 12], {\"class\":'V', \"section\":'A'}]\n",
    "\n",
    "\"\"\"\n",
    "datalist = [1452, 11.23, 1+2j, True, 'w3resource', (0, -1), [5, 12], {\"class\":'V', \"section\":'A'}]\n",
    "print(type(datalist))\n",
    "\n",
    "for item in datalist:\n",
    "    print (\"Type of\", item, \"is \",type(item))"
   ]
  },
  {
   "cell_type": "code",
   "execution_count": 86,
   "id": "40ee36cd",
   "metadata": {},
   "outputs": [
    {
     "name": "stdout",
     "output_type": "stream",
     "text": [
      "0\n",
      "1\n",
      "2\n",
      "4\n",
      "5\n"
     ]
    }
   ],
   "source": [
    "\"\"\"\n",
    "8. Write a Python program that prints all the numbers \n",
    "from 0 to 6 except 3 and 6.\n",
    "Note : Use 'continue' statement.\n",
    "Expected Output : 0 1 2 4 5\n",
    "\n",
    "\"\"\"\n",
    "\n",
    "for x in range(6):\n",
    "    if x == 3 or x == 6:\n",
    "        continue\n",
    "    print(x)\n",
    "\n",
    "\n"
   ]
  },
  {
   "cell_type": "code",
   "execution_count": 103,
   "id": "52bdd260",
   "metadata": {},
   "outputs": [
    {
     "name": "stdout",
     "output_type": "stream",
     "text": [
      "1\n",
      "1\n",
      "2\n",
      "3\n",
      "5\n",
      "8\n",
      "13\n",
      "21\n",
      "34\n"
     ]
    }
   ],
   "source": [
    "\"\"\"\n",
    "9. Write a Python program to get the Fibonacci series \n",
    "between 0 to 50. Go to the editor\n",
    "Note : The Fibonacci Sequence is the series of numbers :\n",
    "0, 1, 1, 2, 3, 5, 8, 13, 21, ....\n",
    "Every next number is found by adding up the two numbers before it.\n",
    "\n",
    "\"\"\" \n",
    "a,b = 0,1\n",
    "\n",
    "while b<55:\n",
    "    print(b)\n",
    "    a,b = b,a+b\n",
    "    \n",
    "\n",
    "\n"
   ]
  },
  {
   "cell_type": "code",
   "execution_count": 111,
   "id": "27d48f2b",
   "metadata": {},
   "outputs": [
    {
     "name": "stdout",
     "output_type": "stream",
     "text": [
      "fizzbuzz\n",
      "1\n",
      "2\n",
      "fizz\n",
      "4\n",
      "buzz\n",
      "fizz\n",
      "7\n",
      "8\n",
      "fizz\n",
      "buzz\n",
      "11\n",
      "fizz\n",
      "13\n",
      "14\n",
      "fizzbuzz\n",
      "16\n",
      "17\n",
      "fizz\n",
      "19\n",
      "buzz\n",
      "fizz\n",
      "22\n",
      "23\n",
      "fizz\n",
      "buzz\n",
      "26\n",
      "fizz\n",
      "28\n",
      "29\n",
      "fizzbuzz\n",
      "31\n",
      "32\n",
      "fizz\n",
      "34\n",
      "buzz\n",
      "fizz\n",
      "37\n",
      "38\n",
      "fizz\n",
      "buzz\n",
      "41\n",
      "fizz\n",
      "43\n",
      "44\n",
      "fizzbuzz\n",
      "46\n",
      "47\n",
      "fizz\n",
      "49\n",
      "buzz\n"
     ]
    }
   ],
   "source": [
    "\"\"\"\n",
    "10. Write a Python program which iterates the integers from 1 to 50.\n",
    "For multiples of three print \"Fizz\" instead of the number and \n",
    "for the multiples of five print \"Buzz\". For numbers which are \n",
    "multiples of both three and five print \"FizzBuzz\".\n",
    "Sample Output :\n",
    "fizzbuzz\n",
    "1\n",
    "2\n",
    "fizz\n",
    "4\n",
    "buzz\n",
    "\"\"\"\n",
    "\n",
    "for fizzbuzz in range(51): # assign variable\n",
    "    if fizzbuzz % 3 == 0 and fizzbuzz % 5 == 0: # rule 1 \n",
    "        print(\"fizzbuzz\") # if true\n",
    "        continue # if false goto rule no 2\n",
    "    elif fizzbuzz % 3 == 0: # rule 2\n",
    "        print(\"fizz\") # if true\n",
    "        continue # if false goto rule 3\n",
    "    elif fizzbuzz % 5 == 0: # rule 3\n",
    "        print(\"buzz\") # if true\n",
    "        continue # if false\n",
    "    print(fizzbuzz)\n",
    "\t\n",
    "\n"
   ]
  },
  {
   "cell_type": "code",
   "execution_count": 117,
   "id": "c85cb120",
   "metadata": {},
   "outputs": [
    {
     "name": "stdout",
     "output_type": "stream",
     "text": [
      "Input number of rows: 5\n",
      "Input number of columns: 6\n",
      "[[0, 0, 0, 0, 0, 0], [0, 1, 2, 3, 4, 5], [0, 2, 4, 6, 8, 10], [0, 3, 6, 9, 12, 15], [0, 4, 8, 12, 16, 20]]\n"
     ]
    }
   ],
   "source": [
    "\"\"\"\n",
    "11. Write a Python program which takes two digits m (row) and n (column) as\n",
    "input and generates a two-dimensional array. The element value in  \n",
    "the i-th row and j-th column of the array should be i*j.\n",
    "\n",
    "Note :\n",
    "i = 0,1.., m-1\n",
    "j = 0,1, n-1.\n",
    "\n",
    "Test Data : Rows = 3, Columns = 4\n",
    "Expected Result : [[0, 0, 0, 0], [0, 1, 2, 3], [0, 2, 4, 6]]\n",
    "\"\"\"\n",
    "row_num = int(input(\"Input number of rows: \")) # ask for row\n",
    "col_num = int(input(\"Input number of columns: \")) # ask for colum\n",
    "multi_list = [[0 for col in range(col_num)] for row in range(row_num)] #untuk buat list\n",
    "\n",
    "for row in range(row_num):\n",
    "    for col in range(col_num):\n",
    "        multi_list[row][col]= row*col\n",
    "\n",
    "print(multi_list)\n",
    "\n",
    "\n"
   ]
  },
  {
   "cell_type": "code",
   "execution_count": 130,
   "id": "b0f03c7a",
   "metadata": {},
   "outputs": [
    {
     "name": "stdout",
     "output_type": "stream",
     "text": [
      "0100,0011,1010,1001,1100,1001\n",
      "1010\n"
     ]
    }
   ],
   "source": [
    "\"\"\"\n",
    "12. Write a Python program which accepts a sequence of comma \n",
    "separated 4 digit binary numbers as its input and print the numbers\n",
    "that are divisible by 5 in a comma separated sequence.\n",
    "\n",
    "Sample Data : 0100,0011,1010,1001,1100,1001\n",
    "Expected Output : 1010\n",
    "\n",
    "\"\"\"\n",
    "items = []\n",
    "num = [x for x in input().split(',')]\n",
    "for p in num:\n",
    "    x = int(p, 2)\n",
    "    if not x%5:\n",
    "        items.append(p)\n",
    "print(','.join(items))\n",
    "\n",
    "\n",
    "\n",
    "\n"
   ]
  },
  {
   "cell_type": "code",
   "execution_count": 132,
   "id": "00ea8701",
   "metadata": {},
   "outputs": [
    {
     "name": "stdout",
     "output_type": "stream",
     "text": [
      "Masukkan Perkataan Yang Nak Dikira :3 budak hitam, dan 3 budak putih\n",
      "Letters 23\n",
      "Digits 2\n"
     ]
    }
   ],
   "source": [
    "\"\"\"\n",
    "13. Write a Python program that accepts a string and \n",
    "calculate the number of digits and letters.\n",
    "\n",
    "\"\"\"\n",
    "s = input(\"Masukkan Perkataan Yang Nak Dikira :\")\n",
    "digit = 0\n",
    "letter = 0\n",
    "\n",
    "for huruf in s:\n",
    "    if huruf.isdigit():\n",
    "        digit = digit+1\n",
    "    elif huruf.isalpha():\n",
    "        letter = letter +1\n",
    "    else:\n",
    "        pass\n",
    "\n",
    "print(\"Letters\",letter)\n",
    "print(\"Digits\",digit)\n",
    "\n"
   ]
  },
  {
   "cell_type": "code",
   "execution_count": 133,
   "id": "3b725ef6",
   "metadata": {},
   "outputs": [
    {
     "name": "stdout",
     "output_type": "stream",
     "text": [
      "Input your password :Mrkomg123$\n",
      "Valid Password\n"
     ]
    }
   ],
   "source": [
    "\"\"\"\n",
    "14. Write a Python program to check the validity of\n",
    "password input by users.\n",
    "\n",
    "Validation :\n",
    "\n",
    "At least 1 letter between [a-z] and 1 letter between [A-Z].\n",
    "At least 1 number between [0-9].\n",
    "At least 1 character from [$#@].\n",
    "Minimum length 6 characters.\n",
    "Maximum length 16 characters.\n",
    "\n",
    "\"\"\"\n",
    "\n",
    "import re # modules\n",
    "p= input(\"Input your password :\")\n",
    "x = True\n",
    "while x:  \n",
    "    if (len(p)<6 or len(p)>12):\n",
    "        break\n",
    "    elif not re.search(\"[a-z]\",p):\n",
    "        break\n",
    "    elif not re.search(\"[0-9]\",p):\n",
    "        break\n",
    "    elif not re.search(\"[A-Z]\",p):\n",
    "        break\n",
    "    elif not re.search(\"[$#@]\",p):\n",
    "        break\n",
    "    elif re.search(\"\\s\",p):\n",
    "        break\n",
    "    else:\n",
    "        print(\"Valid Password\")\n",
    "        x=False\n",
    "        break\n",
    "\n",
    "if x:\n",
    "    print(\"Not a Valid Password\")\n"
   ]
  },
  {
   "cell_type": "code",
   "execution_count": 155,
   "id": "adc4ddda",
   "metadata": {},
   "outputs": [
    {
     "name": "stdout",
     "output_type": "stream",
     "text": [
      "100/102/104/106/108/110/112/114/116/118/120/122/124/126/128/130/132/134/136/138/140/142/144/146/148/150/152/154/156/158/160/162/164/166/168/170/172/174/176/178/180/182/184/186/188/190/192/194/196/198/200/202/204/206/208/210/212/214/216/218/220/222/224/226/228/230/232/234/236/238/240/242/244/246/248/250/252/254/256/258/260/262/264/266/268/270/272/274/276/278/280/282/284/286/288/290/292/294/296/298/300/302/304/306/308/310/312/314/316/318/320/322/324/326/328/330/332/334/336/338/340/342/344/346/348/350/352/354/356/358/360/362/364/366/368/370/372/374/376/378/380/382/384/386/388/390/392/394/396/398/400/"
     ]
    }
   ],
   "source": [
    "\"\"\"\n",
    "15. Write a Python program to find numbers between 100 and 400 \n",
    "(both included) where each digit of a number is an even number.\n",
    "The numbers obtained should be printed in a comma-separated sequence\n",
    "\"\"\"\n",
    "for i in range(100,401):\n",
    "            if (i%2 == 0):\n",
    "            \n",
    "              print(i,end='/')"
   ]
  },
  {
   "cell_type": "code",
   "execution_count": 196,
   "id": "9e5ac628",
   "metadata": {},
   "outputs": [
    {
     "name": "stdout",
     "output_type": "stream",
     "text": [
      "Age of your Doggo:15\n",
      "Input a dog's age in human years: 15\n",
      "The a dog's age in doggo years: 73\n"
     ]
    }
   ],
   "source": [
    "\"\"\"\n",
    "16. Write a Python program to calculate a dog's age in dog's years.\n",
    "Note: For the first two years, a dog year is equal to 10.5 human years. After that, \n",
    "each dog year equals 4 human years.\n",
    "\n",
    "Expected Output:\n",
    "\n",
    "Input a dog's age in human years: 15                                    \n",
    "The dog's age in dog's years is 73\n",
    "\n",
    "\"\"\"\n",
    "\n",
    "dA= int(input(\"Age of your Doggo:\"))\n",
    "\n",
    "if dA <= 2:\n",
    "    print ('X cukup Umor boss, Cuba lagi')\n",
    "    exit()\n",
    "elif dA <= 2:\n",
    "    dAH = dA*10.5\n",
    "else:\n",
    "    dAH = 21 + (dA-2)*4\n",
    "    \n",
    "            \n",
    "            \n",
    "print( \"Input a dog's age in human years:\", dA)\n",
    "print( \"The a dog's age in doggo years:\", int(dAH))\n",
    "\n",
    "\n"
   ]
  },
  {
   "cell_type": "code",
   "execution_count": 208,
   "id": "6da23ca0",
   "metadata": {},
   "outputs": [
    {
     "name": "stdout",
     "output_type": "stream",
     "text": [
      "Input a letter of the Alphabet :a\n",
      "a is a vowel.\n"
     ]
    }
   ],
   "source": [
    "\"\"\"\n",
    "17. Write a Python program to check whether an alphabet\n",
    "is a vowel or consonant.\n",
    "\n",
    "Input a letter of the alphabet: k                                       \n",
    "k is a consonant.\n",
    "\n",
    "\"\"\"\n",
    "letter = input(\"Input a letter of the Alphabet :\")\n",
    "\n",
    "if letter in ('a','e','i','o','u') :\n",
    "    print (\"%s is a vowel.\" % letter)\n",
    "elif letter == 'y':\n",
    "    print(\"Sometimes letter y stand for vowel, sometimes stand for consonant.\")\n",
    "else:\n",
    "    print(\"%s is a vowel.\" % letter)\n",
    "    \n",
    "\n",
    "\n",
    "\n",
    "\n",
    "\n"
   ]
  },
  {
   "cell_type": "code",
   "execution_count": 215,
   "id": "bf17954a",
   "metadata": {},
   "outputs": [
    {
     "name": "stdout",
     "output_type": "stream",
     "text": [
      "List of Month: January, February, March, April, May, June, July, August, September, October, November, December\n",
      "name of month : bear\n",
      "mana bulan nya\n"
     ]
    }
   ],
   "source": [
    "\"\"\"\n",
    "18. Write a Python program to convert month name to a number of days.\n",
    "\n",
    "Expected Output:\n",
    "\n",
    "List of months: January, February, March, April, May, June, July, August\n",
    ", September, October, November, December                                \n",
    "Input the name of Month: February                                       \n",
    "No. of days: 28/29 days \n",
    "\n",
    "\"\"\"\n",
    "\n",
    "print(\"List of Month: January, February, March, April, May, June, July, August, September, October, November, December\")\n",
    "month = input(\"name of month : \")\n",
    "\n",
    "to = (\"April\", \"June\", \" September\",\"November\") \n",
    "ti = (\"January\", \"March\", \"May\", \"July\", \"August\", \"October\", \"December\")\n",
    "if month == \"February\":\n",
    "       print (\"No. of days: 28/29\")\n",
    "      \n",
    "elif month in to:\n",
    "       print (\"No. of days: 30\")\n",
    "\n",
    "elif month in ti:\n",
    "      print (\"No. of days: 31\")\n",
    "\n",
    "else:\n",
    "    print(\"mana bulan nya\")\n",
    "      \n",
    "\n",
    "        \n",
    "      \n",
    " \n",
    "\n"
   ]
  },
  {
   "cell_type": "code",
   "execution_count": 223,
   "id": "b9f92d39",
   "metadata": {},
   "outputs": [
    {
     "name": "stdout",
     "output_type": "stream",
     "text": [
      "Insert a number between 1 - 104\n",
      "4 x 0  =  0\n",
      "4 x 1  =  4\n",
      "4 x 2  =  8\n",
      "4 x 3  =  12\n",
      "4 x 4  =  16\n",
      "4 x 5  =  20\n",
      "4 x 6  =  24\n",
      "4 x 7  =  28\n",
      "4 x 8  =  32\n",
      "4 x 9  =  36\n",
      "4 x 10  =  40\n"
     ]
    }
   ],
   "source": [
    "\"\"\"\n",
    "19. Write a Python program to create the multiplication \n",
    "table (from 1 to 10) of a number.\n",
    "\"\"\"\n",
    "\n",
    "a = int(input('Insert a number between 1 - 10'))\n",
    "\n",
    "for y in range(11):\n",
    "    print(a,\"x\",y,\" = \",a*y)"
   ]
  },
  {
   "cell_type": "code",
   "execution_count": 226,
   "id": "b7053d03",
   "metadata": {},
   "outputs": [
    {
     "name": "stdout",
     "output_type": "stream",
     "text": [
      "Please enter the first number: 7\n",
      "Please enter the second number: 8\n",
      "20\n"
     ]
    }
   ],
   "source": [
    "\"\"\"\n",
    "20. Write a Python program to sum of two given integers. \n",
    "However, if the sum is between 15 to 20 it will return 20\n",
    "\"\"\"\n",
    "\n",
    "num1 = int(input('Please enter the first number: '))\n",
    "num2 = int(input('Please enter the second number: '))\n",
    "\n",
    "for i in range(15,21):\n",
    "    if i == (num1+num2):\n",
    "        print('20')\n",
    "    else:\n",
    "        print('{}'.format(num1+num2))\n",
    "    break\n"
   ]
  },
  {
   "cell_type": "code",
   "execution_count": null,
   "id": "2a2480f1",
   "metadata": {},
   "outputs": [],
   "source": [
    "2"
   ]
  }
 ],
 "metadata": {
  "kernelspec": {
   "display_name": "Python 3",
   "language": "python",
   "name": "python3"
  },
  "language_info": {
   "codemirror_mode": {
    "name": "ipython",
    "version": 3
   },
   "file_extension": ".py",
   "mimetype": "text/x-python",
   "name": "python",
   "nbconvert_exporter": "python",
   "pygments_lexer": "ipython3",
   "version": "3.8.8"
  }
 },
 "nbformat": 4,
 "nbformat_minor": 5
}
