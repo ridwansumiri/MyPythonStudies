{
 "cells": [
  {
   "cell_type": "code",
   "execution_count": 2,
   "id": "52f895c8",
   "metadata": {},
   "outputs": [
    {
     "name": "stdout",
     "output_type": "stream",
     "text": [
      "14\n"
     ]
    }
   ],
   "source": [
    "\"\"\"\n",
    "1. Write a Python program to calculate the length of a string\n",
    "\n",
    "\"\"\"\n",
    "words = \"Beginner Words\"\n",
    "print(len(words))"
   ]
  },
  {
   "cell_type": "code",
   "execution_count": 40,
   "id": "28feb2c0",
   "metadata": {},
   "outputs": [
    {
     "name": "stdout",
     "output_type": "stream",
     "text": [
      "{'t': 2, 'h': 2, 'e': 3, 'q': 1, 'u': 2, 'i': 1, 'c': 1, 'k': 1, 'b': 1, 'r': 2, 'o': 4, 'w': 1, 'n': 1, 'f': 1, 'x': 1, 'j': 1, 'm': 1, 'p': 1, 's': 1, 'v': 1, 'l': 1, 'a': 1, 'z': 1, 'y': 1, 'd': 1, 'g': 1}\n"
     ]
    }
   ],
   "source": [
    "\"\"\"\n",
    "2.Write a Python program to count the \n",
    "number of characters (character frequency) in a string.\n",
    "Sample String : google.com'\n",
    "Expected Result : {'g': 2, 'o': 3, 'l': 1, 'e': 1, '.': 1, 'c': 1, 'm': 1}\n",
    "\n",
    "\"\"\"\n",
    "\n",
    "def words1(word): #define function words1 dgn parameters/argument word\n",
    "    dict = {} # buat satu dictionary data type\n",
    "    for n in word: \n",
    "        keys = dict.keys()  # assign keys variable name utk dictionary punya 'key'\n",
    "        if n in keys:\n",
    "            dict[n] = dict[n] + 1 # dict[n] adalah 'value' utk dictionary\n",
    "        else:\n",
    "            dict[n] = 1\n",
    "    return dict\n",
    "print(words1('thequickbrownfoxjumpsoverthelazydog'))"
   ]
  },
  {
   "cell_type": "code",
   "execution_count": 7,
   "id": "2b3d21b1",
   "metadata": {},
   "outputs": [
    {
     "name": "stdout",
     "output_type": "stream",
     "text": [
      "resta$t\n"
     ]
    }
   ],
   "source": [
    "\"\"\"\n",
    "3. Write a Python program to get a string from a given string where\n",
    "all occurrences of its first char have been changed to '$', except \n",
    "the first char itself. Go to the editor\n",
    "Sample String : 'restart'\n",
    "Expected Result : 'resta$t'\n",
    "\n",
    "\"\"\"\n",
    "\n",
    "def censorer(word):   #define function censorer dgn parameters word\n",
    "    perkataan = word[0]  # perkataan itu sama dgn value pertama dalam parameter word\n",
    "    word = word.replace(perkataan,'$') # kemudian kita tukar parameter word dgn rule baru nie\n",
    "    word = perkataan + word[1:] \n",
    "    \n",
    "    return word\n",
    "\n",
    "print(censorer(\"restart\"))\n",
    "\n"
   ]
  },
  {
   "cell_type": "code",
   "execution_count": 19,
   "id": "52194e5e",
   "metadata": {},
   "outputs": [
    {
     "name": "stdout",
     "output_type": "stream",
     "text": [
      "please insert 3 words:abc\n",
      "please insert 3 words:123\n",
      "12c ab3\n"
     ]
    }
   ],
   "source": [
    "\"\"\"\n",
    "4. Write a Python program to get a single string from two given strings, \n",
    "separated by a space and swap the first two characters of each string. \n",
    "Go to the editor\n",
    "Sample String : 'abc', 'xyz'\n",
    "Expected Result : 'xyc abz'\n",
    "\n",
    "\"\"\"\n",
    "a = input('please insert 3 words/letter:')\n",
    "b = input('please insert 3 words/letter:')\n",
    "\n",
    "def ayatCampuq(a,b): # define function ayatCampuq\n",
    "    campuq1 = b[:2] + a[2:] #create variable campuq1 menggunakan paramters ayatCampuq a,b\n",
    "    campuq2 = a[:2] + b[2:] #create variable campuq2 menggunakan paramters ayatCampuq a,b\n",
    "    \n",
    "    return campuq1+ ' '+campuq2 \n",
    "print(ayatCampuq(a,b))\n"
   ]
  },
  {
   "cell_type": "code",
   "execution_count": 31,
   "id": "38a29934",
   "metadata": {},
   "outputs": [
    {
     "name": "stdout",
     "output_type": "stream",
     "text": [
      "insert any words:string\n",
      "stringly\n"
     ]
    }
   ],
   "source": [
    "\"\"\"\n",
    "5. Write a Python program to add 'ing' at the end of a given string\n",
    "(length should be at least 3). If the given string already ends\n",
    "with 'ing' then add 'ly' instead. If the string length of the given\n",
    "string is less than 3, leave it unchanged. Go to the editor\n",
    "Sample String : 'abc'\n",
    "Expected Result : 'abcing'\n",
    "Sample String : 'string'\n",
    "Expected Result : 'stringly'\n",
    "\n",
    "\"\"\"\n",
    "ayat = input('insert any words:')\n",
    "\n",
    "def panjangAyat(ayat): # bertanyakan panjang sesuatu ayat\n",
    "    \n",
    "    panjang = len(ayat) # suruh computer kirakan panjang ayat yg di masukkan\n",
    "    \n",
    "    if panjang > 2: # seandainya panjang ayat lebih dari dua\n",
    "        if ayat[-3:] == 'ing': # dan 3 ayat dari belakang perkataan berakhir dgn 'ing'\n",
    "            ayat = ayat + 'ly' # maka ayat yg di masukkan akan di tambah dgn 'ly'\n",
    "        else: # jika tidak\n",
    "            ayat = ayat + 'ing' # maka ayat tadi akan di tambah 'ing'\n",
    "            \n",
    "    return ayat 3 # return nie masih dalam pencarian kepastian maknaya\n",
    "print(panjangAyat(ayat)) # print function dgn rule yg kita buat tadi.\n",
    "        \n",
    "        \n"
   ]
  },
  {
   "cell_type": "code",
   "execution_count": 39,
   "id": "1f5d651a",
   "metadata": {},
   "outputs": [
    {
     "name": "stdout",
     "output_type": "stream",
     "text": [
      "\n",
      "Ayat yang Terpanjang: Exercises\n",
      "Length of the longest word:  9\n"
     ]
    }
   ],
   "source": [
    "\"\"\"\n",
    "6. Write a Python function that takes a list of words and returns \n",
    "the longest word and the length of the longest one. \n",
    "Sample Output:\n",
    "Longest word: Exercises\n",
    "Length of the longest word: 9\n",
    "\n",
    "\"\"\"\n",
    "\n",
    "def nomborTerpanjang (ayats): # define new function with parameters\n",
    "    panjangAyat = [] # create an empty set variable\n",
    "    \n",
    "    for word in ayats: # create a rule in parameters for a function\n",
    "        panjangAyat.append((len(word),word)) # append itu tamabh ayat di hujung list\n",
    "    panjangAyat.sort() # untuk susun ayat dari pendek ke panjang\n",
    "    return panjangAyat[-1][0],panjangAyat[-1][1] # nie ana tercyduk\n",
    "\n",
    "result = nomborTerpanjang([\"PHP\", \"Exercises\", \"Backend\"])\n",
    "\n",
    "print('\\nAyat yang Terpanjang:',result[1])\n",
    "print('Length of the longest word: ', result[0])\n"
   ]
  },
  {
   "cell_type": "code",
   "execution_count": 44,
   "id": "634482c1",
   "metadata": {},
   "outputs": [
    {
     "name": "stdout",
     "output_type": "stream",
     "text": [
      "Insert any words :Sup Ekor\n",
      "Current character : 0 Postion at S\n",
      "Current character : 1 Postion at u\n",
      "Current character : 2 Postion at p\n",
      "Current character : 3 Postion at  \n",
      "Current character : 4 Postion at E\n",
      "Current character : 5 Postion at k\n",
      "Current character : 6 Postion at o\n",
      "Current character : 7 Postion at r\n"
     ]
    }
   ],
   "source": [
    "\"\"\"\n",
    "7. Write a Python program to print the index of the character in a string. Go to the editor\n",
    "Sample string: w3resource\n",
    "Expected output:\n",
    "Current character w position at 0\n",
    "Current character 3 position at 1\n",
    "Current character r position at 2\n",
    "- - - - - - - - - - - - - - - - - - - - - - - - -\n",
    "Current character c position at 8\n",
    "Current character e position at 9\n",
    "\n",
    "\"\"\"\n",
    "\n",
    "word = input(\"Insert any words :\")\n",
    "\n",
    "for char, index in enumerate(word):\n",
    "    print (\"Current character :\",char,\"Postion at\",index)\n"
   ]
  },
  {
   "cell_type": "code",
   "execution_count": 52,
   "id": "1f9b488d",
   "metadata": {},
   "outputs": [
    {
     "name": "stdout",
     "output_type": "stream",
     "text": [
      "32,054.23\n"
     ]
    }
   ],
   "source": [
    "\"\"\"\n",
    "8. Write a Python program to swap comma and dot in a string. Go to the editor\n",
    "Sample string: \"32.054,23\"\n",
    "Expected Output: \"32,054.23\"\n",
    "\n",
    "\"\"\"\n",
    "amount = \"32.054,23\"\n",
    "trans = amount.maketrans\n",
    "amount = amount.translate(trans(',.','.,'))\n",
    "print (amount)"
   ]
  },
  {
   "cell_type": "code",
   "execution_count": 65,
   "id": "924f243c",
   "metadata": {},
   "outputs": [
    {
     "name": "stdout",
     "output_type": "stream",
     "text": [
      "Insert any words only :ayam\n",
      "2\n",
      "['a', 'a']\n",
      "None\n"
     ]
    }
   ],
   "source": [
    "\"\"\"\n",
    "9. Write a Python program to count and display the vowels of a given text\n",
    "\"\"\"\n",
    "x = input('Insert any words only :')\n",
    "def vowel(x):\n",
    "    vowels = \"aeiouAEIOU\"\n",
    "    print(len([y for y in x if y in vowels]))\n",
    "    print([y for y in x if y in vowels])\n",
    "    \n",
    "print(vowel(x))\n"
   ]
  },
  {
   "cell_type": "code",
   "execution_count": 66,
   "id": "3e929597",
   "metadata": {},
   "outputs": [
    {
     "name": "stdout",
     "output_type": "stream",
     "text": [
      "['w,3,r,e,s,o,u,r,c', 'e']\n",
      "['w,3,r,e,s,o,u,r', 'c', 'e']\n",
      "['w,3,r,e,s', 'o', 'u', 'r', 'c', 'e']\n"
     ]
    }
   ],
   "source": [
    "\"\"\"\n",
    "10. Write a Python program to split a string on the last occurrence \n",
    "of the delimiter.\n",
    "\"\"\"\n",
    "str1 = \"w,3,r,e,s,o,u,r,c,e\"\n",
    "print(str1.rsplit(',', 1))\n",
    "print(str1.rsplit(',', 2))\n",
    "print(str1.rsplit(',', 5))\n",
    "\n"
   ]
  },
  {
   "cell_type": "code",
   "execution_count": 78,
   "id": "1a0b8d2d",
   "metadata": {},
   "outputs": [
    {
     "name": "stdout",
     "output_type": "stream",
     "text": [
      "SayA MmG SukA AlieN WooT WooT\n"
     ]
    }
   ],
   "source": [
    "\"\"\"\n",
    "11. Write a Python program to capitalize first and \n",
    "last letters of each word of a given string.\n",
    "\"\"\"\n",
    "def capital_word(str1):\n",
    "    str1 = result = str1.title()\n",
    "    result = \"\"\n",
    "    for word in str1.split():\n",
    "        result += word[:-1]+word[-1].upper()+\" \"\n",
    "    return result[:-1]\n",
    "\n",
    "print(capital_word(\"saya mmg suka alien woot woot\"))\n"
   ]
  },
  {
   "cell_type": "code",
   "execution_count": 90,
   "id": "9b8c2b86",
   "metadata": {},
   "outputs": [
    {
     "name": "stdout",
     "output_type": "stream",
     "text": [
      "python exrcisalu\n"
     ]
    }
   ],
   "source": [
    "\"\"\"\n",
    "12. Write a Python program to remove \n",
    "duplicate characters of a given string.\n",
    "\"\"\"\n",
    "\n",
    "def remove_dup(str1):\n",
    "    for x in str1:\n",
    "        if str1.count(x)>1:\n",
    "            str1 = str1[:str1.index(x)+1]+str1[str1.index(x)+1:].replace(x,\"\")  \n",
    "    return str1\n",
    "print(remove_dup('python exercises practice solution'))\n",
    "    "
   ]
  },
  {
   "cell_type": "code",
   "execution_count": 91,
   "id": "e0d4ee71",
   "metadata": {},
   "outputs": [
    {
     "name": "stdout",
     "output_type": "stream",
     "text": [
      "255.24.1.1\n",
      "127.0.1\n"
     ]
    }
   ],
   "source": [
    "\"\"\"\n",
    "13. Write a Python program to remove leading zeros from an IP address.\n",
    "\"\"\"\n",
    "\n",
    "def remove_zero_ip(ip):\n",
    "    new_ip = '.'.join([str(int(i)) for i in ip.split(\".\")])\n",
    "    return new_ip\n",
    "\n",
    "print(remove_zero_ip(\"255.024.01.01\"))\n",
    "print(remove_zero_ip('127.0.01'))\n",
    "\n"
   ]
  },
  {
   "cell_type": "code",
   "execution_count": 92,
   "id": "5f62d92c",
   "metadata": {},
   "outputs": [
    {
     "name": "stdout",
     "output_type": "stream",
     "text": [
      "Original string:111000010000110\n",
      "Maximum length of consecutive 0’s:\n",
      "4\n",
      "Original string:111000111\n",
      "Maximum length of consecutive 0’s:\n",
      "3\n"
     ]
    }
   ],
   "source": [
    "\"\"\"\n",
    "14. Write a Python program to find maximum length of\n",
    "consecutive 0's in a given binary string  \n",
    "\"\"\"\n",
    "def max_consecutive_0(input_str): \n",
    "     return  max(map(len,input_str.split('1')))\n",
    "str1 = '111000010000110'\n",
    "print(\"Original string:\" + str1)\n",
    "print(\"Maximum length of consecutive 0’s:\")\n",
    "print(max_consecutive_0(str1))\n",
    "str1 = '111000111'\n",
    "print(\"Original string:\" + str1)\n",
    "print(\"Maximum length of consecutive 0’s:\")\n",
    "print(max_consecutive_0(str1))\n",
    "\n"
   ]
  },
  {
   "cell_type": "code",
   "execution_count": 93,
   "id": "67d32ba1",
   "metadata": {},
   "outputs": [],
   "source": [
    "\"\"\"\n",
    "15. Write a Python program to \n",
    "remove all consecutive duplicates of a given string.\n",
    "\n",
    "\"\"\"\n",
    "from itertools import groupby \n",
    "def remove_all_consecutive(str1): \n",
    "\tresult_str = [] \n",
    "\tfor (key,group) in groupby(str1): \n",
    "\t\tresult_str.append(key) \n",
    "\n",
    "\treturn ''.join(result_str)\n",
    "\t\n",
    "str1 = 'xxxxxyyyyy'\n",
    "print(\"Original string:\" + str1)\n",
    "print(\"After removing consecutive duplicates: \" + str1)\n",
    "print(remove_all_consecutive(str1))\n"
   ]
  },
  {
   "cell_type": "code",
   "execution_count": 98,
   "id": "896c1d69",
   "metadata": {},
   "outputs": [
    {
     "name": "stdout",
     "output_type": "stream",
     "text": [
      "Original Substrings @nasiAyam.Com11\n",
      "\n",
      "Upper case characters: 2\n",
      "Lower case characters: 9\n",
      "Number case: 2\n",
      "special case characters: 2\n"
     ]
    }
   ],
   "source": [
    "\"\"\"\n",
    "16. Write a Python program to count Uppercase, \n",
    "Lowercase, special character and numeric values in a given string.\n",
    "\"\"\"\n",
    "\n",
    "def kira_huruf(str):\n",
    "    upperHuruf,lowerHuruf,numberHuruf,specialHuruf = 0,0,0,0\n",
    "    for i in range(len(str)):\n",
    "        if str[i] >= 'A' and str[i] <= 'Z':upperHuruf += 1\n",
    "        elif str[i] >= 'a' and str[i] <= 'z':lowerHuruf += 1\n",
    "        elif str[i] >= '0' and str[i] <= '9':numberHuruf += 1\n",
    "        else: specialHuruf += 1\n",
    "    return upperHuruf,lowerHuruf,numberHuruf,specialHuruf\n",
    "\n",
    "str = \"@nasiAyam.Com11\"\n",
    "\n",
    "print(\"Original Substrings\",str)\n",
    "u,l,n,s = kira_huruf(str)\n",
    "print('\\nUpper case characters:',u)\n",
    "print('Lower case characters:',l)\n",
    "print('Number case:',n)\n",
    "print('special case characters:',s)\n"
   ]
  },
  {
   "cell_type": "code",
   "execution_count": 115,
   "id": "faca5475",
   "metadata": {},
   "outputs": [
    {
     "name": "stdout",
     "output_type": "stream",
     "text": [
      "Original Strings:\n",
      " PRWSOERIUSFK \n",
      " OSU\n",
      "Minimum window:\n",
      "OERIUS\n"
     ]
    }
   ],
   "source": [
    "\"\"\"\n",
    "17.Write a Python program to find the minimum window in a \n",
    "given string which will contain all the characters of another given string.\n",
    "\n",
    "Example 1\n",
    "Input : str1 = \" PRWSOERIUSFK \"\n",
    "str2 = \" OSU \"\n",
    "Output: Minimum window is \"OERIUS\"\n",
    "\n",
    "\"\"\"\n",
    "import collections\n",
    "def min_window(str1,str2):\n",
    "    result_char,missing_char = collections.Counter(str2),len(str2)\n",
    "    i = p = q = 0\n",
    "    for j,c in enumerate(str1,1):\n",
    "        missing_char -= result_char[c] > 0\n",
    "        result_char[c] -= 1\n",
    "        if not missing_char:\n",
    "            while i < q and result_char[str1[i]] < 0:\n",
    "                result_char[str1[i]] += 1\n",
    "                i += 1\n",
    "            if not q or j - i <= q -p:\n",
    "                p,q = i,j\n",
    "    return str1[p:q]\n",
    "\n",
    "str1 = 'PRWSOERIUSFK'\n",
    "str2 = 'OSU'\n",
    "\n",
    "print('Original Strings:\\n',str1,'\\n',str2)\n",
    "print(\"Minimum window:\")\n",
    "print(min_window(str1,str2))\n",
    "\n"
   ]
  },
  {
   "cell_type": "code",
   "execution_count": 123,
   "id": "ff34955a",
   "metadata": {},
   "outputs": [
    {
     "name": "stdout",
     "output_type": "stream",
     "text": [
      "Original Strings:\n",
      " Write a Java program to sort an array of given integers using Quick sort Algorithm\n",
      "Smallest word: a\n",
      "Largest word: Algorithm\n"
     ]
    }
   ],
   "source": [
    "\"\"\"\n",
    "18. Write a Python program to find smallest \n",
    "and largest word in a given string.\n",
    "\n",
    "\"\"\"\n",
    "def smallest_largest_words(str1): # define function \n",
    "    word = \" \"\n",
    "    all_words = []\n",
    "    str1 = str1 + \" \"\n",
    "    for i in range(0,len(str1)):\n",
    "        if(str1[i] != ' '):\n",
    "             word = word+str[i]\n",
    "        else:\n",
    "            all_words.append(word)\n",
    "            word = \" \"\n",
    "            \n",
    "    small = large = all_words[0]\n",
    "    \n",
    "# Find smallest and largest word in the str1\n",
    "\n",
    "    for k in range(0,len(all_words)):\n",
    "        if(len(small) > len(all_words[k])):\n",
    "            small = all_words [k]\n",
    "        if (len(large) < len(all_words[k])):\n",
    "            large = all_words[k]\n",
    "    return small,large\n",
    "\n",
    "str1 = \"Write a Java program to sort an array of given integers using Quick sort Algorithm\"\n",
    "print('Original Strings:\\n',str1)\n",
    "small,large = smallest_largest_words(str1)\n",
    "print('Smallest word:' + small)\n",
    "print('Largest word:' + large)\n",
    "        \n",
    "    \n"
   ]
  },
  {
   "cell_type": "code",
   "execution_count": 129,
   "id": "5b130959",
   "metadata": {},
   "outputs": [
    {
     "name": "stdout",
     "output_type": "stream",
     "text": [
      "Origina Strings :Pyth*^on Exercis^es \n",
      "After removing unwanted characters:\n",
      "Python Exercises \n",
      "\n",
      "Original String : A%^!B#*CD\n",
      "After removing unwanted characters:\n",
      " ABCD\n"
     ]
    }
   ],
   "source": [
    "\"\"\"\n",
    "19. Write a Python program to remove unwanted \n",
    "characters from a given string.\n",
    "\n",
    "\"\"\"\n",
    "def remove_chars(str1,unwanted_chars):\n",
    "    for i in unwanted_chars:\n",
    "        str1 = str1.replace(i,'')\n",
    "    return str1\n",
    "\n",
    "str1 = \"Pyth*^on Exercis^es \"\n",
    "str2 = ' A%^!B#*CD'\n",
    "\n",
    "unwanted_chars = [\"#\",\"*\",\"!\",\"^\",\"%\"]\n",
    "print ('Origina Strings :' + str1)\n",
    "print ('After removing unwanted characters:')\n",
    "print (remove_chars(str1,unwanted_chars))\n",
    "print('\\nOriginal String :' + str2)\n",
    "print('After removing unwanted characters:')\n",
    "print(remove_chars(str2,unwanted_chars))\n"
   ]
  },
  {
   "cell_type": "code",
   "execution_count": 130,
   "id": "4a30dbba",
   "metadata": {},
   "outputs": [
    {
     "name": "stdout",
     "output_type": "stream",
     "text": [
      "Original Strings: red 12 black 45 green\n",
      "extract numbers from the said string:\n",
      "[12, 45]\n"
     ]
    }
   ],
   "source": [
    "\"\"\"\n",
    "20.  Write a Python program to extract numbers from a given string. \n",
    "Original string: red 12 black 45 green\n",
    "Extract numbers from the said string: [12, 45]\n",
    "\"\"\"\n",
    "def test(str1):\n",
    "    result = [int(str1) for str1 in str1.split() if str1.isdigit()]\n",
    "    return result\n",
    "str1 = \"red 12 black 45 green\"\n",
    "print('Original Strings:', str1)\n",
    "print(\"extract numbers from the said string:\")\n",
    "print(test(str1))\n",
    "\n",
    "\n"
   ]
  },
  {
   "cell_type": "code",
   "execution_count": null,
   "id": "ddc30baf",
   "metadata": {},
   "outputs": [],
   "source": []
  }
 ],
 "metadata": {
  "kernelspec": {
   "display_name": "Python 3",
   "language": "python",
   "name": "python3"
  },
  "language_info": {
   "codemirror_mode": {
    "name": "ipython",
    "version": 3
   },
   "file_extension": ".py",
   "mimetype": "text/x-python",
   "name": "python",
   "nbconvert_exporter": "python",
   "pygments_lexer": "ipython3",
   "version": "3.8.8"
  }
 },
 "nbformat": 4,
 "nbformat_minor": 5
}
