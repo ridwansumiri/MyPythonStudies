{
 "cells": [
  {
   "cell_type": "code",
   "execution_count": 7,
   "id": "6402edbd",
   "metadata": {},
   "outputs": [
    {
     "name": "stdout",
     "output_type": "stream",
     "text": [
      "1D Array:\n",
      "[2 3 4 5]\n",
      "2D Array:\n",
      "[[2 3 4 5]\n",
      " [6 7 8 9]]\n",
      "3D Array:\n"
     ]
    },
    {
     "data": {
      "text/plain": [
       "array([[[ 0,  1],\n",
       "        [ 2,  3],\n",
       "        [ 4,  5]],\n",
       "\n",
       "       [[ 6,  7],\n",
       "        [ 8,  9],\n",
       "        [10, 11]],\n",
       "\n",
       "       [[12, 13],\n",
       "        [14, 15],\n",
       "        [16, 17]],\n",
       "\n",
       "       [[18, 19],\n",
       "        [20, 21],\n",
       "        [22, 23]]])"
      ]
     },
     "execution_count": 7,
     "metadata": {},
     "output_type": "execute_result"
    }
   ],
   "source": [
    "#1D Array\n",
    "import numpy as np\n",
    "x = np.arange(2,6).reshape(4)\n",
    "print(\"1D Array:\")\n",
    "print(x)\n",
    "#2D Array\n",
    "y = np.arange(2,10).reshape(2,4)\n",
    "print('2D Array:')\n",
    "print(y)\n",
    "\n",
    "#3D Array\n",
    "z = np.arange(24).reshape(4,3,2)\n",
    "print(\"3D Array:\")\n",
    "z\n"
   ]
  },
  {
   "cell_type": "code",
   "execution_count": 8,
   "id": "88a80e7c",
   "metadata": {},
   "outputs": [
    {
     "name": "stdout",
     "output_type": "stream",
     "text": [
      "1.20.3\n"
     ]
    }
   ],
   "source": [
    "\"\"\"\n",
    "1. Write a NumPy program to print the NumPy version in your system\n",
    "\"\"\"\n",
    "import numpy as np\n",
    "print(np.__version__)"
   ]
  },
  {
   "cell_type": "code",
   "execution_count": 9,
   "id": "c69446c6",
   "metadata": {},
   "outputs": [
    {
     "name": "stdout",
     "output_type": "stream",
     "text": [
      "Original List: [12.23, 13.32, 100, 36.32]\n",
      "One-dimensional NumPy array: [ 12.23  13.32 100.    36.32]\n"
     ]
    }
   ],
   "source": [
    "\"\"\"\n",
    "2. Write a NumPy program to convert a list ofnumeric value into a one-dimensional NumPy array \n",
    "\"\"\"\n",
    "import numpy as np\n",
    "l = [12.23,13.32,100,36.32]\n",
    "print('Original List:',l)\n",
    "a = np.array(l)\n",
    "print('One-dimensional NumPy array:',a)"
   ]
  },
  {
   "cell_type": "code",
   "execution_count": 10,
   "id": "ddd67645",
   "metadata": {},
   "outputs": [
    {
     "name": "stdout",
     "output_type": "stream",
     "text": [
      "[[ 2  3  4]\n",
      " [ 5  6  7]\n",
      " [ 8  9 10]]\n"
     ]
    }
   ],
   "source": [
    "\"\"\"\n",
    "3.Write a NumPy program to create a 3x3 matrix with values ranging from 2 to 10.\n",
    "\"\"\"\n",
    "import numpy as np\n",
    "x = np.arange(2,11).reshape(3,3)\n",
    "print(x)"
   ]
  },
  {
   "cell_type": "code",
   "execution_count": 13,
   "id": "3101071e",
   "metadata": {},
   "outputs": [
    {
     "name": "stdout",
     "output_type": "stream",
     "text": [
      "[0. 0. 0. 0. 0. 0. 0. 0. 0. 0.]\n",
      "Update sixth value to 11\n",
      "[ 0.  0.  0.  0.  0.  0. 11.  0.  0.  0.]\n"
     ]
    }
   ],
   "source": [
    "\"\"\"\n",
    "4. Write a NumPy program to create a null vectorof size 10 and update sixth value to 11\n",
    "\"\"\"\n",
    "import numpy as np\n",
    "x = np.zeros(10)\n",
    "print(x)\n",
    "print('Update sixth value to 11')\n",
    "x[6] = 11\n",
    "print(x)"
   ]
  },
  {
   "cell_type": "code",
   "execution_count": 18,
   "id": "bc64cf64",
   "metadata": {},
   "outputs": [
    {
     "name": "stdout",
     "output_type": "stream",
     "text": [
      "[12 13 14 15 16 17 18 19 20 21 22 23 24 25 26 27 28 29 30 31 32 33 34 35\n",
      " 36 37]\n"
     ]
    }
   ],
   "source": [
    "\"\"\"\n",
    "5. Write a NumPy program to create an array with values ranging from 12 to 38\n",
    "\"\"\"\n",
    "x = np.arange(12,38)\n",
    "print(x)"
   ]
  },
  {
   "cell_type": "code",
   "execution_count": 23,
   "id": "b66652d7",
   "metadata": {},
   "outputs": [
    {
     "name": "stdout",
     "output_type": "stream",
     "text": [
      "Orignal:\n",
      "[12 13 14 15 16 17 18 19 20 21 22 23 24 25 26 27 28 29 30 31 32 33 34 35\n",
      " 36 37]\n",
      "Reverse:\n",
      "[37 36 35 34 33 32 31 30 29 28 27 26 25 24 23 22 21 20 19 18 17 16 15 14\n",
      " 13 12]\n"
     ]
    }
   ],
   "source": [
    "\"\"\"\n",
    "6. Write a NumPy program to reverse an array (first element becomes last).\n",
    "\"\"\"\n",
    "x = np.arange(12,38)\n",
    "print('Orignal:')\n",
    "print(x)\n",
    "print('Reverse:')\n",
    "print(x[::-1])"
   ]
  },
  {
   "cell_type": "code",
   "execution_count": 24,
   "id": "bc332307",
   "metadata": {},
   "outputs": [
    {
     "name": "stdout",
     "output_type": "stream",
     "text": [
      "Original Array\n",
      "[1, 2, 3, 4]\n",
      "Array converted to a float type:\n",
      "[1. 2. 3. 4.]\n"
     ]
    }
   ],
   "source": [
    "\"\"\"\n",
    "7. Write a NumPy program to convert an array to a float type.\n",
    "\"\"\"\n",
    "import numpy as np\n",
    "a = [1,2,3,4]\n",
    "print('Original Array')\n",
    "print(a)\n",
    "x = np.asfarray(a)\n",
    "print('Array converted to a float type:')\n",
    "print(x)"
   ]
  },
  {
   "cell_type": "code",
   "execution_count": 25,
   "id": "504f2dda",
   "metadata": {},
   "outputs": [
    {
     "name": "stdout",
     "output_type": "stream",
     "text": [
      "Original Array:\n",
      "[[1. 1. 1. 1. 1.]\n",
      " [1. 1. 1. 1. 1.]\n",
      " [1. 1. 1. 1. 1.]\n",
      " [1. 1. 1. 1. 1.]\n",
      " [1. 1. 1. 1. 1.]]\n",
      "1 on the border and 0 inside in the array\n",
      "[[1. 1. 1. 1. 1.]\n",
      " [1. 0. 0. 0. 1.]\n",
      " [1. 0. 0. 0. 1.]\n",
      " [1. 0. 0. 0. 1.]\n",
      " [1. 1. 1. 1. 1.]]\n"
     ]
    }
   ],
   "source": [
    "\"\"\"\n",
    "8. Write a NumPy program to create a 2d array with 1 on the border and 0 inside. \n",
    "\"\"\"\n",
    "import numpy as np\n",
    "x = np.ones((5,5))\n",
    "print('Original Array:')\n",
    "print(x)\n",
    "print('1 on the border and 0 inside in the array')\n",
    "x[1:-1,1:-1] = 0\n",
    "print(x)"
   ]
  },
  {
   "cell_type": "code",
   "execution_count": 26,
   "id": "43d53008",
   "metadata": {},
   "outputs": [
    {
     "name": "stdout",
     "output_type": "stream",
     "text": [
      "Original Array:\n",
      "[[1. 1. 1.]\n",
      " [1. 1. 1.]\n",
      " [1. 1. 1.]]\n",
      "0 on the border and 1 inside in the array\n",
      "[[0. 0. 0. 0. 0.]\n",
      " [0. 1. 1. 1. 0.]\n",
      " [0. 1. 1. 1. 0.]\n",
      " [0. 1. 1. 1. 0.]\n",
      " [0. 0. 0. 0. 0.]]\n"
     ]
    }
   ],
   "source": [
    "\"\"\"\n",
    "9. Write a NumPy program to add a border (filled with 0's) around an existing array. \n",
    "\"\"\"\n",
    "import numpy as np\n",
    "x = np.ones((3,3))\n",
    "print('Original Array:')\n",
    "print(x)\n",
    "print('0 on the border and 1 inside in the array')\n",
    "x =np.pad(x,pad_width = 1, mode = 'constant', constant_values = 0)\n",
    "print(x)"
   ]
  },
  {
   "cell_type": "code",
   "execution_count": 32,
   "id": "ee57a682",
   "metadata": {},
   "outputs": [
    {
     "name": "stdout",
     "output_type": "stream",
     "text": [
      "Checkboard Pattern:\n",
      "[[0 8 0 8 0 8 0 8]\n",
      " [8 0 8 0 8 0 8 0]\n",
      " [0 8 0 8 0 8 0 8]\n",
      " [8 0 8 0 8 0 8 0]\n",
      " [0 8 0 8 0 8 0 8]\n",
      " [8 0 8 0 8 0 8 0]\n",
      " [0 8 0 8 0 8 0 8]\n",
      " [8 0 8 0 8 0 8 0]]\n"
     ]
    }
   ],
   "source": [
    "\"\"\"\n",
    "10. Write a NumPy program to create a 8x8 matrix and fill it with a checkerboard pattern.\n",
    "\"\"\"\n",
    "import numpy as np\n",
    "x = np.ones((3,3))\n",
    "print('Checkboard Pattern:')\n",
    "x = np.zeros((8,8),dtype = int)\n",
    "x[1::2,::2] = 8\n",
    "x[::2,1::2] = 8\n",
    "print(x)"
   ]
  },
  {
   "cell_type": "code",
   "execution_count": 29,
   "id": "2f1054bf",
   "metadata": {},
   "outputs": [
    {
     "name": "stdout",
     "output_type": "stream",
     "text": [
      "List to array:\n",
      "[1 2 3 4 5 6 7 8]\n",
      "Tuple to array: \n",
      "[[8 4 6]\n",
      " [1 2 3]]\n"
     ]
    }
   ],
   "source": [
    "\"\"\"\n",
    "11. Write a NumPy program to convert a list and tuple into arrays.\n",
    "\"\"\"\n",
    "import numpy as np\n",
    "my_list = [1,2,3,4,5,6,7,8]\n",
    "print('List to array:')\n",
    "print(np.asarray(my_list))\n",
    "my_tuple = ([8,4,6],[1,2,3])\n",
    "print('Tuple to array: ')\n",
    "print(np.asarray(my_tuple))\n"
   ]
  },
  {
   "cell_type": "code",
   "execution_count": 30,
   "id": "a00ceeaf",
   "metadata": {},
   "outputs": [
    {
     "name": "stdout",
     "output_type": "stream",
     "text": [
      "Original Array:\n",
      "[10, 20, 30]\n",
      "After append values to the end of the Array:\n",
      "[10 20 30 40 50 60 70 80 90]\n"
     ]
    }
   ],
   "source": [
    "\"\"\"\n",
    "12. Write a NumPy program to append values to the end of an array. \n",
    "\"\"\"\n",
    "import numpy as np\n",
    "x = [10,20,30]\n",
    "print('Original Array:')\n",
    "print(x)\n",
    "x = np.append(x,[[40,50,60],[70,80,90]])\n",
    "print('After append values to the end of the Array:')\n",
    "print(x)"
   ]
  },
  {
   "cell_type": "code",
   "execution_count": 36,
   "id": "e988edaa",
   "metadata": {},
   "outputs": [
    {
     "name": "stdout",
     "output_type": "stream",
     "text": [
      "[[1.36678159e-311 3.16202013e-322 0.00000000e+000 0.00000000e+000]\n",
      " [0.00000000e+000 7.61215646e-042 2.72528669e-056 2.62141380e+180]\n",
      " [1.48542101e-076 4.43215775e+175 4.08686332e-037 2.87924484e+180]]\n",
      "[[5 5 5]\n",
      " [5 5 5]\n",
      " [5 5 5]]\n"
     ]
    }
   ],
   "source": [
    "\"\"\"\n",
    "13. Write a NumPy program to create an empty and a full array.\n",
    "\"\"\"\n",
    "import numpy as np\n",
    "# Create an empty array\n",
    "x = np.empty((3,4))\n",
    "print(x)\n",
    "# Create a full array\n",
    "y = np.full((3,3),5)\n",
    "print(y)"
   ]
  },
  {
   "cell_type": "code",
   "execution_count": 37,
   "id": "d8c5d18c",
   "metadata": {},
   "outputs": [
    {
     "name": "stdout",
     "output_type": "stream",
     "text": [
      "Values in Fahrenheit degrees:\n",
      "[ 0.   12.   45.21 34.   99.91]\n",
      "Values in Centigrade degrees:\n",
      "[-17.77777778 -11.11111111   7.33888889   1.11111111  37.72777778]\n"
     ]
    }
   ],
   "source": [
    "\"\"\"\n",
    "14. Write a NumPy program to convert the values of Centigrade degrees \n",
    "into Fahrenheit degrees. Centigrade values are stored into a NumPy array.  \n",
    "\"\"\"\n",
    "import numpy as np\n",
    "fvalues = [0,12,45.21,34,99.91]\n",
    "F = np.array(fvalues)\n",
    "print('Values in Fahrenheit degrees:')\n",
    "print(F)\n",
    "print('Values in Centigrade degrees:')\n",
    "print(5*F/9 - 5*32/9)\n"
   ]
  },
  {
   "cell_type": "code",
   "execution_count": 39,
   "id": "a18a2260",
   "metadata": {},
   "outputs": [
    {
     "name": "stdout",
     "output_type": "stream",
     "text": [
      "Original array:x [1.+0.j]\n",
      "Original array:y [0.70710678+0.70710678j]\n",
      "Real part of the array:\n",
      "[1.]\n",
      "[0.70710678]\n",
      "Imaginary part of the array\n",
      "[0.]\n",
      "[0.70710678]\n"
     ]
    }
   ],
   "source": [
    "\"\"\"\n",
    "15. Write a NumPy program to find the real and imaginary parts of an array of complex numbers.\n",
    "\"\"\"\n",
    "import numpy as np\n",
    "x = np.sqrt([1+0j])\n",
    "y = np.sqrt([0+1j])\n",
    "print('Original array:x',x)\n",
    "print('Original array:y',y)\n",
    "print('Real part of the array:')\n",
    "print(x.real)\n",
    "print(y.real)\n",
    "print('Imaginary part of the array')\n",
    "print(x.imag)\n",
    "print(y.imag)\n"
   ]
  },
  {
   "cell_type": "code",
   "execution_count": 40,
   "id": "3f141627",
   "metadata": {},
   "outputs": [
    {
     "name": "stdout",
     "output_type": "stream",
     "text": [
      "Size of the array: 3\n",
      "Length of one array element in bytes:  8\n",
      "Total bytes consumed by the elements of the array:  24\n"
     ]
    }
   ],
   "source": [
    "\"\"\"\n",
    "16.Write a NumPy program to find the number of elements of an array, \n",
    "length of one array element in bytes and total bytes consumed by the elements\n",
    "\"\"\"\n",
    "import numpy as np\n",
    "x = np.array([1,2,3], dtype = np.float64)\n",
    "print('Size of the array:',x.size)\n",
    "print('Length of one array element in bytes: ',x.itemsize)\n",
    "print('Total bytes consumed by the elements of the array: ',x.nbytes)"
   ]
  },
  {
   "cell_type": "code",
   "execution_count": 42,
   "id": "dd1c3838",
   "metadata": {},
   "outputs": [
    {
     "name": "stdout",
     "output_type": "stream",
     "text": [
      "Array1: [ 0 10 20 40 60]\n",
      "Array2: [0, 40]\n",
      "Compare each element of array1 and array2\n",
      "[ True False False  True False]\n"
     ]
    }
   ],
   "source": [
    "\"\"\"\n",
    "17. Write a NumPy program to test whether each element of \n",
    "a 1-D array is also present in a second array \n",
    "\"\"\"\n",
    "import numpy as np\n",
    "array1 = np.array([0,10,20,40,60])\n",
    "print('Array1:',array1)\n",
    "array2 = [0,40]\n",
    "print('Array2:',array2)\n",
    "print('Compare each element of array1 and array2')\n",
    "print(np.in1d(array1,array2))"
   ]
  },
  {
   "cell_type": "code",
   "execution_count": 44,
   "id": "8f4baf36",
   "metadata": {},
   "outputs": [
    {
     "name": "stdout",
     "output_type": "stream",
     "text": [
      "Array1: [ 0 10 20 40 60]\n",
      "Array2: [10, 30, 40]\n",
      "Common values between two arrays:\n",
      "[10 40]\n"
     ]
    }
   ],
   "source": [
    "\"\"\"\n",
    "18. Write a NumPy program to find common values between two arrays\n",
    "\"\"\"\n",
    "import numpy as np\n",
    "array1 = np.array([0,10,20,40,60])\n",
    "print('Array1:',array1)\n",
    "array2 = [10,30,40]\n",
    "print('Array2:',array2)\n",
    "print('Common values between two arrays:')\n",
    "print(np.intersect1d(array1,array2))"
   ]
  },
  {
   "cell_type": "code",
   "execution_count": 46,
   "id": "133b697a",
   "metadata": {},
   "outputs": [
    {
     "name": "stdout",
     "output_type": "stream",
     "text": [
      "Original Array:\n",
      "[10 10 20 20 30 30]\n",
      "Unique elements of the above array:\n",
      "[10 20 30]\n",
      "Original Array:\n",
      "[[1 1]\n",
      " [2 3]]\n",
      "Unique elements of the above array:\n",
      "[1 2 3]\n"
     ]
    }
   ],
   "source": [
    "\"\"\"\n",
    "19. Write a NumPy program to get the unique elements of an array. \n",
    "\"\"\"\n",
    "import numpy as np\n",
    "x = np.array([10,10,20,20,30,30])\n",
    "print('Original Array:')\n",
    "print(x)\n",
    "print('Unique elements of the above array:')\n",
    "print(np.unique(x))\n",
    "x = np.array([[1,1],[2,3]])\n",
    "print('Original Array:')\n",
    "print(x)\n",
    "print(\"Unique elements of the above array:\")\n",
    "print(np.unique(x))"
   ]
  },
  {
   "cell_type": "code",
   "execution_count": 48,
   "id": "53d7b64b",
   "metadata": {},
   "outputs": [
    {
     "name": "stdout",
     "output_type": "stream",
     "text": [
      "Array1: [ 0 10 20 40 60 80]\n",
      "Array2: [10, 30, 40, 50, 70]\n",
      "Unique values in array1 that are not in array2:\n",
      "[ 0 20 60 80]\n"
     ]
    }
   ],
   "source": [
    "\"\"\"\n",
    "20. Write a NumPy program to find the set difference of two arrays. \n",
    "The set difference will return the sorted, unique values in array1 that are not in array2\n",
    "\"\"\"\n",
    "import numpy as np\n",
    "array1 = np.array([0,10,20,40,60,80])\n",
    "print('Array1:',array1)\n",
    "array2 = [10,30,40,50,70]\n",
    "print('Array2:', array2)\n",
    "print(\"Unique values in array1 that are not in array2:\")\n",
    "print(np.setdiff1d(array1,array2))"
   ]
  },
  {
   "cell_type": "code",
   "execution_count": 49,
   "id": "612f820f",
   "metadata": {},
   "outputs": [
    {
     "name": "stdout",
     "output_type": "stream",
     "text": [
      "Array1:  [ 0 10 20 40 60 80]\n",
      "Array2:  [10, 30, 40, 50, 70]\n",
      "Unique values that are in only one (not both) of the input arrays:\n",
      "[ 0 20 30 50 60 70 80]\n"
     ]
    }
   ],
   "source": [
    "\"\"\"\n",
    "21. Write a NumPy program to find the set exclusive-or of two arrays. \n",
    "Set exclusive-or will return the sorted, unique values that are in only one (not both) of \n",
    "the input arrays\n",
    "\"\"\"\n",
    "import numpy as np\n",
    "array1 = np.array([0,10,20,40,60,80])\n",
    "print('Array1: ',array1)\n",
    "array2 = [10,30,40,50,70]\n",
    "print('Array2: ',array2)\n",
    "print('Unique values that are in only one (not both) of the input arrays:')\n",
    "print(np.setxor1d(array1,array2))"
   ]
  },
  {
   "cell_type": "code",
   "execution_count": 50,
   "id": "a59d33ff",
   "metadata": {},
   "outputs": [
    {
     "name": "stdout",
     "output_type": "stream",
     "text": [
      "Array1: [ 0 10 20 40 60 80]\n",
      "Array2 : [10, 30, 40, 50, 70]\n",
      "Unique sorted array of the values that are in either of the two input arrays:\n",
      "[ 0 10 20 30 40 50 60 70 80]\n"
     ]
    }
   ],
   "source": [
    "\"\"\"\n",
    "22. Write a NumPy program to find the union of two arrays.\n",
    "Union will return the unique, sorted array of values that are in either of the two input arrays\n",
    "\"\"\"\n",
    "import numpy as np\n",
    "array1 = np.array([0,10,20,40,60,80])\n",
    "print('Array1:',array1)\n",
    "array = [10,30,40,50,70]\n",
    "print('Array2 :',array2)\n",
    "print('Unique sorted array of the values that are in either of the two input arrays:')\n",
    "print(np.union1d(array1,array2))"
   ]
  },
  {
   "cell_type": "code",
   "execution_count": 52,
   "id": "ba074a9c",
   "metadata": {},
   "outputs": [
    {
     "name": "stdout",
     "output_type": "stream",
     "text": [
      "False\n",
      "True\n",
      "False\n",
      "True\n"
     ]
    }
   ],
   "source": [
    "\"\"\"\n",
    "23. Write a NumPy program to test whether all elements in an array evaluate to True\n",
    "\"\"\"\n",
    "import numpy as np\n",
    "print(np.all([[True,False],[True,True]]))\n",
    "print(np.all([[True,True],[True,True]]))\n",
    "print(np.all([10,20,0,-50]))\n",
    "print(np.all([10,20,-50]))"
   ]
  },
  {
   "cell_type": "code",
   "execution_count": 53,
   "id": "8104bb58",
   "metadata": {},
   "outputs": [
    {
     "name": "stdout",
     "output_type": "stream",
     "text": [
      "Original array\n",
      "[1, 2, 3, 4]\n",
      "Repeating 2 times\n",
      "[1 2 3 4 1 2 3 4]\n",
      "Repeating 3 times\n",
      "[1 2 3 4 1 2 3 4 1 2 3 4]\n"
     ]
    }
   ],
   "source": [
    "\"\"\"\n",
    "25. Write a NumPy program to construct an array by repeating.\n",
    "\"\"\"\n",
    "import numpy as np\n",
    "a = [1,2,3,4]\n",
    "print('Original array')\n",
    "print(a)\n",
    "print('Repeating 2 times')\n",
    "x = np.tile(a,2)\n",
    "print(x)\n",
    "print('Repeating 3 times')\n",
    "x = np.tile(a,3)\n",
    "print(x)"
   ]
  },
  {
   "cell_type": "code",
   "execution_count": 54,
   "id": "f1c8222a",
   "metadata": {},
   "outputs": [
    {
     "name": "stdout",
     "output_type": "stream",
     "text": [
      "[3 3 3 3]\n",
      "[1 1 2 2 3 3 4 4]\n"
     ]
    }
   ],
   "source": [
    "\"\"\"\n",
    "26. Write a NumPy program to repeat elements of an array.\n",
    "\"\"\"\n",
    "import numpy as np\n",
    "x = np.repeat(3,4)\n",
    "print(x)\n",
    "x = np.array([[1,2],[3,4]])\n",
    "print(np.repeat(x,2))"
   ]
  },
  {
   "cell_type": "code",
   "execution_count": 56,
   "id": "2a8508e2",
   "metadata": {},
   "outputs": [
    {
     "name": "stdout",
     "output_type": "stream",
     "text": [
      "Original Array: [1 2 3 4 5 6 9]\n",
      "Maximum Values: 6\n",
      "Minimum Values: 0\n"
     ]
    }
   ],
   "source": [
    "\"\"\"\n",
    "27. Write a NumPy program to find the indices of the maximum and minimum values\n",
    "along the given axis of an array.\n",
    "\"\"\"\n",
    "import numpy as np\n",
    "x = np.array([1,2,3,4,5,6,9])\n",
    "print('Original Array:',x)\n",
    "print('Maximum Values:',np.argmax(x))\n",
    "print('Minimum Values:',np.argmin(x))"
   ]
  },
  {
   "cell_type": "code",
   "execution_count": 57,
   "id": "8fe7cf84",
   "metadata": {},
   "outputs": [
    {
     "name": "stdout",
     "output_type": "stream",
     "text": [
      "Array a: [1 2]\n",
      "Array b: [4 5]\n",
      "a>b\n",
      "[False False]\n",
      "a>=b\n",
      "[False False]\n",
      "a<b\n",
      "[ True  True]\n",
      "a<=b\n",
      "[ True  True]\n"
     ]
    }
   ],
   "source": [
    "\"\"\"\n",
    "28. Write a NumPy program compare two given arrays \n",
    "\"\"\"\n",
    "import numpy as np\n",
    "a = np.array([1,2])\n",
    "b = np.array([4,5])\n",
    "print('Array a:',a)\n",
    "print('Array b:',b)\n",
    "print('a>b')\n",
    "print(np.greater(a,b))\n",
    "print('a>=b')\n",
    "print(np.greater_equal(a,b))\n",
    "print('a<b')\n",
    "print(np.less(a,b))\n",
    "print('a<=b')\n",
    "print(np.less_equal(a,b))"
   ]
  },
  {
   "cell_type": "code",
   "execution_count": 58,
   "id": "b9b95f3d",
   "metadata": {},
   "outputs": [
    {
     "name": "stdout",
     "output_type": "stream",
     "text": [
      "Original Array:\n",
      "[[4 6]\n",
      " [2 1]]\n",
      "Sort along the first axis:\n",
      "[[2 1]\n",
      " [4 6]]\n",
      "Sort along the last axis:\n",
      "[[1 2]\n",
      " [4 6]]\n"
     ]
    }
   ],
   "source": [
    "\"\"\"\n",
    "29. Write a NumPy program to sort an along the first, last axis of an array. \n",
    "\"\"\"\n",
    "import numpy as np\n",
    "a = np.array([[4,6],[2,1]])\n",
    "print('Original Array:')\n",
    "print(a)\n",
    "print('Sort along the first axis:')\n",
    "x = np.sort(a,axis=0)\n",
    "print(x)\n",
    "print('Sort along the last axis:')\n",
    "y = np.sort(x,axis = 1)\n",
    "print(y)"
   ]
  },
  {
   "cell_type": "code",
   "execution_count": 60,
   "id": "3fa92e04",
   "metadata": {},
   "outputs": [
    {
     "name": "stdout",
     "output_type": "stream",
     "text": [
      "[1 3 2 0 4]\n"
     ]
    }
   ],
   "source": [
    "\"\"\"\n",
    "30. Write a NumPy program to sort pairs of first name and last name return their indices. \n",
    "(first by last name, then by first name). \n",
    "\"\"\"\n",
    "import numpy as np\n",
    "first_names = ('Margery','Betsey','Shellbey','Lanell','Genesis')\n",
    "last_names = ('Woolum','Battle','Plotner','Brien','stahl')\n",
    "x = np.lexsort((first_names,last_names))\n",
    "print(x)"
   ]
  },
  {
   "cell_type": "code",
   "execution_count": null,
   "id": "181fc52b",
   "metadata": {},
   "outputs": [],
   "source": []
  }
 ],
 "metadata": {
  "kernelspec": {
   "display_name": "Python 3",
   "language": "python",
   "name": "python3"
  },
  "language_info": {
   "codemirror_mode": {
    "name": "ipython",
    "version": 3
   },
   "file_extension": ".py",
   "mimetype": "text/x-python",
   "name": "python",
   "nbconvert_exporter": "python",
   "pygments_lexer": "ipython3",
   "version": "3.8.8"
  }
 },
 "nbformat": 4,
 "nbformat_minor": 5
}
