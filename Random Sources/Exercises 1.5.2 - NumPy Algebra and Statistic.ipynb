{
 "cells": [
  {
   "cell_type": "markdown",
   "id": "df49b477",
   "metadata": {},
   "source": [
    "# Algebra"
   ]
  },
  {
   "cell_type": "code",
   "execution_count": 4,
   "id": "9eaa9dfb",
   "metadata": {},
   "outputs": [
    {
     "name": "stdout",
     "output_type": "stream",
     "text": [
      "Original Matrix:\n",
      "[[1, 0], [0, 1]]\n",
      "[[1, 2], [3, 4]]\n",
      "Result of the said matrix multiplication:\n",
      "[[1 2]\n",
      " [3 4]]\n"
     ]
    }
   ],
   "source": [
    "\"\"\"\n",
    "1. Write a NumPy program to compute the multiplication of two given matrixes\n",
    "\"\"\"\n",
    "import numpy as np\n",
    "p = [[1,0],[0,1]]\n",
    "q = [[1,2],[3,4]]\n",
    "print('Original Matrix:')\n",
    "print(p)\n",
    "print(q)\n",
    "result1 = np.dot(p,q) #dot product\n",
    "print('Result of the said matrix multiplication:')\n",
    "print(result1)\n"
   ]
  },
  {
   "cell_type": "code",
   "execution_count": 6,
   "id": "74878aaf",
   "metadata": {},
   "outputs": [
    {
     "name": "stdout",
     "output_type": "stream",
     "text": [
      "Original Matrix :\n",
      "[[1, 0], [0, 1]]\n",
      "[[1.2], [3, 4]]\n",
      "Outer product of the said two vectors:\n",
      "[[list([1.2]) list([3, 4])]\n",
      " [list([]) list([])]\n",
      " [list([]) list([])]\n",
      " [list([1.2]) list([3, 4])]]\n"
     ]
    }
   ],
   "source": [
    "\"\"\"\n",
    "2. Write a NumPy program to compute the outer product of two given vectors. \n",
    "\"\"\"\n",
    "import numpy as np\n",
    "p = [[1,0],[0,1]]\n",
    "q = [[1.2],[3,4]]\n",
    "print('Original Matrix :')\n",
    "print(p)\n",
    "print(q)\n",
    "result = np.outer(p,q)\n",
    "print('Outer product of the said two vectors:')\n",
    "print(result)"
   ]
  },
  {
   "cell_type": "code",
   "execution_count": 7,
   "id": "05c2579c",
   "metadata": {},
   "outputs": [
    {
     "name": "stdout",
     "output_type": "stream",
     "text": [
      "original matrix:\n",
      "[[1, 0], [0, 1]]\n",
      "[[1, 2], [3, 4]]\n",
      "cross product of the said two vectors(p,q) :\n",
      "[ 2 -3]\n",
      "cross product of the said two vectors(q,p) :\n",
      "[-2  3]\n"
     ]
    }
   ],
   "source": [
    "\"\"\"\n",
    "3. Write a NumPy program to compute the cross product of two given vectors. \n",
    "\"\"\"\n",
    "import numpy as np\n",
    "p = [[1,0],[0,1]]\n",
    "q = [[1,2],[3,4]]\n",
    "print('original matrix:')\n",
    "print(p)\n",
    "print(q)\n",
    "result1 = np.cross(p,q)\n",
    "result2 = np.cross(q,p)\n",
    "print('cross product of the said two vectors(p,q) :')\n",
    "print(result1)\n",
    "print('cross product of the said two vectors(q,p) :')\n",
    "print(result2)"
   ]
  },
  {
   "cell_type": "code",
   "execution_count": 8,
   "id": "ca917adc",
   "metadata": {},
   "outputs": [
    {
     "name": "stdout",
     "output_type": "stream",
     "text": [
      "Original 2-d Array\n",
      "[[1 0]\n",
      " [1 2]]\n",
      "Determinant of the said 2-D array:\n",
      "2.0\n"
     ]
    }
   ],
   "source": [
    "\"\"\"\n",
    "4. Write a NumPy program to compute the determinant of a given square array\n",
    "\"\"\"\n",
    "import numpy as np\n",
    "from numpy import linalg as LA\n",
    "a = np.array([[1,0],[1,2]])\n",
    "print('Original 2-d Array')\n",
    "print(a)\n",
    "print('Determinant of the said 2-D array:')\n",
    "print(np.linalg.det(a))"
   ]
  },
  {
   "cell_type": "code",
   "execution_count": 9,
   "id": "91d730d8",
   "metadata": {},
   "outputs": [
    {
     "name": "stdout",
     "output_type": "stream",
     "text": [
      "Original 1-d arrays:\n",
      "[1 2 3]\n",
      "[0 1 0]\n",
      "Einstein summation convention of the said arrays:\n",
      "2\n",
      "Original Higher dimension:\n",
      "[[0 1 2]\n",
      " [3 4 5]\n",
      " [6 7 8]]\n",
      "[[ 3  4  5]\n",
      " [ 6  7  8]\n",
      " [ 9 10 11]]\n",
      "Einstein summation convention of the said arrays:\n",
      "[[ 24  27  30]\n",
      " [ 78  90 102]\n",
      " [132 153 174]]\n"
     ]
    }
   ],
   "source": [
    "\"\"\"\n",
    "5. Write a NumPy program to evaluate \n",
    "Einstein's summation convention of two given multidimensional arrays.\n",
    "\"\"\"\n",
    "import numpy as np\n",
    "a = np.array([1,2,3])\n",
    "b = np.array([0,1,0])\n",
    "print('Original 1-d arrays:')\n",
    "print(a)\n",
    "print(b)\n",
    "result = np.einsum('n,n',a,b)\n",
    "print('Einstein summation convention of the said arrays:')\n",
    "print(result)\n",
    "x = np.arange(9).reshape(3,3)\n",
    "y = np.arange(3,12).reshape(3,3)\n",
    "print('Original Higher dimension:')\n",
    "print(x)\n",
    "print(y)\n",
    "result = np.einsum('mk,kn',x,y)\n",
    "print('Einstein summation convention of the said arrays:')\n",
    "print(result)"
   ]
  },
  {
   "cell_type": "code",
   "execution_count": 10,
   "id": "0500f56e",
   "metadata": {},
   "outputs": [
    {
     "name": "stdout",
     "output_type": "stream",
     "text": [
      "Original 1-D arrays:\n",
      "[1 2 5]\n",
      "[2 1 0]\n",
      "Inner product of the said vectors:\n",
      "Higher dimension arrays:\n",
      "[[0 1 2]\n",
      " [3 4 5]\n",
      " [6 7 8]]\n",
      "[[ 3  4  5]\n",
      " [ 6  7  8]\n",
      " [ 9 10 11]]\n",
      "Inner product of the said vectors:\n",
      "[[ 14  23  32]\n",
      " [ 50  86 122]\n",
      " [ 86 149 212]]\n"
     ]
    }
   ],
   "source": [
    "\"\"\"\n",
    "6. Write a NumPy program to compute the inner product of vectors\n",
    "for 1-D arrays (without complex conjugation) and in higher dimension \n",
    "\"\"\"\n",
    "import numpy as np\n",
    "a = np.array([1,2,5])\n",
    "b = np.array([2,1,0])\n",
    "print('Original 1-D arrays:')\n",
    "print(a)\n",
    "print(b)\n",
    "result = np.inner(a,b)\n",
    "print('Inner product of the said vectors:')\n",
    "x = np.arange(9).reshape(3,3)\n",
    "y = np.arange(3,12).reshape(3,3)\n",
    "print('Higher dimension arrays:')\n",
    "print(x)\n",
    "print(y)\n",
    "result = np.inner(x,y)\n",
    "print('Inner product of the said vectors:')\n",
    "print(result)"
   ]
  },
  {
   "cell_type": "code",
   "execution_count": 12,
   "id": "04f511ee",
   "metadata": {},
   "outputs": [
    {
     "name": "stdout",
     "output_type": "stream",
     "text": [
      "Original matrix:\n",
      "a\n",
      " [[ 3 -2]\n",
      " [ 1  0]]\n",
      "Eigenvalue of the said matrix [2. 1.]\n",
      "Eigenvalue of the said matrix [[0.89442719 0.70710678]\n",
      " [0.4472136  0.70710678]]\n"
     ]
    }
   ],
   "source": [
    "\"\"\"\n",
    "7. Write a NumPy program to compute the eigenvalues and right eigenvectors of a given square array.\n",
    "\"\"\"\n",
    "import numpy as np\n",
    "m = np.mat('3 -2;1 0')\n",
    "print('Original matrix:')\n",
    "print('a\\n',m)\n",
    "w,v = np.linalg.eig(m)\n",
    "print('Eigenvalue of the said matrix',w)\n",
    "print('Eigenvalue of the said matrix',v)"
   ]
  },
  {
   "cell_type": "code",
   "execution_count": 13,
   "id": "0273aa2a",
   "metadata": {},
   "outputs": [
    {
     "name": "stdout",
     "output_type": "stream",
     "text": [
      "Original 1-d arrays:\n",
      "[1 2 3]\n",
      "[0 1 0]\n",
      "Kronecker product of the said arrays:\n",
      "[0 1 0 0 2 0 0 3 0]\n",
      "Original Higher dimension:\n",
      "[[0 1 2]\n",
      " [3 4 5]\n",
      " [6 7 8]]\n",
      "[[ 3  4  5]\n",
      " [ 6  7  8]\n",
      " [ 9 10 11]]\n",
      "Kronecker product of the said arrays:\n",
      "[[ 0  0  0  3  4  5  6  8 10]\n",
      " [ 0  0  0  6  7  8 12 14 16]\n",
      " [ 0  0  0  9 10 11 18 20 22]\n",
      " [ 9 12 15 12 16 20 15 20 25]\n",
      " [18 21 24 24 28 32 30 35 40]\n",
      " [27 30 33 36 40 44 45 50 55]\n",
      " [18 24 30 21 28 35 24 32 40]\n",
      " [36 42 48 42 49 56 48 56 64]\n",
      " [54 60 66 63 70 77 72 80 88]]\n"
     ]
    }
   ],
   "source": [
    "\"\"\"\n",
    "8. Write a NumPy program to compute the Kronecker product of two given mulitdimension arrays.\n",
    "\"\"\"\n",
    "import numpy as np\n",
    "a = np.array([1,2,3])\n",
    "b = np.array([0,1,0])\n",
    "print('Original 1-d arrays:')\n",
    "print(a)\n",
    "print(b)\n",
    "result = np.kron(a,b)\n",
    "print('Kronecker product of the said arrays:')\n",
    "print(result)\n",
    "x = np.arange(9).reshape(3,3)\n",
    "y = np.arange(3,12).reshape(3,3)\n",
    "print('Original Higher dimension:')\n",
    "print(x)\n",
    "print(y)\n",
    "result = np.kron(x,y)\n",
    "print('Kronecker product of the said arrays:')\n",
    "print(result)"
   ]
  },
  {
   "cell_type": "code",
   "execution_count": 14,
   "id": "8a05c223",
   "metadata": {},
   "outputs": [
    {
     "name": "stdout",
     "output_type": "stream",
     "text": [
      "Original matrix:\n",
      "[[ 1  0 -1]\n",
      " [ 0  1  0]\n",
      " [ 1  0  1]]\n",
      "The condition number of the said matrix:\n",
      "1.4142135623730951\n"
     ]
    }
   ],
   "source": [
    "\"\"\"\n",
    "9. Write a NumPy program to compute the condition number of a given matrix.  \n",
    "\"\"\"\n",
    "import numpy as np\n",
    "from numpy import linalg as LA\n",
    "a = np.array([[1,0,-1],[0,1,0],[1,0,1]])\n",
    "print('Original matrix:')\n",
    "print(a)\n",
    "print('The condition number of the said matrix:')\n",
    "print(LA.cond(a))"
   ]
  },
  {
   "cell_type": "code",
   "execution_count": 15,
   "id": "772552ce",
   "metadata": {},
   "outputs": [
    {
     "name": "stdout",
     "output_type": "stream",
     "text": [
      "Original Array:\n",
      "[[1 2]\n",
      " [3 4]]\n",
      "Determinant of the said array:\n",
      "-2.0000000000000004\n"
     ]
    }
   ],
   "source": [
    "\"\"\"\n",
    "10. Write a NumPy program to find a matrix or vector norm.\n",
    "\"\"\"\n",
    "import numpy as np\n",
    "a = np.array ([[1,2],[3,4]])\n",
    "print('Original Array:')\n",
    "print(a)\n",
    "result = np.linalg.det(a)\n",
    "print('Determinant of the said array:')\n",
    "print(result)"
   ]
  },
  {
   "cell_type": "code",
   "execution_count": 16,
   "id": "9a9dd27c",
   "metadata": {},
   "outputs": [
    {
     "name": "stdout",
     "output_type": "stream",
     "text": [
      "Original Array:\n",
      "[[1 2]\n",
      " [3 4]]\n",
      "Determinant of the said array:\n",
      "-2.0000000000000004\n"
     ]
    }
   ],
   "source": [
    "\"\"\"\n",
    "11. Write a NumPy program to compute the determinant of an array.\n",
    "\"\"\"\n",
    "import numpy as np\n",
    "a = np.array([[1,2],[3,4]])\n",
    "print('Original Array:')\n",
    "print(a)\n",
    "result = np.linalg.det(a)\n",
    "print('Determinant of the said array:')\n",
    "print(result)"
   ]
  },
  {
   "cell_type": "code",
   "execution_count": 17,
   "id": "6ef3abce",
   "metadata": {},
   "outputs": [
    {
     "name": "stdout",
     "output_type": "stream",
     "text": [
      "Original matrix:\n",
      "[[1 2]\n",
      " [3 4]]\n",
      "Decompostion of the said matrix :\n",
      "(array([[-0.31622777, -0.9486833 ],\n",
      "       [-0.9486833 ,  0.31622777]]), array([[-3.16227766, -4.42718872],\n",
      "       [ 0.        , -0.63245553]]))\n"
     ]
    }
   ],
   "source": [
    "\"\"\"\n",
    "12. Write a NumPy program to calculate the QR decomposition of a given matrix.\n",
    "\"\"\"\n",
    "import numpy as np\n",
    "m = np.array([[1,2],[3,4]])\n",
    "print('Original matrix:')\n",
    "print(m)\n",
    "result = np.linalg.qr(m)\n",
    "print('Decompostion of the said matrix :')\n",
    "print(result)"
   ]
  },
  {
   "cell_type": "code",
   "execution_count": 19,
   "id": "a8394da2",
   "metadata": {},
   "outputs": [
    {
     "name": "stdout",
     "output_type": "stream",
     "text": [
      "Original Matrix:\n",
      "[[1 2]\n",
      " [3 4]]\n",
      "Condition number of the said matrix:\n",
      "14.933034373659268\n"
     ]
    }
   ],
   "source": [
    "\"\"\"\n",
    "13. Write a NumPy program to compute the condition number of a given matrix. \n",
    "\"\"\"\n",
    "import numpy as np\n",
    "m = np.array([[1,2],[3,4]])\n",
    "print('Original Matrix:')\n",
    "print(m)\n",
    "result = np.linalg.cond(m)\n",
    "print('Condition number of the said matrix:')\n",
    "print(result)"
   ]
  },
  {
   "cell_type": "code",
   "execution_count": 20,
   "id": "81261bac",
   "metadata": {},
   "outputs": [
    {
     "name": "stdout",
     "output_type": "stream",
     "text": [
      "[[0 1 2]\n",
      " [3 4 5]]\n",
      "Condition number of the said matrix:\n",
      "4\n"
     ]
    }
   ],
   "source": [
    "\"\"\"\n",
    "14. Write a NumPy program to compute the sum of the diagonal element of a given array\n",
    "\"\"\"\n",
    "import numpy as np\n",
    "m = np.arange(6).reshape(2,3)\n",
    "print(m)\n",
    "result = np.trace(m)\n",
    "print('Condition number of the said matrix:')\n",
    "print(result)\n"
   ]
  },
  {
   "cell_type": "markdown",
   "id": "419881d2",
   "metadata": {},
   "source": [
    "# Statistics"
   ]
  },
  {
   "cell_type": "code",
   "execution_count": 21,
   "id": "6b33199f",
   "metadata": {},
   "outputs": [
    {
     "name": "stdout",
     "output_type": "stream",
     "text": [
      "Original flattened array:\n",
      "[[0 1]\n",
      " [2 3]]\n",
      "Maximum value of the above flattened array:\n",
      "3\n",
      "Maximum value of the above flattened array:\n",
      "0\n"
     ]
    }
   ],
   "source": [
    "\"\"\"\n",
    "1. Write a Python program to find the maximum and minimum value of a given flattened array. \n",
    "\"\"\"\n",
    "\n",
    "import numpy as np\n",
    "a = np.arange(4).reshape((2,2))\n",
    "print('Original flattened array:')\n",
    "print(a)\n",
    "print('Maximum value of the above flattened array:')\n",
    "print(np.amax(a))\n",
    "print('Maximum value of the above flattened array:')\n",
    "print(np.amin(a))"
   ]
  },
  {
   "cell_type": "code",
   "execution_count": 25,
   "id": "10785b23",
   "metadata": {},
   "outputs": [
    {
     "name": "stdout",
     "output_type": "stream",
     "text": [
      "\n",
      "Original array:\n",
      "[[0 1]\n",
      " [2 3]]\n",
      "nMaximum value along the second axis:\n",
      "[1 3]\n",
      "Minimum value along the second axis :\n",
      "[0 2]\n"
     ]
    }
   ],
   "source": [
    "\"\"\"\n",
    "2. Write a NumPy program to get the minimum and maximum value of a given array along the second axis.\n",
    "\"\"\"\n",
    "import numpy as np\n",
    "x = np.arange(4).reshape((2,2))\n",
    "print('\\nOriginal array:')\n",
    "print(x)\n",
    "print('nMaximum value along the second axis:')\n",
    "print(np.amax(x,1))\n",
    "print('Minimum value along the second axis :')\n",
    "print(np.amin(x,1))"
   ]
  },
  {
   "cell_type": "code",
   "execution_count": 26,
   "id": "aa9cd26f",
   "metadata": {},
   "outputs": [
    {
     "name": "stdout",
     "output_type": "stream",
     "text": [
      "\n",
      "Original Array:\n",
      "[[ 0  1  2  3  4  5]\n",
      " [ 6  7  8  9 10 11]]\n",
      "\n",
      "Difference between the maximum and the minimum value of the said array\n",
      "[5 5]\n"
     ]
    }
   ],
   "source": [
    "\"\"\"\n",
    "3. Write a NumPy program to calculate the difference between the maximum and\n",
    "the minimum values of a given array along the second axis\n",
    "\"\"\"\n",
    "import numpy as np\n",
    "x = np.arange(12).reshape((2,6))\n",
    "print('\\nOriginal Array:')\n",
    "print(x)\n",
    "r1 = np.ptp(x,1)\n",
    "r2 = np.amax(x,1) - np.amin(x,1)\n",
    "assert np.allclose(r1,r2)\n",
    "print('\\nDifference between the maximum and the minimum value of the said array')\n",
    "print(r1)"
   ]
  },
  {
   "cell_type": "code",
   "execution_count": 27,
   "id": "94ca08e4",
   "metadata": {},
   "outputs": [
    {
     "name": "stdout",
     "output_type": "stream",
     "text": [
      "\n",
      "Original Array:\n",
      "[[ 0  1  2  3  4  5]\n",
      " [ 6  7  8  9 10 11]]\n",
      "\n",
      "80th percentile for all elements of the said array along the second axis \n",
      "[ 4. 10.]\n"
     ]
    }
   ],
   "source": [
    "\"\"\"\n",
    "4. Write a Numpy program to compute the 80th percentile \n",
    "for all elements in a given array along the second axis\n",
    "\"\"\"\n",
    "import numpy as np\n",
    "x = np.arange(12).reshape((2,6))\n",
    "print('\\nOriginal Array:')\n",
    "print(x)\n",
    "r1 = np.percentile(x,80,1)\n",
    "print('\\n80th percentile for all elements of the said array along the second axis ')\n",
    "print(r1)"
   ]
  },
  {
   "cell_type": "code",
   "execution_count": 34,
   "id": "1de4d5ec",
   "metadata": {},
   "outputs": [
    {
     "name": "stdout",
     "output_type": "stream",
     "text": [
      "[[ 0  1  2  3  4  5]\n",
      " [ 6  7  8  9 10 11]]\n",
      "\n",
      "Median of said array:\n",
      "5.5\n"
     ]
    }
   ],
   "source": [
    "\"\"\"\n",
    "5. Write a NumPy program to compute the median of flattened given array.\n",
    "\"\"\"\n",
    "import numpy as np\n",
    "x= np.arange(12).reshape((2,6))\n",
    "print(x)\n",
    "r1 = np.median(x)\n",
    "print('\\nMedian of said array:')\n",
    "print(r1)"
   ]
  },
  {
   "cell_type": "code",
   "execution_count": 37,
   "id": "4300e790",
   "metadata": {},
   "outputs": [
    {
     "name": "stdout",
     "output_type": "stream",
     "text": [
      "\n",
      "Original Array:\n",
      "[0 1 2 3 4]\n",
      "\n",
      "Weighted average of the said array:\n",
      "2.6666666666666665\n"
     ]
    }
   ],
   "source": [
    "\"\"\"\n",
    "6. Write a Numpy program to compute the weighted of a given array.\n",
    "\"\"\"\n",
    "import numpy as np\n",
    "x = np.arange(5)\n",
    "print('\\nOriginal Array:')\n",
    "print(x)\n",
    "weights = np.arange(1,6)\n",
    "r1 = np.average(x, weights = weights)\n",
    "r2 = (x*(weights/weights.sum())).sum()\n",
    "assert np.allclose(r1,r2)\n",
    "print('\\nWeighted average of the said array:')\n",
    "print(r1)"
   ]
  },
  {
   "cell_type": "code",
   "execution_count": 38,
   "id": "84361f63",
   "metadata": {},
   "outputs": [
    {
     "name": "stdout",
     "output_type": "stream",
     "text": [
      "\n",
      "Original array:\n",
      "[0 1 2 3 4 5]\n",
      "\n",
      "Mean 2.5\n",
      "\n",
      "std: 1\n",
      "\n",
      "Variance 2.9166666666666665\n"
     ]
    }
   ],
   "source": [
    "\"\"\"\n",
    "7. Write a NumPy program to compute the mean, standard deviation, and variance \n",
    "of a given array along the second axis\n",
    "\"\"\"\n",
    "import numpy as np\n",
    "x = np.arange(6)\n",
    "print('\\nOriginal array:')\n",
    "print(x)\n",
    "r1 = np.mean(x)\n",
    "r2 = np.average(x)\n",
    "assert np.allclose(r1,r2)\n",
    "print('\\nMean',r1)\n",
    "r1 = np.std(x)\n",
    "r2 = np.sqrt(np.mean((x - np.mean(x))**2))\n",
    "assert np.allclose(r1,r2)\n",
    "print('\\nstd:',1)\n",
    "r1 = np.var(x)\n",
    "r2 = np.mean((x - np.mean(x))**2)\n",
    "assert np.allclose(r1,r2)\n",
    "print('\\nVariance',r1)"
   ]
  },
  {
   "cell_type": "code",
   "execution_count": 39,
   "id": "91d63a65",
   "metadata": {},
   "outputs": [
    {
     "name": "stdout",
     "output_type": "stream",
     "text": [
      "\n",
      "Original array1:\n",
      "[0 1 2]\n",
      "\n",
      "Original array1:\n",
      "[2 1 0]\n",
      "\n",
      "Covariance matrix of the said arrays: \n",
      " [[ 1. -1.]\n",
      " [-1.  1.]]\n"
     ]
    }
   ],
   "source": [
    "\"\"\"\n",
    "8. Write NumPy program to compute the covariance matrix of two given arrays.\n",
    "\"\"\"\n",
    "import numpy as np\n",
    "x = np.array([0,1,2])\n",
    "y = np.array([2,1,0])\n",
    "print('\\nOriginal array1:')\n",
    "print(x)\n",
    "print('\\nOriginal array1:')\n",
    "print(y)\n",
    "print('\\nCovariance matrix of the said arrays: \\n',np.cov(x,y))"
   ]
  },
  {
   "cell_type": "code",
   "execution_count": 40,
   "id": "bf176a30",
   "metadata": {},
   "outputs": [
    {
     "name": "stdout",
     "output_type": "stream",
     "text": [
      "\n",
      "Original array1:\n",
      "[0 1 3]\n",
      "\n",
      "Original array1:\n",
      "[2 4 5]\n",
      "\n",
      "Cross-correlation of the said arrays: \n",
      " [[2.33333333 2.16666667]\n",
      " [2.16666667 2.33333333]]\n"
     ]
    }
   ],
   "source": [
    "\"\"\"\n",
    "9. Write a NumPy program to compute cross-correlation of two given arrays.\n",
    "\"\"\"\n",
    "import numpy as np\n",
    "x = np.array([0,1,3])\n",
    "y = np.array([2,4,5])\n",
    "print('\\nOriginal array1:')\n",
    "print(x)\n",
    "print('\\nOriginal array1:')\n",
    "print(y)\n",
    "print('\\nCross-correlation of the said arrays: \\n',np.cov(x,y))"
   ]
  },
  {
   "cell_type": "code",
   "execution_count": 41,
   "id": "7f051863",
   "metadata": {},
   "outputs": [
    {
     "name": "stdout",
     "output_type": "stream",
     "text": [
      "\n",
      "Original array1:\n",
      "[0 1 3]\n",
      "\n",
      "Original array1:\n",
      "[2 4 5]\n",
      "\n",
      "Pearson product-moment correlation coefficients of the said arrays:\n",
      " [[1.         0.92857143]\n",
      " [0.92857143 1.        ]]\n"
     ]
    }
   ],
   "source": [
    "\"\"\"\n",
    "10. Write a NumPy program to compute pearson product-moment correlation coefficients of two given arrays.\n",
    "\"\"\"\n",
    "import numpy as np\n",
    "x = np.array([0,1,3])\n",
    "y = np.array([2,4,5])\n",
    "print('\\nOriginal array1:')\n",
    "print(x)\n",
    "print('\\nOriginal array1:')\n",
    "print(y)\n",
    "print('\\nPearson product-moment correlation coefficients of the said arrays:\\n', np.corrcoef(x,y))\n"
   ]
  },
  {
   "cell_type": "code",
   "execution_count": 42,
   "id": "6931ca99",
   "metadata": {},
   "outputs": [
    {
     "name": "stdout",
     "output_type": "stream",
     "text": [
      "Original flattened array:\n",
      "[[0 1 2]\n",
      " [3 4 5]\n",
      " [6 7 8]]\n",
      "Weighted average along the specified axis of the above flattened array;\n",
      "[1.2 4.2 7.2]\n"
     ]
    }
   ],
   "source": [
    "\"\"\"\n",
    "11. Write a Python NumPy program to compute the weighted average along \n",
    "the specified axis of a given flattened array.\n",
    "\"\"\"\n",
    "import numpy as np\n",
    "a = np.arange(9).reshape((3,3))\n",
    "print('Original flattened array:')\n",
    "print(a)\n",
    "print('Weighted average along the specified axis of the above flattened array;')\n",
    "print(np.average(a,axis = 1,weights = [1./4,2./4,2./4]))"
   ]
  },
  {
   "cell_type": "code",
   "execution_count": 43,
   "id": "97783d76",
   "metadata": {},
   "outputs": [
    {
     "name": "stdout",
     "output_type": "stream",
     "text": [
      "Original array:\n",
      "[0, 1, 6, 1, 4, 1, 2, 2, 7]\n",
      "Numer of occurences of each value in array:\n",
      "[1 3 2 0 1 0 1 1]\n"
     ]
    }
   ],
   "source": [
    "\"\"\"\n",
    "12. Write a Python program to count number of occurrences of each\n",
    "value in a given array of non-negative integers\n",
    "\"\"\"\n",
    "import numpy as np\n",
    "array1 = [0,1,6,1,4,1,2,2,7]\n",
    "print('Original array:')\n",
    "print(array1)\n",
    "print('Numer of occurences of each value in array:')\n",
    "print(np.bincount(array1))"
   ]
  },
  {
   "cell_type": "code",
   "execution_count": 44,
   "id": "787cb216",
   "metadata": {},
   "outputs": [
    {
     "name": "stdout",
     "output_type": "stream",
     "text": [
      "nums [0.5 0.7 1.  1.2 1.3 2.1]\n",
      "bins [0 1 2 3]\n",
      "result (array([2, 3, 1], dtype=int64), array([0, 1, 2, 3]))\n"
     ]
    },
    {
     "data": {
      "image/png": "[encoded data removed]",
      "text/plain": [
       "<Figure size 432x288 with 1 Axes>"
      ]
     },
     "metadata": {
      "needs_background": "light"
     },
     "output_type": "display_data"
    }
   ],
   "source": [
    "\"\"\"\n",
    "13. Write a NumPy program to compute the histogram of nums against the bins.\n",
    "\"\"\"\n",
    "import numpy as np\n",
    "import matplotlib.pyplot as plt\n",
    "nums = np.array([0.5,0.7,1.0,1.2,1.3,2.1])\n",
    "bins = np.array([0,1,2,3])\n",
    "print('nums',nums)\n",
    "print('bins',bins)\n",
    "print('result',np.histogram(nums,bins))\n",
    "plt.hist(nums,bins=bins)\n",
    "plt.show()\n"
   ]
  },
  {
   "cell_type": "code",
   "execution_count": null,
   "id": "7fc79bbe",
   "metadata": {},
   "outputs": [],
   "source": []
  }
 ],
 "metadata": {
  "kernelspec": {
   "display_name": "Python 3",
   "language": "python",
   "name": "python3"
  },
  "language_info": {
   "codemirror_mode": {
    "name": "ipython",
    "version": 3
   },
   "file_extension": ".py",
   "mimetype": "text/x-python",
   "name": "python",
   "nbconvert_exporter": "python",
   "pygments_lexer": "ipython3",
   "version": "3.8.8"
  }
 },
 "nbformat": 4,
 "nbformat_minor": 5
}
