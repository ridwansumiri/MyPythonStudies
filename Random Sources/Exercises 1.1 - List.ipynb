{
 "cells": [
  {
   "cell_type": "code",
   "execution_count": 6,
   "id": "f0126f14",
   "metadata": {},
   "outputs": [
    {
     "name": "stdout",
     "output_type": "stream",
     "text": [
      "-5\n"
     ]
    }
   ],
   "source": [
    "\"\"\"\n",
    "1. Write a Python program to sum all the items in a list.\n",
    "\"\"\"\n",
    "def sum_list (items):\n",
    "    sum_numbers = 0 # variable ini assign untuk membuat loop / formula\n",
    "    for x in items: \n",
    "        sum_numbers += x # formula untuk sum numbers\n",
    "    return sum_numbers\n",
    "print(sum_list([1,2,-8])) # value dalam list ini adalah 'x'"
   ]
  },
  {
   "cell_type": "code",
   "execution_count": 12,
   "id": "30bc55db",
   "metadata": {},
   "outputs": [
    {
     "name": "stdout",
     "output_type": "stream",
     "text": [
      "48\n"
     ]
    }
   ],
   "source": [
    "\"\"\"\n",
    "2. Write a Python program to multiplies all the items in a list. \n",
    "\"\"\"\n",
    "def multiple_list (items):\n",
    "    mul_numbers = 1  # variable ini assign untuk membuat loop / formula\n",
    "    for x in items:\n",
    "        mul_numbers *= x # formula untuk multiple numbers\n",
    "    return mul_numbers\n",
    "print(multiple_list([1,2,24])) # value dalam list adalah 'x'"
   ]
  },
  {
   "cell_type": "code",
   "execution_count": 27,
   "id": "3cbdc58b",
   "metadata": {},
   "outputs": [
    {
     "name": "stdout",
     "output_type": "stream",
     "text": [
      "200\n"
     ]
    }
   ],
   "source": [
    "\"\"\"\n",
    "3.Write a Python program to get the largest number from a list.\n",
    "\"\"\"\n",
    "def largest_num(list):\n",
    "    max = list[0]\n",
    "    for x in list:\n",
    "        if x > max:\n",
    "            max = x\n",
    "    return max\n",
    "print(largest_num([13,45,66,7,12,200]))"
   ]
  },
  {
   "cell_type": "code",
   "execution_count": 28,
   "id": "cd3c1f1e",
   "metadata": {},
   "outputs": [
    {
     "name": "stdout",
     "output_type": "stream",
     "text": [
      "1\n"
     ]
    }
   ],
   "source": [
    "\n",
    "\"\"\"\n",
    "4. Write a Python program to get the smallest number from a list.\n",
    "\"\"\"\n",
    "def smallest_num(ele):\n",
    "    min = ele[0]\n",
    "    for x in ele:\n",
    "        if x < min:\n",
    "            min = x\n",
    "    return min\n",
    "print(smallest_num([12,3,4,55,6,7,3,1]))\n",
    "    "
   ]
  },
  {
   "cell_type": "code",
   "execution_count": 30,
   "id": "510eac8d",
   "metadata": {},
   "outputs": [
    {
     "name": "stdout",
     "output_type": "stream",
     "text": [
      "[(2, 1), (1, 2), (2, 3), (4, 4), (2, 5)]\n"
     ]
    }
   ],
   "source": [
    "\"\"\"\n",
    "5. Write a Python program to get a list, sorted in \n",
    "increasing order by the last element in each tuple from \n",
    "a given list of non-empty tuples.\n",
    "\n",
    "Sample List : [(2, 5), (1, 2), (4, 4), (2, 3), (2, 1)]\n",
    "Expected Result : [(2, 1), (1, 2), (2, 3), (4, 4), (2, 5)]\n",
    "\"\"\"\n",
    "def last(n): return n[-1]\n",
    "\n",
    "def sort_list_last(tuples):\n",
    "    return sorted(tuples, key = last) # sorted more to create new list / list.sort more to adjust sedia ada\n",
    "print(sort_list_last([(2, 5), (1, 2), (4, 4), (2, 3), (2, 1)]))\n",
    "    \n"
   ]
  },
  {
   "cell_type": "code",
   "execution_count": 33,
   "id": "7652c3e7",
   "metadata": {},
   "outputs": [
    {
     "name": "stdout",
     "output_type": "stream",
     "text": [
      "[1, 2, 3, 4, 5, 6]\n"
     ]
    }
   ],
   "source": [
    "\"\"\"\n",
    "6. Write a Python program to remove duplicates from a list.\n",
    "\"\"\"\n",
    "def rem_dup(my_list):\n",
    "    x= []\n",
    "    for y in my_list:\n",
    "        if y not in x:\n",
    "            x.append(y)\n",
    "    return x\n",
    "print( rem_dup([1,1,2,3,4,5,5,6,6]))\n",
    "\n"
   ]
  },
  {
   "cell_type": "code",
   "execution_count": 34,
   "id": "194fac5d",
   "metadata": {},
   "outputs": [
    {
     "name": "stdout",
     "output_type": "stream",
     "text": [
      "[10, 22, 44, 23, 4]\n",
      "[10, 22, 44, 23, 4]\n"
     ]
    }
   ],
   "source": [
    "\"\"\"\n",
    "7. Write a Python program to clone or copy a list\n",
    "\"\"\"\n",
    "original_list = [10, 22, 44, 23, 4]\n",
    "new_list = list(original_list)\n",
    "print(original_list)\n",
    "print(new_list)\n"
   ]
  },
  {
   "cell_type": "code",
   "execution_count": 36,
   "id": "489b0d0a",
   "metadata": {},
   "outputs": [
    {
     "name": "stdout",
     "output_type": "stream",
     "text": [
      "[7, 25, 27]\n"
     ]
    }
   ],
   "source": [
    "\"\"\"\n",
    "8. Write a Python program to print the numbers of \n",
    "a specified list after removing even numbers from it.\n",
    "\"\"\"\n",
    "num = [7,8, 120, 25, 44, 20, 27]\n",
    "num = [x for x in num if x%2!=0]\n",
    "print(num)\n",
    "\n"
   ]
  },
  {
   "cell_type": "code",
   "execution_count": 38,
   "id": "2b97a8f8",
   "metadata": {},
   "outputs": [
    {
     "name": "stdout",
     "output_type": "stream",
     "text": [
      "['Green', 'Yellow', 'Pink', 'Black', 'White', 'Red']\n"
     ]
    }
   ],
   "source": [
    "\"\"\"\n",
    "9. Write a Python program to shuffle and print a specified list\n",
    "\n",
    "\"\"\"\n",
    "from random import shuffle\n",
    "color = ['Red', 'Green', 'White', 'Black', 'Pink', 'Yellow']\n",
    "shuffle(color)\n",
    "print(color)\n"
   ]
  },
  {
   "cell_type": "code",
   "execution_count": 39,
   "id": "cf38debd",
   "metadata": {},
   "outputs": [
    {
     "name": "stdout",
     "output_type": "stream",
     "text": [
      "[36, 49, 64, 81, 100, 121, 144, 169, 196, 225, 256, 289, 324, 361, 400, 441, 484, 529, 576, 625, 676, 729, 784, 841, 900]\n"
     ]
    }
   ],
   "source": [
    "\"\"\"\n",
    "10. Write a Python program to generate and print a list except for \n",
    "the first 5 elements, where the values are square of numbers between 1 and 30 \n",
    "(both included).\n",
    "\"\"\"\n",
    "\n",
    "def printValues():\n",
    "\tl = list()\n",
    "\tfor i in range(1,31):\n",
    "\t\tl.append(i**2)\n",
    "\tprint(l[5:])\n",
    "printValues()\n"
   ]
  },
  {
   "cell_type": "code",
   "execution_count": 40,
   "id": "ccff9b4b",
   "metadata": {},
   "outputs": [
    {
     "name": "stdout",
     "output_type": "stream",
     "text": [
      "1\n"
     ]
    }
   ],
   "source": [
    "\"\"\"\n",
    "11. Write a Python program to find the index of an item in a specified list\n",
    "\"\"\"\n",
    "num = [10,30,4,-6] #assign value\n",
    "print(num.index(30)) # list.index to find element index inside list."
   ]
  },
  {
   "cell_type": "code",
   "execution_count": 41,
   "id": "8c4d6337",
   "metadata": {},
   "outputs": [
    {
     "name": "stdout",
     "output_type": "stream",
     "text": [
      "[1, 2, 3, 4, 'red', 'green', 'black']\n"
     ]
    }
   ],
   "source": [
    "\"\"\"\n",
    "12. Write a Python program to append a list to the second list.\n",
    "\"\"\"\n",
    "\n",
    "list1 = [1,2,3,4]\n",
    "list2 = ['red','green','black']\n",
    "final_list = list1 + list2 # addition can be also used to combine 2 list\n",
    "print(final_list)"
   ]
  },
  {
   "cell_type": "code",
   "execution_count": 57,
   "id": "860cabf8",
   "metadata": {},
   "outputs": [
    {
     "name": "stdout",
     "output_type": "stream",
     "text": [
      "-2\n",
      "-2\n",
      "None\n",
      "None\n"
     ]
    }
   ],
   "source": [
    "\"\"\"\n",
    "13. Write a Python program to find the second smallest number in a list.\n",
    "\"\"\"\n",
    "def second_smallest(numbers):\n",
    "    if (len(numbers)<2): # jika ele lebih sedikit dari satu maka batal\n",
    "        return\n",
    "    if  ((len(numbers) == 2) and (numbers[0] == numbers[1])): # jika ele ada 2 tapi dua2 no sama, maka batal\n",
    "        return\n",
    "    \n",
    "    dup_items = set() # buat satu set untuk filter no yg duplicate\n",
    "    uniq_items = [] # empty set utk diisi dgn element\n",
    " \n",
    "    for x in numbers: # rules dimana utk membuat set yg baru tanpa no duplicate berdasarkan list input yg diisi\n",
    "        \n",
    "        if x  not in dup_items:\n",
    "            uniq_items.append(x)\n",
    "            dup_items.add(x)\n",
    "            \n",
    "    uniq_items.sort()\n",
    "    return uniq_items[1]\n",
    "\n",
    "print(second_smallest ([1,1,0,0,2,-2,-2,-8]))\n",
    "print(second_smallest ([1,1,0,0,0,2,-2,-2,-10]))\n",
    "print(second_smallest ([2,2]))\n",
    "print(second_smallest ([2]))\n",
    "    \n",
    "\n",
    "    \n",
    "\n",
    "\n",
    "       \n"
   ]
  },
  {
   "cell_type": "code",
   "execution_count": 58,
   "id": "4a2813ba",
   "metadata": {},
   "outputs": [
    {
     "name": "stdout",
     "output_type": "stream",
     "text": [
      "1\n",
      "1\n",
      "None\n",
      "None\n"
     ]
    }
   ],
   "source": [
    "\"\"\"\n",
    "14. Write a Python program to find the second largest number in a list.\n",
    "\"\"\"\n",
    "\n",
    "def second_largest(numbers):\n",
    "    if (len(numbers)<2): # jika ele lebih sedikit dari satu maka batal\n",
    "        return\n",
    "    if  ((len(numbers) == 2) and (numbers[0] == numbers[1])): # jika ele ada 2 tapi dua2 no sama, maka batal\n",
    "        return\n",
    "    \n",
    "    dup_items = set() # buat satu set untuk filter no yg duplicate\n",
    "    uniq_items = [] # empty set utk diisi dgn element\n",
    " \n",
    "    for x in numbers: # rules dimana utk membuat set yg baru tanpa no duplicate berdasarkan list input yg diisi\n",
    "        \n",
    "        if x  not in dup_items:\n",
    "            uniq_items.append(x)\n",
    "            dup_items.add(x)\n",
    "            \n",
    "    uniq_items.sort(reverse = True)\n",
    "    return uniq_items[1]\n",
    "\n",
    "print(second_largest ([1,1,0,0,2,-2,-2,-8]))\n",
    "print(second_largest ([1,1,0,0,0,2,-2,-2,-10]))\n",
    "print(second_largest ([2,2]))\n",
    "print(second_largest ([2]))\n"
   ]
  },
  {
   "cell_type": "code",
   "execution_count": 60,
   "id": "1ff6d80a",
   "metadata": {},
   "outputs": [
    {
     "name": "stdout",
     "output_type": "stream",
     "text": [
      "a\n",
      "ask\n",
      "b\n",
      "be\n",
      "c\n",
      "call\n",
      "come\n",
      "d\n",
      "do\n",
      "f\n",
      "feel\n",
      "find\n",
      "g\n",
      "get\n",
      "give\n",
      "go\n",
      "h\n",
      "have\n",
      "k\n",
      "know\n",
      "l\n",
      "leave\n",
      "look\n",
      "m\n",
      "make\n",
      "s\n",
      "say\n",
      "see\n",
      "seem\n",
      "t\n",
      "take\n",
      "tell\n",
      "think\n",
      "u\n",
      "use\n",
      "w\n",
      "want\n",
      "work\n"
     ]
    }
   ],
   "source": [
    "\"\"\"\n",
    "15. Write a Python program to split a list based on first character of word.\n",
    "\n",
    "list = ['be','have','do','say','get','make','go','know','take','see','come','think',\n",
    "     'look','want','give','use','find','tell','ask','work','seem','feel','leave','call']\n",
    "\"\"\"\n",
    "\n",
    "from itertools import groupby\n",
    "from operator import itemgetter\n",
    "\n",
    "word_list = ['be','have','do','say','get','make','go','know','take','see','come','think',\n",
    "     'look','want','give','use','find','tell','ask','work','seem','feel','leave','call']\n",
    "\n",
    "for letter, words in groupby(sorted(word_list),key = itemgetter(0)):\n",
    "    print (letter)\n",
    "    for word in words:\n",
    "        print(word)\n"
   ]
  },
  {
   "cell_type": "code",
   "execution_count": 70,
   "id": "e34c5e84",
   "metadata": {},
   "outputs": [
    {
     "name": "stdout",
     "output_type": "stream",
     "text": [
      "[1, 3, 5, 7, 9, 11, 13, 15, 17, 19, 21, 23, 25, 27, 29, 31, 33, 35, 37, 39, 41, 43, 45, 47, 49, 51, 53, 55, 57, 59, 61, 63, 65, 67, 69, 71, 73, 75, 77, 79, 81, 83, 85, 87, 89, 91, 93, 95, 97, 99]\n"
     ]
    }
   ],
   "source": [
    "\"\"\"\n",
    "16. Write a Python program to select the odd items of a list.\n",
    "\"\"\"\n",
    "\n",
    "number_list = list(range(1,100))\n",
    "l = []\n",
    "\n",
    "for x in number_list:\n",
    "    if x%2 != 0:\n",
    "        l.append(x)\n",
    "\n",
    "print(l)\n"
   ]
  },
  {
   "cell_type": "code",
   "execution_count": 71,
   "id": "ab7ea967",
   "metadata": {},
   "outputs": [
    {
     "name": "stdout",
     "output_type": "stream",
     "text": [
      "Original List: \n",
      "[{'key': {'subkey': 1}}, {'key': {'subkey': 10}}, {'key': {'subkey': 5}}]\n",
      "Sorted List: \n",
      "[{'key': {'subkey': 10}}, {'key': {'subkey': 5}}, {'key': {'subkey': 1}}]\n"
     ]
    }
   ],
   "source": [
    "\"\"\"\n",
    "17. Write a Python program to sort a list of nested dictionaries.\n",
    "\"\"\"\n",
    "my_list = [{'key': {'subkey': 1}}, {'key': {'subkey': 10}}, {'key': {'subkey': 5}}]\n",
    "print('Original List: ')\n",
    "print(my_list)\n",
    "my_list.sort(key = lambda e: e['key']['subkey'],reverse = True)\n",
    "print(\"Sorted List: \")\n",
    "print(my_list)\n",
    "\n"
   ]
  },
  {
   "cell_type": "code",
   "execution_count": 76,
   "id": "165c64cd",
   "metadata": {},
   "outputs": [
    {
     "name": "stdout",
     "output_type": "stream",
     "text": [
      "Color1-Color2: ['red', 'orange', 'white']\n",
      "Color2-Color1: ['black', 'yellow']\n"
     ]
    }
   ],
   "source": [
    "\"\"\"\n",
    "18. Write a Python program to compute the difference between two lists. \n",
    "Sample data: [\"red\", \"orange\", \"green\", \"blue\", \"white\"], [\"black\", \"yellow\", \"green\", \"blue\"]\n",
    "Expected Output:\n",
    "Color1-Color2: ['white', 'orange', 'red']\n",
    "Color2-Color1: ['black', 'yellow']\n",
    "\n",
    "\"\"\"\n",
    "\n",
    "from collections import Counter\n",
    "color1 = [\"red\",'orange','green','blue','white']\n",
    "color2 = ['black','yellow','green','blue']\n",
    "counter1 = Counter(color1)\n",
    "counter2 = Counter(color2)\n",
    "\n",
    "print('Color1-Color2:' ,list(counter1 - counter2))\n",
    "print('Color2-Color1:', list(counter2 - counter1))\n",
    "\n",
    "\n"
   ]
  },
  {
   "cell_type": "code",
   "execution_count": 77,
   "id": "f3289a2c",
   "metadata": {},
   "outputs": [
    {
     "name": "stdout",
     "output_type": "stream",
     "text": [
      "0\n",
      "1\n",
      "2\n",
      "3\n",
      "4\n"
     ]
    }
   ],
   "source": [
    "\"\"\"\n",
    "19. Write a Python program to create a list with infinite elements.\n",
    "\n",
    "\"\"\"\n",
    "\n",
    "import itertools\n",
    "c = itertools.count()\n",
    "print(next(c))\n",
    "print(next(c))\n",
    "print(next(c))\n",
    "print(next(c))\n",
    "print(next(c))"
   ]
  },
  {
   "cell_type": "code",
   "execution_count": 88,
   "id": "a24f2988",
   "metadata": {},
   "outputs": [
    {
     "name": "stdout",
     "output_type": "stream",
     "text": [
      "[1, 3, 5, 2, 4, 6, 8]\n"
     ]
    }
   ],
   "source": [
    "\"\"\"\n",
    "20. Write a Python program to replace the last element \n",
    "in a list with another list.\n",
    "\n",
    "Sample data : [1, 3, 5, 7, 9, 10], [2, 4, 6, 8]\n",
    "Expected Output: [1, 3, 5, 7, 9, 2, 4, 6, 8]\n",
    "\n",
    "\"\"\"\n",
    "nums1 =  [1, 3, 5, 7, 9, 10]\n",
    "nums2 = [2, 4, 6, 8]\n",
    "\n",
    "nums1[3:] = nums2\n",
    "\n",
    "print (nums1)\n"
   ]
  },
  {
   "cell_type": "code",
   "execution_count": null,
   "id": "da453a13",
   "metadata": {},
   "outputs": [],
   "source": [
    "\n",
    "\n",
    "\n"
   ]
  }
 ],
 "metadata": {
  "kernelspec": {
   "display_name": "Python 3",
   "language": "python",
   "name": "python3"
  },
  "language_info": {
   "codemirror_mode": {
    "name": "ipython",
    "version": 3
   },
   "file_extension": ".py",
   "mimetype": "text/x-python",
   "name": "python",
   "nbconvert_exporter": "python",
   "pygments_lexer": "ipython3",
   "version": "3.8.8"
  }
 },
 "nbformat": 4,
 "nbformat_minor": 5
}
