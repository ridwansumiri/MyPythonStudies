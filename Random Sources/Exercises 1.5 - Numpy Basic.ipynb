{
 "cells": [
  {
   "cell_type": "code",
   "execution_count": 1,
   "id": "f97bea6c",
   "metadata": {},
   "outputs": [
    {
     "name": "stdout",
     "output_type": "stream",
     "text": [
      "1.20.3\n",
      "blas_mkl_info:\n",
      "  NOT AVAILABLE\n",
      "blis_info:\n",
      "  NOT AVAILABLE\n",
      "openblas_info:\n",
      "    library_dirs = ['D:\\\\a\\\\1\\\\s\\\\numpy\\\\build\\\\openblas_info']\n",
      "    libraries = ['openblas_info']\n",
      "    language = f77\n",
      "    define_macros = [('HAVE_CBLAS', None)]\n",
      "blas_opt_info:\n",
      "    library_dirs = ['D:\\\\a\\\\1\\\\s\\\\numpy\\\\build\\\\openblas_info']\n",
      "    libraries = ['openblas_info']\n",
      "    language = f77\n",
      "    define_macros = [('HAVE_CBLAS', None)]\n",
      "lapack_mkl_info:\n",
      "  NOT AVAILABLE\n",
      "openblas_lapack_info:\n",
      "    library_dirs = ['D:\\\\a\\\\1\\\\s\\\\numpy\\\\build\\\\openblas_lapack_info']\n",
      "    libraries = ['openblas_lapack_info']\n",
      "    language = f77\n",
      "    define_macros = [('HAVE_CBLAS', None)]\n",
      "lapack_opt_info:\n",
      "    library_dirs = ['D:\\\\a\\\\1\\\\s\\\\numpy\\\\build\\\\openblas_lapack_info']\n",
      "    libraries = ['openblas_lapack_info']\n",
      "    language = f77\n",
      "    define_macros = [('HAVE_CBLAS', None)]\n",
      "None\n"
     ]
    }
   ],
   "source": [
    "\"\"\"\n",
    "1. Write a NumPy program to get the numpy version and \n",
    "show numpy build configuration.\n",
    "\"\"\"\n",
    "import numpy as np\n",
    "print(np.__version__)\n",
    "print(np.show_config())"
   ]
  },
  {
   "cell_type": "code",
   "execution_count": 3,
   "id": "0bf06be7",
   "metadata": {},
   "outputs": [
    {
     "name": "stdout",
     "output_type": "stream",
     "text": [
      "add(x1, x2, /, out=None, *, where=True, casting='same_kind', order='K', dtype=None, subok=True[, signature, extobj])\n",
      "\n",
      "Add arguments element-wise.\n",
      "\n",
      "Parameters\n",
      "----------\n",
      "x1, x2 : array_like\n",
      "    The arrays to be added.\n",
      "    If ``x1.shape != x2.shape``, they must be broadcastable to a common\n",
      "    shape (which becomes the shape of the output).\n",
      "out : ndarray, None, or tuple of ndarray and None, optional\n",
      "    A location into which the result is stored. If provided, it must have\n",
      "    a shape that the inputs broadcast to. If not provided or None,\n",
      "    a freshly-allocated array is returned. A tuple (possible only as a\n",
      "    keyword argument) must have length equal to the number of outputs.\n",
      "where : array_like, optional\n",
      "    This condition is broadcast over the input. At locations where the\n",
      "    condition is True, the `out` array will be set to the ufunc result.\n",
      "    Elsewhere, the `out` array will retain its original value.\n",
      "    Note that if an uninitialized `out` array is created via the default\n",
      "    ``out=None``, locations within it where the condition is False will\n",
      "    remain uninitialized.\n",
      "**kwargs\n",
      "    For other keyword-only arguments, see the\n",
      "    :ref:`ufunc docs <ufuncs.kwargs>`.\n",
      "\n",
      "Returns\n",
      "-------\n",
      "add : ndarray or scalar\n",
      "    The sum of `x1` and `x2`, element-wise.\n",
      "    This is a scalar if both `x1` and `x2` are scalars.\n",
      "\n",
      "Notes\n",
      "-----\n",
      "Equivalent to `x1` + `x2` in terms of array broadcasting.\n",
      "\n",
      "Examples\n",
      "--------\n",
      ">>> np.add(1.0, 4.0)\n",
      "5.0\n",
      ">>> x1 = np.arange(9.0).reshape((3, 3))\n",
      ">>> x2 = np.arange(3.0)\n",
      ">>> np.add(x1, x2)\n",
      "array([[  0.,   2.,   4.],\n",
      "       [  3.,   5.,   7.],\n",
      "       [  6.,   8.,  10.]])\n",
      "\n",
      "The ``+`` operator can be used as a shorthand for ``np.add`` on ndarrays.\n",
      "\n",
      ">>> x1 = np.arange(9.0).reshape((3, 3))\n",
      ">>> x2 = np.arange(3.0)\n",
      ">>> x1 + x2\n",
      "array([[ 0.,  2.,  4.],\n",
      "       [ 3.,  5.,  7.],\n",
      "       [ 6.,  8., 10.]])\n",
      "None\n"
     ]
    }
   ],
   "source": [
    "\"\"\"\n",
    "2. Write a NumPy program to  get help on the add function\n",
    "\"\"\"\n",
    "print(np.info(np.add))"
   ]
  },
  {
   "cell_type": "code",
   "execution_count": 4,
   "id": "717839c9",
   "metadata": {},
   "outputs": [
    {
     "name": "stdout",
     "output_type": "stream",
     "text": [
      "Original array:\n",
      "[1 2 3 4]\n",
      "Test if none of the elements of the said array is zero:\n",
      "True\n",
      "Original array:\n",
      "[0 1 2 3]\n",
      "Test if none of the elements of the said array is zero:\n",
      "False\n"
     ]
    }
   ],
   "source": [
    "\"\"\"\n",
    "3. Write a NumPy program to test whether \n",
    "none of the elements of a given array is zero \n",
    "\"\"\"\n",
    "import numpy as np\n",
    "x = np.array([1,2,3,4])\n",
    "print(\"Original array:\")\n",
    "print(x)\n",
    "print(\"Test if none of the elements of the said array is zero:\")\n",
    "print(np.all(x))\n",
    "x = np.array([0,1,2,3])\n",
    "print('Original array:')\n",
    "print(x)\n",
    "print('Test if none of the elements of the said array is zero:')\n",
    "print(np.all(x))"
   ]
  },
  {
   "cell_type": "code",
   "execution_count": 6,
   "id": "e8d16735",
   "metadata": {},
   "outputs": [
    {
     "name": "stdout",
     "output_type": "stream",
     "text": [
      "Original array:\n",
      "[1 0 0 0]\n",
      "Test whether any of the elements of a given array is non-zero: \n",
      "True\n",
      "Original Array:\n",
      "[0 0 0 0]\n",
      "Test whether any of the elements of given array is non-zero:\n",
      "False\n"
     ]
    }
   ],
   "source": [
    "\"\"\"\n",
    "4. Write a NumPy program to test whether any of the elements \n",
    "of a given array is non-zero\n",
    "\"\"\"\n",
    "import numpy as np\n",
    "x = np.array([1,0,0,0])\n",
    "print(\"Original array:\")\n",
    "print(x)\n",
    "print(\"Test whether any of the elements of a given array is non-zero: \")\n",
    "print(np.any(x))\n",
    "x= np.array([0,0,0,0])\n",
    "print(\"Original Array:\")\n",
    "print(x)\n",
    "print('Test whether any of the elements of given array is non-zero:')\n",
    "print(np.any(x))"
   ]
  },
  {
   "cell_type": "code",
   "execution_count": 7,
   "id": "6fae6f41",
   "metadata": {},
   "outputs": [
    {
     "name": "stdout",
     "output_type": "stream",
     "text": [
      "Original Array\n",
      "[ 1.  0. nan inf]\n",
      "Test a given array element - wise for finiteness:\n",
      "[ True  True False False]\n"
     ]
    }
   ],
   "source": [
    "\"\"\"\n",
    "5. Write a NumPy program to test a given array element-wise for \n",
    "finiteness (not infinity or not a Number). \n",
    "\"\"\"\n",
    "import numpy as np\n",
    "a = np.array ([1,0, np.nan, np.inf])\n",
    "print(\"Original Array\")\n",
    "print(a)\n",
    "print(\"Test a given array element - wise for finiteness:\")\n",
    "print(np.isfinite(a))"
   ]
  },
  {
   "cell_type": "code",
   "execution_count": 8,
   "id": "82a5dbab",
   "metadata": {},
   "outputs": [
    {
     "name": "stdout",
     "output_type": "stream",
     "text": [
      "Original Array\n",
      "[1. +1.j 1. +0.j 4.5+0.j 3. +0.j 2. +0.j 0. +2.j]\n",
      "Checking for complex numbers:\n",
      "[ True False False False False  True]\n",
      "Checking for real number:\n",
      "[False  True  True  True  True False]\n",
      "Checking for scalar type:\n",
      "True\n",
      "False\n"
     ]
    }
   ],
   "source": [
    "\"\"\"\n",
    "6. Write a NumPy program to test element-wise for \n",
    "complex number, real number of a given array. \n",
    "Also test whether a given number is a scalar type or not.\n",
    "\"\"\"\n",
    "import numpy as np\n",
    "a = np.array([1+1j, 1+0j, 4.5, 3, 2, 2j])\n",
    "print('Original Array')\n",
    "print(a)\n",
    "print('Checking for complex numbers:')\n",
    "print(np.iscomplex(a))\n",
    "print('Checking for real number:')\n",
    "print(np.isreal(a))\n",
    "print(\"Checking for scalar type:\")\n",
    "print(np.isscalar(3.1))\n",
    "print(np.isscalar([3.1]))"
   ]
  },
  {
   "cell_type": "code",
   "execution_count": 9,
   "id": "66a67f88",
   "metadata": {},
   "outputs": [
    {
     "name": "stdout",
     "output_type": "stream",
     "text": [
      "[0 0 0 0]\n",
      "Size of the memory occupied by the said array:\n",
      "16 bytes\n"
     ]
    }
   ],
   "source": [
    "\"\"\"\n",
    "7. Write a NumPy program to create an array with \n",
    "the values 1, 7, 13, 105 and determine \n",
    "the size of the memory occupied by the array\n",
    "\"\"\"\n",
    "import numpy as np\n",
    "X = np.array([1,7,13,105])\n",
    "print(x)\n",
    "print('Size of the memory occupied by the said array:')\n",
    "print(\"%d bytes\" % (X.size*X.itemsize))"
   ]
  },
  {
   "cell_type": "code",
   "execution_count": 10,
   "id": "27461d01",
   "metadata": {},
   "outputs": [
    {
     "name": "stdout",
     "output_type": "stream",
     "text": [
      "An array of 10 zeros:\n",
      "[0. 0. 0. 0. 0. 0. 0. 0. 0. 0.]\n",
      "An array of 10 ones: \n",
      "[1. 1. 1. 1. 1. 1. 1. 1. 1. 1.]\n",
      "An array of 10 fives: \n",
      "[5. 5. 5. 5. 5. 5. 5. 5. 5. 5.]\n"
     ]
    }
   ],
   "source": [
    "\"\"\"\n",
    "8. Write a NumPy program to create an array of 10 zeros,10 ones, 10 fives\n",
    "\n",
    "\"\"\"\n",
    "import numpy as np\n",
    "array = np.zeros(10)\n",
    "print('An array of 10 zeros:')\n",
    "print(array)\n",
    "array = np.ones(10)\n",
    "print('An array of 10 ones: ')\n",
    "print(array)\n",
    "array = np.ones(10)*5\n",
    "print(\"An array of 10 fives: \")\n",
    "print(array)"
   ]
  },
  {
   "cell_type": "code",
   "execution_count": 11,
   "id": "4e0e8551",
   "metadata": {},
   "outputs": [
    {
     "name": "stdout",
     "output_type": "stream",
     "text": [
      "Array of the integers from 30 to 70\n",
      "[30 31 32 33 34 35 36 37 38 39 40 41 42 43 44 45 46 47 48 49 50 51 52 53\n",
      " 54 55 56 57 58 59 60 61 62 63 64 65 66 67 68 69 70]\n"
     ]
    }
   ],
   "source": [
    "\"\"\"\n",
    "9. Write a NumPy program to create an array of the integers from 30 to70\n",
    "\"\"\"\n",
    "import numpy as np\n",
    "array = np.arange(30,71)\n",
    "print('Array of the integers from 30 to 70')\n",
    "print(array)"
   ]
  },
  {
   "cell_type": "code",
   "execution_count": 16,
   "id": "c521465a",
   "metadata": {},
   "outputs": [
    {
     "name": "stdout",
     "output_type": "stream",
     "text": [
      "Array of all the even integers from 30 to 70\n",
      "[30 32 34 36 38 40 42 44 46 48 50 52 54 56 58 60 62 64 66 68 70]\n"
     ]
    }
   ],
   "source": [
    "\"\"\"\n",
    "10. Write a NumPy program to create an array\n",
    "of all the even integers from 30 to 70\n",
    "\"\"\"\n",
    "import numpy as np\n",
    "array = np.arange(30,71,2)\n",
    "print('Array of all the even integers from 30 to 70')\n",
    "print(array)"
   ]
  },
  {
   "cell_type": "code",
   "execution_count": 17,
   "id": "057f03b6",
   "metadata": {},
   "outputs": [
    {
     "name": "stdout",
     "output_type": "stream",
     "text": [
      "3x3 matrix:\n",
      "[[1. 0. 0.]\n",
      " [0. 1. 0.]\n",
      " [0. 0. 1.]]\n"
     ]
    }
   ],
   "source": [
    "\"\"\"\n",
    "11. Write a NumPy program to create a 3x3 identity matrix \n",
    "\"\"\"\n",
    "import numpy as np\n",
    "array_2D = np.identity(3) # creating 3x3 metrix\n",
    "print ('3x3 matrix:')\n",
    "print(array_2D)"
   ]
  },
  {
   "cell_type": "code",
   "execution_count": 18,
   "id": "29d7b3d8",
   "metadata": {},
   "outputs": [
    {
     "name": "stdout",
     "output_type": "stream",
     "text": [
      "Random number between 0 and 1 :\n",
      "[1.14678415]\n"
     ]
    }
   ],
   "source": [
    "\"\"\"\n",
    "12. Write a NumPy program to generate a random number between 0 and 1\n",
    "\"\"\"\n",
    "import numpy as np\n",
    "rand_num = np.random.normal(0,1,1)\n",
    "print('Random number between 0 and 1 :')\n",
    "print(rand_num)"
   ]
  },
  {
   "cell_type": "code",
   "execution_count": 19,
   "id": "e94f8265",
   "metadata": {},
   "outputs": [
    {
     "name": "stdout",
     "output_type": "stream",
     "text": [
      "[15 16 17 18 19 20 21 22 23 24 25 26 27 28 29 30 31 32 33 34 35 36 37 38\n",
      " 39 40 41 42 43 44 45 46 47 48 49 50 51 52 53 54]\n",
      "All values except the first and last of the said vector:\n",
      "[16 17 18 19 20 21 22 23 24 25 26 27 28 29 30 31 32 33 34 35 36 37 38 39\n",
      " 40 41 42 43 44 45 46 47 48 49 50 51 52 53]\n"
     ]
    }
   ],
   "source": [
    "\"\"\"\n",
    "13. Write a NumPy program to create a vector with values \n",
    "ranging from 15 to 55 and print all values except the first and last\n",
    "\"\"\"\n",
    "import numpy as np\n",
    "v = np.arange (15,55)\n",
    "print(v)\n",
    "print('All values except the first and last of the said vector:')\n",
    "print(v[1:-1])"
   ]
  },
  {
   "cell_type": "code",
   "execution_count": 25,
   "id": "0b5ffcbe",
   "metadata": {},
   "outputs": [
    {
     "name": "stdout",
     "output_type": "stream",
     "text": [
      " Original array:\n",
      "[[10 11 12 13]\n",
      " [14 15 16 17]\n",
      " [18 19 20 21]]\n",
      " Each element of the array is:\n",
      "10 11 12 13 14 15 16 17 18 19 20 21 "
     ]
    }
   ],
   "source": [
    "\"\"\"\n",
    "14. Write a NumPy program to create a 3X4 array using and iterate over it.\n",
    "\"\"\"\n",
    "import numpy as np\n",
    "a = np.arange(10,22).reshape((3,4)) # to arrange value in 3x4 shape\n",
    "print(\" Original array:\")\n",
    "print(a)\n",
    "print(\" Each element of the array is:\")\n",
    "for x in np.nditer(a):\n",
    "    print(x, end=\" \")"
   ]
  },
  {
   "cell_type": "code",
   "execution_count": 30,
   "id": "5e7dfe2b",
   "metadata": {},
   "outputs": [
    {
     "name": "stdout",
     "output_type": "stream",
     "text": [
      "Length 10 with values evenly distributed between 5 and 50:\n",
      "[10.   19.75 29.5  39.25 49.  ]\n"
     ]
    }
   ],
   "source": [
    "\"\"\"\n",
    "15. Write a NumPy program to create a vector of length 10 \n",
    "with values evenly distributed between 5 and 50.\n",
    "\"\"\"\n",
    "import numpy as np\n",
    "v = np.linspace(10,49,5)\n",
    "print(\"Length 10 with values evenly distributed between 5 and 50:\")\n",
    "print(v)"
   ]
  },
  {
   "cell_type": "code",
   "execution_count": 31,
   "id": "e0adf483",
   "metadata": {},
   "outputs": [
    {
     "name": "stdout",
     "output_type": "stream",
     "text": [
      "Original vector: \n",
      "[ 0  1  2  3  4  5  6  7  8  9 10 11 12 13 14 15 16 17 18 19 20]\n",
      " After changing the sign of the numbers in the range from 9 to 15:\n",
      "[  0   1   2   3   4   5   6   7   8  -9 -10 -11 -12 -13 -14 -15  16  17\n",
      "  18  19  20]\n"
     ]
    }
   ],
   "source": [
    "\"\"\"\n",
    "16. Write a NumPy program to create a vector with values\n",
    "from 0 to 20 and change the sign of the numbers in the range from 9 to 15.\n",
    "\"\"\"\n",
    "import numpy as np\n",
    "x = np.arange(21)\n",
    "print('Original vector: ')\n",
    "print(x)\n",
    "print(' After changing the sign of the numbers in the range from 9 to 15:')\n",
    "x[(x>=9) & (x<=15)] *= -1\n",
    "print(x)"
   ]
  },
  {
   "cell_type": "code",
   "execution_count": 32,
   "id": "1451dddb",
   "metadata": {},
   "outputs": [
    {
     "name": "stdout",
     "output_type": "stream",
     "text": [
      "Vector of length 5 filled with arbitary integers from 0 to 10: \n",
      "[10  5  2  9  0]\n"
     ]
    }
   ],
   "source": [
    "\"\"\"\n",
    "17. Write a NumPy program to create a vector of length 5 filled with \n",
    "arbitrary integers from 0 to 10.\n",
    "\"\"\"\n",
    "import numpy as np\n",
    "x = np.random.randint(0,11,5)\n",
    "print('Vector of length 5 filled with arbitary integers from 0 to 10: ')\n",
    "print(x)\n"
   ]
  },
  {
   "cell_type": "code",
   "execution_count": 33,
   "id": "af9bac8c",
   "metadata": {},
   "outputs": [
    {
     "name": "stdout",
     "output_type": "stream",
     "text": [
      "Vector - 1\n",
      "[1 8 3 5]\n",
      "Vector - 2\n",
      "[0 6 8 2]\n",
      "Multiply the values of two said vectors:\n",
      "[ 0 48 24 10]\n"
     ]
    }
   ],
   "source": [
    "\"\"\"\n",
    "18. Write a NumPy program to multiply the values of two given vectors \n",
    "\"\"\"\n",
    "import numpy as np\n",
    "x = np.array([1,8,3,5])\n",
    "print('Vector - 1')\n",
    "print(x)\n",
    "y = np.random.randint(0,11,4)\n",
    "print('Vector - 2')\n",
    "print(y)\n",
    "result = x*y\n",
    "print('Multiply the values of two said vectors:')\n",
    "print(result)"
   ]
  },
  {
   "cell_type": "code",
   "execution_count": 34,
   "id": "74b2c257",
   "metadata": {},
   "outputs": [
    {
     "name": "stdout",
     "output_type": "stream",
     "text": [
      "[[10 11 12 13]\n",
      " [14 15 16 17]\n",
      " [18 19 20 21]]\n"
     ]
    }
   ],
   "source": [
    "\"\"\"\n",
    "19. Write a NumPy program to create a 3x4 matrix \n",
    "filled with values from 10 to 21\n",
    "\"\"\"\n",
    "import numpy as np\n",
    "m = np.arange(10,22).reshape((3,4))\n",
    "print(m)"
   ]
  },
  {
   "cell_type": "code",
   "execution_count": 35,
   "id": "11834c13",
   "metadata": {},
   "outputs": [
    {
     "name": "stdout",
     "output_type": "stream",
     "text": [
      "[[1. 0. 0.]\n",
      " [0. 1. 0.]\n",
      " [0. 0. 1.]]\n"
     ]
    }
   ],
   "source": [
    "\"\"\"\n",
    "20. Write a NumPy program to create a 3x3 identity matrix,\n",
    "i.e. diagonal elements are 1, the rest are 0 \n",
    "\"\"\"\n",
    "import numpy as np\n",
    "x = np.eye(3)\n",
    "print(x)"
   ]
  },
  {
   "cell_type": "code",
   "execution_count": 41,
   "id": "3f3009f3",
   "metadata": {},
   "outputs": [
    {
     "name": "stdout",
     "output_type": "stream",
     "text": [
      "[[1. 1. 1. 1. 1. 1. 1. 1. 1. 1.]\n",
      " [1. 0. 0. 0. 0. 0. 0. 0. 0. 1.]\n",
      " [1. 0. 0. 0. 0. 0. 0. 0. 0. 1.]\n",
      " [1. 0. 0. 0. 0. 0. 0. 0. 0. 1.]\n",
      " [1. 0. 0. 0. 0. 0. 0. 0. 0. 1.]\n",
      " [1. 0. 0. 0. 0. 0. 0. 0. 0. 1.]\n",
      " [1. 0. 0. 0. 0. 0. 0. 0. 0. 1.]\n",
      " [1. 0. 0. 0. 0. 0. 0. 0. 0. 1.]\n",
      " [1. 0. 0. 0. 0. 0. 0. 0. 0. 1.]\n",
      " [1. 1. 1. 1. 1. 1. 1. 1. 1. 1.]]\n"
     ]
    }
   ],
   "source": [
    "\"\"\"\n",
    "21. Write a NumPy program to create a 10x10 matrix, \n",
    "in which the elements on the borders will be equal to 1, and inside 0\n",
    "\"\"\"\n",
    "import numpy as np\n",
    "x = np.ones((10,10))\n",
    "x[1:-1, 1:-1] = 0\n",
    "print(x)"
   ]
  },
  {
   "cell_type": "code",
   "execution_count": 43,
   "id": "67d4f463",
   "metadata": {},
   "outputs": [
    {
     "name": "stdout",
     "output_type": "stream",
     "text": [
      "[[1 0 0 0 0 0 0 0 0]\n",
      " [0 2 0 0 0 0 0 0 0]\n",
      " [0 0 3 0 0 0 0 0 0]\n",
      " [0 0 0 4 0 0 0 0 0]\n",
      " [0 0 0 0 5 0 0 0 0]\n",
      " [0 0 0 0 0 6 0 0 0]\n",
      " [0 0 0 0 0 0 7 0 0]\n",
      " [0 0 0 0 0 0 0 8 0]\n",
      " [0 0 0 0 0 0 0 0 9]]\n"
     ]
    }
   ],
   "source": [
    "\"\"\"\n",
    "22. Write a NumPy program to create a 5x5 zero matrix \n",
    "with elements on the main diagonal equal to 1, 2, 3, 4, 5. \n",
    "\"\"\"\n",
    "import numpy as np\n",
    "x = np.diag([1,2,3,4,5,6,7,8,9])\n",
    "print(x)"
   ]
  },
  {
   "cell_type": "code",
   "execution_count": 44,
   "id": "5b1199f2",
   "metadata": {},
   "outputs": [
    {
     "name": "stdout",
     "output_type": "stream",
     "text": [
      "[[0. 1. 0. 1.]\n",
      " [1. 0. 1. 0.]\n",
      " [0. 1. 0. 1.]\n",
      " [1. 0. 1. 0.]]\n"
     ]
    }
   ],
   "source": [
    "\"\"\"\n",
    "23. Write a NumPy program to create a 4x4 matrix in \n",
    "which 0 and 1 are staggered, with zeros on the main diagonal.\n",
    "\"\"\"\n",
    "import numpy as np\n",
    "x = np.zeros((4,4))\n",
    "x[::2, 1::2] = 1\n",
    "x[1::2, ::2] = 1\n",
    "print(x)\n"
   ]
  },
  {
   "cell_type": "code",
   "execution_count": 46,
   "id": "8ca1f7de",
   "metadata": {},
   "outputs": [
    {
     "name": "stdout",
     "output_type": "stream",
     "text": [
      "[[[0.02836701 0.98070305 0.92254258]\n",
      "  [0.6131571  0.60489844 0.02514307]\n",
      "  [0.00912884 0.1949335  0.32980227]]\n",
      "\n",
      " [[0.51194329 0.02383315 0.92394817]\n",
      "  [0.26055567 0.23448319 0.33629901]\n",
      "  [0.64374151 0.61230662 0.50289115]]\n",
      "\n",
      " [[0.75448576 0.82907211 0.09419664]\n",
      "  [0.21520288 0.95961493 0.44970169]\n",
      "  [0.08626348 0.55286276 0.03983706]]]\n"
     ]
    }
   ],
   "source": [
    "\"\"\"\n",
    "24. Write a NumPy program to create a 3x3x3 \n",
    "array filled with arbitrary values.\n",
    "\"\"\"\n",
    "import numpy as np\n",
    "x = np.random.random((3,3,3))\n",
    "print(x)"
   ]
  },
  {
   "cell_type": "code",
   "execution_count": 47,
   "id": "b49df2de",
   "metadata": {},
   "outputs": [
    {
     "name": "stdout",
     "output_type": "stream",
     "text": [
      "Original array:\n",
      "[[0 1]\n",
      " [2 3]]\n",
      "Sum of all elements:\n",
      "6\n",
      "sum of each column:\n",
      "[2 4]\n",
      "Sum of each row:\n",
      "[1 5]\n"
     ]
    }
   ],
   "source": [
    "\"\"\"\n",
    "25. Write a NumPy program to compute sum of all elements,\n",
    "sum of each column and sum of each row of a given array.\n",
    "\"\"\"\n",
    "\n",
    "import numpy as np\n",
    "x = np.array([[0,1],[2,3]])\n",
    "print('Original array:')\n",
    "print(x)\n",
    "print('Sum of all elements:')\n",
    "print(np.sum(x))\n",
    "print(\"sum of each column:\")\n",
    "print(np.sum(x,axis = 0)) # in numpy axis = 0 is comlum\n",
    "print(\"Sum of each row:\")\n",
    "print(np.sum(x, axis = 1)) # in numpy axis = 1 is row"
   ]
  },
  {
   "cell_type": "code",
   "execution_count": 48,
   "id": "8d133f34",
   "metadata": {},
   "outputs": [
    {
     "name": "stdout",
     "output_type": "stream",
     "text": [
      "Original Vectors:\n",
      "[4 5]\n",
      "[ 7 10]\n",
      "Inner Product of said vectors:\n",
      "78\n"
     ]
    }
   ],
   "source": [
    "\"\"\"\n",
    "26. Write a NumPy program to compute the inner product of two given vectors.\n",
    "\"\"\"\n",
    "import numpy as np\n",
    "x = np.array([4,5])\n",
    "y = np.array([7,10])\n",
    "print('Original Vectors:')\n",
    "print(x)\n",
    "print(y)\n",
    "print(\"Inner Product of said vectors:\")\n",
    "print(np.dot(x,y))"
   ]
  },
  {
   "cell_type": "code",
   "execution_count": 49,
   "id": "b1b33409",
   "metadata": {},
   "outputs": [
    {
     "name": "stdout",
     "output_type": "stream",
     "text": [
      "Original vector:\n",
      "[1 1 0]\n",
      "Original matrix:\n",
      "[[ 1  2  3]\n",
      " [ 4  5  6]\n",
      " [ 7  8  9]\n",
      " [10 11 12]]\n",
      "\n",
      "After adding the vector v to each row of the matrix m:\n",
      "[[ 2  3  3]\n",
      " [ 5  6  6]\n",
      " [ 8  9  9]\n",
      " [11 12 12]]\n"
     ]
    }
   ],
   "source": [
    "\"\"\"\n",
    "27. Write a NumPy program to add a vector to each row of a given matrix. \n",
    "\"\"\"\n",
    "import numpy as np\n",
    "m = np.array([[1,2,3], [4,5,6],[7,8,9],[10,11,12]])\n",
    "v = np.array([1,1,0])\n",
    "print('Original vector:')\n",
    "print(v)\n",
    "print('Original matrix:')\n",
    "print(m)\n",
    "result = np.empty_like(m)\n",
    "for i in range(4):\n",
    "    result[i, :] = m[i, :]+v\n",
    "print(\"\\nAfter adding the vector v to each row of the matrix m:\")\n",
    "print(result)"
   ]
  },
  {
   "cell_type": "code",
   "execution_count": 50,
   "id": "52e1c2fd",
   "metadata": {},
   "outputs": [
    {
     "name": "stdout",
     "output_type": "stream",
     "text": [
      "Plot the points using matplotlib:\n"
     ]
    },
    {
     "data": {
      "text/plain": [
       "<function matplotlib.pyplot.show(close=None, block=None)>"
      ]
     },
     "execution_count": 50,
     "metadata": {},
     "output_type": "execute_result"
    },
    {
     "data": {
      "image/png": "[encoded data removed]",
      "text/plain": [
       "<Figure size 432x288 with 1 Axes>"
      ]
     },
     "metadata": {
      "needs_background": "light"
     },
     "output_type": "display_data"
    }
   ],
   "source": [
    "\"\"\"\n",
    "28. Write a NumPy program to compute the x and y coordinates \n",
    "for points on a sine curve and plot the points using matplotlib.\n",
    "\"\"\"\n",
    "import numpy as np\n",
    "import matplotlib.pyplot as plt\n",
    "\n",
    "# Compute the x and y coordinates for points on sine curve\n",
    "\n",
    "x = np.arange(0,3*np.pi,0.2)\n",
    "y = np.sin(x)\n",
    "\n",
    "print('Plot the points using matplotlib:')\n",
    "plt.plot(x,y)\n",
    "plt.show\n"
   ]
  },
  {
   "cell_type": "code",
   "execution_count": 51,
   "id": "7ce57791",
   "metadata": {},
   "outputs": [
    {
     "name": "stdout",
     "output_type": "stream",
     "text": [
      "numpy.float32 to python float\n",
      "<class 'numpy.float32'>\n",
      "<class 'float'>\n"
     ]
    }
   ],
   "source": [
    "\"\"\"\n",
    "29. Write a NumPy program to convert \n",
    "numpy dtypes to native python types.\n",
    "\"\"\"\n",
    "import numpy as np\n",
    "print('numpy.float32 to python float')\n",
    "x = np.float32(0)\n",
    "print(type(x))\n",
    "pyval = x.item()\n",
    "print(type(pyval))"
   ]
  },
  {
   "cell_type": "code",
   "execution_count": 54,
   "id": "c6f74eea",
   "metadata": {},
   "outputs": [
    {
     "name": "stdout",
     "output_type": "stream",
     "text": [
      "Orignal array:\n",
      "[[ 3.  2. nan  1.]\n",
      " [10. 12. 10.  9.]\n",
      " [ 5. nan  1. nan]]\n",
      "\n",
      "Find the missing data of the said array:\n",
      "[[False False  True False]\n",
      " [False False False False]\n",
      " [False  True False  True]]\n"
     ]
    }
   ],
   "source": [
    "\"\"\"\n",
    "30. Write a NumPy program to find the missing data in a given array \n",
    "\"\"\"\n",
    "import numpy as np\n",
    "\n",
    "nums = np.array([[3,2, np.nan, 1], \n",
    "                [10,12,10,9],\n",
    "                [5, np.nan,1,np.nan]])\n",
    "\n",
    "print(\"Orignal array:\")\n",
    "print(nums)\n",
    "print('\\nFind the missing data of the said array:')\n",
    "print(np.isnan(nums)) # to find missing vlaue in array"
   ]
  },
  {
   "cell_type": "code",
   "execution_count": 55,
   "id": "5e5dc2a3",
   "metadata": {},
   "outputs": [
    {
     "name": "stdout",
     "output_type": "stream",
     "text": [
      "Original arrays:\n",
      "[0.5 1.5 0.2]\n",
      "[0.4999999 1.5       0.2      ]\n",
      "\n",
      "Test said two are equal (element wise) or not: ?\n",
      "[False  True  True]\n",
      "[0.5  1.5  0.23]\n",
      "[0.499999  1.5000001 0.23     ]\n",
      "\n",
      "Test said two arrays are equal (element wise) or not: ?\n",
      "[False False  True]\n"
     ]
    }
   ],
   "source": [
    "\"\"\"\n",
    "31. Write a NumPy program to check whether\n",
    "two arrays are equal (element wise) or not \n",
    "\"\"\"\n",
    "import numpy as np\n",
    "nums1 = np.array([0.5,1.5,0.2])\n",
    "nums2 = np.array([0.4999999,1.500000,0.2])\n",
    "print(\"Original arrays:\")\n",
    "print(nums1)\n",
    "print(nums2)\n",
    "print('\\nTest said two are equal (element wise) or not: ?')\n",
    "print(nums1 == nums2)\n",
    "nums1 = np.array([0.5,1.5,0.23])\n",
    "nums2 = np.array([0.499999,1.5000001,0.23])\n",
    "np.set_printoptions(precision = 15)\n",
    "print(nums1)\n",
    "print(nums2)\n",
    "print(\"\\nTest said two arrays are equal (element wise) or not: ?\")\n",
    "print(np.equal(nums1,nums2))\n"
   ]
  },
  {
   "cell_type": "code",
   "execution_count": null,
   "id": "39bd59af",
   "metadata": {},
   "outputs": [],
   "source": [
    "\"\"\"\n",
    "32. Write a NumPy program to create one-dimensional array of single,\n",
    "two and three digit numbers\n",
    "\"\"\"\n"
   ]
  }
 ],
 "metadata": {
  "kernelspec": {
   "display_name": "Python 3",
   "language": "python",
   "name": "python3"
  },
  "language_info": {
   "codemirror_mode": {
    "name": "ipython",
    "version": 3
   },
   "file_extension": ".py",
   "mimetype": "text/x-python",
   "name": "python",
   "nbconvert_exporter": "python",
   "pygments_lexer": "ipython3",
   "version": "3.8.8"
  }
 },
 "nbformat": 4,
 "nbformat_minor": 5
}
